{
 "cells": [
  {
   "cell_type": "code",
   "execution_count": 1,
   "id": "fc5c6832-6992-4698-9b32-8682c861bf68",
   "metadata": {},
   "outputs": [],
   "source": [
    "import sklearn\n",
    "from sklearn.datasets import fetch_california_housing\n",
    "import numpy as np"
   ]
  },
  {
   "cell_type": "code",
   "execution_count": 10,
   "id": "94edf8bf-9735-41ca-a0b1-6c5cb341b959",
   "metadata": {},
   "outputs": [
    {
     "name": "stdout",
     "output_type": "stream",
     "text": [
      "[  12.4878       61.5          10.47619048    1.53571429  483.\n",
      "    3.83333333   56.82       -183.345     ]\n"
     ]
    }
   ],
   "source": [
    "housing = fetch_california_housing()\n",
    "\n",
    "data = housing['data']\n",
    "target = housing['target']\n",
    "test = data[0]\n",
    "test *= 1.5\n",
    "print(test)"
   ]
  },
  {
   "cell_type": "code",
   "execution_count": 11,
   "id": "b7e4376b-377b-403f-a390-35b3fd915f89",
   "metadata": {},
   "outputs": [],
   "source": [
    "def predict(t_data, t_target, test, k=1):\n",
    "    distances = []\n",
    "    for i, x in enumerate(t_data):\n",
    "        dist = np.linalg.norm(x - test)\n",
    "        distances.append(dist)\n",
    "    distances_array = np.array(distances)\n",
    "    sorted_indices = np.argsort(distances_array) \n",
    "    selected_indices = sorted_indices[0:k]\n",
    "    \n",
    "    # get targets\n",
    "    k_targets = []\n",
    "    for index in selected_indices:\n",
    "        target = t_target[index]\n",
    "        k_targets.append(target)\n",
    "\n",
    "    print(f'selected distances: {selected_indices}')\n",
    "    print(f'targets: {k_targets}')\n",
    "    \n",
    "    # return average\n",
    "    return np.mean(k_targets)\n"
   ]
  },
  {
   "cell_type": "code",
   "execution_count": 12,
   "id": "71e504cc-0778-4c98-9094-966532e5541d",
   "metadata": {},
   "outputs": [
    {
     "name": "stdout",
     "output_type": "stream",
     "text": [
      "selected distances: [    0 15693 15865]\n",
      "targets: [4.526, 5.00001, 2.773]\n"
     ]
    },
    {
     "data": {
      "text/plain": [
       "4.09967"
      ]
     },
     "execution_count": 12,
     "metadata": {},
     "output_type": "execute_result"
    }
   ],
   "source": [
    "result = predict(data, target, test, k=3)\n",
    "result"
   ]
  },
  {
   "cell_type": "code",
   "execution_count": null,
   "id": "5cb6f4ef-a488-4fc1-9a3e-027b75e5c80a",
   "metadata": {},
   "outputs": [],
   "source": []
  },
  {
   "cell_type": "code",
   "execution_count": null,
   "id": "78d03bc0-d0fc-426c-a93a-0dd1f064dd71",
   "metadata": {},
   "outputs": [],
   "source": []
  }
 ],
 "metadata": {
  "kernelspec": {
   "display_name": "Python (venv)",
   "language": "python",
   "name": "venv_kernel"
  },
  "language_info": {
   "codemirror_mode": {
    "name": "ipython",
    "version": 3
   },
   "file_extension": ".py",
   "mimetype": "text/x-python",
   "name": "python",
   "nbconvert_exporter": "python",
   "pygments_lexer": "ipython3",
   "version": "3.9.6"
  }
 },
 "nbformat": 4,
 "nbformat_minor": 5
}
