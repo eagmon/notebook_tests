{
 "cells": [
  {
   "cell_type": "markdown",
   "id": "c3e26203-c299-4be8-b8f1-4e9a90cadbb8",
   "metadata": {},
   "source": [
    "# Compartmental Models\n",
    "\n",
    "[1-2 sentences introducing compartmental models. What are they for?]"
   ]
  },
  {
   "cell_type": "markdown",
   "id": "e9ef4e25-d99d-47f4-8091-df278f11dfff",
   "metadata": {},
   "source": [
    "## SIR Model\n",
    "\n",
    "The SIR model can be described by the following ODEs:\n",
    "- $\\frac{dS}{dt} = -\\frac{\\beta I S}{N}$\n",
    "- $\\frac{dI}{dt} = \\frac{\\beta I S}{N} - \\gamma I$\n",
    "- $\\frac{dR}{dt} = \\gamma I$\n",
    "\n",
    "The variables:\n",
    "- $S$ represents the number of susceptible individuals\n",
    "- $I$ represents the number of infected individuals\n",
    "- $R$ represents the number of recovered individuals\n",
    "- $N$ is the total population size\n",
    "\n",
    "The parameters:\n",
    "- $\\beta$ represents the transmission rate\n",
    "- $\\gamma$ represents the recovery rate"
   ]
  },
  {
   "cell_type": "code",
   "execution_count": 1,
   "id": "3c0e8880-573e-4e6c-8398-f45aa0e31664",
   "metadata": {},
   "outputs": [],
   "source": [
    "import numpy as np\n",
    "import matplotlib.pyplot as plt\n",
    "from scipy.integrate import odeint"
   ]
  },
  {
   "cell_type": "code",
   "execution_count": 4,
   "id": "368c6e09-9910-470e-8641-65630571d47e",
   "metadata": {},
   "outputs": [],
   "source": [
    "# SIR computational model\n",
    "def sir_model(\n",
    "    y,      # a tuple with (S, I, R)\n",
    "    t, \n",
    "    transmission_rate, # beta\n",
    "    recovery_rate,     # gamma\n",
    "):\n",
    "    S, I, R = y\n",
    "    N = S + I + R\n",
    "    dSdt = -transmission_rate * S * I / N\n",
    "    dIdt = transmission_rate * S * I / N - recovery_rate * I\n",
    "    dRdt = recovery_rate * I\n",
    "    return dSdt, dIdt, dRdt\n",
    "    "
   ]
  },
  {
   "cell_type": "code",
   "execution_count": 35,
   "id": "fb90c272-680e-4435-a81d-f5ec6a3fe827",
   "metadata": {},
   "outputs": [],
   "source": [
    "# initial comditions\n",
    "\n",
    "## Total population\n",
    "N = 1000\n",
    "I0 = 1\n",
    "R0 = 0\n",
    "S0 = N - I0 - R0\n",
    "y0 = S0, I0, R0  # put the population in a tuple\n",
    "transmission_rate = 0.4  # transmission rate\n",
    "recovery_rate = 0.1  # recovery rate\n",
    "\n",
    "# time points (in days)\n",
    "t = np.linspace(0, 365, 365)\n",
    "\n",
    "# simulate with odeint\n",
    "soln = odeint(sir_model, y0, t, args=(transmission_rate, recovery_rate))\n",
    "S, I, R = soln.T"
   ]
  },
  {
   "cell_type": "code",
   "execution_count": 36,
   "id": "052b8316-4751-4fac-acbc-d00e1c8f3a8a",
   "metadata": {},
   "outputs": [
    {
     "data": {
      "text/plain": [
       "<matplotlib.legend.Legend at 0x131701e50>"
      ]
     },
     "execution_count": 36,
     "metadata": {},
     "output_type": "execute_result"
    },
    {
     "data": {
      "image/png": "[encoded data removed]",
      "text/plain": [
       "<Figure size 640x480 with 1 Axes>"
      ]
     },
     "metadata": {},
     "output_type": "display_data"
    }
   ],
   "source": [
    "# plotting\n",
    "plt.figure()\n",
    "plt.plot(t, S, label='Susceptible')\n",
    "plt.plot(t, I, label='Infected')\n",
    "plt.plot(t, R, label='Recovered')\n",
    "plt.legend()\n",
    "# TODO -- add title xlabel, ylabel"
   ]
  },
  {
   "cell_type": "markdown",
   "id": "c01f864f-9548-4ae0-8808-23e90d7a1f56",
   "metadata": {},
   "source": [
    "## Extending the SIR model to include Spatial Dynamics\n",
    "[2 sentences explaining what this is for]\n",
    "\n",
    "### Spatial Models\n",
    "we divide the population into regions (or compartments). Each compartment has its own S, I, R populations, and the disease can spread within and between these compartments. This allows us to model spread over time and over space"
   ]
  },
  {
   "cell_type": "markdown",
   "id": "a10db416-c288-42df-a1c9-b49b5d026c4a",
   "metadata": {},
   "source": [
    "## generic SIR model for any number of regions"
   ]
  },
  {
   "cell_type": "code",
   "execution_count": null,
   "id": "03d762c0-2aa1-4e7d-91c7-fdb6492b9558",
   "metadata": {},
   "outputs": [],
   "source": [
    "def generic_spatial_sir(\n",
    "    y,                 # all populations, including S, I, R for each location\n",
    "    t, \n",
    "    N,                 # list of population at each location\n",
    "    infection_rate, \n",
    "    recovery_rate, \n",
    "    migration_matrix,  # represents movement between regions (len(N)xlen(N) matrix)\n",
    "):\n",
    "    num_regions = len(N)\n",
    "    derivatives = np.zeros(num_regions * 3)  # initialize all derivatives\n",
    "\n",
    "    for loc in range(num_regions):\n",
    "        S, I, R = y[loc*3:(loc+1)*3]  # extract S, I, R for this location\n",
    "\n",
    "        # Calculate net movement for susceptible and infected individuals\n",
    "        net_S_movement = sum(\n",
    "            migration_matrix[j][loc] * y[j*3] - migration_matrix[loc][j] * S for j in range(num_regions))\n",
    "        net_I_movement = sum(\n",
    "            migration_matrix[j][loc] * y[j*3+1] - migration_matrix[loc][j] * I for j in range(num_regions))\n",
    "        net_R_movement = sum(\n",
    "            migration_matrix[j][loc] * y[j*3+2] - migration_matrix[loc][j] * R for j in range(num_regions))\n",
    "\n",
    "        # SIR model equations with mobility\n",
    "        dSdt = -infection_rate[loc] * S * I / N[loc] + net_S_movement\n",
    "        dIdt = infection_rate[loc] * S * I / N[loc] - recovery_rate[loc] * I + net_I_movement\n",
    "        dRdt = recovery_rate[loc] * I + net_R_movement\n",
    "        \n",
    "        # Update derivatives\n",
    "        derivatives[loc*3:(loc+1)*3] = [dSdt, dIdt, dRdt]\n",
    "\n",
    "    return derivatives"
   ]
  },
  {
   "cell_type": "markdown",
   "id": "8924f412-c446-442f-aa7e-7e28638e746b",
   "metadata": {},
   "source": [
    "N = [1000, 5000]  # Denver, Chicago population\n",
    "\n",
    "migration_matrix = [\n",
    "    [0, 0.1],  # movement from Denver to Chicago\n",
    "    [0.2, 0]\n",
    "]\n",
    "\n",
    "# y is a list of all SIR for each region\n",
    "y = [0_S, 0_I, 0_R, 1_S, 1_I, 1_R, ...]"
   ]
  },
  {
   "cell_type": "code",
   "execution_count": null,
   "id": "b79e2062-f292-46be-8559-7a4b981623d6",
   "metadata": {},
   "outputs": [],
   "source": []
  }
 ],
 "metadata": {
  "kernelspec": {
   "display_name": "Python (venv)",
   "language": "python",
   "name": "venv_kernel"
  },
  "language_info": {
   "codemirror_mode": {
    "name": "ipython",
    "version": 3
   },
   "file_extension": ".py",
   "mimetype": "text/x-python",
   "name": "python",
   "nbconvert_exporter": "python",
   "pygments_lexer": "ipython3",
   "version": "3.9.6"
  }
 },
 "nbformat": 4,
 "nbformat_minor": 5
}
