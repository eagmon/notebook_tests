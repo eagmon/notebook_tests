{
 "cells": [
  {
   "cell_type": "code",
   "execution_count": 21,
   "id": "000f4fb1-4659-438c-aff9-235ab6d87a0f",
   "metadata": {},
   "outputs": [],
   "source": [
    "from rdkit import Chem\n",
    "from rdkit.Chem import Draw\n",
    "from IPython.display import display, Image\n",
    "from rdkit import DataStructs\n",
    "from rdkit.Chem.Fingerprints import FingerprintMols\n",
    "import py3Dmol\n",
    "from rdkit.Chem import AllChem"
   ]
  },
  {
   "cell_type": "code",
   "execution_count": 57,
   "id": "3f6b89d3-d420-4cb8-ae12-d5935014f43a",
   "metadata": {},
   "outputs": [],
   "source": [
    "# SMILES string\n",
    "caffiene_str = \"CN1C=NC2=C1C(=O)N(C(=O)N2C)C\"\n",
    "curcumin_str = \"O=C(Cc1cc(c(O)cc1O)C(=O)O)CCC(=O)c1cc(c(O)cc1O)C(=O)O\"\n",
    "aspirin_str = \"CC(=O)OC1=CC=CC=C1C(=O)O\"\n",
    "taxol_str = \"CC1=C2C(C(=O)C3(C(CC4C3CCC5=CC(=O)C=CC45C)C3C(C(C=C2C(C(C1(C)C)=O)C)(C)C3(C)C)OC(=O)C(C)(C)C)C)(C)OC(=O)C\"\n",
    "lsd_str = \"CCN(CC)C(=O)C1CN(C2CC3=CNC4=CC=CC(=C34)C2=C1)C\"\n",
    "vancomycin_str = \"CC1C(C(CC(O1)OC2C(C(C(OC2OC3=C4C=C5C=C3OC6=C(C=C(C=C6)C(C(C(=O)NC(C(=O)NC5C(=O)NC7C8=CC(=C(C=C8)O)C9=C(C=C(C=C9O)O)C(NC(=O)C(C(C1=CC(=C(O4)C=C1)Cl)O)NC7=O)C(=O)O)CC(=O)N)NC(=O)C(CC(C)C)NC)O)Cl)CO)O)O)(C)N)O\"\n",
    "tetracycline_str = \"C1C(C(=O)C2(C(=C(NC(=C2C(=O)O1)C)C)O)C3=CC=C(C=C3)Cl)O\""
   ]
  },
  {
   "cell_type": "code",
   "execution_count": 36,
   "id": "48bdea9e-1650-472a-b3cf-bc07dbed1b26",
   "metadata": {},
   "outputs": [],
   "source": [
    "def display_2d(molecule_str):\n",
    "    molecule = Chem.MolFromSmiles(molecule_str)\n",
    "    molecule_img = Draw.MolToImage(molecule)\n",
    "    display(molecule_img)\n",
    "\n",
    "def display_3d(molecule_str):\n",
    "    molecule = Chem.MolFromSmiles(molecule_str)\n",
    "    molecule = Chem.AddHs(molecule)  # Add hydrogens\n",
    "    AllChem.EmbedMolecule(molecule, randomSeed=42)\n",
    "    AllChem.MMFFOptimizeMolecule(molecule)\n",
    "    \n",
    "    # 3D visualization setup\n",
    "    view = py3Dmol.view(width=800, height=400)\n",
    "    view.addModel(Chem.MolToMolBlock(molecule), 'mol')\n",
    "    view.setStyle({'sphere': {}})   # stick, sphere\n",
    "    # view.setStyle({'stick': {}, 'sphere': {'scale': 0.3}}) \n",
    "    view.zoomTo()\n",
    "    display(view)"
   ]
  },
  {
   "cell_type": "code",
   "execution_count": 59,
   "id": "d1441f1b-4ad8-41b8-9a95-b1141e37e263",
   "metadata": {},
   "outputs": [
    {
     "data": {
      "image/jpeg": "[encoded data removed]",
      "image/png": "[encoded data removed]",
      "text/plain": [
       "<PIL.PngImagePlugin.PngImageFile image mode=RGB size=300x300>"
      ]
     },
     "metadata": {},
     "output_type": "display_data"
    }
   ],
   "source": [
    "display_2d(tetracycline_str)"
   ]
  },
  {
   "cell_type": "code",
   "execution_count": 84,
   "id": "e0323011-d990-4799-94ce-0d51807377db",
   "metadata": {},
   "outputs": [
    {
     "data": {
      "application/3dmoljs_load.v0": "<div id=\"3dmolviewer_171400756964303\"  style=\"position: relative; width: 800px; height: 400px;\">\n        <p id=\"3dmolwarning_171400756964303\" style=\"background-color:#ffcccc;color:black\">3Dmol.js failed to load for some reason.  Please check your browser console for error messages.<br></p>\n        </div>\n<script>\n\nvar loadScriptAsync = function(uri){\n  return new Promise((resolve, reject) => {\n    //this is to ignore the existence of requirejs amd\n    var savedexports, savedmodule;\n    if (typeof exports !== 'undefined') savedexports = exports;\n    else exports = {}\n    if (typeof module !== 'undefined') savedmodule = module;\n    else module = {}\n\n    var tag = document.createElement('script');\n    tag.src = uri;\n    tag.async = true;\n    tag.onload = () => {\n        exports = savedexports;\n        module = savedmodule;\n        resolve();\n    };\n  var firstScriptTag = document.getElementsByTagName('script')[0];\n  firstScriptTag.parentNode.insertBefore(tag, firstScriptTag);\n});\n};\n\nif(typeof $3Dmolpromise === 'undefined') {\n$3Dmolpromise = null;\n  $3Dmolpromise = loadScriptAsync('https://cdnjs.cloudflare.com/ajax/libs/3Dmol/2.1.0/3Dmol-min.js');\n}\n\nvar viewer_171400756964303 = null;\nvar warn = document.getElementById(\"3dmolwarning_171400756964303\");\nif(warn) {\n    warn.parentNode.removeChild(warn);\n}\n$3Dmolpromise.then(function() {\nviewer_171400756964303 = $3Dmol.createViewer(document.getElementById(\"3dmolviewer_171400756964303\"),{backgroundColor:\"white\"});\nviewer_171400756964303.zoomTo();\n\tviewer_171400756964303.addModel(\"\\n     RDKit          3D\\n\\n 40 42  0  0  0  0  0  0  0  0999 V2000\\n   -1.8761   -2.4980    0.3730 C   0  0  0  0  0  0  0  0  0  0  0  0\\n   -0.4905   -2.5827    0.9844 C   0  0  0  0  0  0  0  0  0  0  0  0\\n    0.1186   -1.2198    1.3290 C   0  0  0  0  0  0  0  0  0  0  0  0\\n    0.7087   -1.1229    2.4227 O   0  0  0  0  0  0  0  0  0  0  0  0\\n    0.1966   -0.0873    0.2599 C   0  0  0  0  0  0  0  0  0  0  0  0\\n    0.3474    1.2215    1.1062 C   0  0  0  0  0  0  0  0  0  0  0  0\\n   -0.6080    2.1724    1.1150 C   0  0  0  0  0  0  0  0  0  0  0  0\\n   -1.7628    2.0077    0.3779 N   0  0  0  0  0  0  0  0  0  0  0  0\\n   -1.9965    0.9518   -0.4813 C   0  0  0  0  0  0  0  0  0  0  0  0\\n   -1.0964   -0.0554   -0.5580 C   0  0  0  0  0  0  0  0  0  0  0  0\\n   -1.3235   -1.1177   -1.5454 C   0  0  0  0  0  0  0  0  0  0  0  0\\n   -1.1587   -0.9359   -2.7426 O   0  0  0  0  0  0  0  0  0  0  0  0\\n   -1.7755   -2.2875   -1.0450 O   0  0  0  0  0  0  0  0  0  0  0  0\\n   -3.2724    1.0373   -1.2839 C   0  0  0  0  0  0  0  0  0  0  0  0\\n   -0.4952    3.4422    1.9156 C   0  0  0  0  0  0  0  0  0  0  0  0\\n    1.4932    1.3722    1.8801 O   0  0  0  0  0  0  0  0  0  0  0  0\\n    1.4477   -0.2261   -0.6488 C   0  0  0  0  0  0  0  0  0  0  0  0\\n    2.4748   -1.1570   -0.4023 C   0  0  0  0  0  0  0  0  0  0  0  0\\n    3.5916   -1.2368   -1.2428 C   0  0  0  0  0  0  0  0  0  0  0  0\\n    3.7073   -0.3818   -2.3343 C   0  0  0  0  0  0  0  0  0  0  0  0\\n    2.7195    0.5610   -2.5899 C   0  0  0  0  0  0  0  0  0  0  0  0\\n    1.6049    0.6432   -1.7507 C   0  0  0  0  0  0  0  0  0  0  0  0\\n    5.0830   -0.4853   -3.3611 Cl  0  0  0  0  0  0  0  0  0  0  0  0\\n   -0.5834   -3.3554    2.1888 O   0  0  0  0  0  0  0  0  0  0  0  0\\n   -2.4028   -3.4502    0.5050 H   0  0  0  0  0  0  0  0  0  0  0  0\\n   -2.5121   -1.7372    0.8410 H   0  0  0  0  0  0  0  0  0  0  0  0\\n    0.2054   -3.0999    0.3156 H   0  0  0  0  0  0  0  0  0  0  0  0\\n   -2.4087    2.7940    0.3507 H   0  0  0  0  0  0  0  0  0  0  0  0\\n   -3.2067    1.8592   -2.0044 H   0  0  0  0  0  0  0  0  0  0  0  0\\n   -3.5065    0.1227   -1.8348 H   0  0  0  0  0  0  0  0  0  0  0  0\\n   -4.1208    1.2318   -0.6181 H   0  0  0  0  0  0  0  0  0  0  0  0\\n   -1.3209    3.5097    2.6321 H   0  0  0  0  0  0  0  0  0  0  0  0\\n    0.4389    3.5127    2.4805 H   0  0  0  0  0  0  0  0  0  0  0  0\\n   -0.5448    4.3113    1.2507 H   0  0  0  0  0  0  0  0  0  0  0  0\\n    1.7014    0.4948    2.2652 H   0  0  0  0  0  0  0  0  0  0  0  0\\n    2.4519   -1.8312    0.4504 H   0  0  0  0  0  0  0  0  0  0  0  0\\n    4.3722   -1.9644   -1.0342 H   0  0  0  0  0  0  0  0  0  0  0  0\\n    2.8068    1.2375   -3.4359 H   0  0  0  0  0  0  0  0  0  0  0  0\\n    0.8530    1.4013   -1.9703 H   0  0  0  0  0  0  0  0  0  0  0  0\\n    0.1395   -3.0520    2.7766 H   0  0  0  0  0  0  0  0  0  0  0  0\\n  1  2  1  0\\n  2  3  1  0\\n  3  4  2  0\\n  3  5  1  0\\n  5  6  1  0\\n  6  7  2  0\\n  7  8  1  0\\n  8  9  1  0\\n  9 10  2  0\\n 10 11  1  0\\n 11 12  2  0\\n 11 13  1  0\\n  9 14  1  0\\n  7 15  1  0\\n  6 16  1  0\\n  5 17  1  0\\n 17 18  2  0\\n 18 19  1  0\\n 19 20  2  0\\n 20 21  1  0\\n 21 22  2  0\\n 20 23  1  0\\n  2 24  1  0\\n 13  1  1  0\\n 10  5  1  0\\n 22 17  1  0\\n  1 25  1  0\\n  1 26  1  0\\n  2 27  1  0\\n  8 28  1  0\\n 14 29  1  0\\n 14 30  1  0\\n 14 31  1  0\\n 15 32  1  0\\n 15 33  1  0\\n 15 34  1  0\\n 16 35  1  0\\n 18 36  1  0\\n 19 37  1  0\\n 21 38  1  0\\n 22 39  1  0\\n 24 40  1  0\\nM  END\\n\",\"mol\");\n\tviewer_171400756964303.setStyle({\"sphere\": {}});\n\tviewer_171400756964303.zoomTo();\nviewer_171400756964303.render();\n});\n</script>",
      "text/html": [
       "<div id=\"3dmolviewer_171400756964303\"  style=\"position: relative; width: 800px; height: 400px;\">\n",
       "        <p id=\"3dmolwarning_171400756964303\" style=\"background-color:#ffcccc;color:black\">3Dmol.js failed to load for some reason.  Please check your browser console for error messages.<br></p>\n",
       "        </div>\n",
       "<script>\n",
       "\n",
       "var loadScriptAsync = function(uri){\n",
       "  return new Promise((resolve, reject) => {\n",
       "    //this is to ignore the existence of requirejs amd\n",
       "    var savedexports, savedmodule;\n",
       "    if (typeof exports !== 'undefined') savedexports = exports;\n",
       "    else exports = {}\n",
       "    if (typeof module !== 'undefined') savedmodule = module;\n",
       "    else module = {}\n",
       "\n",
       "    var tag = document.createElement('script');\n",
       "    tag.src = uri;\n",
       "    tag.async = true;\n",
       "    tag.onload = () => {\n",
       "        exports = savedexports;\n",
       "        module = savedmodule;\n",
       "        resolve();\n",
       "    };\n",
       "  var firstScriptTag = document.getElementsByTagName('script')[0];\n",
       "  firstScriptTag.parentNode.insertBefore(tag, firstScriptTag);\n",
       "});\n",
       "};\n",
       "\n",
       "if(typeof $3Dmolpromise === 'undefined') {\n",
       "$3Dmolpromise = null;\n",
       "  $3Dmolpromise = loadScriptAsync('https://cdnjs.cloudflare.com/ajax/libs/3Dmol/2.1.0/3Dmol-min.js');\n",
       "}\n",
       "\n",
       "var viewer_171400756964303 = null;\n",
       "var warn = document.getElementById(\"3dmolwarning_171400756964303\");\n",
       "if(warn) {\n",
       "    warn.parentNode.removeChild(warn);\n",
       "}\n",
       "$3Dmolpromise.then(function() {\n",
       "viewer_171400756964303 = $3Dmol.createViewer(document.getElementById(\"3dmolviewer_171400756964303\"),{backgroundColor:\"white\"});\n",
       "viewer_171400756964303.zoomTo();\n",
       "\tviewer_171400756964303.addModel(\"\\n     RDKit          3D\\n\\n 40 42  0  0  0  0  0  0  0  0999 V2000\\n   -1.8761   -2.4980    0.3730 C   0  0  0  0  0  0  0  0  0  0  0  0\\n   -0.4905   -2.5827    0.9844 C   0  0  0  0  0  0  0  0  0  0  0  0\\n    0.1186   -1.2198    1.3290 C   0  0  0  0  0  0  0  0  0  0  0  0\\n    0.7087   -1.1229    2.4227 O   0  0  0  0  0  0  0  0  0  0  0  0\\n    0.1966   -0.0873    0.2599 C   0  0  0  0  0  0  0  0  0  0  0  0\\n    0.3474    1.2215    1.1062 C   0  0  0  0  0  0  0  0  0  0  0  0\\n   -0.6080    2.1724    1.1150 C   0  0  0  0  0  0  0  0  0  0  0  0\\n   -1.7628    2.0077    0.3779 N   0  0  0  0  0  0  0  0  0  0  0  0\\n   -1.9965    0.9518   -0.4813 C   0  0  0  0  0  0  0  0  0  0  0  0\\n   -1.0964   -0.0554   -0.5580 C   0  0  0  0  0  0  0  0  0  0  0  0\\n   -1.3235   -1.1177   -1.5454 C   0  0  0  0  0  0  0  0  0  0  0  0\\n   -1.1587   -0.9359   -2.7426 O   0  0  0  0  0  0  0  0  0  0  0  0\\n   -1.7755   -2.2875   -1.0450 O   0  0  0  0  0  0  0  0  0  0  0  0\\n   -3.2724    1.0373   -1.2839 C   0  0  0  0  0  0  0  0  0  0  0  0\\n   -0.4952    3.4422    1.9156 C   0  0  0  0  0  0  0  0  0  0  0  0\\n    1.4932    1.3722    1.8801 O   0  0  0  0  0  0  0  0  0  0  0  0\\n    1.4477   -0.2261   -0.6488 C   0  0  0  0  0  0  0  0  0  0  0  0\\n    2.4748   -1.1570   -0.4023 C   0  0  0  0  0  0  0  0  0  0  0  0\\n    3.5916   -1.2368   -1.2428 C   0  0  0  0  0  0  0  0  0  0  0  0\\n    3.7073   -0.3818   -2.3343 C   0  0  0  0  0  0  0  0  0  0  0  0\\n    2.7195    0.5610   -2.5899 C   0  0  0  0  0  0  0  0  0  0  0  0\\n    1.6049    0.6432   -1.7507 C   0  0  0  0  0  0  0  0  0  0  0  0\\n    5.0830   -0.4853   -3.3611 Cl  0  0  0  0  0  0  0  0  0  0  0  0\\n   -0.5834   -3.3554    2.1888 O   0  0  0  0  0  0  0  0  0  0  0  0\\n   -2.4028   -3.4502    0.5050 H   0  0  0  0  0  0  0  0  0  0  0  0\\n   -2.5121   -1.7372    0.8410 H   0  0  0  0  0  0  0  0  0  0  0  0\\n    0.2054   -3.0999    0.3156 H   0  0  0  0  0  0  0  0  0  0  0  0\\n   -2.4087    2.7940    0.3507 H   0  0  0  0  0  0  0  0  0  0  0  0\\n   -3.2067    1.8592   -2.0044 H   0  0  0  0  0  0  0  0  0  0  0  0\\n   -3.5065    0.1227   -1.8348 H   0  0  0  0  0  0  0  0  0  0  0  0\\n   -4.1208    1.2318   -0.6181 H   0  0  0  0  0  0  0  0  0  0  0  0\\n   -1.3209    3.5097    2.6321 H   0  0  0  0  0  0  0  0  0  0  0  0\\n    0.4389    3.5127    2.4805 H   0  0  0  0  0  0  0  0  0  0  0  0\\n   -0.5448    4.3113    1.2507 H   0  0  0  0  0  0  0  0  0  0  0  0\\n    1.7014    0.4948    2.2652 H   0  0  0  0  0  0  0  0  0  0  0  0\\n    2.4519   -1.8312    0.4504 H   0  0  0  0  0  0  0  0  0  0  0  0\\n    4.3722   -1.9644   -1.0342 H   0  0  0  0  0  0  0  0  0  0  0  0\\n    2.8068    1.2375   -3.4359 H   0  0  0  0  0  0  0  0  0  0  0  0\\n    0.8530    1.4013   -1.9703 H   0  0  0  0  0  0  0  0  0  0  0  0\\n    0.1395   -3.0520    2.7766 H   0  0  0  0  0  0  0  0  0  0  0  0\\n  1  2  1  0\\n  2  3  1  0\\n  3  4  2  0\\n  3  5  1  0\\n  5  6  1  0\\n  6  7  2  0\\n  7  8  1  0\\n  8  9  1  0\\n  9 10  2  0\\n 10 11  1  0\\n 11 12  2  0\\n 11 13  1  0\\n  9 14  1  0\\n  7 15  1  0\\n  6 16  1  0\\n  5 17  1  0\\n 17 18  2  0\\n 18 19  1  0\\n 19 20  2  0\\n 20 21  1  0\\n 21 22  2  0\\n 20 23  1  0\\n  2 24  1  0\\n 13  1  1  0\\n 10  5  1  0\\n 22 17  1  0\\n  1 25  1  0\\n  1 26  1  0\\n  2 27  1  0\\n  8 28  1  0\\n 14 29  1  0\\n 14 30  1  0\\n 14 31  1  0\\n 15 32  1  0\\n 15 33  1  0\\n 15 34  1  0\\n 16 35  1  0\\n 18 36  1  0\\n 19 37  1  0\\n 21 38  1  0\\n 22 39  1  0\\n 24 40  1  0\\nM  END\\n\",\"mol\");\n",
       "\tviewer_171400756964303.setStyle({\"sphere\": {}});\n",
       "\tviewer_171400756964303.zoomTo();\n",
       "viewer_171400756964303.render();\n",
       "});\n",
       "</script>"
      ]
     },
     "metadata": {},
     "output_type": "display_data"
    },
    {
     "data": {
      "text/plain": [
       "<py3Dmol.view at 0x104021a00>"
      ]
     },
     "metadata": {},
     "output_type": "display_data"
    }
   ],
   "source": [
    "display_3d(tetracycline_str)"
   ]
  },
  {
   "cell_type": "code",
   "execution_count": 83,
   "id": "b6123f75-4e4f-4d1f-9b83-e81cb8eb7cc3",
   "metadata": {},
   "outputs": [
    {
     "data": {
      "application/3dmoljs_load.v0": "<div id=\"3dmolviewer_1714007492811512\"  style=\"position: relative; width: 800px; height: 400px;\">\n        <p id=\"3dmolwarning_1714007492811512\" style=\"background-color:#ffcccc;color:black\">3Dmol.js failed to load for some reason.  Please check your browser console for error messages.<br></p>\n        </div>\n<script>\n\nvar loadScriptAsync = function(uri){\n  return new Promise((resolve, reject) => {\n    //this is to ignore the existence of requirejs amd\n    var savedexports, savedmodule;\n    if (typeof exports !== 'undefined') savedexports = exports;\n    else exports = {}\n    if (typeof module !== 'undefined') savedmodule = module;\n    else module = {}\n\n    var tag = document.createElement('script');\n    tag.src = uri;\n    tag.async = true;\n    tag.onload = () => {\n        exports = savedexports;\n        module = savedmodule;\n        resolve();\n    };\n  var firstScriptTag = document.getElementsByTagName('script')[0];\n  firstScriptTag.parentNode.insertBefore(tag, firstScriptTag);\n});\n};\n\nif(typeof $3Dmolpromise === 'undefined') {\n$3Dmolpromise = null;\n  $3Dmolpromise = loadScriptAsync('https://cdnjs.cloudflare.com/ajax/libs/3Dmol/2.1.0/3Dmol-min.js');\n}\n\nvar viewer_1714007492811512 = null;\nvar warn = document.getElementById(\"3dmolwarning_1714007492811512\");\nif(warn) {\n    warn.parentNode.removeChild(warn);\n}\n$3Dmolpromise.then(function() {\nviewer_1714007492811512 = $3Dmol.createViewer(document.getElementById(\"3dmolviewer_1714007492811512\"),{backgroundColor:\"white\"});\nviewer_1714007492811512.zoomTo();\n\tviewer_1714007492811512.addModel(\"\\n     RDKit          3D\\n\\n 12 11  0  0  0  0  0  0  0  0999 V2000\\n   -3.5470    0.1494   -0.5779 Cl  0  0  0  0  0  0  0  0  0  0  0  0\\n   -2.0626    1.1035   -0.5738 N   0  0  0  0  0  0  0  0  0  0  0  0\\n   -1.0923    0.6658    0.6968 S   0  0  0  0  0  0  0  0  0  0  0  0\\n   -0.2569   -0.7910   -0.0168 C   0  0  0  0  0  0  0  0  0  0  0  0\\n    0.7734   -1.3271    0.8317 O   0  0  0  0  0  0  0  0  0  0  0  0\\n    1.9107   -0.4141    0.9668 N   0  0  0  0  0  0  0  0  0  0  0  0\\n    2.8169   -0.6404   -0.1410 O   0  0  0  0  0  0  0  0  0  0  0  0\\n    3.0518    0.7842   -1.0039 Cl  0  0  0  0  0  0  0  0  0  0  0  0\\n   -2.2986    2.0956   -0.5132 H   0  0  0  0  0  0  0  0  0  0  0  0\\n    0.1652   -0.5504   -0.9987 H   0  0  0  0  0  0  0  0  0  0  0  0\\n   -0.9942   -1.5870   -0.1576 H   0  0  0  0  0  0  0  0  0  0  0  0\\n    1.5337    0.5116    0.7525 H   0  0  0  0  0  0  0  0  0  0  0  0\\n  1  2  1  0\\n  2  3  1  0\\n  3  4  1  0\\n  4  5  1  0\\n  5  6  1  0\\n  6  7  1  0\\n  7  8  1  0\\n  2  9  1  0\\n  4 10  1  0\\n  4 11  1  0\\n  6 12  1  0\\nM  END\\n\",\"mol\");\n\tviewer_1714007492811512.setStyle({\"sphere\": {}});\n\tviewer_1714007492811512.zoomTo();\nviewer_1714007492811512.render();\n});\n</script>",
      "text/html": [
       "<div id=\"3dmolviewer_1714007492811512\"  style=\"position: relative; width: 800px; height: 400px;\">\n",
       "        <p id=\"3dmolwarning_1714007492811512\" style=\"background-color:#ffcccc;color:black\">3Dmol.js failed to load for some reason.  Please check your browser console for error messages.<br></p>\n",
       "        </div>\n",
       "<script>\n",
       "\n",
       "var loadScriptAsync = function(uri){\n",
       "  return new Promise((resolve, reject) => {\n",
       "    //this is to ignore the existence of requirejs amd\n",
       "    var savedexports, savedmodule;\n",
       "    if (typeof exports !== 'undefined') savedexports = exports;\n",
       "    else exports = {}\n",
       "    if (typeof module !== 'undefined') savedmodule = module;\n",
       "    else module = {}\n",
       "\n",
       "    var tag = document.createElement('script');\n",
       "    tag.src = uri;\n",
       "    tag.async = true;\n",
       "    tag.onload = () => {\n",
       "        exports = savedexports;\n",
       "        module = savedmodule;\n",
       "        resolve();\n",
       "    };\n",
       "  var firstScriptTag = document.getElementsByTagName('script')[0];\n",
       "  firstScriptTag.parentNode.insertBefore(tag, firstScriptTag);\n",
       "});\n",
       "};\n",
       "\n",
       "if(typeof $3Dmolpromise === 'undefined') {\n",
       "$3Dmolpromise = null;\n",
       "  $3Dmolpromise = loadScriptAsync('https://cdnjs.cloudflare.com/ajax/libs/3Dmol/2.1.0/3Dmol-min.js');\n",
       "}\n",
       "\n",
       "var viewer_1714007492811512 = null;\n",
       "var warn = document.getElementById(\"3dmolwarning_1714007492811512\");\n",
       "if(warn) {\n",
       "    warn.parentNode.removeChild(warn);\n",
       "}\n",
       "$3Dmolpromise.then(function() {\n",
       "viewer_1714007492811512 = $3Dmol.createViewer(document.getElementById(\"3dmolviewer_1714007492811512\"),{backgroundColor:\"white\"});\n",
       "viewer_1714007492811512.zoomTo();\n",
       "\tviewer_1714007492811512.addModel(\"\\n     RDKit          3D\\n\\n 12 11  0  0  0  0  0  0  0  0999 V2000\\n   -3.5470    0.1494   -0.5779 Cl  0  0  0  0  0  0  0  0  0  0  0  0\\n   -2.0626    1.1035   -0.5738 N   0  0  0  0  0  0  0  0  0  0  0  0\\n   -1.0923    0.6658    0.6968 S   0  0  0  0  0  0  0  0  0  0  0  0\\n   -0.2569   -0.7910   -0.0168 C   0  0  0  0  0  0  0  0  0  0  0  0\\n    0.7734   -1.3271    0.8317 O   0  0  0  0  0  0  0  0  0  0  0  0\\n    1.9107   -0.4141    0.9668 N   0  0  0  0  0  0  0  0  0  0  0  0\\n    2.8169   -0.6404   -0.1410 O   0  0  0  0  0  0  0  0  0  0  0  0\\n    3.0518    0.7842   -1.0039 Cl  0  0  0  0  0  0  0  0  0  0  0  0\\n   -2.2986    2.0956   -0.5132 H   0  0  0  0  0  0  0  0  0  0  0  0\\n    0.1652   -0.5504   -0.9987 H   0  0  0  0  0  0  0  0  0  0  0  0\\n   -0.9942   -1.5870   -0.1576 H   0  0  0  0  0  0  0  0  0  0  0  0\\n    1.5337    0.5116    0.7525 H   0  0  0  0  0  0  0  0  0  0  0  0\\n  1  2  1  0\\n  2  3  1  0\\n  3  4  1  0\\n  4  5  1  0\\n  5  6  1  0\\n  6  7  1  0\\n  7  8  1  0\\n  2  9  1  0\\n  4 10  1  0\\n  4 11  1  0\\n  6 12  1  0\\nM  END\\n\",\"mol\");\n",
       "\tviewer_1714007492811512.setStyle({\"sphere\": {}});\n",
       "\tviewer_1714007492811512.zoomTo();\n",
       "viewer_1714007492811512.render();\n",
       "});\n",
       "</script>"
      ]
     },
     "metadata": {},
     "output_type": "display_data"
    },
    {
     "data": {
      "text/plain": [
       "<py3Dmol.view at 0x1269b6250>"
      ]
     },
     "metadata": {},
     "output_type": "display_data"
    }
   ],
   "source": [
    "display_3d(\"ClNSCONOCl\")\n"
   ]
  },
  {
   "cell_type": "code",
   "execution_count": null,
   "id": "1caf6d1e-17a0-4d2f-972d-977c84007662",
   "metadata": {},
   "outputs": [],
   "source": []
  }
 ],
 "metadata": {
  "kernelspec": {
   "display_name": "Python (venv)",
   "language": "python",
   "name": "venv_kernel"
  },
  "language_info": {
   "codemirror_mode": {
    "name": "ipython",
    "version": 3
   },
   "file_extension": ".py",
   "mimetype": "text/x-python",
   "name": "python",
   "nbconvert_exporter": "python",
   "pygments_lexer": "ipython3",
   "version": "3.9.6"
  }
 },
 "nbformat": 4,
 "nbformat_minor": 5
}
