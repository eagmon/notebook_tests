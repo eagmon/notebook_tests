{
 "cells": [
  {
   "cell_type": "code",
   "execution_count": 1,
   "id": "e3779933-a430-4b6e-b707-9394071326b9",
   "metadata": {},
   "outputs": [],
   "source": [
    "import numpy as np\n",
    "import matplotlib.pyplot as plt\n",
    "from collections import deque\n",
    "import imageio\n",
    "from IPython.display import display, Image, HTML\n",
    "import base64"
   ]
  },
  {
   "cell_type": "markdown",
   "id": "66e32551-a111-4bb3-bab6-5807fef99046",
   "metadata": {},
   "source": [
    "## Cellular Potts Model"
   ]
  },
  {
   "cell_type": "code",
   "execution_count": 2,
   "id": "096bd9fd-b76c-462b-80ef-e3a834ed463e",
   "metadata": {},
   "outputs": [],
   "source": [
    "def plot_timepoint(results, idx):\n",
    "    \"\"\"Plot a specific timepoint.\"\"\"\n",
    "    filename = f\"out/cpm_{idx}\"\n",
    "    if idx < len(results):\n",
    "        plt.imshow(results[idx], cmap=\"tab20\")\n",
    "        # plt.title(f\"Step {idx}\")\n",
    "        plt.savefig(filename)\n",
    "        plt.show()\n",
    "\n",
    "    else:\n",
    "        print(f\"Timepoint {idx} not available.\")\n",
    "\n",
    "def lattice_to_image(lattice):\n",
    "    \"\"\"Convert lattice to an RGB image for gif creation.\"\"\"\n",
    "    fig, ax = plt.subplots()\n",
    "    ax.imshow(lattice, cmap=\"tab20\")\n",
    "    ax.axis('off')\n",
    "    fig.tight_layout()\n",
    "    \n",
    "    # Convert the Matplotlib figure to an RGB array\n",
    "    canvas = plt.get_current_fig_manager().canvas\n",
    "    canvas.draw()\n",
    "    img = np.frombuffer(canvas.tostring_rgb(), dtype=np.uint8).reshape(canvas.get_width_height()[::-1] + (3,))\n",
    "    plt.close(fig)\n",
    "    return img\n",
    "    \n",
    "def generate_gif(results, filename=\"out/simulation.gif\"):\n",
    "    \"\"\"Generate a gif from the results.\"\"\"\n",
    "    with imageio.get_writer(filename, mode='I') as writer:\n",
    "        for lattice in results:\n",
    "            img = lattice_to_image(lattice)\n",
    "            writer.append_data(img)\n",
    "            \n",
    "def display_gif(filename):\n",
    "    \"\"\"Display the GIF in a Jupyter Notebook.\"\"\"\n",
    "    # X = Image(url=filename)\n",
    "    # display(X)\n",
    "    with open(filename, \"rb\") as f:\n",
    "        display(Image(data=f.read(), format=\"png\", repeat=True))\n"
   ]
  },
  {
   "cell_type": "code",
   "execution_count": 3,
   "id": "33fb4191-afa5-41c1-beda-7d738c57e57a",
   "metadata": {},
   "outputs": [],
   "source": [
    "class CPM:\n",
    "    def __init__(\n",
    "        self, \n",
    "        size=100, \n",
    "        adhesion=1, \n",
    "        self_adhesion=1.5,\n",
    "        temperature=1, \n",
    "        n_cells=10, \n",
    "        target_size=10, \n",
    "        save_steps=1\n",
    "    ):\n",
    "        self.L = size\n",
    "        self.sites = self.L**2\n",
    "        self.J = adhesion\n",
    "        self.J_self = self_adhesion\n",
    "        self.T = temperature\n",
    "        self.n_cells = n_cells\n",
    "        self.target_size = target_size\n",
    "        self.save_steps = save_steps\n",
    "\n",
    "        # Initialize\n",
    "        self.lattice = np.zeros((self.L, self.L), dtype=int)\n",
    "        self.initialize_cells(target_size=self.target_size)\n",
    "\n",
    "        # Place to save results\n",
    "        self.results = [self.lattice.copy(), ]\n",
    "\n",
    "    def initialize_cells(self, target_size=5):\n",
    "        if np.sum(self.lattice) != 0:  # reset lattice\n",
    "            self.lattice = np.zeros((self.L, self.L), dtype=int)\n",
    "        for cell_id in range(1, self.n_cells + 1):\n",
    "            x, y = np.random.randint(0, self.L, 2)\n",
    "\n",
    "            to_fill = target_size\n",
    "            cell_sites = [(x, y)]\n",
    "            self.lattice[x, y] = cell_id\n",
    "            to_fill -= 1\n",
    "\n",
    "            while to_fill > 0:\n",
    "                xi, yi = cell_sites[np.random.randint(len(cell_sites))]\n",
    "                dx, dy = [(0, 1), (0, -1), (1, 0), (-1, 0)][np.random.randint(4)]\n",
    "                xn, yn = (xi + dx) % self.L, (yi + dy) % self.L\n",
    "\n",
    "                if self.lattice[xn, yn] == 0:\n",
    "                    self.lattice[xn, yn] = cell_id\n",
    "                    cell_sites.append((xn, yn))\n",
    "                    to_fill -= 1\n",
    "    \n",
    "    def delta_H(self, x, y, xi, yi):\n",
    "        \"\"\"Compute the change in Hamiltonian for a copy event.\"\"\"\n",
    "        current = self.lattice[x, y]\n",
    "        target = self.lattice[xi, yi]\n",
    "\n",
    "        # Check for self-adhesion\n",
    "        if current == target:\n",
    "            return -self.J_self\n",
    "        # Different cells, use regular adhesion\n",
    "        elif current != 0 and target != 0:\n",
    "            return self.J\n",
    "        else:\n",
    "            return 0\n",
    "\n",
    "    def metropolis(self, x, y, xi, yi):\n",
    "        \"\"\"Use Metropolis criterion to accept or reject a copy event.\"\"\"\n",
    "        dH = self.delta_H(x, y, xi, yi)\n",
    "        if dH < 0:\n",
    "            return True\n",
    "        else:\n",
    "            return np.random.rand() < np.exp(-dH/self.T)\n",
    "\n",
    "    def run(self, n_steps):\n",
    "        for step in range(n_steps):\n",
    "            for _ in range(self.sites):\n",
    "                x, y = np.random.randint(0, self.L, 2)\n",
    "                direction = np.random.choice(['up', 'down', 'left', 'right'])\n",
    "                \n",
    "                if direction == 'up':\n",
    "                    xi, yi = (x, (y+1)%self.L)\n",
    "                elif direction == 'down':\n",
    "                    xi, yi = (x, (y-1)%self.L)\n",
    "                elif direction == 'left':\n",
    "                    xi, yi = ((x-1)%self.L, y)\n",
    "                else:\n",
    "                    xi, yi = ((x+1)%self.L, y)\n",
    "                \n",
    "                if self.metropolis(x, y, xi, yi):\n",
    "                    self.lattice[xi, yi] = self.lattice[x, y]\n",
    "    \n",
    "            # Save state\n",
    "            if step % self.save_steps == 0:\n",
    "                self.results.append(self.lattice.copy())\n",
    "\n",
    "    def get_results(self):\n",
    "        return self.results"
   ]
  },
  {
   "cell_type": "code",
   "execution_count": 5,
   "id": "1df20330-f5c8-4af1-9a4c-7abfc28124b7",
   "metadata": {},
   "outputs": [],
   "source": [
    "total_time = 200\n",
    "save_steps = 2\n",
    "n_idx = int(total_time/save_steps)\n",
    "\n",
    "cpm = CPM(\n",
    "    size=50, \n",
    "    n_cells=12, \n",
    "    save_steps=save_steps,\n",
    "    target_size=30,\n",
    "    adhesion=1, \n",
    "    self_adhesion=1.5,\n",
    ")\n",
    "cpm.run(total_time)\n",
    "\n",
    "results = cpm.get_results()"
   ]
  },
  {
   "cell_type": "code",
   "execution_count": 6,
   "id": "badabe47-f0b5-46dc-bbd3-228c0dee0bbb",
   "metadata": {},
   "outputs": [
    {
     "data": {
      "image/png": "[encoded data removed]",
      "text/plain": [
       "<Figure size 640x480 with 1 Axes>"
      ]
     },
     "metadata": {},
     "output_type": "display_data"
    }
   ],
   "source": [
    "plot_timepoint(results, 1)"
   ]
  },
  {
   "cell_type": "code",
   "execution_count": 7,
   "id": "145361fe-f2c4-480b-8aeb-6b0748fb7a17",
   "metadata": {},
   "outputs": [
    {
     "data": {
      "image/png": "[encoded data removed]",
      "text/plain": [
       "<Figure size 640x480 with 1 Axes>"
      ]
     },
     "metadata": {},
     "output_type": "display_data"
    }
   ],
   "source": [
    "plot_timepoint(results, n_idx)"
   ]
  },
  {
   "cell_type": "code",
   "execution_count": 8,
   "id": "7cffddea-caf0-4c82-8b9f-d1cf27325818",
   "metadata": {},
   "outputs": [],
   "source": [
    "filename = \"out/simulation.gif\"\n",
    "generate_gif(results, filename)"
   ]
  },
  {
   "cell_type": "code",
   "execution_count": 9,
   "id": "272145c6-e5d7-4129-88b5-4da448c6e23d",
   "metadata": {},
   "outputs": [
    {
     "data": {
      "text/html": [
       "<img src=\"out/simulation.gif\"/>"
      ],
      "text/plain": [
       "<IPython.core.display.Image object>"
      ]
     },
     "metadata": {},
     "output_type": "display_data"
    }
   ],
   "source": [
    "display_gif(filename)"
   ]
  },
  {
   "cell_type": "markdown",
   "id": "31c167c1-f0c1-49b0-ac4c-843d1e34921f",
   "metadata": {},
   "source": [
    "## PDE for environment"
   ]
  },
  {
   "cell_type": "code",
   "execution_count": 10,
   "id": "4b044a4f-fce7-4698-8c65-692d7d457bf0",
   "metadata": {},
   "outputs": [],
   "source": [
    "class Diffusion2D:\n",
    "    def __init__(\n",
    "        self, \n",
    "        Lx=10.0, \n",
    "        Ly=10.0, \n",
    "        Nx=100, \n",
    "        Ny=100, \n",
    "        D=0.1, \n",
    "        dt=0.01\n",
    "    ):\n",
    "        self.Lx, self.Ly = Lx, Ly\n",
    "        self.Nx, self.Ny = Nx, Ny\n",
    "        self.dx = Lx / (Nx - 1)\n",
    "        self.dy = Ly / (Ny - 1)\n",
    "        self.D = D\n",
    "        self.dt = dt\n",
    "\n",
    "        self.u = np.zeros((Nx, Ny))\n",
    "\n",
    "    def set_initial_conditions(self, func):\n",
    "        \"\"\"Set initial conditions based on a function.\"\"\"\n",
    "        for i in range(self.Nx):\n",
    "            for j in range(self.Ny):\n",
    "                x, y = i * self.dx, j * self.dy\n",
    "                self.u[i, j] = func(x, y)\n",
    "\n",
    "    def step(self):\n",
    "        \"\"\"Advance one timestep.\"\"\"\n",
    "        u_new = self.u.copy()\n",
    "        for i in range(1, self.Nx - 1):\n",
    "            for j in range(1, self.Ny - 1):\n",
    "                duxx = (self.u[i + 1, j] - 2 * self.u[i, j] + self.u[i - 1, j]) / self.dx**2\n",
    "                duyy = (self.u[i, j + 1] - 2 * self.u[i, j] + self.u[i, j - 1]) / self.dy**2\n",
    "                u_new[i, j] = self.u[i, j] + self.D * self.dt * (duxx + duyy)\n",
    "        self.u = u_new\n",
    "\n",
    "    def run(self, num_steps):\n",
    "        \"\"\"Run the simulation for a specified number of steps.\"\"\"\n",
    "        for _ in range(num_steps):\n",
    "            self.step()\n",
    "\n",
    "    def plot(self, filename=None):\n",
    "        \"\"\"Visualize the current state.\"\"\"\n",
    "        plt.imshow(self.u, extent=[0, self.Lx, 0, self.Ly], origin='lower')\n",
    "        plt.colorbar()\n",
    "        # plt.title(\"2D Diffusion\")\n",
    "        if filename:\n",
    "            plt.savefig(filename, dpi=300)\n",
    "        plt.show()"
   ]
  },
  {
   "cell_type": "code",
   "execution_count": 11,
   "id": "13af0d98-0b0f-4325-948d-0f7d81274010",
   "metadata": {},
   "outputs": [
    {
     "data": {
      "image/png": "[encoded data removed]",
      "text/plain": [
       "<Figure size 640x480 with 2 Axes>"
      ]
     },
     "metadata": {},
     "output_type": "display_data"
    },
    {
     "data": {
      "image/png": "[encoded data removed]",
      "text/plain": [
       "<Figure size 640x480 with 2 Axes>"
      ]
     },
     "metadata": {},
     "output_type": "display_data"
    }
   ],
   "source": [
    "length = 10\n",
    "bins = 100\n",
    "total_time = 1000\n",
    "\n",
    "# Create diffusion instance\n",
    "diffusion = Diffusion2D(\n",
    "    Lx=length, \n",
    "    Ly=length,\n",
    "    Nx=bins, \n",
    "    Ny=bins, \n",
    ")\n",
    "\n",
    "# Define initial condition as a function\n",
    "def initial_condition(x, y):\n",
    "    if (length*0.6 < x < length*0.8) and (length*0.6 < y < length*0.8):\n",
    "        return 2\n",
    "    elif (length*0.2 < x < length*0.4) and (length*0.2 < y < length*0.4):\n",
    "        return 2\n",
    "    elif (length*0.2 < x < length*0.4) and (length*0.6 < y < length*0.8):\n",
    "        return 0\n",
    "    elif (length*0.6 < x < length*0.8) and (length*0.2 < y < length*0.4):\n",
    "        return 0\n",
    "    else:\n",
    "        return 1\n",
    "\n",
    "diffusion.set_initial_conditions(initial_condition)\n",
    "diffusion.plot(filename=f'out/pde_t0')  # plot initial condition\n",
    "\n",
    "# Run simulation and plot\n",
    "diffusion.run(total_time)\n",
    "diffusion.plot(filename=f'out/pde_t{total_time}')"
   ]
  },
  {
   "cell_type": "code",
   "execution_count": null,
   "id": "396c87a4-4ba3-4107-acf5-aabb3360222d",
   "metadata": {},
   "outputs": [],
   "source": []
  }
 ],
 "metadata": {
  "kernelspec": {
   "display_name": "Python 3 (ipykernel)",
   "language": "python",
   "name": "python3"
  },
  "language_info": {
   "codemirror_mode": {
    "name": "ipython",
    "version": 3
   },
   "file_extension": ".py",
   "mimetype": "text/x-python",
   "name": "python",
   "nbconvert_exporter": "python",
   "pygments_lexer": "ipython3",
   "version": "3.9.6"
  }
 },
 "nbformat": 4,
 "nbformat_minor": 5
}
