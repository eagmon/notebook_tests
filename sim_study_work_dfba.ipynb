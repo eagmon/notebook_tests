{
 "cells": [
  {
   "cell_type": "markdown",
   "id": "2001dd12-ea50-4aa8-b4ef-78905dd41029",
   "metadata": {},
   "source": [
    "# Dynamic Flux Balance Analysis (dFBA)"
   ]
  },
  {
   "cell_type": "code",
   "execution_count": null,
   "id": "fff0be99-6d54-4341-a75f-0f2af38f6e97",
   "metadata": {},
   "outputs": [],
   "source": [
    "# !pip install cobra"
   ]
  },
  {
   "cell_type": "code",
   "execution_count": 35,
   "id": "61e50b0d-9b17-43f1-b183-cd26e448b1b9",
   "metadata": {},
   "outputs": [],
   "source": [
    "import cobra\n",
    "from cobra.io import load_model\n",
    "\n",
    "ecoli = load_model(\"textbook\")\n",
    "ecoli.reactions.EX_o2_e.lower_bound = -2"
   ]
  },
  {
   "cell_type": "code",
   "execution_count": 36,
   "id": "7143976f-efd1-4b14-a33b-d43439c887a4",
   "metadata": {},
   "outputs": [
    {
     "data": {
      "text/html": [
       "\n",
       "        <table>\n",
       "            <tr>\n",
       "                <td><strong>Name</strong></td>\n",
       "                <td>e_coli_core</td>\n",
       "            </tr><tr>\n",
       "                <td><strong>Memory address</strong></td>\n",
       "                <td>176f10f70</td>\n",
       "            </tr><tr>\n",
       "                <td><strong>Number of metabolites</strong></td>\n",
       "                <td>72</td>\n",
       "            </tr><tr>\n",
       "                <td><strong>Number of reactions</strong></td>\n",
       "                <td>95</td>\n",
       "            </tr><tr>\n",
       "                <td><strong>Number of genes</strong></td>\n",
       "                <td>137</td>\n",
       "            </tr><tr>\n",
       "                <td><strong>Number of groups</strong></td>\n",
       "                <td>0</td>\n",
       "            </tr><tr>\n",
       "                <td><strong>Objective expression</strong></td>\n",
       "                <td>1.0*Biomass_Ecoli_core - 1.0*Biomass_Ecoli_core_reverse_2cdba</td>\n",
       "            </tr><tr>\n",
       "                <td><strong>Compartments</strong></td>\n",
       "                <td>cytosol, extracellular</td>\n",
       "            </tr>\n",
       "          </table>"
      ],
      "text/plain": [
       "<Model e_coli_core at 0x176f10f70>"
      ]
     },
     "execution_count": 36,
     "metadata": {},
     "output_type": "execute_result"
    }
   ],
   "source": [
    "ecoli"
   ]
  },
  {
   "cell_type": "markdown",
   "id": "4cbec536-ebe6-417a-b181-e85ae9d16328",
   "metadata": {},
   "source": [
    "## michaelis-menten kinetics\n",
    "\n",
    "$\n",
    "v = \\frac{v_{max} \\cdot [S]}{K_m + [S]}\n",
    "$"
   ]
  },
  {
   "cell_type": "code",
   "execution_count": 37,
   "id": "2885b143-8cd3-447f-b97b-b727cb8ccd0d",
   "metadata": {},
   "outputs": [
    {
     "data": {
      "text/plain": [
       "{'biomass': 0.10375190928516904,\n",
       " 'glucose': 19.804878048780488,\n",
       " 'acetate': 0.3224987405359767}"
      ]
     },
     "execution_count": 37,
     "metadata": {},
     "output_type": "execute_result"
    }
   ],
   "source": [
    "# define the function\n",
    "def perform_dfba(\n",
    "    model, \n",
    "    initial_conditions, \n",
    "    kinetic_params, \n",
    "    reaction_names,\n",
    "    biomass_name_map,\n",
    "    dt,\n",
    "):\n",
    "    updated_state = initial_conditions.copy()\n",
    "\n",
    "    for substrate_id, reaction_id in reaction_names.items():\n",
    "        Km, Vmax = kinetic_params[substrate_id]\n",
    "        substrate_concentration = initial_conditions[substrate_id]\n",
    "        \n",
    "        # calculate michaelis-menten flux\n",
    "        flux = Vmax * substrate_concentration / (Km + substrate_concentration)\n",
    "\n",
    "        # use the flux to constrain fba\n",
    "        model.reactions.get_by_id(reaction_id).lower_bound = -flux\n",
    "\n",
    "    # solve fba under these constraints\n",
    "    solution = model.optimize()\n",
    "\n",
    "    # gather the results\n",
    "    ## update biomass\n",
    "    biomass_growth_rate = solution.fluxes[biomass_name_map[1]]\n",
    "    current_biomass = updated_state[biomass_name_map[0]]\n",
    "    updated_state[biomass_name_map[0]] += biomass_growth_rate * current_biomass * dt\n",
    "\n",
    "    ## update substrates\n",
    "    for substrate_id, reaction_id in reaction_names.items():\n",
    "        flux = solution.fluxes[reaction_id]\n",
    "        current_substrate_conc = updated_state[substrate_id]\n",
    "        updated_state[substrate_id] += flux * current_biomass * dt\n",
    "\n",
    "    return updated_state\n",
    "\n",
    "\n",
    "\n",
    "# example\n",
    "conditions1 = {\n",
    "    'biomass': 0.1,  # initial biomass concentration\n",
    "    'glucose': 20.0, # initial glucose concentrations\n",
    "    'acetate': 0.0,  # initial acetate concentrations\n",
    "}\n",
    "kinetics1 = {\n",
    "    'glucose': (0.5, 2),  # km and vmax for glucose\n",
    "    'acetate': (0.5, 2),  # km and vmax for acetate\n",
    "}\n",
    "rxn_name_map = {\n",
    "    'glucose': 'EX_glc__D_e',\n",
    "    'acetate': 'EX_ac_e'\n",
    "}\n",
    "biomass_name_map = ('biomass', 'Biomass_Ecoli_core')\n",
    "\n",
    "time_interval = 1\n",
    "\n",
    "# call the dfba function and get results\n",
    "dfba_results = perform_dfba(\n",
    "    model=ecoli, \n",
    "    initial_conditions=conditions1, \n",
    "    kinetic_params=kinetics1,\n",
    "    reaction_names=rxn_name_map,\n",
    "    biomass_name_map=biomass_name_map,\n",
    "    dt=time_interval\n",
    ")\n",
    "dfba_results"
   ]
  },
  {
   "cell_type": "code",
   "execution_count": null,
   "id": "ba350d69-ed7e-417a-9ac3-30c83db3b23d",
   "metadata": {},
   "outputs": [],
   "source": []
  }
 ],
 "metadata": {
  "kernelspec": {
   "display_name": "Python (venv)",
   "language": "python",
   "name": "venv_kernel"
  },
  "language_info": {
   "codemirror_mode": {
    "name": "ipython",
    "version": 3
   },
   "file_extension": ".py",
   "mimetype": "text/x-python",
   "name": "python",
   "nbconvert_exporter": "python",
   "pygments_lexer": "ipython3",
   "version": "3.9.6"
  }
 },
 "nbformat": 4,
 "nbformat_minor": 5
}
