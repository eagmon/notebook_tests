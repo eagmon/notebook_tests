{
 "cells": [
  {
   "cell_type": "markdown",
   "id": "2f5e57d2-9580-442a-9df3-f48de54359e6",
   "metadata": {},
   "source": [
    "# Introduction to Michaelis-Menten Kinetics\n",
    "\n",
    "The Michaelis-Menten equation is a fundamental model in enzymology that describes how the rate of an enzyme-catalyzed reaction depends on the substrate concentration \\([S]\\) under steady-state conditions. The equation can be expressed as:\n",
    "\n",
    "$\n",
    "v = \\frac{k_{cat} \\cdot [E] \\cdot [S]}{K_m + [S]}\n",
    "$\n",
    "\n",
    "where:\n",
    "- $v$ is the reaction rate.\n",
    "- $k_{cat}$ is the turnover number, which represents the maximum number of substrate molecules converted to product per enzyme molecule per unit time.\n",
    "- $[E]$ is the total enzyme concentration.\n",
    "- $K_m$ is the Michaelis constant, indicative of the substrate concentration at which the reaction rate is half of its maximum value.\n",
    "- $[S]$ is the substrate concentration.\n",
    "\n",
    "In this model, $k_{cat} \\cdot [E]$ is equivalent to $V_{max}$, the maximum rate of the reaction when the enzyme is saturated with substrate. The Michaelis-Menten equation thus provides insight into the dynamics of enzyme-catalyzed reactions, including how changes in enzyme or substrate concentration can affect the reaction rate.\n"
   ]
  },
  {
   "cell_type": "code",
   "execution_count": 1,
   "id": "a53bf020-c8fc-427c-a875-b76fbba986dd",
   "metadata": {},
   "outputs": [
    {
     "data": {
      "application/vnd.jupyter.widget-view+json": {
       "model_id": "9b3d25bacbc043c58fabccd3c2cc779c",
       "version_major": 2,
       "version_minor": 0
      },
      "text/plain": [
       "interactive(children=(FloatSlider(value=0.5, description='Km', max=10.0, min=0.1), FloatSlider(value=1.5, desc…"
      ]
     },
     "metadata": {},
     "output_type": "display_data"
    },
    {
     "data": {
      "text/plain": [
       "<function __main__.plot_michaelis_menten(Km=0.5, Kcat=1.5, E0=1.0)>"
      ]
     },
     "execution_count": 1,
     "metadata": {},
     "output_type": "execute_result"
    }
   ],
   "source": [
    "import numpy as np\n",
    "import matplotlib.pyplot as plt\n",
    "from ipywidgets import interact, FloatSlider\n",
    "\n",
    "def michaelis_menten(S, Km, Kcat, E0):\n",
    "    \"\"\"\n",
    "    Calculate reaction rate v based on substrate concentration [S], Michaelis constant Km,\n",
    "    turnover number Kcat, and initial enzyme concentration E0.\n",
    "    \"\"\"\n",
    "    Vmax = Kcat * E0\n",
    "    v = (Vmax * S) / (Km + S)\n",
    "    return v\n",
    "\n",
    "def plot_michaelis_menten(Km=0.5, Kcat=1.5, E0=1.0):\n",
    "    \"\"\"\n",
    "    Plot the Michaelis-Menten curve for a range of substrate concentrations.\n",
    "    \"\"\"\n",
    "    S = np.linspace(0, 10, 100)  # Substrate concentration range\n",
    "    v = michaelis_menten(S, Km, Kcat, E0)\n",
    "    \n",
    "    plt.figure(figsize=(8, 6))\n",
    "    plt.plot(S, v, label=f'Km={Km}, Kcat={Kcat}, E0={E0}')\n",
    "    plt.xlabel('Substrate concentration [S]')\n",
    "    plt.ylabel('Reaction rate v')\n",
    "    plt.title('Michaelis-Menten Kinetics')\n",
    "    plt.legend()\n",
    "    plt.grid(True)\n",
    "    plt.show()\n",
    "\n",
    "# Create interactive widgets\n",
    "interact(plot_michaelis_menten,\n",
    "         Km=FloatSlider(value=0.5, min=0.1, max=10, step=0.1, description='Km'),\n",
    "         Kcat=FloatSlider(value=1.5, min=0.1, max=10, step=0.1, description='Kcat'),\n",
    "         E0=FloatSlider(value=1.0, min=0.1, max=10, step=0.1, description='E0'))"
   ]
  },
  {
   "cell_type": "markdown",
   "id": "fbccbc05-f3f1-4cc0-924c-c714f769515d",
   "metadata": {},
   "source": [
    "# Simplified Dynamic Modeling of Enzyme Kinetics with Michaelis-Menten Equation\n",
    "\n",
    "In a simplified approach to enzyme kinetics, we can model the change in substrate concentration over time using the Michaelis-Menten equation under the assumption of steady-state conditions for the enzyme-substrate complex. This model allows us to understand how the substrate concentration decreases as it is converted into product over time.\n",
    "\n",
    "The rate of substrate conversion can be described by the equation:\n",
    "\n",
    "$$\n",
    "\\frac{d[S]}{dt} = -\\frac{V_{max} \\cdot [S]}{K_m + [S]}\n",
    "$$\n",
    "\n",
    "where:\n",
    "- $[S]$ is the substrate concentration,\n",
    "- $V_{max}$ is the maximum rate of the reaction,\n",
    "- $K_m$ is the Michaelis constant, representing the substrate concentration at which the reaction rate is half of $V_{max}$.\n",
    "\n",
    "This differential equation models the rate of change of substrate concentration with respect to time, providing insights into the kinetics of the reaction under various conditions.\n"
   ]
  },
  {
   "cell_type": "code",
   "execution_count": 2,
   "id": "b782923f-ddfb-4a56-b016-8a1390837bcd",
   "metadata": {},
   "outputs": [
    {
     "data": {
      "application/vnd.jupyter.widget-view+json": {
       "model_id": "72599e30335a4d64a7f50d9ea9b52141",
       "version_major": 2,
       "version_minor": 0
      },
      "text/plain": [
       "interactive(children=(FloatSlider(value=1.0, description='kcat', max=10.0, min=0.1), FloatSlider(value=0.1, de…"
      ]
     },
     "metadata": {},
     "output_type": "display_data"
    },
    {
     "data": {
      "text/plain": [
       "<function __main__.plot_michaelis_menten_dynamics(kcat=1.0, E0=0.1, Km=0.5, S0=1.0)>"
      ]
     },
     "execution_count": 2,
     "metadata": {},
     "output_type": "execute_result"
    }
   ],
   "source": [
    "import numpy as np\n",
    "from scipy.integrate import solve_ivp\n",
    "import matplotlib.pyplot as plt\n",
    "from ipywidgets import interact, FloatSlider\n",
    "\n",
    "def michaelis_menten_ode(t, S, kcat, E0, Km):\n",
    "    \"\"\"\n",
    "    ODE for substrate concentration [S] over time using Michaelis-Menten kinetics\n",
    "    with parameters kcat, E0 (initial enzyme concentration), and Km.\n",
    "    \"\"\"\n",
    "    Vmax = kcat * E0  # Calculate Vmax from kcat and E0\n",
    "    return -Vmax * S / (Km + S)\n",
    "\n",
    "def plot_michaelis_menten_dynamics(kcat=1.0, E0=0.1, Km=0.5, S0=1.0):\n",
    "    \"\"\"\n",
    "    Solve the ODE and plot substrate concentration over time for given\n",
    "    kcat, E0 (initial enzyme concentration), Km, and S0 (initial substrate concentration).\n",
    "    \"\"\"\n",
    "    t_span = (0, 50)  # Time span for the simulation\n",
    "    t_eval = np.linspace(*t_span, 100)  # Time points at which to solve\n",
    "    \n",
    "    # Solve the ODE\n",
    "    sol = solve_ivp(michaelis_menten_ode, t_span, [S0], args=(kcat, E0, Km), t_eval=t_eval)\n",
    "    \n",
    "    # Plotting\n",
    "    plt.figure(figsize=(8, 6))\n",
    "    label = f'kcat={kcat:.2f}, E0={E0:.2f}, Km={Km:.2f}, S0={S0:.2f}'\n",
    "    plt.plot(sol.t, sol.y[0], label=label)\n",
    "    plt.xlabel('Time')\n",
    "    plt.ylabel('Substrate concentration [S]')\n",
    "    plt.title('Substrate Concentration Over Time')\n",
    "    plt.legend(title='Parameters', ncol=2, loc='upper right')\n",
    "    plt.grid(True)\n",
    "    plt.show()\n",
    "\n",
    "# Interactive widget\n",
    "interact(plot_michaelis_menten_dynamics,\n",
    "         kcat=FloatSlider(value=1.0, min=0.1, max=10.0, step=0.1, description='kcat'),\n",
    "         E0=FloatSlider(value=0.1, min=0.01, max=1.0, step=0.01, description='E0'),\n",
    "         Km=FloatSlider(value=0.5, min=0.1, max=10.0, step=0.1, description='Km'),\n",
    "         S0=FloatSlider(value=1.0, min=0.1, max=10.0, step=0.1, description='S0'))\n"
   ]
  },
  {
   "cell_type": "code",
   "execution_count": null,
   "id": "2f372682-ab78-45dc-87fa-88d4df96196c",
   "metadata": {},
   "outputs": [],
   "source": []
  }
 ],
 "metadata": {
  "kernelspec": {
   "display_name": "local venv",
   "language": "python",
   "name": "venv"
  },
  "language_info": {
   "codemirror_mode": {
    "name": "ipython",
    "version": 3
   },
   "file_extension": ".py",
   "mimetype": "text/x-python",
   "name": "python",
   "nbconvert_exporter": "python",
   "pygments_lexer": "ipython3",
   "version": "3.9.6"
  }
 },
 "nbformat": 4,
 "nbformat_minor": 5
}
