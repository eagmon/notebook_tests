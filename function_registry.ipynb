{
 "cells": [
  {
   "cell_type": "code",
   "execution_count": null,
   "id": "074edb48-a4ec-4ab6-b945-ccfbaa38e11d",
   "metadata": {},
   "outputs": [],
   "source": []
  },
  {
   "cell_type": "markdown",
   "id": "57f7668b-2772-4696-8c4c-534e68108704",
   "metadata": {},
   "source": [
    "## Step 1: Create a Registry\n",
    "First, we need a registry to hold references to our init functions and update functions."
   ]
  },
  {
   "cell_type": "code",
   "execution_count": 1,
   "id": "4e265331-116d-43cb-aea5-9d0ca2943a4a",
   "metadata": {},
   "outputs": [],
   "source": [
    "class FunctionRegistry:\n",
    "    def __init__(self):\n",
    "        self.init_functions = {}\n",
    "        self.update_functions = {}\n",
    "\n",
    "    def register_init(self, name):\n",
    "        def decorator(func):\n",
    "            self.init_functions[name] = func\n",
    "            return func\n",
    "        return decorator\n",
    "\n",
    "    def register_update_function(self, name):\n",
    "        def decorator(func):\n",
    "            self.update_functions[name] = func\n",
    "            return func\n",
    "        return decorator\n",
    "\n",
    "    def get_init(self, name):\n",
    "        return self.init_functions.get(name, None)\n",
    "\n",
    "    def get_update_function(self, name):\n",
    "        return self.update_functions.get(name, None)"
   ]
  },
  {
   "cell_type": "markdown",
   "id": "1d64f751-46f9-4762-9672-c814b0d3ca29",
   "metadata": {},
   "source": [
    "## Step 2: Define the Object Class\n",
    "Now we'll define a class that uses the registered init and update_function to create and modify object instances."
   ]
  },
  {
   "cell_type": "code",
   "execution_count": 2,
   "id": "10d87ae6-eb01-4ea8-8f11-09340dc5998d",
   "metadata": {},
   "outputs": [],
   "source": [
    "class CustomObject:\n",
    "    def __init__(self, registry, init_name, **kwargs):\n",
    "        init_func = registry.get_init(init_name)\n",
    "        if init_func:\n",
    "            init_func(self, **kwargs)\n",
    "        else:\n",
    "            raise ValueError(f\"No init function registered under name '{init_name}'\")\n",
    "\n",
    "    def apply_update(self, registry, update_name, **kwargs):\n",
    "        update_func = registry.get_update_function(update_name)\n",
    "        if update_func:\n",
    "            update_func(self, **kwargs)\n",
    "        else:\n",
    "            raise ValueError(f\"No update function registered under name '{update_name}'\")"
   ]
  },
  {
   "cell_type": "markdown",
   "id": "ed4698c7-135d-45f2-a73a-8ec216ef471f",
   "metadata": {},
   "source": [
    "## Step 3: Using Decorators to Register Functions\n",
    "Next, we'll use decorators to register some init and update functions."
   ]
  },
  {
   "cell_type": "code",
   "execution_count": 3,
   "id": "73e48fe0-35e5-4ac1-a661-a24e6bc44517",
   "metadata": {},
   "outputs": [],
   "source": [
    "registry = FunctionRegistry()\n",
    "\n",
    "@registry.register_init('basic_init')\n",
    "def basic_init(obj, x, y):\n",
    "    obj.config['x'] = x\n",
    "    obj.config['y'] = y\n",
    "\n",
    "@registry.register_update_function('increment_x'')\n",
    "def increment_x(obj, value):\n",
    "    return obj.config['x'] + value\n",
    "    # TODO -- this should return value, rather than updating obj\n",
    "\n",
    "@registry.register_update_function('multiply_y')\n",
    "def multiply_y(obj, factor):\n",
    "    obj.y *= factor"
   ]
  },
  {
   "cell_type": "markdown",
   "id": "ec99be4e-0751-46d8-8457-549c5f1f4884",
   "metadata": {},
   "source": [
    "## Step 4: Creating and Modifying Objects\n",
    "Finally, let's create an object and modify it using the registered functions."
   ]
  },
  {
   "cell_type": "code",
   "execution_count": 4,
   "id": "8bcab9c8-d935-4f70-8d87-7400bf4afc61",
   "metadata": {},
   "outputs": [
    {
     "name": "stdout",
     "output_type": "stream",
     "text": [
      "x: 15, y: 40\n"
     ]
    }
   ],
   "source": [
    "# Creating an object with 'basic_init'\n",
    "obj = CustomObject(registry, 'basic_init', x=10, y=20)\n",
    "\n",
    "# Applying updates\n",
    "obj.apply_update(registry, 'increment_x', value=5)\n",
    "obj.apply_update(registry, 'multiply_y', factor=2)\n",
    "\n",
    "print(f\"x: {obj.x}, y: {obj.y}\")"
   ]
  },
  {
   "cell_type": "code",
   "execution_count": null,
   "id": "b83f2590-7b9a-4fb3-aa0b-ecec623f5e7b",
   "metadata": {},
   "outputs": [],
   "source": []
  }
 ],
 "metadata": {
  "kernelspec": {
   "display_name": "Python (venv)",
   "language": "python",
   "name": "venv_kernel"
  },
  "language_info": {
   "codemirror_mode": {
    "name": "ipython",
    "version": 3
   },
   "file_extension": ".py",
   "mimetype": "text/x-python",
   "name": "python",
   "nbconvert_exporter": "python",
   "pygments_lexer": "ipython3",
   "version": "3.9.6"
  }
 },
 "nbformat": 4,
 "nbformat_minor": 5
}
