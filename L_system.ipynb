{
 "cells": [
  {
   "cell_type": "code",
   "execution_count": 1,
   "id": "ecc9b0a9-e319-47fd-a3e5-92aa8f1fac48",
   "metadata": {},
   "outputs": [
    {
     "data": {
      "application/vnd.jupyter.widget-view+json": {
       "model_id": "3b039e8582a0485da9152bc13ecfff06",
       "version_major": 2,
       "version_minor": 0
      },
      "text/plain": [
       "Text(value='F', description='Axiom:')"
      ]
     },
     "metadata": {},
     "output_type": "display_data"
    },
    {
     "data": {
      "application/vnd.jupyter.widget-view+json": {
       "model_id": "808c34235faf4f2697534d4ef1cc54a9",
       "version_major": 2,
       "version_minor": 0
      },
      "text/plain": [
       "Text(value='F->F[+F]F[-F]F', description='Rules:')"
      ]
     },
     "metadata": {},
     "output_type": "display_data"
    },
    {
     "data": {
      "application/vnd.jupyter.widget-view+json": {
       "model_id": "8be50cdcdd604d5180defca4bea3ec61",
       "version_major": 2,
       "version_minor": 0
      },
      "text/plain": [
       "IntSlider(value=4, description='Iterations:', max=10)"
      ]
     },
     "metadata": {},
     "output_type": "display_data"
    },
    {
     "data": {
      "application/vnd.jupyter.widget-view+json": {
       "model_id": "3caf0768eb83456c8c45f84566bc5956",
       "version_major": 2,
       "version_minor": 0
      },
      "text/plain": [
       "FloatSlider(value=25.7, description='Angle:', max=90.0)"
      ]
     },
     "metadata": {},
     "output_type": "display_data"
    },
    {
     "data": {
      "application/vnd.jupyter.widget-view+json": {
       "model_id": "0db4385655ae428b8fe9be05edc9e3a8",
       "version_major": 2,
       "version_minor": 0
      },
      "text/plain": [
       "FloatSlider(value=5.0, description='Length:', max=20.0, min=1.0, step=1.0)"
      ]
     },
     "metadata": {},
     "output_type": "display_data"
    },
    {
     "data": {
      "application/vnd.jupyter.widget-view+json": {
       "model_id": "e94eececacbe4c47a55f56373b91e76a",
       "version_major": 2,
       "version_minor": 0
      },
      "text/plain": [
       "Output()"
      ]
     },
     "metadata": {},
     "output_type": "display_data"
    }
   ],
   "source": [
    "import matplotlib.pyplot as plt\n",
    "import numpy as np\n",
    "import ipywidgets as widgets\n",
    "from IPython.display import display\n",
    "\n",
    "def generate_lsystem(axiom, rules, iterations):\n",
    "    \"\"\"Generates the L-System string after applying the rules for a given number of iterations.\"\"\"\n",
    "    current_string = axiom\n",
    "    for _ in range(iterations):\n",
    "        next_string = \"\".join(rules.get(char, char) for char in current_string)\n",
    "        current_string = next_string\n",
    "    return current_string\n",
    "\n",
    "def draw_lsystem(instructions, angle, length):\n",
    "    \"\"\"Draws the L-System using matplotlib.\"\"\"\n",
    "    stack = []\n",
    "    x, y = 0, 0\n",
    "    current_angle = 90\n",
    "    points = [(x, y)]\n",
    "    \n",
    "    for command in instructions:\n",
    "        if command == \"F\":\n",
    "            rad = np.deg2rad(current_angle)\n",
    "            x += length * np.cos(rad)\n",
    "            y += length * np.sin(rad)\n",
    "            points.append((x, y))\n",
    "        elif command == \"+\":\n",
    "            current_angle += angle\n",
    "        elif command == \"-\":\n",
    "            current_angle -= angle\n",
    "        elif command == \"[\":\n",
    "            stack.append((x, y, current_angle))\n",
    "        elif command == \"]\":\n",
    "            x, y, current_angle = stack.pop()\n",
    "            points.append((x, y))\n",
    "    \n",
    "    points = np.array(points)\n",
    "    plt.plot(points[:, 0], points[:, 1])\n",
    "\n",
    "def plot_lsystem(axiom, rules, iterations, angle, length):\n",
    "    \"\"\"Generates and plots the L-System based on the given parameters.\"\"\"\n",
    "    lsystem_string = generate_lsystem(axiom, rules, iterations)\n",
    "    plt.figure(figsize=(10, 10))\n",
    "    draw_lsystem(lsystem_string, angle, length)\n",
    "    plt.axis('equal')\n",
    "    plt.show()\n",
    "\n",
    "# Define widgets\n",
    "axiom_widget = widgets.Text(value='F', description='Axiom:')\n",
    "rules_widget = widgets.Text(value='F->F[+F]F[-F]F', description='Rules:')\n",
    "iterations_widget = widgets.IntSlider(value=4, min=0, max=10, step=1, description='Iterations:')\n",
    "angle_widget = widgets.FloatSlider(value=25.7, min=0, max=90, step=0.1, description='Angle:')\n",
    "length_widget = widgets.FloatSlider(value=5, min=1, max=20, step=1, description='Length:')\n",
    "\n",
    "def update_plot(axiom, rules, iterations, angle, length):\n",
    "    rules_dict = dict(rule.split('->') for rule in rules.split(';'))\n",
    "    plot_lsystem(axiom, rules_dict, iterations, angle, length)\n",
    "\n",
    "# Create interactive output\n",
    "out = widgets.interactive_output(update_plot, {\n",
    "    'axiom': axiom_widget,\n",
    "    'rules': rules_widget,\n",
    "    'iterations': iterations_widget,\n",
    "    'angle': angle_widget,\n",
    "    'length': length_widget\n",
    "})\n",
    "\n",
    "# Display widgets\n",
    "display(axiom_widget, rules_widget, iterations_widget, angle_widget, length_widget, out)\n"
   ]
  },
  {
   "cell_type": "code",
   "execution_count": null,
   "id": "41907bb3-4f4b-4ebd-a789-c3d62579f954",
   "metadata": {},
   "outputs": [],
   "source": []
  },
  {
   "cell_type": "code",
   "execution_count": null,
   "id": "350a6a51-7def-43cb-a92f-96ae30911cfc",
   "metadata": {},
   "outputs": [],
   "source": []
  },
  {
   "cell_type": "code",
   "execution_count": null,
   "id": "268cd014-250b-4ae5-929d-4810e3bab1a0",
   "metadata": {},
   "outputs": [],
   "source": []
  }
 ],
 "metadata": {
  "kernelspec": {
   "display_name": "Python 3 (ipykernel)",
   "language": "python",
   "name": "python3"
  },
  "language_info": {
   "codemirror_mode": {
    "name": "ipython",
    "version": 3
   },
   "file_extension": ".py",
   "mimetype": "text/x-python",
   "name": "python",
   "nbconvert_exporter": "python",
   "pygments_lexer": "ipython3",
   "version": "3.9.6"
  }
 },
 "nbformat": 4,
 "nbformat_minor": 5
}
