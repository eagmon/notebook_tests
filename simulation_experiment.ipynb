{
 "cells": [
  {
   "cell_type": "markdown",
   "id": "782296cb-de43-407c-bd2d-580e5fe18e35",
   "metadata": {},
   "source": [
    "# simulation experiment\n",
    "The composition schema was developed for integrative simulations, but can also be used for workflows such as simulation experiments."
   ]
  },
  {
   "cell_type": "code",
   "execution_count": 15,
   "id": "d362e0aa-7f2a-4c61-ab07-4f0387588bed",
   "metadata": {
    "tags": []
   },
   "outputs": [],
   "source": [
    "import inspect\n",
    "from bigraph_viz import plot_bigraph, plot_flow\n",
    "from typing import Any\n",
    "\n",
    "plot_settings = {\n",
    "    'remove_process_place_edges': True,\n",
    "}\n",
    "save_images = False\n",
    "if save_images:\n",
    "    plot_settings.update({\n",
    "        'out_dir': 'out',\n",
    "        'dpi': '250'\n",
    "    })"
   ]
  },
  {
   "cell_type": "markdown",
   "id": "2d03c0bd-a9dc-4d99-b15b-ddfa63a54232",
   "metadata": {},
   "source": [
    "## inspect function signature"
   ]
  },
  {
   "cell_type": "code",
   "execution_count": 12,
   "id": "7ab87d6c-e8db-4ab9-9eeb-21b2f850bf46",
   "metadata": {
    "tags": []
   },
   "outputs": [
    {
     "name": "stdout",
     "output_type": "stream",
     "text": [
      "15\n"
     ]
    }
   ],
   "source": [
    "def original_function(a, b, c):\n",
    "    return a + b + c\n",
    "\n",
    "def extended_function(a, b, c, d=0, e=0):\n",
    "    return original_function(a, b, c) + d + e\n",
    "\n",
    "result = extended_function(1, 2, 3, d=4, e=5)\n",
    "print(result)  # Output: 15"
   ]
  },
  {
   "cell_type": "code",
   "execution_count": 13,
   "id": "0ede1851-9a3e-4f09-9f8e-52a4b9f08fe2",
   "metadata": {
    "tags": []
   },
   "outputs": [
    {
     "name": "stdout",
     "output_type": "stream",
     "text": [
      "(a, b, c=0)\n"
     ]
    }
   ],
   "source": [
    "def some_function(a, b, c=0):\n",
    "    pass\n",
    "\n",
    "signature = inspect.signature(some_function)\n",
    "print(signature)  # Output: (a, b, c=0)\n"
   ]
  },
  {
   "cell_type": "code",
   "execution_count": 14,
   "id": "0796452c-4e8b-42e6-9406-3639085572cf",
   "metadata": {
    "tags": []
   },
   "outputs": [
    {
     "name": "stdout",
     "output_type": "stream",
     "text": [
      "Found function with matching signature: func_a\n",
      "Found function with matching signature: func_c\n"
     ]
    }
   ],
   "source": [
    "def func_a(a, b, c=0):\n",
    "    pass\n",
    "\n",
    "def func_b(x, y, z=0):\n",
    "    pass\n",
    "\n",
    "def func_c(a, b, c=0):\n",
    "    pass\n",
    "\n",
    "functions = [func_a, func_b, func_c]\n",
    "target_signature = inspect.signature(func_a)\n",
    "\n",
    "for func in functions:\n",
    "    if inspect.signature(func) == target_signature:\n",
    "        print(f\"Found function with matching signature: {func.__name__}\")"
   ]
  },
  {
   "cell_type": "markdown",
   "id": "feaa2b69-31f4-426e-882e-cdf2362dde76",
   "metadata": {},
   "source": [
    "## add typing"
   ]
  },
  {
   "cell_type": "code",
   "execution_count": 16,
   "id": "bb7a295f-6806-43df-97ef-a4794b292f9c",
   "metadata": {
    "tags": []
   },
   "outputs": [
    {
     "name": "stdout",
     "output_type": "stream",
     "text": [
      "15\n"
     ]
    }
   ],
   "source": [
    "def original_function(a: int, b: int, c: int) -> int:\n",
    "    return a + b + c\n",
    "\n",
    "def extended_function(a: int, b: int, c: int, d: int = 0, e: int = 0) -> int:\n",
    "    return original_function(a, b, c) + d + e\n",
    "\n",
    "result = extended_function(1, 2, 3, d=4, e=5)\n",
    "print(result)  # Output: 15"
   ]
  },
  {
   "cell_type": "code",
   "execution_count": 17,
   "id": "cfbe9f04-9260-4c8a-a89e-d0eb1ed2c8cb",
   "metadata": {
    "tags": []
   },
   "outputs": [
    {
     "name": "stdout",
     "output_type": "stream",
     "text": [
      "(a: int, b: int, c: int = 0) -> int\n"
     ]
    }
   ],
   "source": [
    "def some_function(a: int, b: int, c: int = 0) -> int:\n",
    "    pass\n",
    "\n",
    "signature = inspect.signature(some_function)\n",
    "print(signature)  # Output: (a:int, b:int, c:int=0) -> int\n"
   ]
  },
  {
   "cell_type": "code",
   "execution_count": 18,
   "id": "c6cd6ddb-6f3c-4146-87bd-c77ff49c471d",
   "metadata": {
    "tags": []
   },
   "outputs": [
    {
     "name": "stdout",
     "output_type": "stream",
     "text": [
      "Found function with matching signature: func_a\n",
      "Found function with matching signature: func_c\n"
     ]
    }
   ],
   "source": [
    "def func_a(a: int, b: int, c: int = 0) -> int:\n",
    "    pass\n",
    "\n",
    "def func_b(x: int, y: int, z: int = 0) -> int:\n",
    "    pass\n",
    "\n",
    "def func_c(a: int, b: int, c: int = 0) -> int:\n",
    "    pass\n",
    "\n",
    "functions = [func_a, func_b, func_c]\n",
    "target_signature = inspect.signature(func_a)\n",
    "\n",
    "for func in functions:\n",
    "    if inspect.signature(func) == target_signature:\n",
    "        print(f\"Found function with matching signature: {func.__name__}\")\n"
   ]
  },
  {
   "cell_type": "markdown",
   "id": "a77de36a-8fdf-4ed4-8f3c-9efd9582d7f7",
   "metadata": {},
   "source": [
    "## docstring for annotation"
   ]
  },
  {
   "cell_type": "code",
   "execution_count": 19,
   "id": "6faf9bd1-026a-418c-b368-4834fa18ff22",
   "metadata": {
    "tags": []
   },
   "outputs": [
    {
     "name": "stdout",
     "output_type": "stream",
     "text": [
      "\n",
      "    This function takes three integers and returns their sum.\n",
      "    \n"
     ]
    }
   ],
   "source": [
    "def original_function(a: int, b: int, c: int) -> int:\n",
    "    \"\"\"\n",
    "    This function takes three integers and returns their sum.\n",
    "    \"\"\"\n",
    "    return a + b + c\n",
    "\n",
    "def extended_function(a: int, b: int, c: int, d: int = 0, e: int = 0) -> int:\n",
    "    \"\"\"\n",
    "    This function extends original_function by adding two additional integers.\n",
    "    \"\"\"\n",
    "    return original_function(a, b, c) + d + e\n",
    "\n",
    "docstring = original_function.__doc__\n",
    "print(docstring)"
   ]
  },
  {
   "cell_type": "code",
   "execution_count": 22,
   "id": "95f90940-8cea-46f6-9bcd-d005fef28b05",
   "metadata": {
    "tags": []
   },
   "outputs": [
    {
     "name": "stdout",
     "output_type": "stream",
     "text": [
      "Found function with matching signature and docstring: func_a\n",
      "Found function with matching signature and docstring: func_c\n"
     ]
    }
   ],
   "source": [
    "import inspect\n",
    "\n",
    "def match_signature_and_docstring(func1, func2):\n",
    "    return (\n",
    "        inspect.signature(func1) == inspect.signature(func2)\n",
    "        and func1.__doc__ == func2.__doc__\n",
    "    )\n",
    "\n",
    "def func_a(a: int, b: int, c: int = 0) -> int:\n",
    "    \"\"\"\n",
    "    This is func_a\n",
    "    \"\"\"\n",
    "    pass\n",
    "\n",
    "def func_b(x: int, y: int, z: int = 0) -> int:\n",
    "    \"\"\"\n",
    "    This is func_b\n",
    "    \"\"\"\n",
    "    pass\n",
    "\n",
    "def func_c(a: int, b: int, c: int = 0) -> int:\n",
    "    \"\"\"\n",
    "    This is func_a\n",
    "    \"\"\"\n",
    "    pass\n",
    "\n",
    "functions = [func_a, func_b, func_c]\n",
    "target_function = func_a\n",
    "\n",
    "for func in functions:\n",
    "    if match_signature_and_docstring(func, target_function):\n",
    "        print(f\"Found function with matching signature and docstring: {func.__name__}\")\n"
   ]
  },
  {
   "cell_type": "markdown",
   "id": "9ff85ea9-8120-466c-9a15-9dbf6cb8ac4e",
   "metadata": {},
   "source": [
    "## use decorators"
   ]
  },
  {
   "cell_type": "code",
   "execution_count": 23,
   "id": "35d095ae-5bfe-4d28-b06f-85efe9747394",
   "metadata": {
    "tags": []
   },
   "outputs": [
    {
     "name": "stdout",
     "output_type": "stream",
     "text": [
      "This is func_a\n"
     ]
    }
   ],
   "source": [
    "def describe(description):\n",
    "    def decorator(func):\n",
    "        func.description = description\n",
    "        return func\n",
    "    return decorator\n",
    "\n",
    "@describe(\"This is func_a\")\n",
    "def func_a(a: int, b: int, c: int = 0) -> int:\n",
    "    pass\n",
    "\n",
    "@describe(\"This is func_b\")\n",
    "def func_b(x: int, y: int, z: int = 0) -> int:\n",
    "    pass\n",
    "\n",
    "@describe(\"This is func_c\")\n",
    "def func_c(a: int, b: int, c: int = 0) -> int:\n",
    "    pass\n",
    "\n",
    "print(func_a.description)  # Output: This is func_a"
   ]
  },
  {
   "cell_type": "code",
   "execution_count": 24,
   "id": "481f6c7e-ce0f-47a6-a2ae-aeb24349d80d",
   "metadata": {
    "tags": []
   },
   "outputs": [
    {
     "name": "stdout",
     "output_type": "stream",
     "text": [
      "Found function with matching signature and description: func_a\n"
     ]
    }
   ],
   "source": [
    "def match_signature_and_description(func1, func2):\n",
    "    return (\n",
    "        inspect.signature(func1) == inspect.signature(func2)\n",
    "        and getattr(func1, \"description\", None) == getattr(func2, \"description\", None)\n",
    "    )\n",
    "\n",
    "functions = [func_a, func_b, func_c]\n",
    "target_function = func_a\n",
    "\n",
    "for func in functions:\n",
    "    if match_signature_and_description(func, target_function):\n",
    "        print(f\"Found function with matching signature and description: {func.__name__}\")\n"
   ]
  },
  {
   "cell_type": "code",
   "execution_count": null,
   "id": "c9a6458c-f4c5-4b6f-8186-d4406530f677",
   "metadata": {},
   "outputs": [],
   "source": []
  },
  {
   "cell_type": "markdown",
   "id": "776dc08c-a45a-40e0-b421-8a7b1bf011cb",
   "metadata": {},
   "source": [
    "## simulation experiment design with bigraph-schema"
   ]
  },
  {
   "cell_type": "code",
   "execution_count": 6,
   "id": "586e4a8d-d047-462c-9a79-4b8814141ecd",
   "metadata": {
    "tags": []
   },
   "outputs": [
    {
     "data": {
      "image/svg+xml": [
       "<?xml version=\"1.0\" encoding=\"UTF-8\" standalone=\"no\"?>\n",
       "<!DOCTYPE svg PUBLIC \"-//W3C//DTD SVG 1.1//EN\"\n",
       " \"http://www.w3.org/Graphics/SVG/1.1/DTD/svg11.dtd\">\n",
       "<!-- Generated by graphviz version 7.1.0 (20230121.1956)\n",
       " -->\n",
       "<!-- Title: bigraph Pages: 1 -->\n",
       "<svg width=\"272pt\" height=\"445pt\"\n",
       " viewBox=\"0.00 0.00 280.11 457.55\" xmlns=\"http://www.w3.org/2000/svg\" xmlns:xlink=\"http://www.w3.org/1999/xlink\">\n",
       "<g id=\"graph0\" class=\"graph\" transform=\"scale(0.972222 0.972222) rotate(0) translate(4 453.55)\">\n",
       "<title>bigraph</title>\n",
       "<polygon fill=\"white\" stroke=\"none\" points=\"-4,4 -4,-453.55 276.11,-453.55 276.11,4 -4,4\"/>\n",
       "<!-- (&#39;parameters&#39;,) -->\n",
       "<g id=\"node1\" class=\"node\">\n",
       "<title>(&#39;parameters&#39;,)</title>\n",
       "<ellipse fill=\"none\" stroke=\"black\" stroke-width=\"2\" cx=\"226.55\" cy=\"-239\" rx=\"36.87\" ry=\"36.87\"/>\n",
       "<text text-anchor=\"start\" x=\"200.55\" y=\"-235.9\" font-family=\"Times,serif\" font-size=\"12.00\">parameters</text>\n",
       "</g>\n",
       "<!-- (&#39;parameter estimator&#39;,) -->\n",
       "<g id=\"node6\" class=\"node\">\n",
       "<title>(&#39;parameter estimator&#39;,)</title>\n",
       "<polygon fill=\"none\" stroke=\"black\" stroke-width=\"2\" points=\"101,-335 0,-335 0,-299 101,-299 101,-335\"/>\n",
       "<text text-anchor=\"start\" x=\"4\" y=\"-313.9\" font-family=\"Times,serif\" font-size=\"12.00\">parameter estimator</text>\n",
       "</g>\n",
       "<!-- (&#39;parameters&#39;,)&#45;&gt;(&#39;parameter estimator&#39;,) -->\n",
       "<g id=\"edge3\" class=\"edge\">\n",
       "<title>(&#39;parameters&#39;,)&#45;&gt;(&#39;parameter estimator&#39;,)</title>\n",
       "<path fill=\"none\" stroke=\"black\" stroke-dasharray=\"5,2\" d=\"M188.9,-235.91C167.55,-235.59 140.66,-237.79 119,-248 97.48,-258.14 79.07,-278.25 66.94,-294.16\"/>\n",
       "<ellipse fill=\"black\" stroke=\"black\" cx=\"65.49\" cy=\"-296.1\" rx=\"2\" ry=\"2\"/>\n",
       "<text text-anchor=\"start\" x=\"119\" y=\"-251\" font-family=\"Times,serif\" font-size=\"10.00\">parameters</text>\n",
       "</g>\n",
       "<!-- (&#39;sbml simulator&#39;,) -->\n",
       "<g id=\"node7\" class=\"node\">\n",
       "<title>(&#39;sbml simulator&#39;,)</title>\n",
       "<polygon fill=\"none\" stroke=\"black\" stroke-width=\"2\" points=\"89.5,-191 11.5,-191 11.5,-155 89.5,-155 89.5,-191\"/>\n",
       "<text text-anchor=\"start\" x=\"15.5\" y=\"-169.9\" font-family=\"Times,serif\" font-size=\"12.00\">sbml simulator</text>\n",
       "</g>\n",
       "<!-- (&#39;parameters&#39;,)&#45;&gt;(&#39;sbml simulator&#39;,) -->\n",
       "<g id=\"edge4\" class=\"edge\">\n",
       "<title>(&#39;parameters&#39;,)&#45;&gt;(&#39;sbml simulator&#39;,)</title>\n",
       "<path fill=\"none\" stroke=\"black\" stroke-dasharray=\"5,2\" d=\"M192.81,-222.27C183.31,-217.7 172.84,-212.93 163,-209 140.96,-200.2 115.85,-191.95 95.04,-185.57\"/>\n",
       "<ellipse fill=\"black\" stroke=\"black\" cx=\"92.79\" cy=\"-184.88\" rx=\"2\" ry=\"2\"/>\n",
       "<text text-anchor=\"start\" x=\"119\" y=\"-212\" font-family=\"Times,serif\" font-size=\"10.00\">parameters</text>\n",
       "</g>\n",
       "<!-- (&#39;model&#39;,) -->\n",
       "<g id=\"node2\" class=\"node\">\n",
       "<title>(&#39;model&#39;,)</title>\n",
       "<ellipse fill=\"none\" stroke=\"black\" stroke-width=\"2\" cx=\"226.55\" cy=\"-317\" rx=\"23.29\" ry=\"23.29\"/>\n",
       "<text text-anchor=\"start\" x=\"211.55\" y=\"-313.9\" font-family=\"Times,serif\" font-size=\"12.00\">model</text>\n",
       "</g>\n",
       "<!-- (&#39;model&#39;,)&#45;&gt;(&#39;parameter estimator&#39;,) -->\n",
       "<g id=\"edge2\" class=\"edge\">\n",
       "<title>(&#39;model&#39;,)&#45;&gt;(&#39;parameter estimator&#39;,)</title>\n",
       "<path fill=\"none\" stroke=\"black\" stroke-dasharray=\"5,2\" d=\"M202.44,-317C178.11,-317 138.94,-317 106.6,-317\"/>\n",
       "<ellipse fill=\"black\" stroke=\"black\" cx=\"104.38\" cy=\"-317\" rx=\"2\" ry=\"2\"/>\n",
       "<text text-anchor=\"start\" x=\"128\" y=\"-320\" font-family=\"Times,serif\" font-size=\"10.00\">model</text>\n",
       "</g>\n",
       "<!-- (&#39;model&#39;,)&#45;&gt;(&#39;sbml simulator&#39;,) -->\n",
       "<g id=\"edge5\" class=\"edge\">\n",
       "<title>(&#39;model&#39;,)&#45;&gt;(&#39;sbml simulator&#39;,)</title>\n",
       "<path fill=\"none\" stroke=\"black\" stroke-dasharray=\"5,2\" d=\"M203.96,-308.37C181.25,-298.62 145.22,-281.17 119,-259 97.44,-240.77 78.15,-214.69 65.76,-196.04\"/>\n",
       "<ellipse fill=\"black\" stroke=\"black\" cx=\"64.45\" cy=\"-194.03\" rx=\"2\" ry=\"2\"/>\n",
       "<text text-anchor=\"start\" x=\"128\" y=\"-289\" font-family=\"Times,serif\" font-size=\"10.00\">model</text>\n",
       "</g>\n",
       "<!-- (&#39;results&#39;,) -->\n",
       "<g id=\"node3\" class=\"node\">\n",
       "<title>(&#39;results&#39;,)</title>\n",
       "<ellipse fill=\"none\" stroke=\"black\" stroke-width=\"2\" cx=\"226.55\" cy=\"-78\" rx=\"24.02\" ry=\"24.02\"/>\n",
       "<text text-anchor=\"start\" x=\"211.05\" y=\"-74.9\" font-family=\"Times,serif\" font-size=\"12.00\">results</text>\n",
       "</g>\n",
       "<!-- (&#39;results&#39;,)&#45;&gt;(&#39;sbml simulator&#39;,) -->\n",
       "<g id=\"edge7\" class=\"edge\">\n",
       "<title>(&#39;results&#39;,)&#45;&gt;(&#39;sbml simulator&#39;,)</title>\n",
       "<path fill=\"none\" stroke=\"black\" stroke-dasharray=\"5,2\" d=\"M204.56,-89.46C176.32,-104.87 125.58,-132.56 90.3,-151.82\"/>\n",
       "<ellipse fill=\"black\" stroke=\"black\" cx=\"88.27\" cy=\"-152.93\" rx=\"2\" ry=\"2\"/>\n",
       "<text text-anchor=\"start\" x=\"127.5\" y=\"-138\" font-family=\"Times,serif\" font-size=\"10.00\">results</text>\n",
       "</g>\n",
       "<!-- (&#39;analysis&#39;,) -->\n",
       "<g id=\"node8\" class=\"node\">\n",
       "<title>(&#39;analysis&#39;,)</title>\n",
       "<polygon fill=\"none\" stroke=\"black\" stroke-width=\"2\" points=\"77.5,-60 23.5,-60 23.5,-24 77.5,-24 77.5,-60\"/>\n",
       "<text text-anchor=\"start\" x=\"31.5\" y=\"-38.9\" font-family=\"Times,serif\" font-size=\"12.00\">analysis</text>\n",
       "</g>\n",
       "<!-- (&#39;results&#39;,)&#45;&gt;(&#39;analysis&#39;,) -->\n",
       "<g id=\"edge8\" class=\"edge\">\n",
       "<title>(&#39;results&#39;,)&#45;&gt;(&#39;analysis&#39;,)</title>\n",
       "<path fill=\"none\" stroke=\"black\" stroke-dasharray=\"5,2\" d=\"M202.08,-73.14C171.26,-66.77 117.08,-55.56 82.8,-48.47\"/>\n",
       "<ellipse fill=\"black\" stroke=\"black\" cx=\"80.75\" cy=\"-48.05\" rx=\"2\" ry=\"2\"/>\n",
       "<text text-anchor=\"start\" x=\"127.5\" y=\"-68\" font-family=\"Times,serif\" font-size=\"10.00\">results</text>\n",
       "</g>\n",
       "<!-- (&#39;observed data&#39;,) -->\n",
       "<g id=\"node4\" class=\"node\">\n",
       "<title>(&#39;observed data&#39;,)</title>\n",
       "<ellipse fill=\"none\" stroke=\"black\" stroke-width=\"2\" cx=\"226.55\" cy=\"-404\" rx=\"45.61\" ry=\"45.61\"/>\n",
       "<text text-anchor=\"start\" x=\"193.55\" y=\"-400.9\" font-family=\"Times,serif\" font-size=\"12.00\">observed data</text>\n",
       "</g>\n",
       "<!-- (&#39;observed data&#39;,)&#45;&gt;(&#39;parameter estimator&#39;,) -->\n",
       "<g id=\"edge1\" class=\"edge\">\n",
       "<title>(&#39;observed data&#39;,)&#45;&gt;(&#39;parameter estimator&#39;,)</title>\n",
       "<path fill=\"none\" stroke=\"black\" stroke-dasharray=\"5,2\" d=\"M184.75,-383.6C157.37,-369.92 121.41,-351.94 93.74,-338.11\"/>\n",
       "<ellipse fill=\"black\" stroke=\"black\" cx=\"91.61\" cy=\"-337.05\" rx=\"2\" ry=\"2\"/>\n",
       "<text text-anchor=\"start\" x=\"120\" y=\"-373\" font-family=\"Times,serif\" font-size=\"10.00\">input data</text>\n",
       "</g>\n",
       "<!-- (&#39;total time&#39;,) -->\n",
       "<g id=\"node5\" class=\"node\">\n",
       "<title>(&#39;total time&#39;,)</title>\n",
       "<ellipse fill=\"none\" stroke=\"black\" stroke-width=\"2\" cx=\"226.55\" cy=\"-152\" rx=\"32.02\" ry=\"32.02\"/>\n",
       "<text text-anchor=\"start\" x=\"204.55\" y=\"-148.9\" font-family=\"Times,serif\" font-size=\"12.00\">total time</text>\n",
       "</g>\n",
       "<!-- (&#39;total time&#39;,)&#45;&gt;(&#39;sbml simulator&#39;,) -->\n",
       "<g id=\"edge6\" class=\"edge\">\n",
       "<title>(&#39;total time&#39;,)&#45;&gt;(&#39;sbml simulator&#39;,)</title>\n",
       "<path fill=\"none\" stroke=\"black\" stroke-dasharray=\"5,2\" d=\"M193.77,-153.92C172.54,-155.39 144.03,-157.72 119,-161 111.28,-162.01 103.1,-163.29 95.19,-164.63\"/>\n",
       "<ellipse fill=\"black\" stroke=\"black\" cx=\"92.78\" cy=\"-165.05\" rx=\"2\" ry=\"2\"/>\n",
       "<text text-anchor=\"start\" x=\"121\" y=\"-164\" font-family=\"Times,serif\" font-size=\"10.00\">total time</text>\n",
       "</g>\n",
       "<!-- (&#39;plot&#39;,) -->\n",
       "<g id=\"node9\" class=\"node\">\n",
       "<title>(&#39;plot&#39;,)</title>\n",
       "<ellipse fill=\"none\" stroke=\"black\" stroke-width=\"2\" cx=\"226.55\" cy=\"-18\" rx=\"18\" ry=\"18\"/>\n",
       "<text text-anchor=\"start\" x=\"217.05\" y=\"-14.9\" font-family=\"Times,serif\" font-size=\"12.00\">plot</text>\n",
       "</g>\n",
       "<!-- (&#39;plot&#39;,)&#45;&gt;(&#39;analysis&#39;,) -->\n",
       "<g id=\"edge9\" class=\"edge\">\n",
       "<title>(&#39;plot&#39;,)&#45;&gt;(&#39;analysis&#39;,)</title>\n",
       "<path fill=\"none\" stroke=\"black\" stroke-dasharray=\"5,2\" d=\"M207.82,-20.24C186.66,-22.93 150.23,-27.64 119,-32 107.3,-33.64 94.47,-35.51 83.16,-37.2\"/>\n",
       "<ellipse fill=\"black\" stroke=\"black\" cx=\"80.89\" cy=\"-37.54\" rx=\"2\" ry=\"2\"/>\n",
       "<text text-anchor=\"start\" x=\"132.5\" y=\"-35\" font-family=\"Times,serif\" font-size=\"10.00\">plot</text>\n",
       "</g>\n",
       "</g>\n",
       "</svg>\n"
      ],
      "text/plain": [
       "<graphviz.graphs.Digraph at 0x105ae4dc0>"
      ]
     },
     "execution_count": 6,
     "metadata": {},
     "output_type": "execute_result"
    }
   ],
   "source": [
    "simulation_experiment_spec = {\n",
    "    # '_type': 'sbml_simulation_experiment',\n",
    "    'parameter estimator': {\n",
    "        '_type': 'process:step',\n",
    "        # '_address': 'COPASI:',\n",
    "        '_ports': {\n",
    "            'input data': 'Any', \n",
    "            'model': 'SBML', \n",
    "            'parameters': 'Any',\n",
    "        },\n",
    "        'wires': {\n",
    "            'input data': 'observed data',\n",
    "            'model': 'model',\n",
    "            'parameters': 'parameters',\n",
    "        },\n",
    "        '_depends_on': []\n",
    "    },\n",
    "    'sbml simulator': {\n",
    "        '_ports': {\n",
    "            'model': 'SBML', \n",
    "            'parameters': 'Any',\n",
    "            'total time': 'time',\n",
    "            'results': 'Any'\n",
    "        },\n",
    "        'wires': {\n",
    "            'parameters': 'parameters',\n",
    "            'model': 'model',\n",
    "            'total time': 'total time',\n",
    "            'results': 'results',\n",
    "        },\n",
    "        '_depends_on': ['parameter estimator'],\n",
    "    },\n",
    "    'analysis': {\n",
    "        '_ports': {\n",
    "            'results': 'Any',\n",
    "            'plot': 'Any',\n",
    "        },\n",
    "        'wires': {\n",
    "            'results': 'results',\n",
    "            'plot': 'plot',\n",
    "        },\n",
    "        '_depends_on': ['simulator'],\n",
    "    },\n",
    "    'parameters': 'Any',\n",
    "    'model': 'Any',\n",
    "    'results': 'Any',\n",
    "    'observed data': 'Any',\n",
    "    'total time': 'Any',\n",
    "}\n",
    "\n",
    "plot_bigraph(simulation_experiment_spec, **plot_settings, rankdir='RL', filename='simulation_experiment')"
   ]
  },
  {
   "cell_type": "code",
   "execution_count": 7,
   "id": "491f18d7-3cd6-4801-ba8b-ee6e88980b18",
   "metadata": {
    "tags": []
   },
   "outputs": [
    {
     "data": {
      "image/svg+xml": [
       "<?xml version=\"1.0\" encoding=\"UTF-8\" standalone=\"no\"?>\n",
       "<!DOCTYPE svg PUBLIC \"-//W3C//DTD SVG 1.1//EN\"\n",
       " \"http://www.w3.org/Graphics/SVG/1.1/DTD/svg11.dtd\">\n",
       "<!-- Generated by graphviz version 7.1.0 (20230121.1956)\n",
       " -->\n",
       "<!-- Title: flow Pages: 1 -->\n",
       "<svg width=\"231pt\" height=\"113pt\"\n",
       " viewBox=\"0.00 0.00 238.00 116.00\" xmlns=\"http://www.w3.org/2000/svg\" xmlns:xlink=\"http://www.w3.org/1999/xlink\">\n",
       "<g id=\"graph0\" class=\"graph\" transform=\"scale(0.972222 0.972222) rotate(0) translate(4 112)\">\n",
       "<title>flow</title>\n",
       "<polygon fill=\"white\" stroke=\"none\" points=\"-4,4 -4,-112 234,-112 234,4 -4,4\"/>\n",
       "<!-- (&#39;parameter estimator&#39;,) -->\n",
       "<g id=\"node1\" class=\"node\">\n",
       "<title>(&#39;parameter estimator&#39;,)</title>\n",
       "<polygon fill=\"none\" stroke=\"black\" stroke-width=\"2\" points=\"126,-108 0,-108 0,-72 126,-72 126,-108\"/>\n",
       "<text text-anchor=\"start\" x=\"8\" y=\"-86.3\" font-family=\"Times,serif\" font-size=\"14.00\">parameter estimator</text>\n",
       "</g>\n",
       "<!-- (&#39;sbml simulator&#39;,) -->\n",
       "<g id=\"node2\" class=\"node\">\n",
       "<title>(&#39;sbml simulator&#39;,)</title>\n",
       "<polygon fill=\"none\" stroke=\"black\" stroke-width=\"2\" points=\"112.5,-36 13.5,-36 13.5,0 112.5,0 112.5,-36\"/>\n",
       "<text text-anchor=\"start\" x=\"21.5\" y=\"-14.3\" font-family=\"Times,serif\" font-size=\"14.00\">sbml simulator</text>\n",
       "</g>\n",
       "<!-- (&#39;parameter estimator&#39;,)&#45;&gt;(&#39;sbml simulator&#39;,) -->\n",
       "<g id=\"edge1\" class=\"edge\">\n",
       "<title>(&#39;parameter estimator&#39;,)&#45;&gt;(&#39;sbml simulator&#39;,)</title>\n",
       "<path fill=\"none\" stroke=\"black\" stroke-width=\"2\" d=\"M63,-71.34C63,-64.75 63,-57.08 63,-49.67\"/>\n",
       "<polygon fill=\"black\" stroke=\"black\" stroke-width=\"2\" points=\"66.5,-49.93 63,-39.93 59.5,-49.93 66.5,-49.93\"/>\n",
       "</g>\n",
       "<!-- (&#39;analysis&#39;,) -->\n",
       "<g id=\"node3\" class=\"node\">\n",
       "<title>(&#39;analysis&#39;,)</title>\n",
       "<polygon fill=\"none\" stroke=\"black\" stroke-width=\"2\" points=\"217,-36 157,-36 157,0 217,0 217,-36\"/>\n",
       "<text text-anchor=\"start\" x=\"165\" y=\"-14.3\" font-family=\"Times,serif\" font-size=\"14.00\">analysis</text>\n",
       "</g>\n",
       "<!-- (&#39;simulator&#39;,) -->\n",
       "<g id=\"node4\" class=\"node\">\n",
       "<title>(&#39;simulator&#39;,)</title>\n",
       "<polygon fill=\"none\" stroke=\"black\" stroke-width=\"2\" points=\"230,-108 144,-108 144,-72 230,-72 230,-108\"/>\n",
       "<text text-anchor=\"middle\" x=\"187\" y=\"-86.3\" font-family=\"Times,serif\" font-size=\"14.00\">(&#39;simulator&#39;,)</text>\n",
       "</g>\n",
       "<!-- (&#39;simulator&#39;,)&#45;&gt;(&#39;analysis&#39;,) -->\n",
       "<g id=\"edge2\" class=\"edge\">\n",
       "<title>(&#39;simulator&#39;,)&#45;&gt;(&#39;analysis&#39;,)</title>\n",
       "<path fill=\"none\" stroke=\"black\" stroke-width=\"2\" d=\"M187,-71.34C187,-64.75 187,-57.08 187,-49.67\"/>\n",
       "<polygon fill=\"black\" stroke=\"black\" stroke-width=\"2\" points=\"190.5,-49.93 187,-39.93 183.5,-49.93 190.5,-49.93\"/>\n",
       "</g>\n",
       "</g>\n",
       "</svg>\n"
      ],
      "text/plain": [
       "<graphviz.graphs.Digraph at 0x105b257c0>"
      ]
     },
     "execution_count": 7,
     "metadata": {},
     "output_type": "execute_result"
    }
   ],
   "source": [
    "plot_flow(simulation_experiment_spec)"
   ]
  },
  {
   "cell_type": "code",
   "execution_count": 8,
   "id": "49a519dd-56e6-4246-9f13-275370b39013",
   "metadata": {},
   "outputs": [
    {
     "ename": "NameError",
     "evalue": "name 'y' is not defined",
     "output_type": "error",
     "traceback": [
      "\u001b[0;31m---------------------------------------------------------------------------\u001b[0m",
      "\u001b[0;31mNameError\u001b[0m                                 Traceback (most recent call last)",
      "Cell \u001b[0;32mIn[8], line 1\u001b[0m\n\u001b[0;32m----> 1\u001b[0m \u001b[38;5;28;01mdef\u001b[39;00m \u001b[38;5;21mf\u001b[39m(x:\u001b[38;5;28mtype\u001b[39m) \u001b[38;5;241m-\u001b[39m\u001b[38;5;241m>\u001b[39m y:\u001b[38;5;28mtype\u001b[39m\n",
      "\u001b[0;31mNameError\u001b[0m: name 'y' is not defined"
     ]
    }
   ],
   "source": [
    "def f(x:type) -> y:type"
   ]
  }
 ],
 "metadata": {
  "kernelspec": {
   "display_name": "Python 3 (ipykernel)",
   "language": "python",
   "name": "python3"
  },
  "language_info": {
   "codemirror_mode": {
    "name": "ipython",
    "version": 3
   },
   "file_extension": ".py",
   "mimetype": "text/x-python",
   "name": "python",
   "nbconvert_exporter": "python",
   "pygments_lexer": "ipython3",
   "version": "3.8.13"
  }
 },
 "nbformat": 4,
 "nbformat_minor": 5
}
