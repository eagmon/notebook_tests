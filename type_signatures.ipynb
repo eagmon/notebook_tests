{
 "cells": [
  {
   "cell_type": "code",
   "execution_count": 1,
   "id": "e3e7e6f5-900e-4fb6-a925-dd45ef6821eb",
   "metadata": {},
   "outputs": [],
   "source": [
    "import inspect\n",
    "from typing import Any"
   ]
  },
  {
   "cell_type": "markdown",
   "id": "3813f536-4b2a-4005-9bfb-7a6dcc510958",
   "metadata": {},
   "source": [
    "## inspect function signature"
   ]
  },
  {
   "cell_type": "code",
   "execution_count": 2,
   "id": "cb1e7174-afe6-40c1-a997-0f75f74c6a9f",
   "metadata": {
    "tags": []
   },
   "outputs": [
    {
     "name": "stdout",
     "output_type": "stream",
     "text": [
      "15\n"
     ]
    }
   ],
   "source": [
    "def original_function(a, b, c):\n",
    "    return a + b + c\n",
    "\n",
    "def extended_function(a, b, c, d=0, e=0):\n",
    "    return original_function(a, b, c) + d + e\n",
    "\n",
    "result = extended_function(1, 2, 3, d=4, e=5)\n",
    "print(result)  # Output: 15"
   ]
  },
  {
   "cell_type": "code",
   "execution_count": 3,
   "id": "754e49d0-4fef-4e5b-8154-b76536aea248",
   "metadata": {
    "tags": []
   },
   "outputs": [
    {
     "name": "stdout",
     "output_type": "stream",
     "text": [
      "(a, b, c=0)\n"
     ]
    }
   ],
   "source": [
    "def some_function(a, b, c=0):\n",
    "    pass\n",
    "\n",
    "signature = inspect.signature(some_function)\n",
    "print(signature)  # Output: (a, b, c=0)\n"
   ]
  },
  {
   "cell_type": "code",
   "execution_count": 4,
   "id": "c75a82d0-03be-4885-92e8-3d581aed611c",
   "metadata": {
    "tags": []
   },
   "outputs": [
    {
     "name": "stdout",
     "output_type": "stream",
     "text": [
      "Found function with matching signature: func_a\n",
      "Found function with matching signature: func_c\n"
     ]
    }
   ],
   "source": [
    "def func_a(a, b, c=0):\n",
    "    pass\n",
    "\n",
    "def func_b(x, y, z=0):\n",
    "    pass\n",
    "\n",
    "def func_c(a, b, c=0):\n",
    "    pass\n",
    "\n",
    "functions = [func_a, func_b, func_c]\n",
    "target_signature = inspect.signature(func_a)\n",
    "\n",
    "for func in functions:\n",
    "    if inspect.signature(func) == target_signature:\n",
    "        print(f\"Found function with matching signature: {func.__name__}\")"
   ]
  },
  {
   "cell_type": "markdown",
   "id": "26ef6bf5-c04a-42bd-8c7e-8bae16639d38",
   "metadata": {},
   "source": [
    "## add typing"
   ]
  },
  {
   "cell_type": "code",
   "execution_count": 5,
   "id": "97fe799f-52c0-4524-a30b-e82f1a1470fd",
   "metadata": {
    "tags": []
   },
   "outputs": [
    {
     "name": "stdout",
     "output_type": "stream",
     "text": [
      "15\n"
     ]
    }
   ],
   "source": [
    "def original_function(a: int, b: int, c: int) -> int:\n",
    "    return a + b + c\n",
    "\n",
    "def extended_function(a: int, b: int, c: int, d: int = 0, e: int = 0) -> int:\n",
    "    return original_function(a, b, c) + d + e\n",
    "\n",
    "result = extended_function(1, 2, 3, d=4, e=5)\n",
    "print(result)  # Output: 15"
   ]
  },
  {
   "cell_type": "code",
   "execution_count": 6,
   "id": "0692a5ca-7330-4376-baf6-33d63bab6a09",
   "metadata": {
    "tags": []
   },
   "outputs": [
    {
     "name": "stdout",
     "output_type": "stream",
     "text": [
      "(a: int, b: int, c: int = 0) -> int\n"
     ]
    }
   ],
   "source": [
    "def some_function(a: int, b: int, c: int = 0) -> int:\n",
    "    pass\n",
    "\n",
    "signature = inspect.signature(some_function)\n",
    "print(signature)  # Output: (a:int, b:int, c:int=0) -> int\n"
   ]
  },
  {
   "cell_type": "code",
   "execution_count": 7,
   "id": "2b7b8160-8583-465f-837d-3e5d4d50f8b3",
   "metadata": {
    "tags": []
   },
   "outputs": [
    {
     "name": "stdout",
     "output_type": "stream",
     "text": [
      "Found function with matching signature: func_a\n",
      "Found function with matching signature: func_c\n"
     ]
    }
   ],
   "source": [
    "def func_a(a: int, b: int, c: int = 0) -> int:\n",
    "    pass\n",
    "\n",
    "def func_b(x: int, y: int, z: int = 0) -> int:\n",
    "    pass\n",
    "\n",
    "def func_c(a: int, b: int, c: int = 0) -> int:\n",
    "    pass\n",
    "\n",
    "functions = [func_a, func_b, func_c]\n",
    "target_signature = inspect.signature(func_a)\n",
    "\n",
    "for func in functions:\n",
    "    if inspect.signature(func) == target_signature:\n",
    "        print(f\"Found function with matching signature: {func.__name__}\")\n"
   ]
  },
  {
   "cell_type": "markdown",
   "id": "c398710e-ac44-4298-be79-93920069d031",
   "metadata": {},
   "source": [
    "## docstring for annotation"
   ]
  },
  {
   "cell_type": "code",
   "execution_count": 8,
   "id": "0ef55189-90d1-40d9-9cfd-6689e8cae736",
   "metadata": {
    "tags": []
   },
   "outputs": [
    {
     "name": "stdout",
     "output_type": "stream",
     "text": [
      "\n",
      "    This function takes three integers and returns their sum.\n",
      "    \n"
     ]
    }
   ],
   "source": [
    "def original_function(a: int, b: int, c: int) -> int:\n",
    "    \"\"\"\n",
    "    This function takes three integers and returns their sum.\n",
    "    \"\"\"\n",
    "    return a + b + c\n",
    "\n",
    "def extended_function(a: int, b: int, c: int, d: int = 0, e: int = 0) -> int:\n",
    "    \"\"\"\n",
    "    This function extends original_function by adding two additional integers.\n",
    "    \"\"\"\n",
    "    return original_function(a, b, c) + d + e\n",
    "\n",
    "docstring = original_function.__doc__\n",
    "print(docstring)"
   ]
  },
  {
   "cell_type": "code",
   "execution_count": 9,
   "id": "34237760-f654-46ae-a7f5-9b53ae77694c",
   "metadata": {
    "tags": []
   },
   "outputs": [
    {
     "name": "stdout",
     "output_type": "stream",
     "text": [
      "Found function with matching signature and docstring: func_a\n",
      "Found function with matching signature and docstring: func_c\n"
     ]
    }
   ],
   "source": [
    "import inspect\n",
    "\n",
    "def match_signature_and_docstring(func1, func2):\n",
    "    return (\n",
    "        inspect.signature(func1) == inspect.signature(func2)\n",
    "        and func1.__doc__ == func2.__doc__\n",
    "    )\n",
    "\n",
    "def func_a(a: int, b: int, c: int = 0) -> int:\n",
    "    \"\"\"\n",
    "    This is func_a\n",
    "    \"\"\"\n",
    "    pass\n",
    "\n",
    "def func_b(x: int, y: int, z: int = 0) -> int:\n",
    "    \"\"\"\n",
    "    This is func_b\n",
    "    \"\"\"\n",
    "    pass\n",
    "\n",
    "def func_c(a: int, b: int, c: int = 0) -> int:\n",
    "    \"\"\"\n",
    "    This is func_a\n",
    "    \"\"\"\n",
    "    pass\n",
    "\n",
    "functions = [func_a, func_b, func_c]\n",
    "target_function = func_a\n",
    "\n",
    "for func in functions:\n",
    "    if match_signature_and_docstring(func, target_function):\n",
    "        print(f\"Found function with matching signature and docstring: {func.__name__}\")\n"
   ]
  },
  {
   "cell_type": "markdown",
   "id": "4b6c0682-4ddb-462e-8272-83c28d17b208",
   "metadata": {},
   "source": [
    "## use decorators"
   ]
  },
  {
   "cell_type": "code",
   "execution_count": 10,
   "id": "57d3f251-0510-477a-b6dc-cfae60f7ddd7",
   "metadata": {
    "tags": []
   },
   "outputs": [
    {
     "name": "stdout",
     "output_type": "stream",
     "text": [
      "This is func_a\n"
     ]
    }
   ],
   "source": [
    "def describe(description):\n",
    "    def decorator(func):\n",
    "        func.description = description\n",
    "        return func\n",
    "    return decorator\n",
    "\n",
    "@describe(\"This is func_a\")\n",
    "def func_a(a: int, b: int, c: int = 0) -> int:\n",
    "    pass\n",
    "\n",
    "@describe(\"This is func_b\")\n",
    "def func_b(x: int, y: int, z: int = 0) -> int:\n",
    "    pass\n",
    "\n",
    "@describe(\"This is func_c\")\n",
    "def func_c(a: int, b: int, c: int = 0) -> int:\n",
    "    pass\n",
    "\n",
    "print(func_a.description)  # Output: This is func_a"
   ]
  },
  {
   "cell_type": "code",
   "execution_count": 11,
   "id": "a992facf-747f-4d34-b03f-8f027fc33529",
   "metadata": {
    "tags": []
   },
   "outputs": [
    {
     "name": "stdout",
     "output_type": "stream",
     "text": [
      "Found function with matching signature and description: func_a\n"
     ]
    }
   ],
   "source": [
    "def match_signature_and_description(func1, func2):\n",
    "    return (\n",
    "        inspect.signature(func1) == inspect.signature(func2)\n",
    "        and getattr(func1, \"description\", None) == getattr(func2, \"description\", None)\n",
    "    )\n",
    "\n",
    "functions = [func_a, func_b, func_c]\n",
    "target_function = func_a\n",
    "\n",
    "for func in functions:\n",
    "    if match_signature_and_description(func, target_function):\n",
    "        print(f\"Found function with matching signature and description: {func.__name__}\")\n"
   ]
  },
  {
   "cell_type": "code",
   "execution_count": null,
   "id": "1716c8d2-5587-44e1-a0df-f3e8ca267285",
   "metadata": {},
   "outputs": [],
   "source": []
  }
 ],
 "metadata": {
  "kernelspec": {
   "display_name": "Python 3 (ipykernel)",
   "language": "python",
   "name": "python3"
  },
  "language_info": {
   "codemirror_mode": {
    "name": "ipython",
    "version": 3
   },
   "file_extension": ".py",
   "mimetype": "text/x-python",
   "name": "python",
   "nbconvert_exporter": "python",
   "pygments_lexer": "ipython3",
   "version": "3.8.13"
  }
 },
 "nbformat": 4,
 "nbformat_minor": 5
}
