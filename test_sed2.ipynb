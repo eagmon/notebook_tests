{
 "cells": [
  {
   "cell_type": "code",
   "execution_count": 1,
   "id": "e2d87d43-c642-433c-93bc-1785be869945",
   "metadata": {
    "tags": []
   },
   "outputs": [],
   "source": [
    "from sed2.processes import sed_process_registry\n",
    "from sed2.core import (\n",
    "    serialize_instance, generate_script, ports, annotate, register, generate_composite_process, get_process_schema)\n",
    "from bigraph_viz import plot_bigraph, plot_flow, pf\n",
    "import numpy as np"
   ]
  },
  {
   "cell_type": "code",
   "execution_count": 2,
   "id": "a4b1cfde-0fb5-4761-a0ef-4996ce60cd3b",
   "metadata": {
    "tags": []
   },
   "outputs": [
    {
     "name": "stdout",
     "output_type": "stream",
     "text": [
      "{ 'concentration_control_coefficient': { 'annotation': 'sed:is_steady_state',\n",
      "                                         'ports': { 'inputs': { 'model': 'Model',\n",
      "                                                                'parameter': 'string',\n",
      "                                                                'variable': 'string'},\n",
      "                                                    'outputs': { 'coefficient': 'float'}},\n",
      "                                         'process': <function concentration_control_coefficient at 0x13ee464c0>},\n",
      "  'data_description': { 'annotation': 'sed:data_description',\n",
      "                        'ports': { 'inputs': { 'data_file': 'str',\n",
      "                                               'file_format': 'str'},\n",
      "                                   'outputs': {'data': 'pd.DataFrame'}},\n",
      "                        'process': <function data_description at 0x13ee461f0>},\n",
      "  'flux_control_coefficient': { 'annotation': 'sed:is_steady_state',\n",
      "                                'ports': { 'inputs': { 'model': 'Model',\n",
      "                                                       'parameter': 'string',\n",
      "                                                       'variable': 'string'},\n",
      "                                           'outputs': {'coefficient': 'float'}},\n",
      "                                'process': <function flux_control_coefficient at 0x13ee46550>},\n",
      "  'is_steady_state': { 'annotation': 'sed:is_steady_state',\n",
      "                       'ports': { 'inputs': { 'model': 'Model',\n",
      "                                              'tolerance': 'float'},\n",
      "                                  'outputs': {'sum': 'float'}},\n",
      "                       'process': <function is_steady_state at 0x13ee46430>},\n",
      "  'model_get_value': { 'annotation': 'sed:get_model',\n",
      "                       'ports': { 'inputs': { 'element_id': 'str',\n",
      "                                              'model_instance': 'Model'},\n",
      "                                  'outputs': {'value': 'float'}},\n",
      "                       'process': <function model_get_value at 0x13ee460d0>},\n",
      "  'model_reset': { 'annotation': 'sed:model_reset',\n",
      "                   'ports': {'inputs': {'model_instance': 'Model'}},\n",
      "                   'process': <function model_reset at 0x13ee3af70>},\n",
      "  'model_set_value': { 'annotation': 'sed:set_model',\n",
      "                       'ports': { 'inputs': { 'element_id': 'str',\n",
      "                                              'model_instance': 'Model',\n",
      "                                              'value': 'float'}},\n",
      "                       'process': <function model_set_value at 0x13ee46040>},\n",
      "  'n_dimensional_scan': { 'annotation': 'sed:n_dimensional_scan',\n",
      "                          'ports': { 'inputs': { 'data_description': 'pd.DataFrame',\n",
      "                                                 'input_dict': 'dict',\n",
      "                                                 'model': 'Model',\n",
      "                                                 'num_points': 'int',\n",
      "                                                 'time_end': 'float',\n",
      "                                                 'time_start': 'float'},\n",
      "                                     'outputs': {'results': 'dict'}},\n",
      "                          'process': <function n_dimensional_scan at 0x13ee46700>},\n",
      "  'plot2d': { 'annotation': 'sed:plot2d',\n",
      "              'ports': { 'inputs': { 'curves': 'dict',\n",
      "                                     'name': 'str',\n",
      "                                     'results': 'dict'}},\n",
      "              'process': <function plot2d at 0x13ee46820>},\n",
      "  'repeated_simulation': { 'annotation': 'sed:repeated_simulation',\n",
      "                           'ports': { 'inputs': { 'config': 'dict',\n",
      "                                                  'model_instance': 'Model'},\n",
      "                                      'outputs': {'results': 'list'}},\n",
      "                           'process': <function repeated_simulation at 0x13ee46790>},\n",
      "  'report': { 'annotation': 'sed:report',\n",
      "              'ports': {'inputs': {'results': 'Any', 'title': 'str'}},\n",
      "              'process': <function report at 0x13ee46670>},\n",
      "  'sbml_model_from_path': { 'annotation': 'sed:sbml_model_from_path',\n",
      "                            'ports': { 'inputs': {'path_to_sbml': 'str'},\n",
      "                                       'outputs': {'model': 'Model'}},\n",
      "                            'process': <function sbml_model_from_path at 0x13ee3aee0>},\n",
      "  'steady_state_values': { 'annotation': 'sed:steady_state_values',\n",
      "                           'ports': { 'inputs': { 'model': 'Model',\n",
      "                                                  'selection_list': 'list'},\n",
      "                                      'outputs': {'results': 'dict'}},\n",
      "                           'process': <function steady_state_values at 0x13ee463a0>},\n",
      "  'sum_of_squares': { 'annotation': 'sed:sum_of_squares',\n",
      "                      'ports': { 'inputs': { 'data': 'pd.DataFrame',\n",
      "                                             'sim': 'Dict[str, np.ndarray]'},\n",
      "                                 'outputs': {'sum': 'float'}},\n",
      "                      'process': <function sum_of_squares at 0x13ee46280>},\n",
      "  'uniform_time_course': { 'annotation': 'sed:uniform_time_course',\n",
      "                           'ports': { 'inputs': { 'model': 'Model',\n",
      "                                                  'num_points': 'int',\n",
      "                                                  'selection_list': 'List[str]',\n",
      "                                                  'time_end': 'float',\n",
      "                                                  'time_start': 'float'},\n",
      "                                      'outputs': {'results': 'dict'}},\n",
      "                           'process': <function uniform_time_course at 0x13ee46160>}}\n"
     ]
    }
   ],
   "source": [
    "# add sed processes to global namespace\n",
    "sed_process_registry.activate_all(globals())\n",
    "print(pf(sed_process_registry.registry))"
   ]
  },
  {
   "cell_type": "code",
   "execution_count": 40,
   "id": "89591bf4-cb85-4db7-8948-955f441c0a76",
   "metadata": {
    "tags": []
   },
   "outputs": [],
   "source": [
    "# SED requires some more primitive operations for this\n",
    "\n",
    "@ports({\n",
    "    'inputs': {\n",
    "        'trials': 'int',\n",
    "    },\n",
    "    'outputs': {\n",
    "        'out': 'Any'}})\n",
    "@annotate('sed:range_iterator')\n",
    "def range_iterator(trials, func):\n",
    "    result = None\n",
    "    for i in range(r):\n",
    "        result = func(result)\n",
    "    return result\n",
    "\n",
    "\n",
    "@ports({\n",
    "    'outputs': {\n",
    "        'value': 'float'}})\n",
    "@annotate('sed:loop')\n",
    "def random_number():\n",
    "    return random.random()\n",
    "\n",
    "\n",
    "@ports({\n",
    "    'inputs': {'a': 'int', 'b': 'int'}, \n",
    "    'outputs': {'c': 'int'}})\n",
    "@annotate('math:add')\n",
    "def add(a, b):\n",
    "    return a + b\n",
    "\n",
    "\n",
    "@ports({'inputs': {'condition': 'bool'}})\n",
    "@annotate('sed:condition')\n",
    "def report_error(condition):\n",
    "    if condition:\n",
    "        raise Exception('Error!')\n",
    "\n",
    "        \n",
    "# add to the registry\n",
    "functions = [\n",
    "    range_iterator,\n",
    "    random_number,\n",
    "    add,\n",
    "    report_error,\n",
    "]\n",
    "\n",
    "sed_process_registry = register(functions, sed_process_registry)\n",
    "# print(pf(sed_process_registry.registry))"
   ]
  },
  {
   "cell_type": "markdown",
   "id": "80901a9d-7070-4719-94e5-5cee97e3fba3",
   "metadata": {},
   "source": [
    "```\n",
    "# This experiment randomizes two parameters, and\n",
    "# computes the control coefficient for\n",
    "# every reaction step in the model\n",
    "# Outputs a 2D array, first and second column are k1 and k2\n",
    "# remaining columns are the control coefficients\n",
    "result1 is 1D array\n",
    "result2 = is 1D array\n",
    "trials = 10\n",
    "load model (xyz.xml)  # This experiment only applies to SBML models\n",
    "configure simulator (....)\n",
    "for i = 0 to trials - 1 do\n",
    "     model.k1 = random()\n",
    "     model.k2 = random()\n",
    "     for j = 0 to numReactions - 1 do\n",
    "         compute Steady state\n",
    "         if steadystate found:\n",
    "            result1[i][0] = model.k1\n",
    "            result1[i][1] = model.k2\n",
    "            result1[i][j+2] = compute control coefficient (J1, j)\n",
    "            sum = sum + result1[i][i+2]\n",
    "          else\n",
    "            handle error condition in some way,\n",
    "            eg ignore and continue and record bad result in results array\n",
    "        result2[i] = sum  # to check that results are ok\n",
    "output table result1\n",
    "output table result2\n",
    "```"
   ]
  },
  {
   "cell_type": "code",
   "execution_count": 35,
   "id": "1a6ad336-4790-44db-a0c3-fc9d050c8b94",
   "metadata": {
    "tags": []
   },
   "outputs": [
    {
     "name": "stdout",
     "output_type": "stream",
     "text": [
      "Result1:\n",
      "[[0.32953731 0.48789934 0.         0.         0.         0.\n",
      "  0.         0.         0.         0.         0.         0.        ]\n",
      " [0.1667153  0.92812116 0.         0.         0.         0.\n",
      "  0.         0.         0.         0.         0.         0.        ]\n",
      " [0.52758209 0.86103374 0.         0.         0.         0.\n",
      "  0.         0.         0.         0.         0.         0.        ]\n",
      " [0.37541441 0.09085067 0.         0.         0.         0.\n",
      "  0.         0.         0.         0.         0.         0.        ]\n",
      " [0.62593255 0.92205304 0.         0.         0.         0.\n",
      "  0.         0.         0.         0.         0.         0.        ]\n",
      " [0.98279423 0.49041918 0.         0.         0.         0.\n",
      "  0.         0.         0.         0.         0.         0.        ]\n",
      " [0.94715433 0.19634833 0.         0.         0.         0.\n",
      "  0.         0.         0.         0.         0.         0.        ]\n",
      " [0.2496573  0.90147696 0.         0.         0.         0.\n",
      "  0.         0.         0.         0.         0.         0.        ]\n",
      " [0.94270445 0.15871319 0.         0.         0.         0.\n",
      "  0.         0.         0.         0.         0.         0.        ]\n",
      " [0.12890313 0.63407201 0.         0.         0.         0.\n",
      "  0.         0.         0.         0.         0.         0.        ]]\n",
      "Result2:\n",
      "[0. 0. 0. 0. 0. 0. 0. 0. 0. 0.]\n"
     ]
    }
   ],
   "source": [
    "import numpy as np\n",
    "import random\n",
    "\n",
    "trials = 10\n",
    "num_reactions = 10\n",
    "result1 = np.empty((trials, numReactions + 2))\n",
    "result2 = np.empty(trials)\n",
    "model_path = \"susceptible_zombie.xml\"\n",
    "model = sbml_model_from_path(path_to_sbml=model_path)  # Load the model\n",
    "susceptible_id = 'S'\n",
    "zombie_id = 'Z'\n",
    "rate_param_id = 'k1'\n",
    "\n",
    "for i in range(trials):\n",
    "    k1 = random_number()\n",
    "    k2 = random_number()\n",
    "    model_set_value(model, susceptible_id, k1)\n",
    "    model_set_value(model, zombie_id, k2)\n",
    "    tolerance = 0.01\n",
    "    total = 0\n",
    "    for j in range(num_reactions):\n",
    "        ss = steady_state_values(model, selection_list=[susceptible_id, zombie_id])\n",
    "        steady_state_found = is_steady_state(model, tolerance)\n",
    "        if steady_state_found:  \n",
    "            s = model_get_value(model, susceptible_id)\n",
    "            z = model_get_value(model, zombie_id)\n",
    "            result1[i][0] = s\n",
    "            result1[i][1] = z\n",
    "            result1[i][j+2] = concentration_control_coefficient(model, susceptible_id, rate_param_id)\n",
    "            total += result1[i][j+2]\n",
    "        else:\n",
    "            report_error(True)\n",
    "    result2[i] = total\n",
    "\n",
    "print(\"Result1:\")\n",
    "print(result1)\n",
    "print(\"Result2:\")\n",
    "print(result2)"
   ]
  },
  {
   "cell_type": "code",
   "execution_count": 36,
   "id": "bf5cd162-d45d-4ae6-a5ce-53fd734a99b1",
   "metadata": {
    "tags": []
   },
   "outputs": [
    {
     "name": "stdout",
     "output_type": "stream",
     "text": [
      "{\"model_path\": \"\\\"susceptible_zombie.xml\\\"\", \"num_reactions\": 10, \"result1\": [[0.32953731459623925, 0.4878993446386978, 0.0, 0.0, 0.0, 0.0, 0.0, 0.0, 0.0, 0.0, 0.0, 0.0], [0.16671529944383479, 0.928121160822974, 0.0, 0.0, 0.0, 0.0, 0.0, 0.0, 0.0, 0.0, 0.0, 0.0], [0.5275820880086923, 0.8610337352324708, 0.0, 0.0, 0.0, 0.0, 0.0, 0.0, 0.0, 0.0, 0.0, 0.0], [0.37541441078633986, 0.09085066811201159, 0.0, 0.0, 0.0, 0.0, 0.0, 0.0, 0.0, 0.0, 0.0, 0.0], [0.6259325463087402, 0.9220530437041429, 0.0, 0.0, 0.0, 0.0, 0.0, 0.0, 0.0, 0.0, 0.0, 0.0], [0.982794225918386, 0.49041917784919686, 0.0, 0.0, 0.0, 0.0, 0.0, 0.0, 0.0, 0.0, 0.0, 0.0], [0.9471543301295312, 0.1963483326741846, 0.0, 0.0, 0.0, 0.0, 0.0, 0.0, 0.0, 0.0, 0.0, 0.0], [0.2496572958017509, 0.9014769643676416, 0.0, 0.0, 0.0, 0.0, 0.0, 0.0, 0.0, 0.0, 0.0, 0.0], [0.942704453456523, 0.158713193594886, 0.0, 0.0, 0.0, 0.0, 0.0, 0.0, 0.0, 0.0, 0.0, 0.0], [0.12890312769619727, 0.6340720067904779, 0.0, 0.0, 0.0, 0.0, 0.0, 0.0, 0.0, 0.0, 0.0, 0.0]], \"result2\": [0.0, 0.0, 0.0, 0.0, 0.0, 0.0, 0.0, 0.0, 0.0, 0.0], \"susceptible_id\": \"\\\"S\\\"\", \"zombie_id\": \"\\\"Z\\\"\", \"rate_param_id\": \"\\\"k1\\\"\", \"trials\": \"\\\"susceptible_zombie.csv\\\"\", \"sbml_model_from_path\": {\"_type\": \"sed:sbml_model_from_path\", \"wires\": {\"path_to_sbml\": \"model_path\", \"model\": \"model_instance\"}}}\n"
     ]
    }
   ],
   "source": [
    "trials = 10\n",
    "num_reactions = 10\n",
    "\n",
    "# Example function calls with input and output arguments\n",
    "instance1 = {\n",
    "    'trials': trials,\n",
    "    'num_reactions': num_reactions, \n",
    "    'result1': np.empty((trials, num_reactions + 2)), \n",
    "    'result2': np.empty(trials), \n",
    "    'susceptible_id': '\"S\"',\n",
    "    'zombie_id': '\"Z\"',\n",
    "    'rate_param_id': '\"k1\"',\n",
    "    'model_path': '\"susceptible_zombie.xml\"',\n",
    "    'trials': '\"susceptible_zombie.csv\"',\n",
    "    'sbml_model_from_path': {\n",
    "        '_type': 'sed:sbml_model_from_path',\n",
    "        'wires': {\n",
    "            'path_to_sbml': 'model_path',\n",
    "            'model': 'model_instance'\n",
    "        },\n",
    "    },\n",
    "    'range_iterator': {\n",
    "        '_type': 'sed:range_iterator',\n",
    "        'wires': {\n",
    "            'trials': 'trials',\n",
    "        },\n",
    "        'range_iterator': {\n",
    "            '_type': 'sed:range_iterator',\n",
    "            'wires': {\n",
    "                'trials': 'trials',\n",
    "            },\n",
    "\n",
    "        }\n",
    "    }\n",
    "}\n",
    "\n",
    "# fill(instance)  # autocomplete\n",
    "# validate_schema(instance) # TODO -- demonstrate validation\n",
    "\n",
    "# Serialize to JSON\n",
    "json_str1 = serialize_instance(instance1)\n",
    "print(json_str1)"
   ]
  },
  {
   "cell_type": "code",
   "execution_count": 37,
   "id": "43b6a4c9-5762-40af-9976-fac7530c07f3",
   "metadata": {
    "tags": []
   },
   "outputs": [
    {
     "name": "stdout",
     "output_type": "stream",
     "text": [
      "trials = \"susceptible_zombie.csv\"\n",
      "rate_param_id = \"k1\"\n",
      "zombie_id = \"Z\"\n",
      "susceptible_id = \"S\"\n",
      "result2 = [0.0, 0.0, 0.0, 0.0, 0.0, 0.0, 0.0, 0.0, 0.0, 0.0]\n",
      "result1 = [[0.32953731459623925, 0.4878993446386978, 0.0, 0.0, 0.0, 0.0, 0.0, 0.0, 0.0, 0.0, 0.0, 0.0], [0.16671529944383479, 0.928121160822974, 0.0, 0.0, 0.0, 0.0, 0.0, 0.0, 0.0, 0.0, 0.0, 0.0], [0.5275820880086923, 0.8610337352324708, 0.0, 0.0, 0.0, 0.0, 0.0, 0.0, 0.0, 0.0, 0.0, 0.0], [0.37541441078633986, 0.09085066811201159, 0.0, 0.0, 0.0, 0.0, 0.0, 0.0, 0.0, 0.0, 0.0, 0.0], [0.6259325463087402, 0.9220530437041429, 0.0, 0.0, 0.0, 0.0, 0.0, 0.0, 0.0, 0.0, 0.0, 0.0], [0.982794225918386, 0.49041917784919686, 0.0, 0.0, 0.0, 0.0, 0.0, 0.0, 0.0, 0.0, 0.0, 0.0], [0.9471543301295312, 0.1963483326741846, 0.0, 0.0, 0.0, 0.0, 0.0, 0.0, 0.0, 0.0, 0.0, 0.0], [0.2496572958017509, 0.9014769643676416, 0.0, 0.0, 0.0, 0.0, 0.0, 0.0, 0.0, 0.0, 0.0, 0.0], [0.942704453456523, 0.158713193594886, 0.0, 0.0, 0.0, 0.0, 0.0, 0.0, 0.0, 0.0, 0.0, 0.0], [0.12890312769619727, 0.6340720067904779, 0.0, 0.0, 0.0, 0.0, 0.0, 0.0, 0.0, 0.0, 0.0, 0.0]]\n",
      "num_reactions = 10\n",
      "model_path = \"susceptible_zombie.xml\"\n",
      "model_instance = sbml_model_from_path(path_to_sbml=model_path)\n"
     ]
    }
   ],
   "source": [
    "# Generate the script\n",
    "script = generate_script(json_str1, sed_process_registry)\n",
    "print(script)"
   ]
  },
  {
   "cell_type": "code",
   "execution_count": 38,
   "id": "1dc44b19-b9c9-4662-9666-06d52ba287b5",
   "metadata": {
    "tags": []
   },
   "outputs": [],
   "source": [
    "# execute the script\n",
    "exec(script)"
   ]
  },
  {
   "cell_type": "code",
   "execution_count": null,
   "id": "652ec6f1-2bc7-47e0-b3bc-8eaf1b244b42",
   "metadata": {},
   "outputs": [],
   "source": []
  }
 ],
 "metadata": {
  "kernelspec": {
   "display_name": "Python 3 (ipykernel)",
   "language": "python",
   "name": "python3"
  },
  "language_info": {
   "codemirror_mode": {
    "name": "ipython",
    "version": 3
   },
   "file_extension": ".py",
   "mimetype": "text/x-python",
   "name": "python",
   "nbconvert_exporter": "python",
   "pygments_lexer": "ipython3",
   "version": "3.8.13"
  }
 },
 "nbformat": 4,
 "nbformat_minor": 5
}
