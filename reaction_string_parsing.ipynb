{
 "cells": [
  {
   "cell_type": "code",
   "execution_count": 3,
   "id": "0df15f87-2ca9-44ca-a576-55b5e5152a39",
   "metadata": {},
   "outputs": [
    {
     "name": "stdout",
     "output_type": "stream",
     "text": [
      "['M + N ->', 'O + P <->', 'Q + R <-']\n"
     ]
    }
   ],
   "source": [
    "import re\n",
    "\n",
    "# List of reaction strings\n",
    "reactions = [\n",
    "    \"A + B <-> C + D\",\n",
    "    \"E + F -> G + H\",\n",
    "    \"I + J <- K + L\",\n",
    "    \"M + N ->\",\n",
    "    \"O + P <->\",\n",
    "    \"Q + R <-\"\n",
    "]\n",
    "\n",
    "# Compile a regex pattern that matches reactions with no products\n",
    "# This pattern looks for strings ending with ->, <-, or <-> followed by optional spaces and then the end of the string\n",
    "pattern = re.compile(r'->\\s*$|<->\\s*$|<-\\s*$')\n",
    "\n",
    "# Filter the list for reactions with no products\n",
    "reactions_with_no_products = []\n",
    "for reaction in reactions:\n",
    "    if pattern.search(reaction):\n",
    "        reactions_with_no_products.append(reaction)\n",
    "\n",
    "print(reactions_with_no_products)\n",
    "# reactions_with_no_products = [reaction for reaction in reactions if pattern.search(reaction)]\n",
    "\n",
    "# print(\"Reactions with no products:\")\n",
    "# for reaction in reactions_with_no_products:\n",
    "#     print(reaction)\n",
    "\n",
    "\n",
    "# towards doing this in cobra\n",
    "exchange_reactions = []\n",
    "for rxn in model.reactions:\n",
    "    exp = rxn.expression  # not sure if this is right\n",
    "    if pattern.search(exp):\n",
    "        # add it to the list\n",
    "        exchange_reactions.append(rxn)\n",
    "        "
   ]
  },
  {
   "cell_type": "code",
   "execution_count": null,
   "id": "e716cf6d-83c6-4e9d-9cf8-3773b367db9b",
   "metadata": {},
   "outputs": [],
   "source": []
  }
 ],
 "metadata": {
  "kernelspec": {
   "display_name": "Python (venv)",
   "language": "python",
   "name": "venv_kernel"
  },
  "language_info": {
   "codemirror_mode": {
    "name": "ipython",
    "version": 3
   },
   "file_extension": ".py",
   "mimetype": "text/x-python",
   "name": "python",
   "nbconvert_exporter": "python",
   "pygments_lexer": "ipython3",
   "version": "3.9.6"
  }
 },
 "nbformat": 4,
 "nbformat_minor": 5
}
