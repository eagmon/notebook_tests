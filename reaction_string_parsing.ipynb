{
 "cells": [
  {
   "cell_type": "code",
   "execution_count": 3,
   "id": "0df15f87-2ca9-44ca-a576-55b5e5152a39",
   "metadata": {},
   "outputs": [
    {
     "name": "stdout",
     "output_type": "stream",
     "text": [
      "['M + N ->', 'O + P <->', 'Q + R <-']\n"
     ]
    }
   ],
   "source": [
    "import re\n",
    "\n",
    "# List of reaction strings\n",
    "reactions = [\n",
    "    \"A + B <-> C + D\",\n",
    "    \"E + F -> G + H\",\n",
    "    \"I + J <- K + L\",\n",
    "    \"M + N ->\",\n",
    "    \"O + P <->\",\n",
    "    \"Q + R <-\"\n",
    "]\n",
    "\n",
    "# Compile a regex pattern that matches reactions with no products\n",
    "# This pattern looks for strings ending with ->, <-, or <-> followed by optional spaces and then the end of the string\n",
    "pattern = re.compile(r'->\\s*$|<->\\s*$|<-\\s*$')\n",
    "\n",
    "# Filter the list for reactions with no products\n",
    "exchange_reactions = []\n",
    "for reaction in reactions:\n",
    "    if pattern.search(reaction):  \n",
    "        exchange_reactions.append(reaction)\n",
    "\n",
    "print(exchange_reactions)\n",
    "# reactions_with_no_products = [reaction for reaction in reactions if pattern.search(reaction)]\n",
    "\n",
    "# print(\"Reactions with no products:\")\n",
    "# for reaction in reactions_with_no_products:\n",
    "#     print(reaction)\n",
    "\n",
    "        "
   ]
  },
  {
   "cell_type": "code",
   "execution_count": 2,
   "id": "e716cf6d-83c6-4e9d-9cf8-3773b367db9b",
   "metadata": {},
   "outputs": [
    {
     "ename": "NameError",
     "evalue": "name 'model' is not defined",
     "output_type": "error",
     "traceback": [
      "\u001b[0;31m---------------------------------------------------------------------------\u001b[0m",
      "\u001b[0;31mNameError\u001b[0m                                 Traceback (most recent call last)",
      "Cell \u001b[0;32mIn[2], line 3\u001b[0m\n\u001b[1;32m      1\u001b[0m \u001b[38;5;66;03m# towards doing this in cobra\u001b[39;00m\n\u001b[1;32m      2\u001b[0m exchange_reactions \u001b[38;5;241m=\u001b[39m []\n\u001b[0;32m----> 3\u001b[0m \u001b[38;5;28;01mfor\u001b[39;00m rxn \u001b[38;5;129;01min\u001b[39;00m \u001b[43mmodel\u001b[49m\u001b[38;5;241m.\u001b[39mreactions:\n\u001b[1;32m      4\u001b[0m     exp \u001b[38;5;241m=\u001b[39m rxn\u001b[38;5;241m.\u001b[39mexpression  \u001b[38;5;66;03m# not sure if this is right\u001b[39;00m\n\u001b[1;32m      5\u001b[0m     \u001b[38;5;28;01mif\u001b[39;00m pattern\u001b[38;5;241m.\u001b[39msearch(exp):\n\u001b[1;32m      6\u001b[0m         \u001b[38;5;66;03m# add it to the list\u001b[39;00m\n",
      "\u001b[0;31mNameError\u001b[0m: name 'model' is not defined"
     ]
    }
   ],
   "source": [
    "# towards doing this in cobra\n",
    "exchange_reactions = []\n",
    "for rxn in model.reactions:\n",
    "    exp = rxn.expression  # not sure if this is right\n",
    "    if pattern.search(exp):\n",
    "        # add it to the list\n",
    "        exchange_reactions.append(rxn)"
   ]
  },
  {
   "cell_type": "code",
   "execution_count": null,
   "id": "19adc687-75d6-4bd0-ac39-411f091830ab",
   "metadata": {},
   "outputs": [],
   "source": []
  }
 ],
 "metadata": {
  "kernelspec": {
   "display_name": "Python (venv)",
   "language": "python",
   "name": "venv_kernel"
  },
  "language_info": {
   "codemirror_mode": {
    "name": "ipython",
    "version": 3
   },
   "file_extension": ".py",
   "mimetype": "text/x-python",
   "name": "python",
   "nbconvert_exporter": "python",
   "pygments_lexer": "ipython3",
   "version": "3.9.6"
  }
 },
 "nbformat": 4,
 "nbformat_minor": 5
}
