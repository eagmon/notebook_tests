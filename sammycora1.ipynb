{
 "cells": [
  {
   "cell_type": "markdown",
   "id": "da033747-6eab-4a3b-ba64-39101087fdd2",
   "metadata": {},
   "source": [
    "# Sam and Cora's notebook"
   ]
  },
  {
   "cell_type": "code",
   "execution_count": 4,
   "id": "91a2a9d8-5c84-4930-8f5a-4e01feebcfcf",
   "metadata": {},
   "outputs": [],
   "source": [
    "# Tic-Tac-Toe Game\n",
    "\n",
    "def print_board(board):\n",
    "    print(\"+---+---+---+\")\n",
    "    for row in board:\n",
    "        print(\"| \" + \" | \".join(row) + \" |\")\n",
    "        print(\"+---+---+---+\")\n",
    "\n",
    "def check_winner(board, player):\n",
    "    for row in board:\n",
    "        if all([s == player for s in row]):\n",
    "            return True\n",
    "    for col in range(3):\n",
    "        if all([board[row][col] == player for row in range(3)]):\n",
    "            return True\n",
    "    if all([board[i][i] == player for i in range(3)]) or all([board[i][2-i] == player for i in range(3)]):\n",
    "        return True\n",
    "    return False\n",
    "\n",
    "def get_move(board):\n",
    "    while True:\n",
    "        try:\n",
    "            row, col = map(int, input(\"Enter your move (row col): \").split())\n",
    "            if board[row][col] == ' ':\n",
    "                return row, col\n",
    "            else:\n",
    "                print(\"This cell is already taken.\")\n",
    "        except (ValueError, IndexError):\n",
    "            print(\"Invalid move. Please enter row and column numbers (e.g., 1 2).\")\n",
    "\n",
    "def tic_tac_toe():\n",
    "    board = [[' ' for _ in range(3)] for _ in range(3)]\n",
    "    current_player = 'X'\n",
    "\n",
    "    for _ in range(9):\n",
    "        print_board(board)\n",
    "        print(f\"Player {current_player}'s turn\")\n",
    "        \n",
    "        row, col = get_move(board)\n",
    "        board[row][col] = current_player\n",
    "        \n",
    "        if check_winner(board, current_player):\n",
    "            print_board(board)\n",
    "            print(f\"Player {current_player} wins!\")\n",
    "            return\n",
    "        \n",
    "        current_player = 'O' if current_player == 'X' else 'X'\n",
    "\n",
    "    print_board(board)\n",
    "    print(\"It's a tie!\")"
   ]
  },
  {
   "cell_type": "code",
   "execution_count": null,
   "id": "b6697c02-448e-4549-8cad-b47ad6395ce7",
   "metadata": {},
   "outputs": [
    {
     "name": "stdout",
     "output_type": "stream",
     "text": [
      "+---+---+---+\n",
      "|   |   |   |\n",
      "+---+---+---+\n",
      "|   |   |   |\n",
      "+---+---+---+\n",
      "|   |   |   |\n",
      "+---+---+---+\n",
      "Player X's turn\n"
     ]
    }
   ],
   "source": [
    "# Start the game\n",
    "tic_tac_toe()\n"
   ]
  },
  {
   "cell_type": "code",
   "execution_count": null,
   "id": "7de18901-82e6-41da-acda-b622ca43aa34",
   "metadata": {},
   "outputs": [],
   "source": []
  }
 ],
 "metadata": {
  "kernelspec": {
   "display_name": "local venv",
   "language": "python",
   "name": "venv"
  },
  "language_info": {
   "codemirror_mode": {
    "name": "ipython",
    "version": 3
   },
   "file_extension": ".py",
   "mimetype": "text/x-python",
   "name": "python",
   "nbconvert_exporter": "python",
   "pygments_lexer": "ipython3",
   "version": "3.9.6"
  }
 },
 "nbformat": 4,
 "nbformat_minor": 5
}
