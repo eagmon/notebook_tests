{
 "cells": [
  {
   "cell_type": "markdown",
   "id": "782296cb-de43-407c-bd2d-580e5fe18e35",
   "metadata": {},
   "source": [
    "# simulation experiment\n",
    "The composition schema was developed for integrative simulations, but can also be used for workflows such as simulation experiments. This experimental notebook demonstrates simulation experiments as composites, going from the declarative JSON format to executable python script.  \n",
    "\n",
    "Example scripts were provided here: https://docs.google.com/document/d/1jZkaNhM_cOqMWtd4sJZ9b0VGXPTLsDKsRNI5Yvu4nOA/edit"
   ]
  },
  {
   "cell_type": "markdown",
   "id": "83d905b1-82b0-448f-8a88-877931be8126",
   "metadata": {},
   "source": [
    "### imports"
   ]
  },
  {
   "cell_type": "code",
   "execution_count": 1,
   "id": "05512681-be0c-4164-9cdd-6be276ccac0b",
   "metadata": {
    "tags": []
   },
   "outputs": [],
   "source": [
    "from sed2 import sed_process_registry, annotate, ports, register\n",
    "from sed2.core import (\n",
    "    serialize_instance, generate_script, register_functions, generate_composite_process, get_process_schema)\n",
    "from bigraph_viz import plot_bigraph, plot_flow, pf\n",
    "import numpy as np"
   ]
  },
  {
   "cell_type": "markdown",
   "id": "a34511a1-cdf4-4b07-aa58-72d15d2da242",
   "metadata": {},
   "source": [
    "### print the sed process registry\n",
    "These are the sed processes required to generate all of the examples. The processes used in this notebook are imported from a local library `sed2` and are added to the global namespace for easy calls. Different instances may use remote processes accessed as a service, or local Docker containers, or combinations of these."
   ]
  },
  {
   "cell_type": "code",
   "execution_count": 2,
   "id": "48910653-4f2b-4f27-a5b7-74eba4fe6028",
   "metadata": {
    "tags": []
   },
   "outputs": [
    {
     "name": "stdout",
     "output_type": "stream",
     "text": [
      "{ 'concentration_control_coefficient': { 'address': <function concentration_control_coefficient at 0x16b4ce670>,\n",
      "                                         'annotation': 'sed:is_steady_state',\n",
      "                                         'ports': { 'inputs': { 'model': 'Model',\n",
      "                                                                'parameter': 'string',\n",
      "                                                                'variable': 'string'},\n",
      "                                                    'outputs': { 'coefficient': 'float'}}},\n",
      "  'data_description': { 'address': <function data_description at 0x16b4ce3a0>,\n",
      "                        'annotation': 'sed:data_description',\n",
      "                        'ports': { 'inputs': { 'data_file': 'str',\n",
      "                                               'file_format': 'str'},\n",
      "                                   'outputs': {'data': 'pd.DataFrame'}}},\n",
      "  'is_steady_state': { 'address': <function is_steady_state at 0x16b4ce5e0>,\n",
      "                       'annotation': 'sed:is_steady_state',\n",
      "                       'ports': { 'inputs': { 'model': 'Model',\n",
      "                                              'tolerance': 'float'},\n",
      "                                  'outputs': {'sum': 'float'}}},\n",
      "  'model_get_value': { 'address': <function model_get_value at 0x16b4ce280>,\n",
      "                       'annotation': 'sed:get_model',\n",
      "                       'ports': { 'inputs': { 'element_id': 'str',\n",
      "                                              'model_instance': 'Model'},\n",
      "                                  'outputs': {'value': 'float'}}},\n",
      "  'model_reset': { 'address': <function model_reset at 0x16b4ce160>,\n",
      "                   'annotation': 'sed:model_reset',\n",
      "                   'ports': {'inputs': {'model_instance': 'Model'}}},\n",
      "  'model_set_value': { 'address': <function model_set_value at 0x16b4ce1f0>,\n",
      "                       'annotation': 'sed:set_model',\n",
      "                       'ports': { 'inputs': { 'element_id': 'str',\n",
      "                                              'model_instance': 'Model',\n",
      "                                              'value': 'float'}}},\n",
      "  'n_dimensional_scan': { 'address': <function n_dimensional_scan at 0x16b4ce820>,\n",
      "                          'annotation': 'sed:n_dimensional_scan',\n",
      "                          'ports': { 'inputs': { 'data_description': 'pd.DataFrame',\n",
      "                                                 'input_dict': 'dict',\n",
      "                                                 'model': 'Model',\n",
      "                                                 'num_points': 'int',\n",
      "                                                 'time_end': 'float',\n",
      "                                                 'time_start': 'float'},\n",
      "                                     'outputs': {'results': 'dict'}}},\n",
      "  'plot2d': { 'address': <function plot2d at 0x16b4ce940>,\n",
      "              'annotation': 'sed:plot2d',\n",
      "              'ports': { 'inputs': { 'curves': 'dict',\n",
      "                                     'name': 'str',\n",
      "                                     'results': 'dict'}}},\n",
      "  'repeated_simulation': { 'address': <function repeated_simulation at 0x16b4ce8b0>,\n",
      "                           'annotation': 'sed:repeated_simulation',\n",
      "                           'ports': { 'inputs': { 'config': 'dict',\n",
      "                                                  'model_instance': 'Model'},\n",
      "                                      'outputs': {'results': 'list'}}},\n",
      "  'report': { 'address': <function report at 0x16b4ce790>,\n",
      "              'annotation': 'sed:report',\n",
      "              'ports': {'inputs': {'results': 'Any', 'title': 'str'}}},\n",
      "  'sbml_model_from_path': { 'address': <function sbml_model_from_path at 0x16b4ce0d0>,\n",
      "                            'annotation': 'sed:sbml_model_from_path',\n",
      "                            'ports': { 'inputs': {'path_to_sbml': 'str'},\n",
      "                                       'outputs': {'model': 'Model'}}},\n",
      "  'steady_state_values': { 'address': <function steady_state_values at 0x16b4ce550>,\n",
      "                           'annotation': 'sed:steady_state_values',\n",
      "                           'ports': { 'inputs': { 'model': 'Model',\n",
      "                                                  'selection_list': 'list'},\n",
      "                                      'outputs': {'results': 'dict'}}},\n",
      "  'sum_of_squares': { 'address': <function sum_of_squares at 0x16b4ce430>,\n",
      "                      'annotation': 'sed:sum_of_squares',\n",
      "                      'ports': { 'inputs': { 'data': 'pd.DataFrame',\n",
      "                                             'sim': 'Dict[str, np.ndarray]'},\n",
      "                                 'outputs': {'sum': 'float'}}},\n",
      "  'uniform_time_course': { 'address': <function uniform_time_course at 0x16b4ce310>,\n",
      "                           'annotation': 'sed:uniform_time_course',\n",
      "                           'ports': { 'inputs': { 'model': 'Model',\n",
      "                                                  'num_points': 'int',\n",
      "                                                  'selection_list': 'List[str]',\n",
      "                                                  'time_end': 'float',\n",
      "                                                  'time_start': 'float'},\n",
      "                                      'outputs': {'results': 'dict'}}}}\n"
     ]
    }
   ],
   "source": [
    "# add sed processes to global namespace\n",
    "sed_process_registry.activate_all(globals())\n",
    "print(pf(sed_process_registry.registry))"
   ]
  },
  {
   "cell_type": "markdown",
   "id": "3ce2a69a-3488-454b-b860-e157ce7d7a45",
   "metadata": {},
   "source": [
    "### example 1\n",
    "Run a simulation from time start to time end with a given number of points/steps.  The run will return a 2D array of results."
   ]
  },
  {
   "cell_type": "markdown",
   "id": "d4b30d1f-2ba2-4a23-be96-adba7518bbf9",
   "metadata": {},
   "source": [
    "This is the script we aim to reproduce with SED-2:\n",
    "```\n",
    "model_instance = Model('urn:sedml:language:sbml', 'susceptible_zombie.xml')\n",
    "sim1 = uniform_time_course(model_instance, 0, 10, 50, selection_list=['time', 'S', 'Z'])\n",
    "curves = {\n",
    "    'Susceptible': {'x': 'time', 'y': 'S'},\n",
    "    'Zombie': {'x': 'time', 'y': 'Z'}\n",
    "}\n",
    "plot2d(results=sim1, curves=curves, name='Figure3')\n",
    "```"
   ]
  },
  {
   "cell_type": "markdown",
   "id": "bfbab758-18b7-4e97-a989-74b8b429510d",
   "metadata": {},
   "source": [
    "#### SED-2 document\n",
    "\n",
    "This declarative document describes the simulation experiment, with values and processes all declared in a simple format which can be serialized to JSON and shared."
   ]
  },
  {
   "cell_type": "code",
   "execution_count": 3,
   "id": "7bb9fc47-cfdb-4a33-a154-46a6506f9d7f",
   "metadata": {},
   "outputs": [
    {
     "name": "stdout",
     "output_type": "stream",
     "text": [
      "{\"time_start\": 0, \"time_end\": 10, \"num_points\": 50, \"selection_list\": [\"time\", \"S\", \"Z\"], \"model_path\": \"\\\"susceptible_zombie.xml\\\"\", \"curves\": {\"Susceptible\": {\"x\": \"time\", \"y\": \"S\"}, \"Zombie\": {\"x\": \"time\", \"y\": \"Z\"}}, \"figure1name\": \"\\\"Figure1\\\"\", \"sbml_model_from_path\": {\"_type\": \"sed:sbml_model_from_path\", \"wires\": {\"path_to_sbml\": \"model_path\", \"model\": \"model_instance\"}}, \"plot2d\": {\"_type\": \"sed:plot2d\", \"wires\": {\"results\": \"results\", \"curves\": \"curves\", \"name\": \"figure1name\"}, \"_depends_on\": [\"uniform_time_course\"]}, \"uniform_time_course\": {\"_type\": \"sed:uniform_time_course\", \"wires\": {\"model\": \"model_instance\", \"time_start\": \"time_start\", \"time_end\": \"time_end\", \"num_points\": \"num_points\", \"selection_list\": \"selection_list\", \"results\": \"results\"}, \"_depends_on\": [\"sbml_model_from_path\"]}}\n"
     ]
    }
   ],
   "source": [
    "# SED document serialized\n",
    "instance1 = {\n",
    "    'time_start': 0,\n",
    "    'time_end': 10,\n",
    "    'num_points': 50,\n",
    "    'selection_list': ['time', 'S', 'Z'],\n",
    "    'model_path': '\"susceptible_zombie.xml\"',\n",
    "    'curves': {\n",
    "        'Susceptible': {'x': 'time', 'y': 'S'},\n",
    "        'Zombie': {'x': 'time', 'y': 'Z'}\n",
    "    },\n",
    "    'figure1name': '\"Figure1\"',\n",
    "    'sbml_model_from_path': {\n",
    "        '_type': 'sed:sbml_model_from_path',\n",
    "        'wires': {\n",
    "            'path_to_sbml': 'model_path',\n",
    "            'model': 'model_instance'\n",
    "        },\n",
    "    },\n",
    "    'plot2d': {\n",
    "        '_type': 'sed:plot2d',\n",
    "        'wires': {\n",
    "            'results': 'results',\n",
    "            'curves': 'curves',\n",
    "            'name': 'figure1name',\n",
    "        },\n",
    "        '_depends_on': ['uniform_time_course'],\n",
    "    },\n",
    "    'uniform_time_course': {\n",
    "        '_type': 'sed:uniform_time_course',\n",
    "        'wires': {\n",
    "            'model': 'model_instance',\n",
    "            'time_start': 'time_start',\n",
    "            'time_end': 'time_end',\n",
    "            'num_points': 'num_points',\n",
    "            'selection_list': 'selection_list',\n",
    "            'results': 'results',\n",
    "        },\n",
    "        '_depends_on': ['sbml_model_from_path'],\n",
    "    },\n",
    "}\n",
    "\n",
    "# fill(instance)  # autocomplete\n",
    "# validate_schema(instance) # TODO -- demonstrate validation\n",
    "\n",
    "# Serialize to JSON\n",
    "json_str1 = serialize_instance(instance1)\n",
    "print(json_str1)"
   ]
  },
  {
   "cell_type": "markdown",
   "id": "9f2d75e8-148f-4d9b-a2f7-94e65e5b09b1",
   "metadata": {},
   "source": [
    "#### from JSON string to Python script"
   ]
  },
  {
   "cell_type": "code",
   "execution_count": 4,
   "id": "a017c843-a9c3-4b17-a007-ed1229b7dcbe",
   "metadata": {
    "tags": []
   },
   "outputs": [
    {
     "data": {
      "text/plain": [
       "{'inputs': {'model': 'Model',\n",
       "  'time_start': 'float',\n",
       "  'time_end': 'float',\n",
       "  'num_points': 'int',\n",
       "  'selection_list': 'List[str]'},\n",
       " 'outputs': {'results': 'dict'}}"
      ]
     },
     "execution_count": 4,
     "metadata": {},
     "output_type": "execute_result"
    }
   ],
   "source": [
    "uniform_time_course.ports"
   ]
  },
  {
   "cell_type": "code",
   "execution_count": 5,
   "id": "3011be6b-bb5f-47c7-85a0-c850767ed354",
   "metadata": {
    "tags": []
   },
   "outputs": [
    {
     "name": "stdout",
     "output_type": "stream",
     "text": [
      "figure1name = \"Figure1\"\n",
      "curves = {'Susceptible': {'x': 'time', 'y': 'S'}, 'Zombie': {'x': 'time', 'y': 'Z'}}\n",
      "model_path = \"susceptible_zombie.xml\"\n",
      "selection_list = ['time', 'S', 'Z']\n",
      "num_points = 50\n",
      "time_end = 10\n",
      "time_start = 0\n",
      "model_instance = sbml_model_from_path(path_to_sbml=model_path)\n",
      "results = uniform_time_course(model=model_instance, time_start=time_start, time_end=time_end, num_points=num_points, selection_list=selection_list)\n",
      "plot2d(results=results, curves=curves, name=figure1name)\n"
     ]
    }
   ],
   "source": [
    "# Generate the script\n",
    "script1 = generate_script(json_str1, sed_process_registry)\n",
    "print(script1)"
   ]
  },
  {
   "cell_type": "markdown",
   "id": "d49de5f5-f3b2-451a-b0c1-94542c9640fc",
   "metadata": {},
   "source": [
    "#### Execute the script\n",
    "You get the same results as above"
   ]
  },
  {
   "cell_type": "code",
   "execution_count": 6,
   "id": "5d209eb7-af51-4344-a3ec-1fec74c29743",
   "metadata": {
    "tags": []
   },
   "outputs": [
    {
     "data": {
      "image/png": "[encoded data removed]",
      "text/plain": [
       "<Figure size 640x480 with 1 Axes>"
      ]
     },
     "metadata": {},
     "output_type": "display_data"
    }
   ],
   "source": [
    "# Execute the script\n",
    "exec(script1)"
   ]
  },
  {
   "cell_type": "code",
   "execution_count": 7,
   "id": "59a31f12-d8ea-46b9-b94d-96773f9740af",
   "metadata": {
    "tags": []
   },
   "outputs": [
    {
     "data": {
      "image/svg+xml": [
       "<?xml version=\"1.0\" encoding=\"UTF-8\" standalone=\"no\"?>\n",
       "<!DOCTYPE svg PUBLIC \"-//W3C//DTD SVG 1.1//EN\"\n",
       " \"http://www.w3.org/Graphics/SVG/1.1/DTD/svg11.dtd\">\n",
       "<!-- Generated by graphviz version 7.1.0 (20230121.1956)\n",
       " -->\n",
       "<!-- Title: bigraph Pages: 1 -->\n",
       "<svg width=\"281pt\" height=\"700pt\"\n",
       " viewBox=\"0.00 0.00 289.18 720.00\" xmlns=\"http://www.w3.org/2000/svg\" xmlns:xlink=\"http://www.w3.org/1999/xlink\">\n",
       "<g id=\"graph0\" class=\"graph\" transform=\"scale(0.870537 0.870537) rotate(0) translate(4 800.1)\">\n",
       "<title>bigraph</title>\n",
       "<polygon fill=\"white\" stroke=\"none\" points=\"-4,4 -4,-800.1 318.96,-800.1 318.96,4 -4,4\"/>\n",
       "<!-- (&#39;time_start&#39;,) -->\n",
       "<g id=\"node1\" class=\"node\">\n",
       "<title>(&#39;time_start&#39;,)</title>\n",
       "<ellipse fill=\"none\" stroke=\"black\" stroke-width=\"2\" cx=\"264.48\" cy=\"-762.86\" rx=\"33.49\" ry=\"33.49\"/>\n",
       "<text text-anchor=\"start\" x=\"241.48\" y=\"-759.76\" font-family=\"Times,serif\" font-size=\"12.00\">time_start</text>\n",
       "</g>\n",
       "<!-- (&#39;uniform_time_course&#39;,) -->\n",
       "<g id=\"node10\" class=\"node\">\n",
       "<title>(&#39;uniform_time_course&#39;,)</title>\n",
       "<polygon fill=\"none\" stroke=\"black\" stroke-width=\"2\" points=\"115,-558.86 6,-558.86 6,-522.86 115,-522.86 115,-558.86\"/>\n",
       "<text text-anchor=\"start\" x=\"10\" y=\"-537.76\" font-family=\"Times,serif\" font-size=\"12.00\">uniform_time_course</text>\n",
       "</g>\n",
       "<!-- (&#39;time_start&#39;,)&#45;&gt;(&#39;uniform_time_course&#39;,) -->\n",
       "<g id=\"edge7\" class=\"edge\">\n",
       "<title>(&#39;time_start&#39;,)&#45;&gt;(&#39;uniform_time_course&#39;,)</title>\n",
       "<path fill=\"none\" stroke=\"black\" stroke-dasharray=\"5,2\" d=\"M237.45,-741.45C229.79,-734.96 221.46,-727.73 214,-720.86 179.34,-688.91 169.75,-681.59 139,-645.86 115.76,-618.86 91.84,-585.42 76.83,-563.64\"/>\n",
       "<ellipse fill=\"black\" stroke=\"black\" cx=\"75.55\" cy=\"-561.77\" rx=\"2\" ry=\"2\"/>\n",
       "<text text-anchor=\"start\" x=\"147\" y=\"-706.86\" font-family=\"Times,serif\" font-size=\"10.00\">time_start</text>\n",
       "</g>\n",
       "<!-- (&#39;time_end&#39;,) -->\n",
       "<g id=\"node2\" class=\"node\">\n",
       "<title>(&#39;time_end&#39;,)</title>\n",
       "<ellipse fill=\"none\" stroke=\"black\" stroke-width=\"2\" cx=\"264.48\" cy=\"-679.86\" rx=\"32.02\" ry=\"32.02\"/>\n",
       "<text text-anchor=\"start\" x=\"242.48\" y=\"-676.76\" font-family=\"Times,serif\" font-size=\"12.00\">time_end</text>\n",
       "</g>\n",
       "<!-- (&#39;time_end&#39;,)&#45;&gt;(&#39;uniform_time_course&#39;,) -->\n",
       "<g id=\"edge8\" class=\"edge\">\n",
       "<title>(&#39;time_end&#39;,)&#45;&gt;(&#39;uniform_time_course&#39;,)</title>\n",
       "<path fill=\"none\" stroke=\"black\" stroke-dasharray=\"5,2\" d=\"M237.07,-661.69C199.88,-636.1 132.21,-589.52 92.62,-562.28\"/>\n",
       "<ellipse fill=\"black\" stroke=\"black\" cx=\"90.94\" cy=\"-561.12\" rx=\"2\" ry=\"2\"/>\n",
       "<text text-anchor=\"start\" x=\"148\" y=\"-633.86\" font-family=\"Times,serif\" font-size=\"10.00\">time_end</text>\n",
       "</g>\n",
       "<!-- (&#39;num_points&#39;,) -->\n",
       "<g id=\"node3\" class=\"node\">\n",
       "<title>(&#39;num_points&#39;,)</title>\n",
       "<ellipse fill=\"none\" stroke=\"black\" stroke-width=\"2\" cx=\"264.48\" cy=\"-590.86\" rx=\"39.3\" ry=\"39.3\"/>\n",
       "<text text-anchor=\"start\" x=\"236.48\" y=\"-587.76\" font-family=\"Times,serif\" font-size=\"12.00\">num_points</text>\n",
       "</g>\n",
       "<!-- (&#39;num_points&#39;,)&#45;&gt;(&#39;uniform_time_course&#39;,) -->\n",
       "<g id=\"edge9\" class=\"edge\">\n",
       "<title>(&#39;num_points&#39;,)&#45;&gt;(&#39;uniform_time_course&#39;,)</title>\n",
       "<path fill=\"none\" stroke=\"black\" stroke-dasharray=\"5,2\" d=\"M225.49,-581.46C195.85,-574.12 154.16,-563.8 120.23,-555.4\"/>\n",
       "<ellipse fill=\"black\" stroke=\"black\" cx=\"118.14\" cy=\"-554.88\" rx=\"2\" ry=\"2\"/>\n",
       "<text text-anchor=\"start\" x=\"143\" y=\"-575.86\" font-family=\"Times,serif\" font-size=\"10.00\">num_points</text>\n",
       "</g>\n",
       "<!-- (&#39;selection_list&#39;,) -->\n",
       "<g id=\"node4\" class=\"node\">\n",
       "<title>(&#39;selection_list&#39;,)</title>\n",
       "<ellipse fill=\"none\" stroke=\"black\" stroke-width=\"2\" cx=\"264.48\" cy=\"-490.86\" rx=\"42.45\" ry=\"42.45\"/>\n",
       "<text text-anchor=\"start\" x=\"233.98\" y=\"-487.76\" font-family=\"Times,serif\" font-size=\"12.00\">selection_list</text>\n",
       "</g>\n",
       "<!-- (&#39;selection_list&#39;,)&#45;&gt;(&#39;uniform_time_course&#39;,) -->\n",
       "<g id=\"edge10\" class=\"edge\">\n",
       "<title>(&#39;selection_list&#39;,)&#45;&gt;(&#39;uniform_time_course&#39;,)</title>\n",
       "<path fill=\"none\" stroke=\"black\" stroke-dasharray=\"5,2\" d=\"M222.6,-500.98C193.27,-508.24 153.3,-518.14 120.51,-526.25\"/>\n",
       "<ellipse fill=\"black\" stroke=\"black\" cx=\"118.15\" cy=\"-526.84\" rx=\"2\" ry=\"2\"/>\n",
       "<text text-anchor=\"start\" x=\"140\" y=\"-522.86\" font-family=\"Times,serif\" font-size=\"10.00\">selection_list</text>\n",
       "</g>\n",
       "<!-- (&#39;model_path&#39;,) -->\n",
       "<g id=\"node5\" class=\"node\">\n",
       "<title>(&#39;model_path&#39;,)</title>\n",
       "<ellipse fill=\"none\" stroke=\"black\" stroke-width=\"2\" cx=\"264.48\" cy=\"-206.86\" rx=\"39.3\" ry=\"39.3\"/>\n",
       "<text text-anchor=\"start\" x=\"236.48\" y=\"-203.76\" font-family=\"Times,serif\" font-size=\"12.00\">model_path</text>\n",
       "</g>\n",
       "<!-- (&#39;sbml_model_from_path&#39;,) -->\n",
       "<g id=\"node8\" class=\"node\">\n",
       "<title>(&#39;sbml_model_from_path&#39;,)</title>\n",
       "<polygon fill=\"none\" stroke=\"black\" stroke-width=\"2\" points=\"121,-305.86 0,-305.86 0,-269.86 121,-269.86 121,-305.86\"/>\n",
       "<text text-anchor=\"start\" x=\"4\" y=\"-284.76\" font-family=\"Times,serif\" font-size=\"12.00\">sbml_model_from_path</text>\n",
       "</g>\n",
       "<!-- (&#39;model_path&#39;,)&#45;&gt;(&#39;sbml_model_from_path&#39;,) -->\n",
       "<g id=\"edge1\" class=\"edge\">\n",
       "<title>(&#39;model_path&#39;,)&#45;&gt;(&#39;sbml_model_from_path&#39;,)</title>\n",
       "<path fill=\"none\" stroke=\"black\" stroke-dasharray=\"5,2\" d=\"M224.61,-210.35C199.39,-213.64 166.27,-219.94 139,-231.86 119.65,-240.32 100.39,-254.2 85.91,-266.02\"/>\n",
       "<ellipse fill=\"black\" stroke=\"black\" cx=\"84.26\" cy=\"-267.39\" rx=\"2\" ry=\"2\"/>\n",
       "<text text-anchor=\"start\" x=\"139\" y=\"-234.86\" font-family=\"Times,serif\" font-size=\"10.00\">path_to_sbml</text>\n",
       "</g>\n",
       "<!-- (&#39;curves&#39;,) -->\n",
       "<g id=\"node6\" class=\"node\">\n",
       "<title>(&#39;curves&#39;,)</title>\n",
       "<ellipse fill=\"none\" stroke=\"black\" stroke-width=\"2\" cx=\"264.48\" cy=\"-125.86\" rx=\"24.02\" ry=\"24.02\"/>\n",
       "<text text-anchor=\"start\" x=\"248.98\" y=\"-122.76\" font-family=\"Times,serif\" font-size=\"12.00\">curves</text>\n",
       "</g>\n",
       "<!-- (&#39;plot2d&#39;,) -->\n",
       "<g id=\"node9\" class=\"node\">\n",
       "<title>(&#39;plot2d&#39;,)</title>\n",
       "<polygon fill=\"none\" stroke=\"black\" stroke-width=\"2\" points=\"87.5,-143.86 33.5,-143.86 33.5,-107.86 87.5,-107.86 87.5,-143.86\"/>\n",
       "<text text-anchor=\"start\" x=\"45\" y=\"-122.76\" font-family=\"Times,serif\" font-size=\"12.00\">plot2d</text>\n",
       "</g>\n",
       "<!-- (&#39;curves&#39;,)&#45;&gt;(&#39;plot2d&#39;,) -->\n",
       "<g id=\"edge4\" class=\"edge\">\n",
       "<title>(&#39;curves&#39;,)&#45;&gt;(&#39;plot2d&#39;,)</title>\n",
       "<path fill=\"none\" stroke=\"black\" stroke-dasharray=\"5,2\" d=\"M239.52,-125.86C203.07,-125.86 133.65,-125.86 93.11,-125.86\"/>\n",
       "<ellipse fill=\"black\" stroke=\"black\" cx=\"90.82\" cy=\"-125.86\" rx=\"2\" ry=\"2\"/>\n",
       "<text text-anchor=\"start\" x=\"154\" y=\"-128.86\" font-family=\"Times,serif\" font-size=\"10.00\">curves</text>\n",
       "</g>\n",
       "<!-- (&#39;figure1name&#39;,) -->\n",
       "<g id=\"node7\" class=\"node\">\n",
       "<title>(&#39;figure1name&#39;,)</title>\n",
       "<ellipse fill=\"none\" stroke=\"black\" stroke-width=\"2\" cx=\"264.48\" cy=\"-41.86\" rx=\"41.72\" ry=\"41.72\"/>\n",
       "<text text-anchor=\"start\" x=\"234.48\" y=\"-38.76\" font-family=\"Times,serif\" font-size=\"12.00\">figure1name</text>\n",
       "</g>\n",
       "<!-- (&#39;figure1name&#39;,)&#45;&gt;(&#39;plot2d&#39;,) -->\n",
       "<g id=\"edge5\" class=\"edge\">\n",
       "<title>(&#39;figure1name&#39;,)&#45;&gt;(&#39;plot2d&#39;,)</title>\n",
       "<path fill=\"none\" stroke=\"black\" stroke-dasharray=\"5,2\" d=\"M225.01,-57.86C186.52,-73.87 128.04,-98.19 92.44,-112.99\"/>\n",
       "<ellipse fill=\"black\" stroke=\"black\" cx=\"90.53\" cy=\"-113.79\" rx=\"2\" ry=\"2\"/>\n",
       "<text text-anchor=\"start\" x=\"156.5\" y=\"-93.86\" font-family=\"Times,serif\" font-size=\"10.00\">name</text>\n",
       "</g>\n",
       "<!-- (&#39;model_instance&#39;,) -->\n",
       "<g id=\"node11\" class=\"node\">\n",
       "<title>(&#39;model_instance&#39;,)</title>\n",
       "<ellipse fill=\"none\" stroke=\"black\" stroke-width=\"2\" cx=\"264.48\" cy=\"-379.86\" rx=\"50.46\" ry=\"50.46\"/>\n",
       "<text text-anchor=\"start\" x=\"227.48\" y=\"-376.76\" font-family=\"Times,serif\" font-size=\"12.00\">model_instance</text>\n",
       "</g>\n",
       "<!-- (&#39;model_instance&#39;,)&#45;&gt;(&#39;sbml_model_from_path&#39;,) -->\n",
       "<g id=\"edge2\" class=\"edge\">\n",
       "<title>(&#39;model_instance&#39;,)&#45;&gt;(&#39;sbml_model_from_path&#39;,)</title>\n",
       "<path fill=\"none\" stroke=\"black\" stroke-dasharray=\"5,2\" d=\"M214.21,-369.19C190.76,-363.13 162.72,-354.41 139,-342.86 120.68,-333.94 101.99,-320.82 87.56,-309.63\"/>\n",
       "<ellipse fill=\"black\" stroke=\"black\" cx=\"85.95\" cy=\"-308.38\" rx=\"2\" ry=\"2\"/>\n",
       "<text text-anchor=\"start\" x=\"154.5\" y=\"-366.86\" font-family=\"Times,serif\" font-size=\"10.00\">model</text>\n",
       "</g>\n",
       "<!-- (&#39;model_instance&#39;,)&#45;&gt;(&#39;uniform_time_course&#39;,) -->\n",
       "<g id=\"edge6\" class=\"edge\">\n",
       "<title>(&#39;model_instance&#39;,)&#45;&gt;(&#39;uniform_time_course&#39;,)</title>\n",
       "<path fill=\"none\" stroke=\"black\" stroke-dasharray=\"5,2\" d=\"M224.06,-411.28C184.29,-442.98 123.93,-491.1 89.04,-518.91\"/>\n",
       "<ellipse fill=\"black\" stroke=\"black\" cx=\"87.29\" cy=\"-520.31\" rx=\"2\" ry=\"2\"/>\n",
       "<text text-anchor=\"start\" x=\"154.5\" y=\"-476.86\" font-family=\"Times,serif\" font-size=\"10.00\">model</text>\n",
       "</g>\n",
       "<!-- (&#39;results&#39;,) -->\n",
       "<g id=\"node12\" class=\"node\">\n",
       "<title>(&#39;results&#39;,)</title>\n",
       "<ellipse fill=\"none\" stroke=\"black\" stroke-width=\"2\" cx=\"264.48\" cy=\"-287.86\" rx=\"24.02\" ry=\"24.02\"/>\n",
       "<text text-anchor=\"start\" x=\"248.98\" y=\"-284.76\" font-family=\"Times,serif\" font-size=\"12.00\">results</text>\n",
       "</g>\n",
       "<!-- (&#39;results&#39;,)&#45;&gt;(&#39;plot2d&#39;,) -->\n",
       "<g id=\"edge3\" class=\"edge\">\n",
       "<title>(&#39;results&#39;,)&#45;&gt;(&#39;plot2d&#39;,)</title>\n",
       "<path fill=\"none\" stroke=\"black\" stroke-dasharray=\"5,2\" d=\"M240.22,-284.02C213.47,-278.65 169.35,-266.72 139,-242.86 106.95,-217.66 83.69,-175.42 71.42,-149.18\"/>\n",
       "<ellipse fill=\"black\" stroke=\"black\" cx=\"70.45\" cy=\"-147.06\" rx=\"2\" ry=\"2\"/>\n",
       "<text text-anchor=\"start\" x=\"154\" y=\"-273.86\" font-family=\"Times,serif\" font-size=\"10.00\">results</text>\n",
       "</g>\n",
       "<!-- (&#39;results&#39;,)&#45;&gt;(&#39;uniform_time_course&#39;,) -->\n",
       "<g id=\"edge11\" class=\"edge\">\n",
       "<title>(&#39;results&#39;,)&#45;&gt;(&#39;uniform_time_course&#39;,)</title>\n",
       "<path fill=\"none\" stroke=\"black\" stroke-dasharray=\"5,2\" d=\"M239.7,-289.36C212.03,-292.34 166.64,-301.26 139,-327.86 84.68,-380.15 68.26,-473.5 63.43,-517.14\"/>\n",
       "<ellipse fill=\"black\" stroke=\"black\" cx=\"63.19\" cy=\"-519.47\" rx=\"2\" ry=\"2\"/>\n",
       "<text text-anchor=\"start\" x=\"154\" y=\"-330.86\" font-family=\"Times,serif\" font-size=\"10.00\">results</text>\n",
       "</g>\n",
       "</g>\n",
       "</svg>\n"
      ],
      "text/plain": [
       "<graphviz.graphs.Digraph at 0x16bce0c70>"
      ]
     },
     "execution_count": 7,
     "metadata": {},
     "output_type": "execute_result"
    }
   ],
   "source": [
    "# Plot function map\n",
    "remove_nodes = [('curves', 'Susceptible'),('curves', 'Zombie'),]\n",
    "plot_bigraph(instance1, remove_nodes=remove_nodes, rankdir='RL')"
   ]
  },
  {
   "cell_type": "code",
   "execution_count": 8,
   "id": "4283e5f2-4fb2-486b-aa65-a1d94a9c086d",
   "metadata": {
    "tags": []
   },
   "outputs": [
    {
     "data": {
      "image/svg+xml": [
       "<?xml version=\"1.0\" encoding=\"UTF-8\" standalone=\"no\"?>\n",
       "<!DOCTYPE svg PUBLIC \"-//W3C//DTD SVG 1.1//EN\"\n",
       " \"http://www.w3.org/Graphics/SVG/1.1/DTD/svg11.dtd\">\n",
       "<!-- Generated by graphviz version 7.1.0 (20230121.1956)\n",
       " -->\n",
       "<!-- Title: flow Pages: 1 -->\n",
       "<svg width=\"153pt\" height=\"183pt\"\n",
       " viewBox=\"0.00 0.00 157.00 188.00\" xmlns=\"http://www.w3.org/2000/svg\" xmlns:xlink=\"http://www.w3.org/1999/xlink\">\n",
       "<g id=\"graph0\" class=\"graph\" transform=\"scale(0.972222 0.972222) rotate(0) translate(4 184)\">\n",
       "<title>flow</title>\n",
       "<polygon fill=\"white\" stroke=\"none\" points=\"-4,4 -4,-184 153,-184 153,4 -4,4\"/>\n",
       "<!-- (&#39;sbml_model_from_path&#39;,) -->\n",
       "<g id=\"node1\" class=\"node\">\n",
       "<title>(&#39;sbml_model_from_path&#39;,)</title>\n",
       "<polygon fill=\"none\" stroke=\"black\" stroke-width=\"2\" points=\"149,-180 0,-180 0,-144 149,-144 149,-180\"/>\n",
       "<text text-anchor=\"start\" x=\"8\" y=\"-158.3\" font-family=\"Times,serif\" font-size=\"14.00\">sbml_model_from_path</text>\n",
       "</g>\n",
       "<!-- (&#39;uniform_time_course&#39;,) -->\n",
       "<g id=\"node3\" class=\"node\">\n",
       "<title>(&#39;uniform_time_course&#39;,)</title>\n",
       "<polygon fill=\"none\" stroke=\"black\" stroke-width=\"2\" points=\"141.5,-108 7.5,-108 7.5,-72 141.5,-72 141.5,-108\"/>\n",
       "<text text-anchor=\"start\" x=\"15.5\" y=\"-86.3\" font-family=\"Times,serif\" font-size=\"14.00\">uniform_time_course</text>\n",
       "</g>\n",
       "<!-- (&#39;sbml_model_from_path&#39;,)&#45;&gt;(&#39;uniform_time_course&#39;,) -->\n",
       "<g id=\"edge2\" class=\"edge\">\n",
       "<title>(&#39;sbml_model_from_path&#39;,)&#45;&gt;(&#39;uniform_time_course&#39;,)</title>\n",
       "<path fill=\"none\" stroke=\"black\" stroke-width=\"2\" d=\"M74.5,-143.34C74.5,-136.75 74.5,-129.08 74.5,-121.67\"/>\n",
       "<polygon fill=\"black\" stroke=\"black\" stroke-width=\"2\" points=\"78,-121.93 74.5,-111.93 71,-121.93 78,-121.93\"/>\n",
       "</g>\n",
       "<!-- (&#39;plot2d&#39;,) -->\n",
       "<g id=\"node2\" class=\"node\">\n",
       "<title>(&#39;plot2d&#39;,)</title>\n",
       "<polygon fill=\"none\" stroke=\"black\" stroke-width=\"2\" points=\"101.5,-36 47.5,-36 47.5,0 101.5,0 101.5,-36\"/>\n",
       "<text text-anchor=\"start\" x=\"57\" y=\"-14.3\" font-family=\"Times,serif\" font-size=\"14.00\">plot2d</text>\n",
       "</g>\n",
       "<!-- (&#39;uniform_time_course&#39;,)&#45;&gt;(&#39;plot2d&#39;,) -->\n",
       "<g id=\"edge1\" class=\"edge\">\n",
       "<title>(&#39;uniform_time_course&#39;,)&#45;&gt;(&#39;plot2d&#39;,)</title>\n",
       "<path fill=\"none\" stroke=\"black\" stroke-width=\"2\" d=\"M74.5,-71.34C74.5,-64.75 74.5,-57.08 74.5,-49.67\"/>\n",
       "<polygon fill=\"black\" stroke=\"black\" stroke-width=\"2\" points=\"78,-49.93 74.5,-39.93 71,-49.93 78,-49.93\"/>\n",
       "</g>\n",
       "</g>\n",
       "</svg>\n"
      ],
      "text/plain": [
       "<graphviz.graphs.Digraph at 0x16bce0970>"
      ]
     },
     "execution_count": 8,
     "metadata": {},
     "output_type": "execute_result"
    }
   ],
   "source": [
    "# Plot the flow diagram\n",
    "plot_flow(instance1)"
   ]
  },
  {
   "cell_type": "markdown",
   "id": "9f2aed28-a0aa-4cbc-9c55-36597a6840c8",
   "metadata": {},
   "source": [
    "### example 2\n",
    "Run a single steady-state simulation, The run returns a 1D array containing the steady state values.\n",
    "\n",
    "The script we aim to generate:\n",
    "```\n",
    "model_instance = Model('urn:sedml:language:sbml', 'susceptible_zombie.xml')\n",
    "ss1 = steady_state_values(model_instance, selection_list=['S', 'Z'])\n",
    "report(ss1, title='Steady States')\n",
    "```"
   ]
  },
  {
   "cell_type": "markdown",
   "id": "18f80647-2d2f-4a68-8326-f4c595472961",
   "metadata": {},
   "source": [
    "#### SED-2 document"
   ]
  },
  {
   "cell_type": "code",
   "execution_count": 9,
   "id": "c2942bd2-404f-4c73-a5a6-aaaf1f886de7",
   "metadata": {},
   "outputs": [
    {
     "name": "stdout",
     "output_type": "stream",
     "text": [
      "{\"model_path\": \"\\\"susceptible_zombie.xml\\\"\", \"UTC\": \"\\\"UTC\\\"\", \"sbml_model_from_path\": {\"_type\": \"sed:sbml_model_from_path\", \"wires\": {\"path_to_sbml\": \"model_path\", \"model\": \"model_instance\"}}, \"steady_state_values\": {\"_type\": \"sed:steady_state_values\", \"wires\": {\"model\": \"model_instance\", \"time_start\": \"time_start\", \"time_end\": \"time_end\", \"num_points\": \"num_points\", \"selection_list\": \"selection_list\", \"results\": \"results\"}, \"_depends_on\": [\"sbml_model_from_path\"]}, \"report\": {\"_type\": \"sed:report\", \"wires\": {\"results\": \"results\", \"title\": \"UTC\"}, \"_depends_on\": [\"steady_state_values\"]}}\n"
     ]
    }
   ],
   "source": [
    "# SED document serialized\n",
    "instance2 = {\n",
    "    'model_path': '\"susceptible_zombie.xml\"',\n",
    "    'UTC': '\"UTC\"',\n",
    "    'sbml_model_from_path': {\n",
    "        '_type': 'sed:sbml_model_from_path',\n",
    "        'wires': {\n",
    "            'path_to_sbml': 'model_path',\n",
    "            'model': 'model_instance'\n",
    "        },\n",
    "    },\n",
    "    'steady_state_values': {\n",
    "        '_type': 'sed:steady_state_values',\n",
    "        'wires': {\n",
    "            'model': 'model_instance',\n",
    "            'time_start': 'time_start',\n",
    "            'time_end': 'time_end',\n",
    "            'num_points': 'num_points',\n",
    "            'selection_list': 'selection_list',\n",
    "            'results': 'results',\n",
    "        },\n",
    "        '_depends_on': ['sbml_model_from_path']\n",
    "    },\n",
    "    'report': {\n",
    "        '_type': 'sed:report',\n",
    "        'wires': {\n",
    "            'results': 'results',\n",
    "            'title': 'UTC'  # this should be optional\n",
    "        },\n",
    "        '_depends_on': ['steady_state_values']\n",
    "    }\n",
    "}\n",
    "\n",
    "# Serialize to JSON\n",
    "json_str2 = serialize_instance(instance2)\n",
    "print(json_str2)"
   ]
  },
  {
   "cell_type": "markdown",
   "id": "d8d5f5e0-ba66-4f3f-a9bd-24c632957693",
   "metadata": {},
   "source": [
    "#### from JSON string to Python script"
   ]
  },
  {
   "cell_type": "code",
   "execution_count": 10,
   "id": "a08d3831-285e-4f36-9e23-0f751f5064e4",
   "metadata": {
    "tags": []
   },
   "outputs": [
    {
     "name": "stdout",
     "output_type": "stream",
     "text": [
      "UTC = \"UTC\"\n",
      "model_path = \"susceptible_zombie.xml\"\n",
      "model_instance = sbml_model_from_path(path_to_sbml=model_path)\n",
      "results = steady_state_values(model=model_instance, selection_list=selection_list)\n",
      "report(results=results, title=UTC)\n"
     ]
    }
   ],
   "source": [
    "# Generate the script\n",
    "script2 = generate_script(json_str2, sed_process_registry)\n",
    "print(script2)"
   ]
  },
  {
   "cell_type": "code",
   "execution_count": 11,
   "id": "d0892ba2-cad5-45c6-9021-a6182c4dba57",
   "metadata": {
    "tags": []
   },
   "outputs": [
    {
     "name": "stdout",
     "output_type": "stream",
     "text": [
      "UTC\n",
      "S: 1.0587911840678754e-22\n",
      "Z: 51.0\n"
     ]
    }
   ],
   "source": [
    "# Execute the script\n",
    "exec(script2)"
   ]
  },
  {
   "cell_type": "code",
   "execution_count": 12,
   "id": "1bd26751-f6c6-4e5e-8a2a-8da363a4b395",
   "metadata": {
    "tags": []
   },
   "outputs": [
    {
     "data": {
      "image/svg+xml": [
       "<?xml version=\"1.0\" encoding=\"UTF-8\" standalone=\"no\"?>\n",
       "<!DOCTYPE svg PUBLIC \"-//W3C//DTD SVG 1.1//EN\"\n",
       " \"http://www.w3.org/Graphics/SVG/1.1/DTD/svg11.dtd\">\n",
       "<!-- Generated by graphviz version 7.1.0 (20230121.1956)\n",
       " -->\n",
       "<!-- Title: bigraph Pages: 1 -->\n",
       "<svg width=\"314pt\" height=\"676pt\"\n",
       " viewBox=\"0.00 0.00 322.96 695.71\" xmlns=\"http://www.w3.org/2000/svg\" xmlns:xlink=\"http://www.w3.org/1999/xlink\">\n",
       "<g id=\"graph0\" class=\"graph\" transform=\"scale(0.972222 0.972222) rotate(0) translate(4 691.71)\">\n",
       "<title>bigraph</title>\n",
       "<polygon fill=\"white\" stroke=\"none\" points=\"-4,4 -4,-691.71 318.96,-691.71 318.96,4 -4,4\"/>\n",
       "<!-- (&#39;model_path&#39;,) -->\n",
       "<g id=\"node1\" class=\"node\">\n",
       "<title>(&#39;model_path&#39;,)</title>\n",
       "<ellipse fill=\"none\" stroke=\"black\" stroke-width=\"2\" cx=\"264.48\" cy=\"-648.31\" rx=\"39.3\" ry=\"39.3\"/>\n",
       "<text text-anchor=\"start\" x=\"236.48\" y=\"-645.21\" font-family=\"Times,serif\" font-size=\"12.00\">model_path</text>\n",
       "</g>\n",
       "<!-- (&#39;sbml_model_from_path&#39;,) -->\n",
       "<g id=\"node3\" class=\"node\">\n",
       "<title>(&#39;sbml_model_from_path&#39;,)</title>\n",
       "<polygon fill=\"none\" stroke=\"black\" stroke-width=\"2\" points=\"121,-637.31 0,-637.31 0,-601.31 121,-601.31 121,-637.31\"/>\n",
       "<text text-anchor=\"start\" x=\"4\" y=\"-616.21\" font-family=\"Times,serif\" font-size=\"12.00\">sbml_model_from_path</text>\n",
       "</g>\n",
       "<!-- (&#39;model_path&#39;,)&#45;&gt;(&#39;sbml_model_from_path&#39;,) -->\n",
       "<g id=\"edge1\" class=\"edge\">\n",
       "<title>(&#39;model_path&#39;,)&#45;&gt;(&#39;sbml_model_from_path&#39;,)</title>\n",
       "<path fill=\"none\" stroke=\"black\" stroke-dasharray=\"5,2\" d=\"M225.01,-642.79C197.19,-638.8 158.94,-633.3 126.43,-628.64\"/>\n",
       "<ellipse fill=\"black\" stroke=\"black\" cx=\"124.15\" cy=\"-628.31\" rx=\"2\" ry=\"2\"/>\n",
       "<text text-anchor=\"start\" x=\"139\" y=\"-640.31\" font-family=\"Times,serif\" font-size=\"10.00\">path_to_sbml</text>\n",
       "</g>\n",
       "<!-- (&#39;UTC&#39;,) -->\n",
       "<g id=\"node2\" class=\"node\">\n",
       "<title>(&#39;UTC&#39;,)</title>\n",
       "<ellipse fill=\"none\" stroke=\"black\" stroke-width=\"2\" cx=\"264.48\" cy=\"-20.31\" rx=\"20.13\" ry=\"20.13\"/>\n",
       "<text text-anchor=\"start\" x=\"251.98\" y=\"-17.21\" font-family=\"Times,serif\" font-size=\"12.00\">UTC</text>\n",
       "</g>\n",
       "<!-- (&#39;report&#39;,) -->\n",
       "<g id=\"node5\" class=\"node\">\n",
       "<title>(&#39;report&#39;,)</title>\n",
       "<polygon fill=\"none\" stroke=\"black\" stroke-width=\"2\" points=\"87.5,-62.31 33.5,-62.31 33.5,-26.31 87.5,-26.31 87.5,-62.31\"/>\n",
       "<text text-anchor=\"start\" x=\"46.5\" y=\"-41.21\" font-family=\"Times,serif\" font-size=\"12.00\">report</text>\n",
       "</g>\n",
       "<!-- (&#39;UTC&#39;,)&#45;&gt;(&#39;report&#39;,) -->\n",
       "<g id=\"edge10\" class=\"edge\">\n",
       "<title>(&#39;UTC&#39;,)&#45;&gt;(&#39;report&#39;,)</title>\n",
       "<path fill=\"none\" stroke=\"black\" stroke-dasharray=\"5,2\" d=\"M243.74,-22.66C208.67,-26.83 135.19,-35.56 93.04,-40.57\"/>\n",
       "<ellipse fill=\"black\" stroke=\"black\" cx=\"90.79\" cy=\"-40.83\" rx=\"2\" ry=\"2\"/>\n",
       "<text text-anchor=\"start\" x=\"159\" y=\"-38.31\" font-family=\"Times,serif\" font-size=\"10.00\">title</text>\n",
       "</g>\n",
       "<!-- (&#39;steady_state_values&#39;,) -->\n",
       "<g id=\"node4\" class=\"node\">\n",
       "<title>(&#39;steady_state_values&#39;,)</title>\n",
       "<polygon fill=\"none\" stroke=\"black\" stroke-width=\"2\" points=\"111.5,-328.31 9.5,-328.31 9.5,-292.31 111.5,-292.31 111.5,-328.31\"/>\n",
       "<text text-anchor=\"start\" x=\"13.5\" y=\"-307.21\" font-family=\"Times,serif\" font-size=\"12.00\">steady_state_values</text>\n",
       "</g>\n",
       "<!-- (&#39;model_instance&#39;,) -->\n",
       "<g id=\"node6\" class=\"node\">\n",
       "<title>(&#39;model_instance&#39;,)</title>\n",
       "<ellipse fill=\"none\" stroke=\"black\" stroke-width=\"2\" cx=\"264.48\" cy=\"-540.31\" rx=\"50.46\" ry=\"50.46\"/>\n",
       "<text text-anchor=\"start\" x=\"227.48\" y=\"-537.21\" font-family=\"Times,serif\" font-size=\"12.00\">model_instance</text>\n",
       "</g>\n",
       "<!-- (&#39;model_instance&#39;,)&#45;&gt;(&#39;sbml_model_from_path&#39;,) -->\n",
       "<g id=\"edge2\" class=\"edge\">\n",
       "<title>(&#39;model_instance&#39;,)&#45;&gt;(&#39;sbml_model_from_path&#39;,)</title>\n",
       "<path fill=\"none\" stroke=\"black\" stroke-dasharray=\"5,2\" d=\"M216.63,-558.64C186.09,-570.58 146.16,-586.2 114.46,-598.6\"/>\n",
       "<ellipse fill=\"black\" stroke=\"black\" cx=\"112.17\" cy=\"-599.49\" rx=\"2\" ry=\"2\"/>\n",
       "<text text-anchor=\"start\" x=\"154.5\" y=\"-589.31\" font-family=\"Times,serif\" font-size=\"10.00\">model</text>\n",
       "</g>\n",
       "<!-- (&#39;model_instance&#39;,)&#45;&gt;(&#39;steady_state_values&#39;,) -->\n",
       "<g id=\"edge3\" class=\"edge\">\n",
       "<title>(&#39;model_instance&#39;,)&#45;&gt;(&#39;steady_state_values&#39;,)</title>\n",
       "<path fill=\"none\" stroke=\"black\" stroke-dasharray=\"5,2\" d=\"M228.08,-504.05C202.73,-477.7 168.07,-440.92 139,-407.31 117.58,-382.56 94.3,-353.03 78.9,-333.11\"/>\n",
       "<ellipse fill=\"black\" stroke=\"black\" cx=\"77.46\" cy=\"-331.24\" rx=\"2\" ry=\"2\"/>\n",
       "<text text-anchor=\"start\" x=\"154.5\" y=\"-472.31\" font-family=\"Times,serif\" font-size=\"10.00\">model</text>\n",
       "</g>\n",
       "<!-- (&#39;time_start&#39;,) -->\n",
       "<g id=\"node7\" class=\"node\">\n",
       "<title>(&#39;time_start&#39;,)</title>\n",
       "<ellipse fill=\"none\" stroke=\"black\" stroke-width=\"2\" cx=\"264.48\" cy=\"-438.31\" rx=\"33.49\" ry=\"33.49\"/>\n",
       "<text text-anchor=\"start\" x=\"241.48\" y=\"-435.21\" font-family=\"Times,serif\" font-size=\"12.00\">time_start</text>\n",
       "</g>\n",
       "<!-- (&#39;time_start&#39;,)&#45;&gt;(&#39;steady_state_values&#39;,) -->\n",
       "<g id=\"edge4\" class=\"edge\">\n",
       "<title>(&#39;time_start&#39;,)&#45;&gt;(&#39;steady_state_values&#39;,)</title>\n",
       "<path fill=\"none\" stroke=\"black\" stroke-dasharray=\"5,2\" d=\"M235.39,-420.52C198.79,-397.32 134.82,-356.78 95.51,-331.87\"/>\n",
       "<ellipse fill=\"black\" stroke=\"black\" cx=\"93.43\" cy=\"-330.55\" rx=\"2\" ry=\"2\"/>\n",
       "<text text-anchor=\"start\" x=\"147\" y=\"-395.31\" font-family=\"Times,serif\" font-size=\"10.00\">time_start</text>\n",
       "</g>\n",
       "<!-- (&#39;time_end&#39;,) -->\n",
       "<g id=\"node8\" class=\"node\">\n",
       "<title>(&#39;time_end&#39;,)</title>\n",
       "<ellipse fill=\"none\" stroke=\"black\" stroke-width=\"2\" cx=\"264.48\" cy=\"-355.31\" rx=\"32.02\" ry=\"32.02\"/>\n",
       "<text text-anchor=\"start\" x=\"242.48\" y=\"-352.21\" font-family=\"Times,serif\" font-size=\"12.00\">time_end</text>\n",
       "</g>\n",
       "<!-- (&#39;time_end&#39;,)&#45;&gt;(&#39;steady_state_values&#39;,) -->\n",
       "<g id=\"edge5\" class=\"edge\">\n",
       "<title>(&#39;time_end&#39;,)&#45;&gt;(&#39;steady_state_values&#39;,)</title>\n",
       "<path fill=\"none\" stroke=\"black\" stroke-dasharray=\"5,2\" d=\"M232.36,-348.38C201.63,-341.54 153.97,-330.92 116.78,-322.63\"/>\n",
       "<ellipse fill=\"black\" stroke=\"black\" cx=\"114.74\" cy=\"-322.18\" rx=\"2\" ry=\"2\"/>\n",
       "<text text-anchor=\"start\" x=\"148\" y=\"-342.31\" font-family=\"Times,serif\" font-size=\"10.00\">time_end</text>\n",
       "</g>\n",
       "<!-- (&#39;num_points&#39;,) -->\n",
       "<g id=\"node9\" class=\"node\">\n",
       "<title>(&#39;num_points&#39;,)</title>\n",
       "<ellipse fill=\"none\" stroke=\"black\" stroke-width=\"2\" cx=\"264.48\" cy=\"-266.31\" rx=\"39.3\" ry=\"39.3\"/>\n",
       "<text text-anchor=\"start\" x=\"236.48\" y=\"-263.21\" font-family=\"Times,serif\" font-size=\"12.00\">num_points</text>\n",
       "</g>\n",
       "<!-- (&#39;num_points&#39;,)&#45;&gt;(&#39;steady_state_values&#39;,) -->\n",
       "<g id=\"edge6\" class=\"edge\">\n",
       "<title>(&#39;num_points&#39;,)&#45;&gt;(&#39;steady_state_values&#39;,)</title>\n",
       "<path fill=\"none\" stroke=\"black\" stroke-dasharray=\"5,2\" d=\"M225.49,-274.59C194.87,-281.26 151.38,-290.73 116.88,-298.25\"/>\n",
       "<ellipse fill=\"black\" stroke=\"black\" cx=\"114.73\" cy=\"-298.72\" rx=\"2\" ry=\"2\"/>\n",
       "<text text-anchor=\"start\" x=\"143\" y=\"-294.31\" font-family=\"Times,serif\" font-size=\"10.00\">num_points</text>\n",
       "</g>\n",
       "<!-- (&#39;selection_list&#39;,) -->\n",
       "<g id=\"node10\" class=\"node\">\n",
       "<title>(&#39;selection_list&#39;,)</title>\n",
       "<ellipse fill=\"none\" stroke=\"black\" stroke-width=\"2\" cx=\"264.48\" cy=\"-166.31\" rx=\"42.45\" ry=\"42.45\"/>\n",
       "<text text-anchor=\"start\" x=\"233.98\" y=\"-163.21\" font-family=\"Times,serif\" font-size=\"12.00\">selection_list</text>\n",
       "</g>\n",
       "<!-- (&#39;selection_list&#39;,)&#45;&gt;(&#39;steady_state_values&#39;,) -->\n",
       "<g id=\"edge7\" class=\"edge\">\n",
       "<title>(&#39;selection_list&#39;,)&#45;&gt;(&#39;steady_state_values&#39;,)</title>\n",
       "<path fill=\"none\" stroke=\"black\" stroke-dasharray=\"5,2\" d=\"M229.22,-190.74C190.66,-218.23 128.63,-262.45 91.79,-288.72\"/>\n",
       "<ellipse fill=\"black\" stroke=\"black\" cx=\"89.9\" cy=\"-290.06\" rx=\"2\" ry=\"2\"/>\n",
       "<text text-anchor=\"start\" x=\"140\" y=\"-253.31\" font-family=\"Times,serif\" font-size=\"10.00\">selection_list</text>\n",
       "</g>\n",
       "<!-- (&#39;results&#39;,) -->\n",
       "<g id=\"node11\" class=\"node\">\n",
       "<title>(&#39;results&#39;,)</title>\n",
       "<ellipse fill=\"none\" stroke=\"black\" stroke-width=\"2\" cx=\"264.48\" cy=\"-82.31\" rx=\"24.02\" ry=\"24.02\"/>\n",
       "<text text-anchor=\"start\" x=\"248.98\" y=\"-79.21\" font-family=\"Times,serif\" font-size=\"12.00\">results</text>\n",
       "</g>\n",
       "<!-- (&#39;results&#39;,)&#45;&gt;(&#39;steady_state_values&#39;,) -->\n",
       "<g id=\"edge8\" class=\"edge\">\n",
       "<title>(&#39;results&#39;,)&#45;&gt;(&#39;steady_state_values&#39;,)</title>\n",
       "<path fill=\"none\" stroke=\"black\" stroke-dasharray=\"5,2\" d=\"M242.86,-94.34C233.62,-100.15 222.84,-107.54 214,-115.31 153.41,-168.55 99.7,-248.52 75.35,-287.43\"/>\n",
       "<ellipse fill=\"black\" stroke=\"black\" cx=\"74.12\" cy=\"-289.39\" rx=\"2\" ry=\"2\"/>\n",
       "<text text-anchor=\"start\" x=\"154\" y=\"-197.31\" font-family=\"Times,serif\" font-size=\"10.00\">results</text>\n",
       "</g>\n",
       "<!-- (&#39;results&#39;,)&#45;&gt;(&#39;report&#39;,) -->\n",
       "<g id=\"edge9\" class=\"edge\">\n",
       "<title>(&#39;results&#39;,)&#45;&gt;(&#39;report&#39;,)</title>\n",
       "<path fill=\"none\" stroke=\"black\" stroke-dasharray=\"5,2\" d=\"M239.91,-77.88C203.61,-71.05 133.96,-57.95 93.25,-50.29\"/>\n",
       "<ellipse fill=\"black\" stroke=\"black\" cx=\"90.89\" cy=\"-49.84\" rx=\"2\" ry=\"2\"/>\n",
       "<text text-anchor=\"start\" x=\"154\" y=\"-71.31\" font-family=\"Times,serif\" font-size=\"10.00\">results</text>\n",
       "</g>\n",
       "</g>\n",
       "</svg>\n"
      ],
      "text/plain": [
       "<graphviz.graphs.Digraph at 0x16bc69520>"
      ]
     },
     "execution_count": 12,
     "metadata": {},
     "output_type": "execute_result"
    }
   ],
   "source": [
    "# Plot function map\n",
    "plot_bigraph(instance2, rankdir='RL')"
   ]
  },
  {
   "cell_type": "code",
   "execution_count": 13,
   "id": "51ddfe7a-1690-442b-9dae-eb68e270327e",
   "metadata": {
    "tags": []
   },
   "outputs": [
    {
     "data": {
      "image/svg+xml": [
       "<?xml version=\"1.0\" encoding=\"UTF-8\" standalone=\"no\"?>\n",
       "<!DOCTYPE svg PUBLIC \"-//W3C//DTD SVG 1.1//EN\"\n",
       " \"http://www.w3.org/Graphics/SVG/1.1/DTD/svg11.dtd\">\n",
       "<!-- Generated by graphviz version 7.1.0 (20230121.1956)\n",
       " -->\n",
       "<!-- Title: flow Pages: 1 -->\n",
       "<svg width=\"153pt\" height=\"183pt\"\n",
       " viewBox=\"0.00 0.00 157.00 188.00\" xmlns=\"http://www.w3.org/2000/svg\" xmlns:xlink=\"http://www.w3.org/1999/xlink\">\n",
       "<g id=\"graph0\" class=\"graph\" transform=\"scale(0.972222 0.972222) rotate(0) translate(4 184)\">\n",
       "<title>flow</title>\n",
       "<polygon fill=\"white\" stroke=\"none\" points=\"-4,4 -4,-184 153,-184 153,4 -4,4\"/>\n",
       "<!-- (&#39;sbml_model_from_path&#39;,) -->\n",
       "<g id=\"node1\" class=\"node\">\n",
       "<title>(&#39;sbml_model_from_path&#39;,)</title>\n",
       "<polygon fill=\"none\" stroke=\"black\" stroke-width=\"2\" points=\"149,-180 0,-180 0,-144 149,-144 149,-180\"/>\n",
       "<text text-anchor=\"start\" x=\"8\" y=\"-158.3\" font-family=\"Times,serif\" font-size=\"14.00\">sbml_model_from_path</text>\n",
       "</g>\n",
       "<!-- (&#39;steady_state_values&#39;,) -->\n",
       "<g id=\"node2\" class=\"node\">\n",
       "<title>(&#39;steady_state_values&#39;,)</title>\n",
       "<polygon fill=\"none\" stroke=\"black\" stroke-width=\"2\" points=\"136.5,-108 12.5,-108 12.5,-72 136.5,-72 136.5,-108\"/>\n",
       "<text text-anchor=\"start\" x=\"20.5\" y=\"-86.3\" font-family=\"Times,serif\" font-size=\"14.00\">steady_state_values</text>\n",
       "</g>\n",
       "<!-- (&#39;sbml_model_from_path&#39;,)&#45;&gt;(&#39;steady_state_values&#39;,) -->\n",
       "<g id=\"edge1\" class=\"edge\">\n",
       "<title>(&#39;sbml_model_from_path&#39;,)&#45;&gt;(&#39;steady_state_values&#39;,)</title>\n",
       "<path fill=\"none\" stroke=\"black\" stroke-width=\"2\" d=\"M74.5,-143.34C74.5,-136.75 74.5,-129.08 74.5,-121.67\"/>\n",
       "<polygon fill=\"black\" stroke=\"black\" stroke-width=\"2\" points=\"78,-121.93 74.5,-111.93 71,-121.93 78,-121.93\"/>\n",
       "</g>\n",
       "<!-- (&#39;report&#39;,) -->\n",
       "<g id=\"node3\" class=\"node\">\n",
       "<title>(&#39;report&#39;,)</title>\n",
       "<polygon fill=\"none\" stroke=\"black\" stroke-width=\"2\" points=\"101.5,-36 47.5,-36 47.5,0 101.5,0 101.5,-36\"/>\n",
       "<text text-anchor=\"start\" x=\"58\" y=\"-14.3\" font-family=\"Times,serif\" font-size=\"14.00\">report</text>\n",
       "</g>\n",
       "<!-- (&#39;steady_state_values&#39;,)&#45;&gt;(&#39;report&#39;,) -->\n",
       "<g id=\"edge2\" class=\"edge\">\n",
       "<title>(&#39;steady_state_values&#39;,)&#45;&gt;(&#39;report&#39;,)</title>\n",
       "<path fill=\"none\" stroke=\"black\" stroke-width=\"2\" d=\"M74.5,-71.34C74.5,-64.75 74.5,-57.08 74.5,-49.67\"/>\n",
       "<polygon fill=\"black\" stroke=\"black\" stroke-width=\"2\" points=\"78,-49.93 74.5,-39.93 71,-49.93 78,-49.93\"/>\n",
       "</g>\n",
       "</g>\n",
       "</svg>\n"
      ],
      "text/plain": [
       "<graphviz.graphs.Digraph at 0x16bc69340>"
      ]
     },
     "execution_count": 13,
     "metadata": {},
     "output_type": "execute_result"
    }
   ],
   "source": [
    "# Plot flow diagram\n",
    "plot_flow(instance2)"
   ]
  },
  {
   "cell_type": "markdown",
   "id": "4f69bd01-f3df-4a94-89b3-afe321ad3091",
   "metadata": {
    "tags": []
   },
   "source": [
    "### example 3\n",
    "Set parameters and/or initial conditions and run time course or steady state evaluation.\n",
    "\n",
    "```\n",
    "model_instance = Model('urn:sedml:language:sbml', 'susceptible_zombie.xml')\n",
    "set_model(model_instance, 'Z', 0.0)\n",
    "ss1 = steady_state_values(model_instance, selection_list=['S', 'Z'])\n",
    "report(ss1, title='Steady States')\n",
    "```"
   ]
  },
  {
   "cell_type": "markdown",
   "id": "3956face-20e4-4967-abea-4f15bfc0b9d1",
   "metadata": {},
   "source": [
    "#### SED-2 document"
   ]
  },
  {
   "cell_type": "code",
   "execution_count": 14,
   "id": "fedf4b0f-d410-4098-a73f-51c2b5eb14a6",
   "metadata": {
    "tags": []
   },
   "outputs": [
    {
     "name": "stdout",
     "output_type": "stream",
     "text": [
      "{\"model_path\": \"\\\"susceptible_zombie.xml\\\"\", \"sbml_model_from_path\": {\"_type\": \"sed:sbml_model_from_path\", \"wires\": {\"path_to_sbml\": \"model_path\", \"model\": \"model_instance\"}}, \"element_id\": \"\\\"Z\\\"\", \"element_value\": 0.0, \"model_set_value\": {\"_type\": \"sed:set_model\", \"wires\": {\"model_instance\": \"model_instance\", \"element_id\": \"element_id\", \"value\": \"element_value\"}, \"_depends_on\": [\"sbml_model_from_path\"]}, \"steady_state_values\": {\"_type\": \"sed:steady_state_values\", \"wires\": {\"model\": \"model_instance\", \"time_start\": \"time_start\", \"time_end\": \"time_end\", \"num_points\": \"num_points\", \"selection_list\": \"selection_list\", \"results\": \"results\"}, \"_depends_on\": [\"model_set_value\"]}, \"report\": {\"_type\": \"sed:report\", \"wires\": {\"results\": \"results\", \"title\": \"UTC\"}, \"_depends_on\": [\"steady_state_values\"]}}\n"
     ]
    }
   ],
   "source": [
    "# SED document serialized\n",
    "instance3 = {\n",
    "    'model_path': '\"susceptible_zombie.xml\"',\n",
    "    'sbml_model_from_path': {\n",
    "        '_type': 'sed:sbml_model_from_path',\n",
    "        'wires': {\n",
    "            'path_to_sbml': 'model_path',\n",
    "            'model': 'model_instance'\n",
    "        },\n",
    "    },\n",
    "    'element_id': '\"Z\"',\n",
    "    'element_value': 0.0,\n",
    "    'model_set_value': {\n",
    "        '_type': 'sed:set_model',\n",
    "        'wires': {\n",
    "            'model_instance': 'model_instance',\n",
    "            'element_id': 'element_id',\n",
    "            'value': 'element_value'\n",
    "        },\n",
    "        '_depends_on': ['sbml_model_from_path']\n",
    "    },\n",
    "    'steady_state_values': {\n",
    "        '_type': 'sed:steady_state_values',\n",
    "        'wires': {\n",
    "            'model': 'model_instance',\n",
    "            'time_start': 'time_start',\n",
    "            'time_end': 'time_end',\n",
    "            'num_points': 'num_points',\n",
    "            'selection_list': 'selection_list',\n",
    "            'results': 'results',\n",
    "        },\n",
    "        '_depends_on': ['model_set_value']\n",
    "    },\n",
    "    'report': {\n",
    "        '_type': 'sed:report',\n",
    "        'wires': {\n",
    "            'results': 'results',\n",
    "            'title': 'UTC'  # this should be optional\n",
    "        },\n",
    "        '_depends_on': ['steady_state_values']\n",
    "    }\n",
    "}\n",
    "\n",
    "# Serialize to JSON\n",
    "json_str3 = serialize_instance(instance3)\n",
    "print(json_str3)"
   ]
  },
  {
   "cell_type": "markdown",
   "id": "56a52610-bb00-453f-aab3-6811a612d565",
   "metadata": {},
   "source": [
    "#### from JSON string to Python script"
   ]
  },
  {
   "cell_type": "code",
   "execution_count": 15,
   "id": "5caf29c9-df3a-4e8d-bb4b-e34bff7bef10",
   "metadata": {
    "tags": []
   },
   "outputs": [
    {
     "name": "stdout",
     "output_type": "stream",
     "text": [
      "element_value = 0.0\n",
      "element_id = \"Z\"\n",
      "model_path = \"susceptible_zombie.xml\"\n",
      "model_instance = sbml_model_from_path(path_to_sbml=model_path)\n",
      "model_set_value(model_instance=model_instance, element_id=element_id, value=element_value)\n",
      "results = steady_state_values(model=model_instance, selection_list=selection_list)\n",
      "report(results=results, title=UTC)\n"
     ]
    }
   ],
   "source": [
    "# Generate the script\n",
    "script3 = generate_script(json_str3, sed_process_registry)\n",
    "print(script3)"
   ]
  },
  {
   "cell_type": "code",
   "execution_count": 16,
   "id": "d44bf52c-77be-4d43-829d-1ec11631d7b3",
   "metadata": {
    "tags": []
   },
   "outputs": [
    {
     "name": "stdout",
     "output_type": "stream",
     "text": [
      "UTC\n",
      "S: 1.0587911840678754e-22\n",
      "Z: 51.0\n"
     ]
    }
   ],
   "source": [
    "# Execute the script\n",
    "exec(script3)"
   ]
  },
  {
   "cell_type": "code",
   "execution_count": 17,
   "id": "1897edc0-3d8d-4215-9e68-cb81bb08453a",
   "metadata": {
    "tags": []
   },
   "outputs": [
    {
     "data": {
      "image/svg+xml": [
       "<?xml version=\"1.0\" encoding=\"UTF-8\" standalone=\"no\"?>\n",
       "<!DOCTYPE svg PUBLIC \"-//W3C//DTD SVG 1.1//EN\"\n",
       " \"http://www.w3.org/Graphics/SVG/1.1/DTD/svg11.dtd\">\n",
       "<!-- Generated by graphviz version 7.1.0 (20230121.1956)\n",
       " -->\n",
       "<!-- Title: bigraph Pages: 1 -->\n",
       "<svg width=\"257pt\" height=\"700pt\"\n",
       " viewBox=\"0.00 0.00 264.85 720.00\" xmlns=\"http://www.w3.org/2000/svg\" xmlns:xlink=\"http://www.w3.org/1999/xlink\">\n",
       "<g id=\"graph0\" class=\"graph\" transform=\"scale(0.778027 0.778027) rotate(0) translate(4 895.71)\">\n",
       "<title>bigraph</title>\n",
       "<polygon fill=\"white\" stroke=\"none\" points=\"-4,4 -4,-895.71 326.96,-895.71 326.96,4 -4,4\"/>\n",
       "<!-- (&#39;model_path&#39;,) -->\n",
       "<g id=\"node1\" class=\"node\">\n",
       "<title>(&#39;model_path&#39;,)</title>\n",
       "<ellipse fill=\"none\" stroke=\"black\" stroke-width=\"2\" cx=\"272.48\" cy=\"-852.31\" rx=\"39.3\" ry=\"39.3\"/>\n",
       "<text text-anchor=\"start\" x=\"244.48\" y=\"-849.21\" font-family=\"Times,serif\" font-size=\"12.00\">model_path</text>\n",
       "</g>\n",
       "<!-- (&#39;sbml_model_from_path&#39;,) -->\n",
       "<g id=\"node4\" class=\"node\">\n",
       "<title>(&#39;sbml_model_from_path&#39;,)</title>\n",
       "<polygon fill=\"none\" stroke=\"black\" stroke-width=\"2\" points=\"121,-802.31 0,-802.31 0,-766.31 121,-766.31 121,-802.31\"/>\n",
       "<text text-anchor=\"start\" x=\"4\" y=\"-781.21\" font-family=\"Times,serif\" font-size=\"12.00\">sbml_model_from_path</text>\n",
       "</g>\n",
       "<!-- (&#39;model_path&#39;,)&#45;&gt;(&#39;sbml_model_from_path&#39;,) -->\n",
       "<g id=\"edge1\" class=\"edge\">\n",
       "<title>(&#39;model_path&#39;,)&#45;&gt;(&#39;sbml_model_from_path&#39;,)</title>\n",
       "<path fill=\"none\" stroke=\"black\" stroke-dasharray=\"5,2\" d=\"M234.42,-840.31C203.99,-830.46 160.21,-816.28 124.32,-804.66\"/>\n",
       "<ellipse fill=\"black\" stroke=\"black\" cx=\"122.36\" cy=\"-804.02\" rx=\"2\" ry=\"2\"/>\n",
       "<text text-anchor=\"start\" x=\"143\" y=\"-833.31\" font-family=\"Times,serif\" font-size=\"10.00\">path_to_sbml</text>\n",
       "</g>\n",
       "<!-- (&#39;element_id&#39;,) -->\n",
       "<g id=\"node2\" class=\"node\">\n",
       "<title>(&#39;element_id&#39;,)</title>\n",
       "<ellipse fill=\"none\" stroke=\"black\" stroke-width=\"2\" cx=\"272.48\" cy=\"-758.31\" rx=\"36.87\" ry=\"36.87\"/>\n",
       "<text text-anchor=\"start\" x=\"246.48\" y=\"-755.21\" font-family=\"Times,serif\" font-size=\"12.00\">element_id</text>\n",
       "</g>\n",
       "<!-- (&#39;model_set_value&#39;,) -->\n",
       "<g id=\"node5\" class=\"node\">\n",
       "<title>(&#39;model_set_value&#39;,)</title>\n",
       "<polygon fill=\"none\" stroke=\"black\" stroke-width=\"2\" points=\"104.5,-674.31 16.5,-674.31 16.5,-638.31 104.5,-638.31 104.5,-674.31\"/>\n",
       "<text text-anchor=\"start\" x=\"20.5\" y=\"-653.21\" font-family=\"Times,serif\" font-size=\"12.00\">model_set_value</text>\n",
       "</g>\n",
       "<!-- (&#39;element_id&#39;,)&#45;&gt;(&#39;model_set_value&#39;,) -->\n",
       "<g id=\"edge4\" class=\"edge\">\n",
       "<title>(&#39;element_id&#39;,)&#45;&gt;(&#39;model_set_value&#39;,)</title>\n",
       "<path fill=\"none\" stroke=\"black\" stroke-dasharray=\"5,2\" d=\"M234.74,-756.77C207.05,-754.3 168.86,-748.04 139,-732.31 114.51,-719.42 92.61,-696.3 78.39,-678.93\"/>\n",
       "<ellipse fill=\"black\" stroke=\"black\" cx=\"76.86\" cy=\"-677.05\" rx=\"2\" ry=\"2\"/>\n",
       "<text text-anchor=\"start\" x=\"148.5\" y=\"-755.31\" font-family=\"Times,serif\" font-size=\"10.00\">element_id</text>\n",
       "</g>\n",
       "<!-- (&#39;element_value&#39;,) -->\n",
       "<g id=\"node3\" class=\"node\">\n",
       "<title>(&#39;element_value&#39;,)</title>\n",
       "<ellipse fill=\"none\" stroke=\"black\" stroke-width=\"2\" cx=\"272.48\" cy=\"-656.31\" rx=\"47.3\" ry=\"47.3\"/>\n",
       "<text text-anchor=\"start\" x=\"237.98\" y=\"-653.21\" font-family=\"Times,serif\" font-size=\"12.00\">element_value</text>\n",
       "</g>\n",
       "<!-- (&#39;element_value&#39;,)&#45;&gt;(&#39;model_set_value&#39;,) -->\n",
       "<g id=\"edge5\" class=\"edge\">\n",
       "<title>(&#39;element_value&#39;,)&#45;&gt;(&#39;model_set_value&#39;,)</title>\n",
       "<path fill=\"none\" stroke=\"black\" stroke-dasharray=\"5,2\" d=\"M224.35,-656.31C190.36,-656.31 144.59,-656.31 110.23,-656.31\"/>\n",
       "<ellipse fill=\"black\" stroke=\"black\" cx=\"107.74\" cy=\"-656.31\" rx=\"2\" ry=\"2\"/>\n",
       "<text text-anchor=\"start\" x=\"160\" y=\"-659.31\" font-family=\"Times,serif\" font-size=\"10.00\">value</text>\n",
       "</g>\n",
       "<!-- (&#39;steady_state_values&#39;,) -->\n",
       "<g id=\"node6\" class=\"node\">\n",
       "<title>(&#39;steady_state_values&#39;,)</title>\n",
       "<polygon fill=\"none\" stroke=\"black\" stroke-width=\"2\" points=\"111.5,-311.31 9.5,-311.31 9.5,-275.31 111.5,-275.31 111.5,-311.31\"/>\n",
       "<text text-anchor=\"start\" x=\"13.5\" y=\"-290.21\" font-family=\"Times,serif\" font-size=\"12.00\">steady_state_values</text>\n",
       "</g>\n",
       "<!-- (&#39;report&#39;,) -->\n",
       "<g id=\"node7\" class=\"node\">\n",
       "<title>(&#39;report&#39;,)</title>\n",
       "<polygon fill=\"none\" stroke=\"black\" stroke-width=\"2\" points=\"87.5,-62.31 33.5,-62.31 33.5,-26.31 87.5,-26.31 87.5,-62.31\"/>\n",
       "<text text-anchor=\"start\" x=\"46.5\" y=\"-41.21\" font-family=\"Times,serif\" font-size=\"12.00\">report</text>\n",
       "</g>\n",
       "<!-- (&#39;model_instance&#39;,) -->\n",
       "<g id=\"node8\" class=\"node\">\n",
       "<title>(&#39;model_instance&#39;,)</title>\n",
       "<ellipse fill=\"none\" stroke=\"black\" stroke-width=\"2\" cx=\"272.48\" cy=\"-540.31\" rx=\"50.46\" ry=\"50.46\"/>\n",
       "<text text-anchor=\"start\" x=\"235.48\" y=\"-537.21\" font-family=\"Times,serif\" font-size=\"12.00\">model_instance</text>\n",
       "</g>\n",
       "<!-- (&#39;model_instance&#39;,)&#45;&gt;(&#39;sbml_model_from_path&#39;,) -->\n",
       "<g id=\"edge2\" class=\"edge\">\n",
       "<title>(&#39;model_instance&#39;,)&#45;&gt;(&#39;sbml_model_from_path&#39;,)</title>\n",
       "<path fill=\"none\" stroke=\"black\" stroke-dasharray=\"5,2\" d=\"M236.83,-577.27C231.27,-584.53 226.03,-592.37 222,-600.31 207.29,-629.35 222.42,-644.48 204,-671.31 183.97,-700.49 166.86,-695.49 139,-717.31 120.67,-731.67 100.82,-748.86 85.8,-762.24\"/>\n",
       "<ellipse fill=\"black\" stroke=\"black\" cx=\"83.95\" cy=\"-763.89\" rx=\"2\" ry=\"2\"/>\n",
       "<text text-anchor=\"start\" x=\"158.5\" y=\"-720.31\" font-family=\"Times,serif\" font-size=\"10.00\">model</text>\n",
       "</g>\n",
       "<!-- (&#39;model_instance&#39;,)&#45;&gt;(&#39;model_set_value&#39;,) -->\n",
       "<g id=\"edge3\" class=\"edge\">\n",
       "<title>(&#39;model_instance&#39;,)&#45;&gt;(&#39;model_set_value&#39;,)</title>\n",
       "<path fill=\"none\" stroke=\"black\" stroke-dasharray=\"5,2\" d=\"M227.46,-564.63C189.79,-585.44 136.09,-615.11 100.07,-635\"/>\n",
       "<ellipse fill=\"black\" stroke=\"black\" cx=\"97.96\" cy=\"-636.17\" rx=\"2\" ry=\"2\"/>\n",
       "<text text-anchor=\"start\" x=\"139\" y=\"-614.31\" font-family=\"Times,serif\" font-size=\"10.00\">model_instance</text>\n",
       "</g>\n",
       "<!-- (&#39;model_instance&#39;,)&#45;&gt;(&#39;steady_state_values&#39;,) -->\n",
       "<g id=\"edge6\" class=\"edge\">\n",
       "<title>(&#39;model_instance&#39;,)&#45;&gt;(&#39;steady_state_values&#39;,)</title>\n",
       "<path fill=\"none\" stroke=\"black\" stroke-dasharray=\"5,2\" d=\"M235.54,-504.96C208.1,-477.34 169.87,-437.54 139,-400.31 115.84,-372.39 91.72,-338.13 76.66,-316.02\"/>\n",
       "<ellipse fill=\"black\" stroke=\"black\" cx=\"75.36\" cy=\"-314.11\" rx=\"2\" ry=\"2\"/>\n",
       "<text text-anchor=\"start\" x=\"158.5\" y=\"-473.31\" font-family=\"Times,serif\" font-size=\"10.00\">model</text>\n",
       "</g>\n",
       "<!-- (&#39;time_start&#39;,) -->\n",
       "<g id=\"node9\" class=\"node\">\n",
       "<title>(&#39;time_start&#39;,)</title>\n",
       "<ellipse fill=\"none\" stroke=\"black\" stroke-width=\"2\" cx=\"272.48\" cy=\"-335.31\" rx=\"33.49\" ry=\"33.49\"/>\n",
       "<text text-anchor=\"start\" x=\"249.48\" y=\"-332.21\" font-family=\"Times,serif\" font-size=\"12.00\">time_start</text>\n",
       "</g>\n",
       "<!-- (&#39;time_start&#39;,)&#45;&gt;(&#39;steady_state_values&#39;,) -->\n",
       "<g id=\"edge7\" class=\"edge\">\n",
       "<title>(&#39;time_start&#39;,)&#45;&gt;(&#39;steady_state_values&#39;,)</title>\n",
       "<path fill=\"none\" stroke=\"black\" stroke-dasharray=\"5,2\" d=\"M238.67,-328.75C206.19,-322.26 155.86,-312.19 117.13,-304.44\"/>\n",
       "<ellipse fill=\"black\" stroke=\"black\" cx=\"114.92\" cy=\"-304\" rx=\"2\" ry=\"2\"/>\n",
       "<text text-anchor=\"start\" x=\"151\" y=\"-324.31\" font-family=\"Times,serif\" font-size=\"10.00\">time_start</text>\n",
       "</g>\n",
       "<!-- (&#39;time_end&#39;,) -->\n",
       "<g id=\"node10\" class=\"node\">\n",
       "<title>(&#39;time_end&#39;,)</title>\n",
       "<ellipse fill=\"none\" stroke=\"black\" stroke-width=\"2\" cx=\"272.48\" cy=\"-252.31\" rx=\"32.02\" ry=\"32.02\"/>\n",
       "<text text-anchor=\"start\" x=\"250.48\" y=\"-249.21\" font-family=\"Times,serif\" font-size=\"12.00\">time_end</text>\n",
       "</g>\n",
       "<!-- (&#39;time_end&#39;,)&#45;&gt;(&#39;steady_state_values&#39;,) -->\n",
       "<g id=\"edge8\" class=\"edge\">\n",
       "<title>(&#39;time_end&#39;,)&#45;&gt;(&#39;steady_state_values&#39;,)</title>\n",
       "<path fill=\"none\" stroke=\"black\" stroke-dasharray=\"5,2\" d=\"M240.04,-258.45C207.61,-264.79 156.36,-274.79 117.07,-282.46\"/>\n",
       "<ellipse fill=\"black\" stroke=\"black\" cx=\"114.8\" cy=\"-282.91\" rx=\"2\" ry=\"2\"/>\n",
       "<text text-anchor=\"start\" x=\"152\" y=\"-280.31\" font-family=\"Times,serif\" font-size=\"10.00\">time_end</text>\n",
       "</g>\n",
       "<!-- (&#39;num_points&#39;,) -->\n",
       "<g id=\"node11\" class=\"node\">\n",
       "<title>(&#39;num_points&#39;,)</title>\n",
       "<ellipse fill=\"none\" stroke=\"black\" stroke-width=\"2\" cx=\"272.48\" cy=\"-163.31\" rx=\"39.3\" ry=\"39.3\"/>\n",
       "<text text-anchor=\"start\" x=\"244.48\" y=\"-160.21\" font-family=\"Times,serif\" font-size=\"12.00\">num_points</text>\n",
       "</g>\n",
       "<!-- (&#39;num_points&#39;,)&#45;&gt;(&#39;steady_state_values&#39;,) -->\n",
       "<g id=\"edge9\" class=\"edge\">\n",
       "<title>(&#39;num_points&#39;,)&#45;&gt;(&#39;steady_state_values&#39;,)</title>\n",
       "<path fill=\"none\" stroke=\"black\" stroke-dasharray=\"5,2\" d=\"M238.21,-183.91C199.38,-207.95 135.48,-247.51 96.09,-271.9\"/>\n",
       "<ellipse fill=\"black\" stroke=\"black\" cx=\"94.01\" cy=\"-273.18\" rx=\"2\" ry=\"2\"/>\n",
       "<text text-anchor=\"start\" x=\"147\" y=\"-246.31\" font-family=\"Times,serif\" font-size=\"10.00\">num_points</text>\n",
       "</g>\n",
       "<!-- (&#39;selection_list&#39;,) -->\n",
       "<g id=\"node12\" class=\"node\">\n",
       "<title>(&#39;selection_list&#39;,)</title>\n",
       "<ellipse fill=\"none\" stroke=\"black\" stroke-width=\"2\" cx=\"272.48\" cy=\"-429.31\" rx=\"42.45\" ry=\"42.45\"/>\n",
       "<text text-anchor=\"start\" x=\"241.98\" y=\"-426.21\" font-family=\"Times,serif\" font-size=\"12.00\">selection_list</text>\n",
       "</g>\n",
       "<!-- (&#39;selection_list&#39;,)&#45;&gt;(&#39;steady_state_values&#39;,) -->\n",
       "<g id=\"edge10\" class=\"edge\">\n",
       "<title>(&#39;selection_list&#39;,)&#45;&gt;(&#39;steady_state_values&#39;,)</title>\n",
       "<path fill=\"none\" stroke=\"black\" stroke-dasharray=\"5,2\" d=\"M235.86,-406.24C196.35,-380.65 133.11,-339.69 94.63,-314.77\"/>\n",
       "<ellipse fill=\"black\" stroke=\"black\" cx=\"92.62\" cy=\"-313.47\" rx=\"2\" ry=\"2\"/>\n",
       "<text text-anchor=\"start\" x=\"144\" y=\"-388.31\" font-family=\"Times,serif\" font-size=\"10.00\">selection_list</text>\n",
       "</g>\n",
       "<!-- (&#39;results&#39;,) -->\n",
       "<g id=\"node13\" class=\"node\">\n",
       "<title>(&#39;results&#39;,)</title>\n",
       "<ellipse fill=\"none\" stroke=\"black\" stroke-width=\"2\" cx=\"272.48\" cy=\"-82.31\" rx=\"24.02\" ry=\"24.02\"/>\n",
       "<text text-anchor=\"start\" x=\"256.98\" y=\"-79.21\" font-family=\"Times,serif\" font-size=\"12.00\">results</text>\n",
       "</g>\n",
       "<!-- (&#39;results&#39;,)&#45;&gt;(&#39;steady_state_values&#39;,) -->\n",
       "<g id=\"edge11\" class=\"edge\">\n",
       "<title>(&#39;results&#39;,)&#45;&gt;(&#39;steady_state_values&#39;,)</title>\n",
       "<path fill=\"none\" stroke=\"black\" stroke-dasharray=\"5,2\" d=\"M251.27,-94.84C242.12,-100.75 231.29,-108.08 222,-115.31 182.77,-145.86 172.54,-153.62 139,-190.31 115.26,-216.28 91.45,-249.2 76.61,-270.74\"/>\n",
       "<ellipse fill=\"black\" stroke=\"black\" cx=\"75.36\" cy=\"-272.56\" rx=\"2\" ry=\"2\"/>\n",
       "<text text-anchor=\"start\" x=\"158\" y=\"-193.31\" font-family=\"Times,serif\" font-size=\"10.00\">results</text>\n",
       "</g>\n",
       "<!-- (&#39;results&#39;,)&#45;&gt;(&#39;report&#39;,) -->\n",
       "<g id=\"edge12\" class=\"edge\">\n",
       "<title>(&#39;results&#39;,)&#45;&gt;(&#39;report&#39;,)</title>\n",
       "<path fill=\"none\" stroke=\"black\" stroke-dasharray=\"5,2\" d=\"M248.2,-78.1C210.37,-71.26 135.48,-57.7 92.94,-50\"/>\n",
       "<ellipse fill=\"black\" stroke=\"black\" cx=\"90.63\" cy=\"-49.59\" rx=\"2\" ry=\"2\"/>\n",
       "<text text-anchor=\"start\" x=\"158\" y=\"-72.31\" font-family=\"Times,serif\" font-size=\"10.00\">results</text>\n",
       "</g>\n",
       "<!-- (&#39;UTC&#39;,) -->\n",
       "<g id=\"node14\" class=\"node\">\n",
       "<title>(&#39;UTC&#39;,)</title>\n",
       "<ellipse fill=\"none\" stroke=\"black\" stroke-width=\"2\" cx=\"272.48\" cy=\"-20.31\" rx=\"20.13\" ry=\"20.13\"/>\n",
       "<text text-anchor=\"start\" x=\"259.98\" y=\"-17.21\" font-family=\"Times,serif\" font-size=\"12.00\">UTC</text>\n",
       "</g>\n",
       "<!-- (&#39;UTC&#39;,)&#45;&gt;(&#39;report&#39;,) -->\n",
       "<g id=\"edge13\" class=\"edge\">\n",
       "<title>(&#39;UTC&#39;,)&#45;&gt;(&#39;report&#39;,)</title>\n",
       "<path fill=\"none\" stroke=\"black\" stroke-dasharray=\"5,2\" d=\"M251.72,-22.53C225.83,-25.45 179.01,-30.73 139,-35.31 123.89,-37.05 107.12,-38.99 93.06,-40.63\"/>\n",
       "<ellipse fill=\"black\" stroke=\"black\" cx=\"90.88\" cy=\"-40.88\" rx=\"2\" ry=\"2\"/>\n",
       "<text text-anchor=\"start\" x=\"163\" y=\"-38.31\" font-family=\"Times,serif\" font-size=\"10.00\">title</text>\n",
       "</g>\n",
       "</g>\n",
       "</svg>\n"
      ],
      "text/plain": [
       "<graphviz.graphs.Digraph at 0x16bc856a0>"
      ]
     },
     "execution_count": 17,
     "metadata": {},
     "output_type": "execute_result"
    }
   ],
   "source": [
    "# Plot function map\n",
    "plot_bigraph(instance3, rankdir='RL')"
   ]
  },
  {
   "cell_type": "code",
   "execution_count": 18,
   "id": "6bf88747-41da-4d0f-9103-371b2439195a",
   "metadata": {
    "tags": []
   },
   "outputs": [
    {
     "data": {
      "image/svg+xml": [
       "<?xml version=\"1.0\" encoding=\"UTF-8\" standalone=\"no\"?>\n",
       "<!DOCTYPE svg PUBLIC \"-//W3C//DTD SVG 1.1//EN\"\n",
       " \"http://www.w3.org/Graphics/SVG/1.1/DTD/svg11.dtd\">\n",
       "<!-- Generated by graphviz version 7.1.0 (20230121.1956)\n",
       " -->\n",
       "<!-- Title: flow Pages: 1 -->\n",
       "<svg width=\"153pt\" height=\"253pt\"\n",
       " viewBox=\"0.00 0.00 157.00 260.00\" xmlns=\"http://www.w3.org/2000/svg\" xmlns:xlink=\"http://www.w3.org/1999/xlink\">\n",
       "<g id=\"graph0\" class=\"graph\" transform=\"scale(0.972222 0.972222) rotate(0) translate(4 256)\">\n",
       "<title>flow</title>\n",
       "<polygon fill=\"white\" stroke=\"none\" points=\"-4,4 -4,-256 153,-256 153,4 -4,4\"/>\n",
       "<!-- (&#39;sbml_model_from_path&#39;,) -->\n",
       "<g id=\"node1\" class=\"node\">\n",
       "<title>(&#39;sbml_model_from_path&#39;,)</title>\n",
       "<polygon fill=\"none\" stroke=\"black\" stroke-width=\"2\" points=\"149,-252 0,-252 0,-216 149,-216 149,-252\"/>\n",
       "<text text-anchor=\"start\" x=\"8\" y=\"-230.3\" font-family=\"Times,serif\" font-size=\"14.00\">sbml_model_from_path</text>\n",
       "</g>\n",
       "<!-- (&#39;model_set_value&#39;,) -->\n",
       "<g id=\"node2\" class=\"node\">\n",
       "<title>(&#39;model_set_value&#39;,)</title>\n",
       "<polygon fill=\"none\" stroke=\"black\" stroke-width=\"2\" points=\"129,-180 20,-180 20,-144 129,-144 129,-180\"/>\n",
       "<text text-anchor=\"start\" x=\"28\" y=\"-158.3\" font-family=\"Times,serif\" font-size=\"14.00\">model_set_value</text>\n",
       "</g>\n",
       "<!-- (&#39;sbml_model_from_path&#39;,)&#45;&gt;(&#39;model_set_value&#39;,) -->\n",
       "<g id=\"edge1\" class=\"edge\">\n",
       "<title>(&#39;sbml_model_from_path&#39;,)&#45;&gt;(&#39;model_set_value&#39;,)</title>\n",
       "<path fill=\"none\" stroke=\"black\" stroke-width=\"2\" d=\"M74.5,-215.34C74.5,-208.75 74.5,-201.08 74.5,-193.67\"/>\n",
       "<polygon fill=\"black\" stroke=\"black\" stroke-width=\"2\" points=\"78,-193.93 74.5,-183.93 71,-193.93 78,-193.93\"/>\n",
       "</g>\n",
       "<!-- (&#39;steady_state_values&#39;,) -->\n",
       "<g id=\"node3\" class=\"node\">\n",
       "<title>(&#39;steady_state_values&#39;,)</title>\n",
       "<polygon fill=\"none\" stroke=\"black\" stroke-width=\"2\" points=\"136.5,-108 12.5,-108 12.5,-72 136.5,-72 136.5,-108\"/>\n",
       "<text text-anchor=\"start\" x=\"20.5\" y=\"-86.3\" font-family=\"Times,serif\" font-size=\"14.00\">steady_state_values</text>\n",
       "</g>\n",
       "<!-- (&#39;model_set_value&#39;,)&#45;&gt;(&#39;steady_state_values&#39;,) -->\n",
       "<g id=\"edge2\" class=\"edge\">\n",
       "<title>(&#39;model_set_value&#39;,)&#45;&gt;(&#39;steady_state_values&#39;,)</title>\n",
       "<path fill=\"none\" stroke=\"black\" stroke-width=\"2\" d=\"M74.5,-143.34C74.5,-136.75 74.5,-129.08 74.5,-121.67\"/>\n",
       "<polygon fill=\"black\" stroke=\"black\" stroke-width=\"2\" points=\"78,-121.93 74.5,-111.93 71,-121.93 78,-121.93\"/>\n",
       "</g>\n",
       "<!-- (&#39;report&#39;,) -->\n",
       "<g id=\"node4\" class=\"node\">\n",
       "<title>(&#39;report&#39;,)</title>\n",
       "<polygon fill=\"none\" stroke=\"black\" stroke-width=\"2\" points=\"101.5,-36 47.5,-36 47.5,0 101.5,0 101.5,-36\"/>\n",
       "<text text-anchor=\"start\" x=\"58\" y=\"-14.3\" font-family=\"Times,serif\" font-size=\"14.00\">report</text>\n",
       "</g>\n",
       "<!-- (&#39;steady_state_values&#39;,)&#45;&gt;(&#39;report&#39;,) -->\n",
       "<g id=\"edge3\" class=\"edge\">\n",
       "<title>(&#39;steady_state_values&#39;,)&#45;&gt;(&#39;report&#39;,)</title>\n",
       "<path fill=\"none\" stroke=\"black\" stroke-width=\"2\" d=\"M74.5,-71.34C74.5,-64.75 74.5,-57.08 74.5,-49.67\"/>\n",
       "<polygon fill=\"black\" stroke=\"black\" stroke-width=\"2\" points=\"78,-49.93 74.5,-39.93 71,-49.93 78,-49.93\"/>\n",
       "</g>\n",
       "</g>\n",
       "</svg>\n"
      ],
      "text/plain": [
       "<graphviz.graphs.Digraph at 0x16bb83ee0>"
      ]
     },
     "execution_count": 18,
     "metadata": {},
     "output_type": "execute_result"
    }
   ],
   "source": [
    "# Plot flow diagram\n",
    "plot_flow(instance3)"
   ]
  },
  {
   "cell_type": "markdown",
   "id": "3f67e220-396a-4cb2-97bb-49a67daff652",
   "metadata": {},
   "source": [
    "### example 4\n",
    "Repeat simulations any number of times and with any degree of nesting.  Any changes may be applied to parameters, initial conditions etc within the repeated simulations.  The results of the simulation will be collected into arrays.\n",
    "```\n",
    "model_instance = Model('urn:sedml:language:sbml', 'susceptible_zombie.xml')\n",
    "config = {\n",
    "    'Z': list(range(1, 11))\n",
    "}\n",
    "results = repeated_simulation(model_instance, config)\n",
    "report(results, title='Different starting Z values')\n",
    "```"
   ]
  },
  {
   "cell_type": "markdown",
   "id": "bcb2d7d8-e7b9-47b8-94d1-6b99b1812643",
   "metadata": {},
   "source": [
    "#### SED-2 document"
   ]
  },
  {
   "cell_type": "code",
   "execution_count": 19,
   "id": "f9c2a022-5dca-440c-ace2-40dcda602bd2",
   "metadata": {},
   "outputs": [
    {
     "name": "stdout",
     "output_type": "stream",
     "text": [
      "{\"model_path\": \"\\\"susceptible_zombie.xml\\\"\", \"sbml_model_from_path\": {\"_type\": \"sed:sbml_model_from_path\", \"wires\": {\"path_to_sbml\": \"model_path\", \"model\": \"model_instance\"}}, \"repeated_sim_config\": {\"Z\": [1, 2, 3, 4, 5, 6, 7, 8, 9, 10]}, \"repeated_simulation\": {\"_type\": \"sed:repeated_simulation\", \"wires\": {\"model_instance\": \"model_instance\", \"config\": \"repeated_sim_config\", \"results\": \"results\"}, \"_depends_on\": [\"sbml_model_from_path\"]}, \"report\": {\"_type\": \"sed:report\", \"wires\": {\"results\": \"results\", \"title\": \"UTC\"}, \"_depends_on\": [\"repeated_simulation\"]}}\n"
     ]
    }
   ],
   "source": [
    "# SED document serialized\n",
    "instance4 = {\n",
    "    'model_path': '\"susceptible_zombie.xml\"',\n",
    "    'sbml_model_from_path': {\n",
    "        '_type': 'sed:sbml_model_from_path',\n",
    "        'wires': {\n",
    "            'path_to_sbml': 'model_path',\n",
    "            'model': 'model_instance'\n",
    "        },\n",
    "    },\n",
    "    'repeated_sim_config':{'Z': list(range(1, 11))},\n",
    "    'repeated_simulation': {\n",
    "        '_type': 'sed:repeated_simulation',\n",
    "        'wires': {\n",
    "            'model_instance': 'model_instance',\n",
    "            'config': 'repeated_sim_config',\n",
    "            'results': 'results',\n",
    "        },\n",
    "        '_depends_on': ['sbml_model_from_path']\n",
    "    },\n",
    "    'report': {\n",
    "        '_type': 'sed:report',\n",
    "        'wires': {\n",
    "            'results': 'results',\n",
    "            'title': 'UTC'  # this should be optional\n",
    "        },\n",
    "        '_depends_on': ['repeated_simulation']\n",
    "    }\n",
    "}\n",
    "\n",
    "# Serialize to JSON\n",
    "json_str4 = serialize_instance(instance4)\n",
    "print(json_str4)"
   ]
  },
  {
   "cell_type": "markdown",
   "id": "130787c4-a1d3-4098-bbdd-ae391d9e6178",
   "metadata": {},
   "source": [
    "#### from JSON string to Python script"
   ]
  },
  {
   "cell_type": "code",
   "execution_count": 20,
   "id": "ff8d994b-d53a-436c-a41b-7e58e9676aa1",
   "metadata": {},
   "outputs": [
    {
     "name": "stdout",
     "output_type": "stream",
     "text": [
      "repeated_sim_config = {'Z': [1, 2, 3, 4, 5, 6, 7, 8, 9, 10]}\n",
      "model_path = \"susceptible_zombie.xml\"\n",
      "model_instance = sbml_model_from_path(path_to_sbml=model_path)\n",
      "results = repeated_simulation(model_instance=model_instance, config=repeated_sim_config)\n",
      "report(results=results, title=UTC)\n"
     ]
    }
   ],
   "source": [
    "# Generate the script\n",
    "script4 = generate_script(json_str4, sed_process_registry)\n",
    "print(script4)"
   ]
  },
  {
   "cell_type": "code",
   "execution_count": 21,
   "id": "e8b8dea3-a3b0-4922-b7ac-f8412a400304",
   "metadata": {},
   "outputs": [
    {
     "name": "stdout",
     "output_type": "stream",
     "text": [
      "UTC\n",
      "time: [ 0.   2.5  5.   7.5 10. ]\n",
      "S: [50.         38.94003035 30.32651341 23.61828935 18.39390318]\n",
      "Z: [ 1.         12.05996965 20.67348659 27.38171065 32.60609682]\n",
      "time: [ 0.   2.5  5.   7.5 10. ]\n",
      "S: [50.         38.94004271 30.3265222  23.61829995 18.39387556]\n",
      "Z: [ 2.         13.05995729 21.6734778  28.38170005 33.60612444]\n",
      "time: [ 0.   2.5  5.   7.5 10. ]\n",
      "S: [50.         38.94004572 30.32652512 23.6183302  18.39399716]\n",
      "Z: [ 3.         14.05995428 22.67347488 29.3816698  34.60600284]\n",
      "time: [ 0.   2.5  5.   7.5 10. ]\n",
      "S: [50.         38.94005934 30.32656148 23.61832184 18.39393547]\n",
      "Z: [ 4.         15.05994066 23.67343852 30.38167816 35.60606453]\n",
      "time: [ 0.   2.5  5.   7.5 10. ]\n",
      "S: [50.         38.94006923 30.32664465 23.61839919 18.39396   ]\n",
      "Z: [ 5.         16.05993077 24.67335535 31.38160081 36.60604   ]\n",
      "time: [ 0.   2.5  5.   7.5 10. ]\n",
      "S: [50.         38.94004474 30.32656757 23.61833607 18.39394121]\n",
      "Z: [ 6.         17.05995526 25.67343243 32.38166393 37.60605879]\n",
      "time: [ 0.   2.5  5.   7.5 10. ]\n",
      "S: [50.         38.94005671 30.32654259 23.61828592 18.39389871]\n",
      "Z: [ 7.         18.05994329 26.67345741 33.38171408 38.60610129]\n",
      "time: [ 0.   2.5  5.   7.5 10. ]\n",
      "S: [50.         38.93999737 30.32649194 23.61827701 18.3938413 ]\n",
      "Z: [ 8.         19.06000263 27.67350806 34.38172299 39.6061587 ]\n",
      "time: [ 0.   2.5  5.   7.5 10. ]\n",
      "S: [50.         38.94002935 30.32650744 23.61828551 18.39389541]\n",
      "Z: [ 9.         20.05997065 28.67349256 35.38171449 40.60610459]\n",
      "time: [ 0.   2.5  5.   7.5 10. ]\n",
      "S: [50.         38.94003331 30.32656593 23.61833407 18.39393939]\n",
      "Z: [10.         21.05996669 29.67343407 36.38166593 41.60606061]\n"
     ]
    }
   ],
   "source": [
    "# Execute the script\n",
    "exec(script4)"
   ]
  },
  {
   "cell_type": "code",
   "execution_count": 22,
   "id": "ada2bc09-4abe-46c2-b131-e818535d06b4",
   "metadata": {
    "tags": []
   },
   "outputs": [
    {
     "data": {
      "image/svg+xml": [
       "<?xml version=\"1.0\" encoding=\"UTF-8\" standalone=\"no\"?>\n",
       "<!DOCTYPE svg PUBLIC \"-//W3C//DTD SVG 1.1//EN\"\n",
       " \"http://www.w3.org/Graphics/SVG/1.1/DTD/svg11.dtd\">\n",
       "<!-- Generated by graphviz version 7.1.0 (20230121.1956)\n",
       " -->\n",
       "<!-- Title: bigraph Pages: 1 -->\n",
       "<svg width=\"352pt\" height=\"466pt\"\n",
       " viewBox=\"0.00 0.00 361.74 479.71\" xmlns=\"http://www.w3.org/2000/svg\" xmlns:xlink=\"http://www.w3.org/1999/xlink\">\n",
       "<g id=\"graph0\" class=\"graph\" transform=\"scale(0.972222 0.972222) rotate(0) translate(4 475.71)\">\n",
       "<title>bigraph</title>\n",
       "<polygon fill=\"white\" stroke=\"none\" points=\"-4,4 -4,-475.71 357.74,-475.71 357.74,4 -4,4\"/>\n",
       "<!-- (&#39;model_path&#39;,) -->\n",
       "<g id=\"node1\" class=\"node\">\n",
       "<title>(&#39;model_path&#39;,)</title>\n",
       "<ellipse fill=\"none\" stroke=\"black\" stroke-width=\"2\" cx=\"287.87\" cy=\"-432.31\" rx=\"39.3\" ry=\"39.3\"/>\n",
       "<text text-anchor=\"start\" x=\"259.87\" y=\"-429.21\" font-family=\"Times,serif\" font-size=\"12.00\">model_path</text>\n",
       "</g>\n",
       "<!-- (&#39;sbml_model_from_path&#39;,) -->\n",
       "<g id=\"node3\" class=\"node\">\n",
       "<title>(&#39;sbml_model_from_path&#39;,)</title>\n",
       "<polygon fill=\"none\" stroke=\"black\" stroke-width=\"2\" points=\"121,-423.31 0,-423.31 0,-387.31 121,-387.31 121,-423.31\"/>\n",
       "<text text-anchor=\"start\" x=\"4\" y=\"-402.21\" font-family=\"Times,serif\" font-size=\"12.00\">sbml_model_from_path</text>\n",
       "</g>\n",
       "<!-- (&#39;model_path&#39;,)&#45;&gt;(&#39;sbml_model_from_path&#39;,) -->\n",
       "<g id=\"edge1\" class=\"edge\">\n",
       "<title>(&#39;model_path&#39;,)&#45;&gt;(&#39;sbml_model_from_path&#39;,)</title>\n",
       "<path fill=\"none\" stroke=\"black\" stroke-dasharray=\"5,2\" d=\"M247.87,-427.64C214.46,-423.64 165.65,-417.79 126.37,-413.09\"/>\n",
       "<ellipse fill=\"black\" stroke=\"black\" cx=\"124.11\" cy=\"-412.81\" rx=\"2\" ry=\"2\"/>\n",
       "<text text-anchor=\"start\" x=\"143\" y=\"-424.31\" font-family=\"Times,serif\" font-size=\"10.00\">path_to_sbml</text>\n",
       "</g>\n",
       "<!-- (&#39;repeated_sim_config&#39;,) -->\n",
       "<g id=\"node2\" class=\"node\">\n",
       "<title>(&#39;repeated_sim_config&#39;,)</title>\n",
       "<ellipse fill=\"none\" stroke=\"black\" stroke-width=\"2\" cx=\"287.87\" cy=\"-190.31\" rx=\"65.74\" ry=\"65.74\"/>\n",
       "<text text-anchor=\"start\" x=\"238.37\" y=\"-187.21\" font-family=\"Times,serif\" font-size=\"12.00\">repeated_sim_config</text>\n",
       "</g>\n",
       "<!-- (&#39;repeated_simulation&#39;,) -->\n",
       "<g id=\"node4\" class=\"node\">\n",
       "<title>(&#39;repeated_simulation&#39;,)</title>\n",
       "<polygon fill=\"none\" stroke=\"black\" stroke-width=\"2\" points=\"112,-208.31 9,-208.31 9,-172.31 112,-172.31 112,-208.31\"/>\n",
       "<text text-anchor=\"start\" x=\"13\" y=\"-187.21\" font-family=\"Times,serif\" font-size=\"12.00\">repeated_simulation</text>\n",
       "</g>\n",
       "<!-- (&#39;repeated_sim_config&#39;,)&#45;&gt;(&#39;repeated_simulation&#39;,) -->\n",
       "<g id=\"edge4\" class=\"edge\">\n",
       "<title>(&#39;repeated_sim_config&#39;,)&#45;&gt;(&#39;repeated_simulation&#39;,)</title>\n",
       "<path fill=\"none\" stroke=\"black\" stroke-dasharray=\"5,2\" d=\"M221.38,-190.31C188.57,-190.31 149.23,-190.31 117.79,-190.31\"/>\n",
       "<ellipse fill=\"black\" stroke=\"black\" cx=\"115.32\" cy=\"-190.31\" rx=\"2\" ry=\"2\"/>\n",
       "<text text-anchor=\"start\" x=\"158\" y=\"-193.31\" font-family=\"Times,serif\" font-size=\"10.00\">config</text>\n",
       "</g>\n",
       "<!-- (&#39;report&#39;,) -->\n",
       "<g id=\"node5\" class=\"node\">\n",
       "<title>(&#39;report&#39;,)</title>\n",
       "<polygon fill=\"none\" stroke=\"black\" stroke-width=\"2\" points=\"87.5,-62.31 33.5,-62.31 33.5,-26.31 87.5,-26.31 87.5,-62.31\"/>\n",
       "<text text-anchor=\"start\" x=\"46.5\" y=\"-41.21\" font-family=\"Times,serif\" font-size=\"12.00\">report</text>\n",
       "</g>\n",
       "<!-- (&#39;model_instance&#39;,) -->\n",
       "<g id=\"node6\" class=\"node\">\n",
       "<title>(&#39;model_instance&#39;,)</title>\n",
       "<ellipse fill=\"none\" stroke=\"black\" stroke-width=\"2\" cx=\"287.87\" cy=\"-324.31\" rx=\"50.46\" ry=\"50.46\"/>\n",
       "<text text-anchor=\"start\" x=\"250.87\" y=\"-321.21\" font-family=\"Times,serif\" font-size=\"12.00\">model_instance</text>\n",
       "</g>\n",
       "<!-- (&#39;model_instance&#39;,)&#45;&gt;(&#39;sbml_model_from_path&#39;,) -->\n",
       "<g id=\"edge2\" class=\"edge\">\n",
       "<title>(&#39;model_instance&#39;,)&#45;&gt;(&#39;sbml_model_from_path&#39;,)</title>\n",
       "<path fill=\"none\" stroke=\"black\" stroke-dasharray=\"5,2\" d=\"M239.35,-341.39C204.11,-354.06 155.9,-371.38 118.57,-384.8\"/>\n",
       "<ellipse fill=\"black\" stroke=\"black\" cx=\"116.43\" cy=\"-385.57\" rx=\"2\" ry=\"2\"/>\n",
       "<text text-anchor=\"start\" x=\"158.5\" y=\"-379.31\" font-family=\"Times,serif\" font-size=\"10.00\">model</text>\n",
       "</g>\n",
       "<!-- (&#39;model_instance&#39;,)&#45;&gt;(&#39;repeated_simulation&#39;,) -->\n",
       "<g id=\"edge3\" class=\"edge\">\n",
       "<title>(&#39;model_instance&#39;,)&#45;&gt;(&#39;repeated_simulation&#39;,)</title>\n",
       "<path fill=\"none\" stroke=\"black\" stroke-dasharray=\"5,2\" d=\"M243.41,-298.48C200.96,-273.24 137.1,-235.27 97.43,-211.68\"/>\n",
       "<ellipse fill=\"black\" stroke=\"black\" cx=\"95.34\" cy=\"-210.44\" rx=\"2\" ry=\"2\"/>\n",
       "<text text-anchor=\"start\" x=\"139\" y=\"-275.31\" font-family=\"Times,serif\" font-size=\"10.00\">model_instance</text>\n",
       "</g>\n",
       "<!-- (&#39;results&#39;,) -->\n",
       "<g id=\"node7\" class=\"node\">\n",
       "<title>(&#39;results&#39;,)</title>\n",
       "<ellipse fill=\"none\" stroke=\"black\" stroke-width=\"2\" cx=\"287.87\" cy=\"-82.31\" rx=\"24.02\" ry=\"24.02\"/>\n",
       "<text text-anchor=\"start\" x=\"272.37\" y=\"-79.21\" font-family=\"Times,serif\" font-size=\"12.00\">results</text>\n",
       "</g>\n",
       "<!-- (&#39;results&#39;,)&#45;&gt;(&#39;repeated_simulation&#39;,) -->\n",
       "<g id=\"edge5\" class=\"edge\">\n",
       "<title>(&#39;results&#39;,)&#45;&gt;(&#39;repeated_simulation&#39;,)</title>\n",
       "<path fill=\"none\" stroke=\"black\" stroke-dasharray=\"5,2\" d=\"M265.26,-92.67C228.58,-110.25 153.44,-146.26 105.37,-169.29\"/>\n",
       "<ellipse fill=\"black\" stroke=\"black\" cx=\"103.35\" cy=\"-170.26\" rx=\"2\" ry=\"2\"/>\n",
       "<text text-anchor=\"start\" x=\"158\" y=\"-154.31\" font-family=\"Times,serif\" font-size=\"10.00\">results</text>\n",
       "</g>\n",
       "<!-- (&#39;results&#39;,)&#45;&gt;(&#39;report&#39;,) -->\n",
       "<g id=\"edge6\" class=\"edge\">\n",
       "<title>(&#39;results&#39;,)&#45;&gt;(&#39;report&#39;,)</title>\n",
       "<path fill=\"none\" stroke=\"black\" stroke-dasharray=\"5,2\" d=\"M263.18,-78.32C222.39,-71.44 138.92,-57.37 93.19,-49.66\"/>\n",
       "<ellipse fill=\"black\" stroke=\"black\" cx=\"90.81\" cy=\"-49.26\" rx=\"2\" ry=\"2\"/>\n",
       "<text text-anchor=\"start\" x=\"158\" y=\"-70.31\" font-family=\"Times,serif\" font-size=\"10.00\">results</text>\n",
       "</g>\n",
       "<!-- (&#39;UTC&#39;,) -->\n",
       "<g id=\"node8\" class=\"node\">\n",
       "<title>(&#39;UTC&#39;,)</title>\n",
       "<ellipse fill=\"none\" stroke=\"black\" stroke-width=\"2\" cx=\"287.87\" cy=\"-20.31\" rx=\"20.13\" ry=\"20.13\"/>\n",
       "<text text-anchor=\"start\" x=\"275.37\" y=\"-17.21\" font-family=\"Times,serif\" font-size=\"12.00\">UTC</text>\n",
       "</g>\n",
       "<!-- (&#39;UTC&#39;,)&#45;&gt;(&#39;report&#39;,) -->\n",
       "<g id=\"edge7\" class=\"edge\">\n",
       "<title>(&#39;UTC&#39;,)&#45;&gt;(&#39;report&#39;,)</title>\n",
       "<path fill=\"none\" stroke=\"black\" stroke-dasharray=\"5,2\" d=\"M267.24,-22.21C238.92,-24.98 184.92,-30.32 139,-35.31 123.88,-36.96 107.11,-38.89 93.05,-40.55\"/>\n",
       "<ellipse fill=\"black\" stroke=\"black\" cx=\"90.87\" cy=\"-40.8\" rx=\"2\" ry=\"2\"/>\n",
       "<text text-anchor=\"start\" x=\"163\" y=\"-38.31\" font-family=\"Times,serif\" font-size=\"10.00\">title</text>\n",
       "</g>\n",
       "</g>\n",
       "</svg>\n"
      ],
      "text/plain": [
       "<graphviz.graphs.Digraph at 0x16bc9a0a0>"
      ]
     },
     "execution_count": 22,
     "metadata": {},
     "output_type": "execute_result"
    }
   ],
   "source": [
    "# Plot function map\n",
    "remove_nodes = [('repeated_sim_config', 'Z')]\n",
    "plot_bigraph(instance4, remove_nodes=remove_nodes, rankdir='RL')"
   ]
  },
  {
   "cell_type": "code",
   "execution_count": 23,
   "id": "bccdabdc-6071-435e-9333-dd0ec6c30e50",
   "metadata": {
    "tags": []
   },
   "outputs": [
    {
     "data": {
      "image/svg+xml": [
       "<?xml version=\"1.0\" encoding=\"UTF-8\" standalone=\"no\"?>\n",
       "<!DOCTYPE svg PUBLIC \"-//W3C//DTD SVG 1.1//EN\"\n",
       " \"http://www.w3.org/Graphics/SVG/1.1/DTD/svg11.dtd\">\n",
       "<!-- Generated by graphviz version 7.1.0 (20230121.1956)\n",
       " -->\n",
       "<!-- Title: flow Pages: 1 -->\n",
       "<svg width=\"153pt\" height=\"183pt\"\n",
       " viewBox=\"0.00 0.00 157.00 188.00\" xmlns=\"http://www.w3.org/2000/svg\" xmlns:xlink=\"http://www.w3.org/1999/xlink\">\n",
       "<g id=\"graph0\" class=\"graph\" transform=\"scale(0.972222 0.972222) rotate(0) translate(4 184)\">\n",
       "<title>flow</title>\n",
       "<polygon fill=\"white\" stroke=\"none\" points=\"-4,4 -4,-184 153,-184 153,4 -4,4\"/>\n",
       "<!-- (&#39;sbml_model_from_path&#39;,) -->\n",
       "<g id=\"node1\" class=\"node\">\n",
       "<title>(&#39;sbml_model_from_path&#39;,)</title>\n",
       "<polygon fill=\"none\" stroke=\"black\" stroke-width=\"2\" points=\"149,-180 0,-180 0,-144 149,-144 149,-180\"/>\n",
       "<text text-anchor=\"start\" x=\"8\" y=\"-158.3\" font-family=\"Times,serif\" font-size=\"14.00\">sbml_model_from_path</text>\n",
       "</g>\n",
       "<!-- (&#39;repeated_simulation&#39;,) -->\n",
       "<g id=\"node2\" class=\"node\">\n",
       "<title>(&#39;repeated_simulation&#39;,)</title>\n",
       "<polygon fill=\"none\" stroke=\"black\" stroke-width=\"2\" points=\"138,-108 11,-108 11,-72 138,-72 138,-108\"/>\n",
       "<text text-anchor=\"start\" x=\"19\" y=\"-86.3\" font-family=\"Times,serif\" font-size=\"14.00\">repeated_simulation</text>\n",
       "</g>\n",
       "<!-- (&#39;sbml_model_from_path&#39;,)&#45;&gt;(&#39;repeated_simulation&#39;,) -->\n",
       "<g id=\"edge1\" class=\"edge\">\n",
       "<title>(&#39;sbml_model_from_path&#39;,)&#45;&gt;(&#39;repeated_simulation&#39;,)</title>\n",
       "<path fill=\"none\" stroke=\"black\" stroke-width=\"2\" d=\"M74.5,-143.34C74.5,-136.75 74.5,-129.08 74.5,-121.67\"/>\n",
       "<polygon fill=\"black\" stroke=\"black\" stroke-width=\"2\" points=\"78,-121.93 74.5,-111.93 71,-121.93 78,-121.93\"/>\n",
       "</g>\n",
       "<!-- (&#39;report&#39;,) -->\n",
       "<g id=\"node3\" class=\"node\">\n",
       "<title>(&#39;report&#39;,)</title>\n",
       "<polygon fill=\"none\" stroke=\"black\" stroke-width=\"2\" points=\"101.5,-36 47.5,-36 47.5,0 101.5,0 101.5,-36\"/>\n",
       "<text text-anchor=\"start\" x=\"58\" y=\"-14.3\" font-family=\"Times,serif\" font-size=\"14.00\">report</text>\n",
       "</g>\n",
       "<!-- (&#39;repeated_simulation&#39;,)&#45;&gt;(&#39;report&#39;,) -->\n",
       "<g id=\"edge2\" class=\"edge\">\n",
       "<title>(&#39;repeated_simulation&#39;,)&#45;&gt;(&#39;report&#39;,)</title>\n",
       "<path fill=\"none\" stroke=\"black\" stroke-width=\"2\" d=\"M74.5,-71.34C74.5,-64.75 74.5,-57.08 74.5,-49.67\"/>\n",
       "<polygon fill=\"black\" stroke=\"black\" stroke-width=\"2\" points=\"78,-49.93 74.5,-39.93 71,-49.93 78,-49.93\"/>\n",
       "</g>\n",
       "</g>\n",
       "</svg>\n"
      ],
      "text/plain": [
       "<graphviz.graphs.Digraph at 0x16bb3c100>"
      ]
     },
     "execution_count": 23,
     "metadata": {},
     "output_type": "execute_result"
    }
   ],
   "source": [
    "# Plot flow diagram\n",
    "plot_flow(instance4)"
   ]
  },
  {
   "cell_type": "markdown",
   "id": "93c526bc-6c3f-4876-8a47-9c0d587a3464",
   "metadata": {},
   "source": [
    "### example 5\n",
    "Carry out an n-D parameter scan and return the results in an array.\n",
    "```\n",
    "model_instance = Model('urn:sedml:language:sbml', 'susceptible_zombie.xml')\n",
    "SZ_data = data_description('susceptible_zombie.csv', 'CSV')\n",
    "config = {\n",
    "    'S': np.arange(0.0, 0.010, step=0.002),\n",
    "    'Z': np.arange(0.0, 0.010, step=0.002)\n",
    "}\n",
    "results = n_dimensional_scan(\n",
    "    input_dict=config, \n",
    "    model=model_instance,\n",
    "    data_description=SZ_data,\n",
    "    time_start=0, \n",
    "    time_end=10, \n",
    "    num_points=5\n",
    ")\n",
    "report(results, title='Parameter scan')\n",
    "```"
   ]
  },
  {
   "cell_type": "markdown",
   "id": "32c312e3-3070-40c5-8b78-7a2bb3f730a1",
   "metadata": {},
   "source": [
    "#### SED-2 document"
   ]
  },
  {
   "cell_type": "code",
   "execution_count": 24,
   "id": "b6f1b4c9-d09a-4e46-932e-7adcef65ba93",
   "metadata": {
    "tags": []
   },
   "outputs": [
    {
     "name": "stdout",
     "output_type": "stream",
     "text": [
      "{\"model_path\": \"\\\"susceptible_zombie.xml\\\"\", \"data_description_path\": \"\\\"susceptible_zombie.csv\\\"\", \"data_format\": \"\\\"CSV\\\"\", \"UTC\": \"\\\"UTC\\\"\", \"time_start\": 0, \"time_end\": 10, \"num_points\": 5, \"sbml_model_from_path\": {\"_type\": \"sed:sbml_model_from_path\", \"wires\": {\"path_to_sbml\": \"model_path\", \"model\": \"model_instance\"}}, \"data_description\": {\"_type\": \"sed:data_description\", \"wires\": {\"data_file\": \"data_description_path\", \"file_format\": \"data_format\", \"data\": \"SZ_data\"}}, \"n_dimensional_scan_config\": {\"S\": [0.0, 0.002, 0.004, 0.006, 0.008], \"Z\": [0.0, 0.002, 0.004, 0.006, 0.008]}, \"n_dimensional_scan\": {\"_type\": \"sed:n_dimensional_scan\", \"wires\": {\"input_dict\": \"n_dimensional_scan_config\", \"model\": \"model_instance\", \"data_description\": \"SZ_data\", \"time_start\": \"time_start\", \"time_end\": \"time_end\", \"num_points\": \"num_points\", \"results\": \"results\"}, \"_depends_on\": [\"sbml_model_from_path\"]}, \"report\": {\"_type\": \"sed:report\", \"wires\": {\"results\": \"results\", \"title\": \"UTC\"}, \"_depends_on\": [\"n_dimensional_scan\"]}}\n"
     ]
    }
   ],
   "source": [
    "# SED document serialized\n",
    "instance5 = {\n",
    "    'model_path': '\"susceptible_zombie.xml\"',\n",
    "    'data_description_path': '\"susceptible_zombie.csv\"',\n",
    "    'data_format': '\"CSV\"',\n",
    "    'UTC': '\"UTC\"',\n",
    "    'time_start': 0,\n",
    "    'time_end': 10,\n",
    "    'num_points': 5,\n",
    "    'sbml_model_from_path': {\n",
    "        '_type': 'sed:sbml_model_from_path',\n",
    "        'wires': {\n",
    "            'path_to_sbml': 'model_path',\n",
    "            'model': 'model_instance'\n",
    "        },\n",
    "    },\n",
    "    'data_description': {\n",
    "        '_type': 'sed:data_description',\n",
    "        'wires': {\n",
    "            'data_file': 'data_description_path',\n",
    "            'file_format': 'data_format',\n",
    "            'data': 'SZ_data',  # the output\n",
    "        },\n",
    "    },\n",
    "    'n_dimensional_scan_config': {\n",
    "        'S': np.arange(0.0, 0.010, step=0.002),\n",
    "        'Z': np.arange(0.0, 0.010, step=0.002)\n",
    "    },\n",
    "    'n_dimensional_scan': {\n",
    "        '_type': 'sed:n_dimensional_scan',\n",
    "        'wires': {'input_dict': 'dict',\n",
    "            'input_dict': 'n_dimensional_scan_config',\n",
    "            'model': 'model_instance',\n",
    "            'data_description': 'SZ_data',\n",
    "            'time_start': 'time_start',\n",
    "            'time_end': 'time_end',\n",
    "            'num_points': 'num_points',\n",
    "            'results': 'results',\n",
    "        },\n",
    "        '_depends_on': ['sbml_model_from_path']\n",
    "    },\n",
    "    'report': {\n",
    "        '_type': 'sed:report',\n",
    "        'wires': {\n",
    "            'results': 'results',\n",
    "            'title': 'UTC'  # this should be optional\n",
    "        },\n",
    "        '_depends_on': ['n_dimensional_scan']\n",
    "    }\n",
    "}\n",
    "\n",
    "# Serialize to JSON\n",
    "json_str5 = serialize_instance(instance5)\n",
    "print(json_str5)"
   ]
  },
  {
   "cell_type": "markdown",
   "id": "bb7015f2-a848-4651-ad2b-7a9cc1090b75",
   "metadata": {},
   "source": [
    "#### from JSON string to Python script"
   ]
  },
  {
   "cell_type": "code",
   "execution_count": 25,
   "id": "a7013111-0bbf-47f0-8e8b-bc29266470f8",
   "metadata": {
    "tags": []
   },
   "outputs": [
    {
     "name": "stdout",
     "output_type": "stream",
     "text": [
      "n_dimensional_scan_config = {'S': [0.0, 0.002, 0.004, 0.006, 0.008], 'Z': [0.0, 0.002, 0.004, 0.006, 0.008]}\n",
      "num_points = 5\n",
      "time_end = 10\n",
      "time_start = 0\n",
      "UTC = \"UTC\"\n",
      "data_format = \"CSV\"\n",
      "data_description_path = \"susceptible_zombie.csv\"\n",
      "model_path = \"susceptible_zombie.xml\"\n",
      "model_instance = sbml_model_from_path(path_to_sbml=model_path)\n",
      "SZ_data = data_description(data_file=data_description_path, file_format=data_format)\n",
      "results = n_dimensional_scan(input_dict=n_dimensional_scan_config, model=model_instance, data_description=SZ_data, time_start=time_start, time_end=time_end, num_points=num_points)\n",
      "report(results=results, title=UTC)\n"
     ]
    }
   ],
   "source": [
    "# Generate the script\n",
    "script5 = generate_script(json_str5, sed_process_registry)\n",
    "print(script5)"
   ]
  },
  {
   "cell_type": "code",
   "execution_count": 26,
   "id": "4f638c12-48f0-4b0f-90ee-f4cf36cbd538",
   "metadata": {
    "tags": []
   },
   "outputs": [
    {
     "name": "stdout",
     "output_type": "stream",
     "text": [
      "UTC\n",
      "(0.0, 0.0): 0.0\n",
      "(0.0, 0.002): 0.0\n",
      "(0.0, 0.004): 0.0\n",
      "(0.0, 0.006): 0.0\n",
      "(0.0, 0.008): 0.0\n",
      "(0.002, 0.0): 0.0\n",
      "(0.002, 0.002): 0.0\n",
      "(0.002, 0.004): 0.0\n",
      "(0.002, 0.006): 0.0\n",
      "(0.002, 0.008): 0.0\n",
      "(0.004, 0.0): 0.0\n",
      "(0.004, 0.002): 0.0\n",
      "(0.004, 0.004): 0.0\n",
      "(0.004, 0.006): 0.0\n",
      "(0.004, 0.008): 0.0\n",
      "(0.006, 0.0): 0.0\n",
      "(0.006, 0.002): 0.0\n",
      "(0.006, 0.004): 0.0\n",
      "(0.006, 0.006): 0.0\n",
      "(0.006, 0.008): 0.0\n",
      "(0.008, 0.0): 0.0\n",
      "(0.008, 0.002): 0.0\n",
      "(0.008, 0.004): 0.0\n",
      "(0.008, 0.006): 0.0\n",
      "(0.008, 0.008): 0.0\n"
     ]
    }
   ],
   "source": [
    "# Execute the script\n",
    "exec(script5)"
   ]
  },
  {
   "cell_type": "code",
   "execution_count": 27,
   "id": "21de6595-aeef-4a34-9e77-73e4d5d64e11",
   "metadata": {},
   "outputs": [
    {
     "data": {
      "image/svg+xml": [
       "<?xml version=\"1.0\" encoding=\"UTF-8\" standalone=\"no\"?>\n",
       "<!DOCTYPE svg PUBLIC \"-//W3C//DTD SVG 1.1//EN\"\n",
       " \"http://www.w3.org/Graphics/SVG/1.1/DTD/svg11.dtd\">\n",
       "<!-- Generated by graphviz version 7.1.0 (20230121.1956)\n",
       " -->\n",
       "<!-- Title: bigraph Pages: 1 -->\n",
       "<svg width=\"256pt\" height=\"700pt\"\n",
       " viewBox=\"0.00 0.00 263.27 720.00\" xmlns=\"http://www.w3.org/2000/svg\" xmlns:xlink=\"http://www.w3.org/1999/xlink\">\n",
       "<g id=\"graph0\" class=\"graph\" transform=\"scale(0.627965 0.627965) rotate(0) translate(4 1110.71)\">\n",
       "<title>bigraph</title>\n",
       "<polygon fill=\"white\" stroke=\"none\" points=\"-4,4 -4,-1110.71 403.6,-1110.71 403.6,4 -4,4\"/>\n",
       "<!-- (&#39;model_path&#39;,) -->\n",
       "<g id=\"node1\" class=\"node\">\n",
       "<title>(&#39;model_path&#39;,)</title>\n",
       "<ellipse fill=\"none\" stroke=\"black\" stroke-width=\"2\" cx=\"312.8\" cy=\"-1067.31\" rx=\"39.3\" ry=\"39.3\"/>\n",
       "<text text-anchor=\"start\" x=\"284.8\" y=\"-1064.21\" font-family=\"Times,serif\" font-size=\"12.00\">model_path</text>\n",
       "</g>\n",
       "<!-- (&#39;sbml_model_from_path&#39;,) -->\n",
       "<g id=\"node9\" class=\"node\">\n",
       "<title>(&#39;sbml_model_from_path&#39;,)</title>\n",
       "<polygon fill=\"none\" stroke=\"black\" stroke-width=\"2\" points=\"121,-1056.31 0,-1056.31 0,-1020.31 121,-1020.31 121,-1056.31\"/>\n",
       "<text text-anchor=\"start\" x=\"4\" y=\"-1035.21\" font-family=\"Times,serif\" font-size=\"12.00\">sbml_model_from_path</text>\n",
       "</g>\n",
       "<!-- (&#39;model_path&#39;,)&#45;&gt;(&#39;sbml_model_from_path&#39;,) -->\n",
       "<g id=\"edge1\" class=\"edge\">\n",
       "<title>(&#39;model_path&#39;,)&#45;&gt;(&#39;sbml_model_from_path&#39;,)</title>\n",
       "<path fill=\"none\" stroke=\"black\" stroke-dasharray=\"5,2\" d=\"M272.96,-1062.81C233.93,-1058.29 173.07,-1051.24 126.64,-1045.86\"/>\n",
       "<ellipse fill=\"black\" stroke=\"black\" cx=\"124.39\" cy=\"-1045.6\" rx=\"2\" ry=\"2\"/>\n",
       "<text text-anchor=\"start\" x=\"145\" y=\"-1057.31\" font-family=\"Times,serif\" font-size=\"10.00\">path_to_sbml</text>\n",
       "</g>\n",
       "<!-- (&#39;data_description_path&#39;,) -->\n",
       "<g id=\"node2\" class=\"node\">\n",
       "<title>(&#39;data_description_path&#39;,)</title>\n",
       "<ellipse fill=\"none\" stroke=\"black\" stroke-width=\"2\" cx=\"312.8\" cy=\"-291.31\" rx=\"68.89\" ry=\"68.89\"/>\n",
       "<text text-anchor=\"start\" x=\"260.8\" y=\"-288.21\" font-family=\"Times,serif\" font-size=\"12.00\">data_description_path</text>\n",
       "</g>\n",
       "<!-- (&#39;data_description&#39;,) -->\n",
       "<g id=\"node10\" class=\"node\">\n",
       "<title>(&#39;data_description&#39;,)</title>\n",
       "<polygon fill=\"none\" stroke=\"black\" stroke-width=\"2\" points=\"103.5,-309.31 17.5,-309.31 17.5,-273.31 103.5,-273.31 103.5,-309.31\"/>\n",
       "<text text-anchor=\"start\" x=\"21.5\" y=\"-288.21\" font-family=\"Times,serif\" font-size=\"12.00\">data_description</text>\n",
       "</g>\n",
       "<!-- (&#39;data_description_path&#39;,)&#45;&gt;(&#39;data_description&#39;,) -->\n",
       "<g id=\"edge3\" class=\"edge\">\n",
       "<title>(&#39;data_description_path&#39;,)&#45;&gt;(&#39;data_description&#39;,)</title>\n",
       "<path fill=\"none\" stroke=\"black\" stroke-dasharray=\"5,2\" d=\"M243.07,-291.31C200.38,-291.31 146.6,-291.31 108.69,-291.31\"/>\n",
       "<ellipse fill=\"black\" stroke=\"black\" cx=\"106.65\" cy=\"-291.31\" rx=\"2\" ry=\"2\"/>\n",
       "<text text-anchor=\"start\" x=\"155\" y=\"-294.31\" font-family=\"Times,serif\" font-size=\"10.00\">data_file</text>\n",
       "</g>\n",
       "<!-- (&#39;data_format&#39;,) -->\n",
       "<g id=\"node3\" class=\"node\">\n",
       "<title>(&#39;data_format&#39;,)</title>\n",
       "<ellipse fill=\"none\" stroke=\"black\" stroke-width=\"2\" cx=\"312.8\" cy=\"-164.31\" rx=\"40.03\" ry=\"40.03\"/>\n",
       "<text text-anchor=\"start\" x=\"284.3\" y=\"-161.21\" font-family=\"Times,serif\" font-size=\"12.00\">data_format</text>\n",
       "</g>\n",
       "<!-- (&#39;data_format&#39;,)&#45;&gt;(&#39;data_description&#39;,) -->\n",
       "<g id=\"edge4\" class=\"edge\">\n",
       "<title>(&#39;data_format&#39;,)&#45;&gt;(&#39;data_description&#39;,)</title>\n",
       "<path fill=\"none\" stroke=\"black\" stroke-dasharray=\"5,2\" d=\"M276.2,-182.38C230.48,-205.58 151.26,-245.77 102.9,-270.31\"/>\n",
       "<ellipse fill=\"black\" stroke=\"black\" cx=\"100.83\" cy=\"-271.36\" rx=\"2\" ry=\"2\"/>\n",
       "<text text-anchor=\"start\" x=\"150.5\" y=\"-252.31\" font-family=\"Times,serif\" font-size=\"10.00\">file_format</text>\n",
       "</g>\n",
       "<!-- (&#39;UTC&#39;,) -->\n",
       "<g id=\"node4\" class=\"node\">\n",
       "<title>(&#39;UTC&#39;,)</title>\n",
       "<ellipse fill=\"none\" stroke=\"black\" stroke-width=\"2\" cx=\"312.8\" cy=\"-20.31\" rx=\"20.13\" ry=\"20.13\"/>\n",
       "<text text-anchor=\"start\" x=\"300.3\" y=\"-17.21\" font-family=\"Times,serif\" font-size=\"12.00\">UTC</text>\n",
       "</g>\n",
       "<!-- (&#39;report&#39;,) -->\n",
       "<g id=\"node12\" class=\"node\">\n",
       "<title>(&#39;report&#39;,)</title>\n",
       "<polygon fill=\"none\" stroke=\"black\" stroke-width=\"2\" points=\"87.5,-62.31 33.5,-62.31 33.5,-26.31 87.5,-26.31 87.5,-62.31\"/>\n",
       "<text text-anchor=\"start\" x=\"46.5\" y=\"-41.21\" font-family=\"Times,serif\" font-size=\"12.00\">report</text>\n",
       "</g>\n",
       "<!-- (&#39;UTC&#39;,)&#45;&gt;(&#39;report&#39;,) -->\n",
       "<g id=\"edge14\" class=\"edge\">\n",
       "<title>(&#39;UTC&#39;,)&#45;&gt;(&#39;report&#39;,)</title>\n",
       "<path fill=\"none\" stroke=\"black\" stroke-dasharray=\"5,2\" d=\"M291.82,-21.86C259.63,-24.39 194.27,-29.71 139,-35.31 123.87,-36.85 107.1,-38.77 93.04,-40.44\"/>\n",
       "<ellipse fill=\"black\" stroke=\"black\" cx=\"90.86\" cy=\"-40.7\" rx=\"2\" ry=\"2\"/>\n",
       "<text text-anchor=\"start\" x=\"165\" y=\"-38.31\" font-family=\"Times,serif\" font-size=\"10.00\">title</text>\n",
       "</g>\n",
       "<!-- (&#39;time_start&#39;,) -->\n",
       "<g id=\"node5\" class=\"node\">\n",
       "<title>(&#39;time_start&#39;,)</title>\n",
       "<ellipse fill=\"none\" stroke=\"black\" stroke-width=\"2\" cx=\"312.8\" cy=\"-857.31\" rx=\"33.49\" ry=\"33.49\"/>\n",
       "<text text-anchor=\"start\" x=\"289.8\" y=\"-854.21\" font-family=\"Times,serif\" font-size=\"12.00\">time_start</text>\n",
       "</g>\n",
       "<!-- (&#39;n_dimensional_scan&#39;,) -->\n",
       "<g id=\"node11\" class=\"node\">\n",
       "<title>(&#39;n_dimensional_scan&#39;,)</title>\n",
       "<polygon fill=\"none\" stroke=\"black\" stroke-width=\"2\" points=\"113,-703.31 8,-703.31 8,-667.31 113,-667.31 113,-703.31\"/>\n",
       "<text text-anchor=\"start\" x=\"12\" y=\"-682.21\" font-family=\"Times,serif\" font-size=\"12.00\">n_dimensional_scan</text>\n",
       "</g>\n",
       "<!-- (&#39;time_start&#39;,)&#45;&gt;(&#39;n_dimensional_scan&#39;,) -->\n",
       "<g id=\"edge9\" class=\"edge\">\n",
       "<title>(&#39;time_start&#39;,)&#45;&gt;(&#39;n_dimensional_scan&#39;,)</title>\n",
       "<path fill=\"none\" stroke=\"black\" stroke-dasharray=\"5,2\" d=\"M281.26,-844.12C264.52,-836.46 243.65,-826.19 226,-815.31 172.69,-782.48 116.75,-735.08 85.79,-707.51\"/>\n",
       "<ellipse fill=\"black\" stroke=\"black\" cx=\"84\" cy=\"-705.91\" rx=\"2\" ry=\"2\"/>\n",
       "<text text-anchor=\"start\" x=\"153\" y=\"-805.31\" font-family=\"Times,serif\" font-size=\"10.00\">time_start</text>\n",
       "</g>\n",
       "<!-- (&#39;time_end&#39;,) -->\n",
       "<g id=\"node6\" class=\"node\">\n",
       "<title>(&#39;time_end&#39;,)</title>\n",
       "<ellipse fill=\"none\" stroke=\"black\" stroke-width=\"2\" cx=\"312.8\" cy=\"-774.31\" rx=\"32.02\" ry=\"32.02\"/>\n",
       "<text text-anchor=\"start\" x=\"290.8\" y=\"-771.21\" font-family=\"Times,serif\" font-size=\"12.00\">time_end</text>\n",
       "</g>\n",
       "<!-- (&#39;time_end&#39;,)&#45;&gt;(&#39;n_dimensional_scan&#39;,) -->\n",
       "<g id=\"edge10\" class=\"edge\">\n",
       "<title>(&#39;time_end&#39;,)&#45;&gt;(&#39;n_dimensional_scan&#39;,)</title>\n",
       "<path fill=\"none\" stroke=\"black\" stroke-dasharray=\"5,2\" d=\"M281.61,-763.58C241.22,-749.22 168.82,-723.48 118.12,-705.45\"/>\n",
       "<ellipse fill=\"black\" stroke=\"black\" cx=\"115.95\" cy=\"-704.67\" rx=\"2\" ry=\"2\"/>\n",
       "<text text-anchor=\"start\" x=\"154\" y=\"-737.31\" font-family=\"Times,serif\" font-size=\"10.00\">time_end</text>\n",
       "</g>\n",
       "<!-- (&#39;num_points&#39;,) -->\n",
       "<g id=\"node7\" class=\"node\">\n",
       "<title>(&#39;num_points&#39;,)</title>\n",
       "<ellipse fill=\"none\" stroke=\"black\" stroke-width=\"2\" cx=\"312.8\" cy=\"-685.31\" rx=\"39.3\" ry=\"39.3\"/>\n",
       "<text text-anchor=\"start\" x=\"284.8\" y=\"-682.21\" font-family=\"Times,serif\" font-size=\"12.00\">num_points</text>\n",
       "</g>\n",
       "<!-- (&#39;num_points&#39;,)&#45;&gt;(&#39;n_dimensional_scan&#39;,) -->\n",
       "<g id=\"edge11\" class=\"edge\">\n",
       "<title>(&#39;num_points&#39;,)&#45;&gt;(&#39;n_dimensional_scan&#39;,)</title>\n",
       "<path fill=\"none\" stroke=\"black\" stroke-dasharray=\"5,2\" d=\"M272.69,-685.31C231.35,-685.31 165.73,-685.31 118.61,-685.31\"/>\n",
       "<ellipse fill=\"black\" stroke=\"black\" cx=\"116.32\" cy=\"-685.31\" rx=\"2\" ry=\"2\"/>\n",
       "<text text-anchor=\"start\" x=\"149\" y=\"-688.31\" font-family=\"Times,serif\" font-size=\"10.00\">num_points</text>\n",
       "</g>\n",
       "<!-- (&#39;n_dimensional_scan_config&#39;,) -->\n",
       "<g id=\"node8\" class=\"node\">\n",
       "<title>(&#39;n_dimensional_scan_config&#39;,)</title>\n",
       "<ellipse fill=\"none\" stroke=\"black\" stroke-width=\"2\" cx=\"312.8\" cy=\"-541.31\" rx=\"86.6\" ry=\"86.6\"/>\n",
       "<text text-anchor=\"start\" x=\"246.3\" y=\"-538.21\" font-family=\"Times,serif\" font-size=\"12.00\">n_dimensional_scan_config</text>\n",
       "</g>\n",
       "<!-- (&#39;n_dimensional_scan_config&#39;,)&#45;&gt;(&#39;n_dimensional_scan&#39;,) -->\n",
       "<g id=\"edge6\" class=\"edge\">\n",
       "<title>(&#39;n_dimensional_scan_config&#39;,)&#45;&gt;(&#39;n_dimensional_scan&#39;,)</title>\n",
       "<path fill=\"none\" stroke=\"black\" stroke-dasharray=\"5,2\" d=\"M236.7,-584.52C191.18,-610.71 135.07,-642.99 98.81,-663.85\"/>\n",
       "<ellipse fill=\"black\" stroke=\"black\" cx=\"96.66\" cy=\"-665.09\" rx=\"2\" ry=\"2\"/>\n",
       "<text text-anchor=\"start\" x=\"152\" y=\"-641.31\" font-family=\"Times,serif\" font-size=\"10.00\">input_dict</text>\n",
       "</g>\n",
       "<!-- (&#39;model_instance&#39;,) -->\n",
       "<g id=\"node13\" class=\"node\">\n",
       "<title>(&#39;model_instance&#39;,)</title>\n",
       "<ellipse fill=\"none\" stroke=\"black\" stroke-width=\"2\" cx=\"312.8\" cy=\"-959.31\" rx=\"50.46\" ry=\"50.46\"/>\n",
       "<text text-anchor=\"start\" x=\"275.8\" y=\"-956.21\" font-family=\"Times,serif\" font-size=\"12.00\">model_instance</text>\n",
       "</g>\n",
       "<!-- (&#39;model_instance&#39;,)&#45;&gt;(&#39;sbml_model_from_path&#39;,) -->\n",
       "<g id=\"edge2\" class=\"edge\">\n",
       "<title>(&#39;model_instance&#39;,)&#45;&gt;(&#39;sbml_model_from_path&#39;,)</title>\n",
       "<path fill=\"none\" stroke=\"black\" stroke-dasharray=\"5,2\" d=\"M263.83,-974.45C224.8,-986.77 169.33,-1004.28 126.34,-1017.85\"/>\n",
       "<ellipse fill=\"black\" stroke=\"black\" cx=\"124.08\" cy=\"-1018.56\" rx=\"2\" ry=\"2\"/>\n",
       "<text text-anchor=\"start\" x=\"160.5\" y=\"-1015.31\" font-family=\"Times,serif\" font-size=\"10.00\">model</text>\n",
       "</g>\n",
       "<!-- (&#39;model_instance&#39;,)&#45;&gt;(&#39;n_dimensional_scan&#39;,) -->\n",
       "<g id=\"edge7\" class=\"edge\">\n",
       "<title>(&#39;model_instance&#39;,)&#45;&gt;(&#39;n_dimensional_scan&#39;,)</title>\n",
       "<path fill=\"none\" stroke=\"black\" stroke-dasharray=\"5,2\" d=\"M269.88,-931.81C255.63,-921.98 239.82,-910.56 226,-899.31 184.79,-865.78 172.12,-858.87 139,-817.31 111.01,-782.2 86.21,-735.94 72.58,-708.54\"/>\n",
       "<ellipse fill=\"black\" stroke=\"black\" cx=\"71.6\" cy=\"-706.55\" rx=\"2\" ry=\"2\"/>\n",
       "<text text-anchor=\"start\" x=\"160.5\" y=\"-886.31\" font-family=\"Times,serif\" font-size=\"10.00\">model</text>\n",
       "</g>\n",
       "<!-- (&#39;SZ_data&#39;,) -->\n",
       "<g id=\"node14\" class=\"node\">\n",
       "<title>(&#39;SZ_data&#39;,)</title>\n",
       "<ellipse fill=\"none\" stroke=\"black\" stroke-width=\"2\" cx=\"312.8\" cy=\"-407.31\" rx=\"29.6\" ry=\"29.6\"/>\n",
       "<text text-anchor=\"start\" x=\"292.8\" y=\"-404.21\" font-family=\"Times,serif\" font-size=\"12.00\">SZ_data</text>\n",
       "</g>\n",
       "<!-- (&#39;SZ_data&#39;,)&#45;&gt;(&#39;data_description&#39;,) -->\n",
       "<g id=\"edge5\" class=\"edge\">\n",
       "<title>(&#39;SZ_data&#39;,)&#45;&gt;(&#39;data_description&#39;,)</title>\n",
       "<path fill=\"none\" stroke=\"black\" stroke-dasharray=\"5,2\" d=\"M283.03,-401.49C247.68,-393.6 186.56,-377.53 139,-352.31 119.2,-341.82 99.38,-326.1 84.74,-313.25\"/>\n",
       "<ellipse fill=\"black\" stroke=\"black\" cx=\"83.01\" cy=\"-311.71\" rx=\"2\" ry=\"2\"/>\n",
       "<text text-anchor=\"start\" x=\"164.5\" y=\"-383.31\" font-family=\"Times,serif\" font-size=\"10.00\">data</text>\n",
       "</g>\n",
       "<!-- (&#39;SZ_data&#39;,)&#45;&gt;(&#39;n_dimensional_scan&#39;,) -->\n",
       "<g id=\"edge8\" class=\"edge\">\n",
       "<title>(&#39;SZ_data&#39;,)&#45;&gt;(&#39;n_dimensional_scan&#39;,)</title>\n",
       "<path fill=\"none\" stroke=\"black\" stroke-dasharray=\"5,2\" d=\"M283.35,-415.47C265.51,-421.6 242.79,-431.36 226,-445.31 149.98,-508.5 94.06,-615.32 71.93,-662.15\"/>\n",
       "<ellipse fill=\"black\" stroke=\"black\" cx=\"70.96\" cy=\"-664.23\" rx=\"2\" ry=\"2\"/>\n",
       "<text text-anchor=\"start\" x=\"139\" y=\"-542.31\" font-family=\"Times,serif\" font-size=\"10.00\">data_description</text>\n",
       "</g>\n",
       "<!-- (&#39;results&#39;,) -->\n",
       "<g id=\"node15\" class=\"node\">\n",
       "<title>(&#39;results&#39;,)</title>\n",
       "<ellipse fill=\"none\" stroke=\"black\" stroke-width=\"2\" cx=\"312.8\" cy=\"-82.31\" rx=\"24.02\" ry=\"24.02\"/>\n",
       "<text text-anchor=\"start\" x=\"297.3\" y=\"-79.21\" font-family=\"Times,serif\" font-size=\"12.00\">results</text>\n",
       "</g>\n",
       "<!-- (&#39;results&#39;,)&#45;&gt;(&#39;n_dimensional_scan&#39;,) -->\n",
       "<g id=\"edge12\" class=\"edge\">\n",
       "<title>(&#39;results&#39;,)&#45;&gt;(&#39;n_dimensional_scan&#39;,)</title>\n",
       "<path fill=\"none\" stroke=\"black\" stroke-dasharray=\"5,2\" d=\"M288.08,-84.66C268.16,-87.98 240.66,-95.99 226,-115.31 174.48,-183.25 257.63,-236.98 208,-306.31 188.43,-333.65 160.24,-311.25 139,-337.31 97.66,-388.03 71.74,-592.34 63.97,-661.95\"/>\n",
       "<ellipse fill=\"black\" stroke=\"black\" cx=\"63.72\" cy=\"-664.24\" rx=\"2\" ry=\"2\"/>\n",
       "<text text-anchor=\"start\" x=\"160\" y=\"-340.31\" font-family=\"Times,serif\" font-size=\"10.00\">results</text>\n",
       "</g>\n",
       "<!-- (&#39;results&#39;,)&#45;&gt;(&#39;report&#39;,) -->\n",
       "<g id=\"edge13\" class=\"edge\">\n",
       "<title>(&#39;results&#39;,)&#45;&gt;(&#39;report&#39;,)</title>\n",
       "<path fill=\"none\" stroke=\"black\" stroke-dasharray=\"5,2\" d=\"M288.25,-78.74C242.98,-71.87 143.79,-56.81 92.94,-49.09\"/>\n",
       "<ellipse fill=\"black\" stroke=\"black\" cx=\"90.64\" cy=\"-48.74\" rx=\"2\" ry=\"2\"/>\n",
       "<text text-anchor=\"start\" x=\"160\" y=\"-68.31\" font-family=\"Times,serif\" font-size=\"10.00\">results</text>\n",
       "</g>\n",
       "</g>\n",
       "</svg>\n"
      ],
      "text/plain": [
       "<graphviz.graphs.Digraph at 0x16bc78a30>"
      ]
     },
     "execution_count": 27,
     "metadata": {},
     "output_type": "execute_result"
    }
   ],
   "source": [
    "# Plot function map\n",
    "remove_nodes = [('n_dimensional_scan_config', 'S'), ('n_dimensional_scan_config', 'Z')]\n",
    "plot_bigraph(instance5, remove_nodes=remove_nodes, rankdir='RL')"
   ]
  },
  {
   "cell_type": "code",
   "execution_count": 28,
   "id": "a333e7bd-5878-4e88-b007-ec6084e8bb71",
   "metadata": {},
   "outputs": [
    {
     "data": {
      "image/svg+xml": [
       "<?xml version=\"1.0\" encoding=\"UTF-8\" standalone=\"no\"?>\n",
       "<!DOCTYPE svg PUBLIC \"-//W3C//DTD SVG 1.1//EN\"\n",
       " \"http://www.w3.org/Graphics/SVG/1.1/DTD/svg11.dtd\">\n",
       "<!-- Generated by graphviz version 7.1.0 (20230121.1956)\n",
       " -->\n",
       "<!-- Title: flow Pages: 1 -->\n",
       "<svg width=\"274pt\" height=\"183pt\"\n",
       " viewBox=\"0.00 0.00 281.50 188.00\" xmlns=\"http://www.w3.org/2000/svg\" xmlns:xlink=\"http://www.w3.org/1999/xlink\">\n",
       "<g id=\"graph0\" class=\"graph\" transform=\"scale(0.972222 0.972222) rotate(0) translate(4 184)\">\n",
       "<title>flow</title>\n",
       "<polygon fill=\"white\" stroke=\"none\" points=\"-4,4 -4,-184 277.5,-184 277.5,4 -4,4\"/>\n",
       "<!-- (&#39;sbml_model_from_path&#39;,) -->\n",
       "<g id=\"node1\" class=\"node\">\n",
       "<title>(&#39;sbml_model_from_path&#39;,)</title>\n",
       "<polygon fill=\"none\" stroke=\"black\" stroke-width=\"2\" points=\"149,-180 0,-180 0,-144 149,-144 149,-180\"/>\n",
       "<text text-anchor=\"start\" x=\"8\" y=\"-158.3\" font-family=\"Times,serif\" font-size=\"14.00\">sbml_model_from_path</text>\n",
       "</g>\n",
       "<!-- (&#39;n_dimensional_scan&#39;,) -->\n",
       "<g id=\"node3\" class=\"node\">\n",
       "<title>(&#39;n_dimensional_scan&#39;,)</title>\n",
       "<polygon fill=\"none\" stroke=\"black\" stroke-width=\"2\" points=\"138.5,-108 10.5,-108 10.5,-72 138.5,-72 138.5,-108\"/>\n",
       "<text text-anchor=\"start\" x=\"18.5\" y=\"-86.3\" font-family=\"Times,serif\" font-size=\"14.00\">n_dimensional_scan</text>\n",
       "</g>\n",
       "<!-- (&#39;sbml_model_from_path&#39;,)&#45;&gt;(&#39;n_dimensional_scan&#39;,) -->\n",
       "<g id=\"edge1\" class=\"edge\">\n",
       "<title>(&#39;sbml_model_from_path&#39;,)&#45;&gt;(&#39;n_dimensional_scan&#39;,)</title>\n",
       "<path fill=\"none\" stroke=\"black\" stroke-width=\"2\" d=\"M74.5,-143.34C74.5,-136.75 74.5,-129.08 74.5,-121.67\"/>\n",
       "<polygon fill=\"black\" stroke=\"black\" stroke-width=\"2\" points=\"78,-121.93 74.5,-111.93 71,-121.93 78,-121.93\"/>\n",
       "</g>\n",
       "<!-- (&#39;data_description&#39;,) -->\n",
       "<g id=\"node2\" class=\"node\">\n",
       "<title>(&#39;data_description&#39;,)</title>\n",
       "<polygon fill=\"none\" stroke=\"black\" stroke-width=\"2\" points=\"273.5,-180 167.5,-180 167.5,-144 273.5,-144 273.5,-180\"/>\n",
       "<text text-anchor=\"start\" x=\"175.5\" y=\"-158.3\" font-family=\"Times,serif\" font-size=\"14.00\">data_description</text>\n",
       "</g>\n",
       "<!-- (&#39;report&#39;,) -->\n",
       "<g id=\"node4\" class=\"node\">\n",
       "<title>(&#39;report&#39;,)</title>\n",
       "<polygon fill=\"none\" stroke=\"black\" stroke-width=\"2\" points=\"101.5,-36 47.5,-36 47.5,0 101.5,0 101.5,-36\"/>\n",
       "<text text-anchor=\"start\" x=\"58\" y=\"-14.3\" font-family=\"Times,serif\" font-size=\"14.00\">report</text>\n",
       "</g>\n",
       "<!-- (&#39;n_dimensional_scan&#39;,)&#45;&gt;(&#39;report&#39;,) -->\n",
       "<g id=\"edge2\" class=\"edge\">\n",
       "<title>(&#39;n_dimensional_scan&#39;,)&#45;&gt;(&#39;report&#39;,)</title>\n",
       "<path fill=\"none\" stroke=\"black\" stroke-width=\"2\" d=\"M74.5,-71.34C74.5,-64.75 74.5,-57.08 74.5,-49.67\"/>\n",
       "<polygon fill=\"black\" stroke=\"black\" stroke-width=\"2\" points=\"78,-49.93 74.5,-39.93 71,-49.93 78,-49.93\"/>\n",
       "</g>\n",
       "</g>\n",
       "</svg>\n"
      ],
      "text/plain": [
       "<graphviz.graphs.Digraph at 0x16bc78f10>"
      ]
     },
     "execution_count": 28,
     "metadata": {},
     "output_type": "execute_result"
    }
   ],
   "source": [
    "# Plot flow diagram\n",
    "plot_flow(instance5)"
   ]
  },
  {
   "cell_type": "markdown",
   "id": "ab652edd-3cd0-4506-b73a-cfe8863f9f09",
   "metadata": {},
   "source": [
    "## Composite Processes\n",
    "\n",
    "Make a composite process from the composition of example 5, which only exposes a few outer ports."
   ]
  },
  {
   "cell_type": "markdown",
   "id": "7d19fa37-47dd-4e72-9091-f92b8d4d2a3a",
   "metadata": {},
   "source": [
    "### declare outer ports, added to the JSON instance from example 5"
   ]
  },
  {
   "cell_type": "code",
   "execution_count": 29,
   "id": "70dfc0d0-c2f7-48b9-9ef8-c95b9dd8676a",
   "metadata": {
    "tags": []
   },
   "outputs": [
    {
     "name": "stdout",
     "output_type": "stream",
     "text": [
      "{\"model_path\": \"\\\"susceptible_zombie.xml\\\"\", \"data_description_path\": \"\\\"susceptible_zombie.csv\\\"\", \"data_format\": \"\\\"CSV\\\"\", \"UTC\": \"\\\"UTC\\\"\", \"time_start\": 0, \"time_end\": 10, \"num_points\": 5, \"sbml_model_from_path\": {\"_type\": \"sed:sbml_model_from_path\", \"wires\": {\"path_to_sbml\": \"model_path\", \"model\": \"model_instance\"}}, \"data_description\": {\"_type\": \"sed:data_description\", \"wires\": {\"data_file\": \"data_description_path\", \"file_format\": \"data_format\", \"data\": \"SZ_data\"}}, \"n_dimensional_scan_config\": {\"S\": [0.0, 0.002, 0.004, 0.006, 0.008], \"Z\": [0.0, 0.002, 0.004, 0.006, 0.008]}, \"n_dimensional_scan\": {\"_type\": \"sed:n_dimensional_scan\", \"wires\": {\"input_dict\": \"n_dimensional_scan_config\", \"model\": \"model_instance\", \"data_description\": \"SZ_data\", \"time_start\": \"time_start\", \"time_end\": \"time_end\", \"num_points\": \"num_points\", \"results\": \"results\"}, \"_depends_on\": [\"sbml_model_from_path\"]}, \"report\": {\"_type\": \"sed:report\", \"wires\": {\"results\": \"results\", \"title\": \"UTC\"}, \"_depends_on\": [\"n_dimensional_scan\"]}, \"_ports\": {\"inputs\": {\"n_dimensional_scan_config\": \"dict\"}}}\n"
     ]
    }
   ],
   "source": [
    "# add ports to the previous toy instance\n",
    "instance5x = {\n",
    "    **instance5,\n",
    "    '_ports': {\n",
    "        'inputs': {\n",
    "            'n_dimensional_scan_config': 'dict',\n",
    "        },\n",
    "    },\n",
    "}\n",
    "\n",
    "# Serialize to JSON\n",
    "json_str5x = serialize_instance(instance5x)\n",
    "print(json_str5x)"
   ]
  },
  {
   "cell_type": "markdown",
   "id": "cb1dab75-f49e-4469-92cd-16ba40763b6b",
   "metadata": {},
   "source": [
    "### Generate the Composite Process"
   ]
  },
  {
   "cell_type": "code",
   "execution_count": 30,
   "id": "e1fe2920-542a-4481-a22c-02568b440ea0",
   "metadata": {
    "tags": []
   },
   "outputs": [
    {
     "name": "stdout",
     "output_type": "stream",
     "text": [
      "@ports({'inputs': {'n_dimensional_scan_config': 'dict'}})\n",
      "def composite_process(n_dimensional_scan_config: dict = {'S': [0.0, 0.002, 0.004, 0.006, 0.008], 'Z': [0.0, 0.002, 0.004, 0.006, 0.008]}):\n",
      "    num_points = 5\n",
      "    time_end = 10\n",
      "    time_start = 0\n",
      "    UTC = \"UTC\"\n",
      "    data_format = \"CSV\"\n",
      "    data_description_path = \"susceptible_zombie.csv\"\n",
      "    model_path = \"susceptible_zombie.xml\"\n",
      "    model_instance = sbml_model_from_path(path_to_sbml=model_path)\n",
      "    SZ_data = data_description(data_file=data_description_path, file_format=data_format)\n",
      "    results = n_dimensional_scan(input_dict=n_dimensional_scan_config, model=model_instance, data_description=SZ_data, time_start=time_start, time_end=time_end, num_points=num_points)\n",
      "    report(results=results, title=UTC)\n"
     ]
    }
   ],
   "source": [
    "# Generate the composite\n",
    "composite_process = generate_composite_process(json_str5x, sed_process_registry)"
   ]
  },
  {
   "cell_type": "code",
   "execution_count": 31,
   "id": "e8140618-25b6-4e36-b351-0001d79a213f",
   "metadata": {
    "tags": []
   },
   "outputs": [
    {
     "data": {
      "image/svg+xml": [
       "<?xml version=\"1.0\" encoding=\"UTF-8\" standalone=\"no\"?>\n",
       "<!DOCTYPE svg PUBLIC \"-//W3C//DTD SVG 1.1//EN\"\n",
       " \"http://www.w3.org/Graphics/SVG/1.1/DTD/svg11.dtd\">\n",
       "<!-- Generated by graphviz version 7.1.0 (20230121.1956)\n",
       " -->\n",
       "<!-- Title: bigraph Pages: 1 -->\n",
       "<svg width=\"168pt\" height=\"123pt\"\n",
       " viewBox=\"0.00 0.00 173.00 127.00\" xmlns=\"http://www.w3.org/2000/svg\" xmlns:xlink=\"http://www.w3.org/1999/xlink\">\n",
       "<g id=\"graph0\" class=\"graph\" transform=\"scale(0.972222 0.972222) rotate(0) translate(4 123)\">\n",
       "<title>bigraph</title>\n",
       "<polygon fill=\"white\" stroke=\"none\" points=\"-4,4 -4,-123 169,-123 169,4 -4,4\"/>\n",
       "<!-- (&#39;composite_process&#39;,) -->\n",
       "<g id=\"node1\" class=\"node\">\n",
       "<title>(&#39;composite_process&#39;,)</title>\n",
       "<polygon fill=\"none\" stroke=\"black\" stroke-width=\"2\" points=\"98,-36 0,-36 0,0 98,0 98,-36\"/>\n",
       "<text text-anchor=\"start\" x=\"4\" y=\"-14.9\" font-family=\"Times,serif\" font-size=\"12.00\">composite_process</text>\n",
       "</g>\n",
       "<!-- (&#39;composite_process&#39;, &#39;n_dimensional_scan_config&#39;) -->\n",
       "<!-- (&#39;composite_process&#39;, &#39;n_dimensional_scan_config&#39;)&#45;&gt;(&#39;composite_process&#39;,) -->\n",
       "<g id=\"edge1\" class=\"edge\">\n",
       "<title>(&#39;composite_process&#39;, &#39;n_dimensional_scan_config&#39;)&#45;&gt;(&#39;composite_process&#39;,)</title>\n",
       "<path fill=\"none\" stroke=\"black\" stroke-dasharray=\"5,2\" d=\"M49,-82.02C49,-70.17 49,-54.55 49,-41.83\"/>\n",
       "<ellipse fill=\"black\" stroke=\"black\" cx=\"49\" cy=\"-39.43\" rx=\"2\" ry=\"2\"/>\n",
       "<text text-anchor=\"start\" x=\"49\" y=\"-57\" font-family=\"Times,serif\" font-size=\"10.00\">n_dimensional_scan_config</text>\n",
       "</g>\n",
       "</g>\n",
       "</svg>\n"
      ],
      "text/plain": [
       "<graphviz.graphs.Digraph at 0x16bc78b50>"
      ]
     },
     "execution_count": 31,
     "metadata": {},
     "output_type": "execute_result"
    }
   ],
   "source": [
    "plot_bigraph(get_process_schema(composite_process))"
   ]
  },
  {
   "cell_type": "code",
   "execution_count": 32,
   "id": "05c30fea-9e4c-4273-82ef-0fc2412eff32",
   "metadata": {
    "tags": []
   },
   "outputs": [
    {
     "name": "stdout",
     "output_type": "stream",
     "text": [
      "UTC\n",
      "(0.0, 0.0): 0.0\n",
      "(0.0, 0.002): 0.0\n",
      "(0.0, 0.004): 0.0\n",
      "(0.0, 0.006): 0.0\n",
      "(0.0, 0.008): 0.0\n",
      "(0.002, 0.0): 0.0\n",
      "(0.002, 0.002): 0.0\n",
      "(0.002, 0.004): 0.0\n",
      "(0.002, 0.006): 0.0\n",
      "(0.002, 0.008): 0.0\n",
      "(0.004, 0.0): 0.0\n",
      "(0.004, 0.002): 0.0\n",
      "(0.004, 0.004): 0.0\n",
      "(0.004, 0.006): 0.0\n",
      "(0.004, 0.008): 0.0\n",
      "(0.006, 0.0): 0.0\n",
      "(0.006, 0.002): 0.0\n",
      "(0.006, 0.004): 0.0\n",
      "(0.006, 0.006): 0.0\n",
      "(0.006, 0.008): 0.0\n",
      "(0.008, 0.0): 0.0\n",
      "(0.008, 0.002): 0.0\n",
      "(0.008, 0.004): 0.0\n",
      "(0.008, 0.006): 0.0\n",
      "(0.008, 0.008): 0.0\n"
     ]
    }
   ],
   "source": [
    "# run the process with default settings, generates the same results as above\n",
    "composite_process()"
   ]
  },
  {
   "cell_type": "code",
   "execution_count": 33,
   "id": "80532643-6899-4f15-aa28-c156ee3010e7",
   "metadata": {
    "tags": []
   },
   "outputs": [
    {
     "name": "stdout",
     "output_type": "stream",
     "text": [
      "UTC\n",
      "(0.0, 0.0): 0.0\n",
      "(0.0, 0.05): 0.0\n",
      "(0.005, 0.0): 0.0\n",
      "(0.005, 0.05): 0.0\n",
      "(0.01, 0.0): 0.0\n",
      "(0.01, 0.05): 0.0\n",
      "(0.015, 0.0): 0.0\n",
      "(0.015, 0.05): 0.0\n",
      "(0.02, 0.0): 0.0\n",
      "(0.02, 0.05): 0.0\n",
      "(0.025, 0.0): 0.0\n",
      "(0.025, 0.05): 0.0\n",
      "(0.03, 0.0): 0.0\n",
      "(0.03, 0.05): 0.0\n",
      "(0.035, 0.0): 0.0\n",
      "(0.035, 0.05): 0.0\n",
      "(0.04, 0.0): 0.0\n",
      "(0.04, 0.05): 0.0\n",
      "(0.045, 0.0): 0.0\n",
      "(0.045, 0.05): 0.0\n",
      "(0.05, 0.0): 0.0\n",
      "(0.05, 0.05): 0.0\n",
      "(0.055, 0.0): 0.0\n",
      "(0.055, 0.05): 0.0\n",
      "(0.06, 0.0): 0.0\n",
      "(0.06, 0.05): 0.0\n",
      "(0.065, 0.0): 0.0\n",
      "(0.065, 0.05): 0.0\n",
      "(0.07, 0.0): 0.0\n",
      "(0.07, 0.05): 0.0\n",
      "(0.075, 0.0): 0.0\n",
      "(0.075, 0.05): 0.0\n",
      "(0.08, 0.0): 0.0\n",
      "(0.08, 0.05): 0.0\n",
      "(0.085, 0.0): 0.0\n",
      "(0.085, 0.05): 0.0\n",
      "(0.09, 0.0): 0.0\n",
      "(0.09, 0.05): 0.0\n",
      "(0.095, 0.0): 0.0\n",
      "(0.095, 0.05): 0.0\n"
     ]
    }
   ],
   "source": [
    "# pass in new settings through the exposed port\n",
    "n_dimensional_scan_config = {\n",
    "    'S': np.arange(0.0, 0.1, step=0.005),\n",
    "    'Z': np.arange(0.0, 0.1, step=0.05)\n",
    "}\n",
    "result = composite_process(n_dimensional_scan_config=n_dimensional_scan_config)"
   ]
  }
 ],
 "metadata": {
  "kernelspec": {
   "display_name": "Python 3 (ipykernel)",
   "language": "python",
   "name": "python3"
  },
  "language_info": {
   "codemirror_mode": {
    "name": "ipython",
    "version": 3
   },
   "file_extension": ".py",
   "mimetype": "text/x-python",
   "name": "python",
   "nbconvert_exporter": "python",
   "pygments_lexer": "ipython3",
   "version": "3.8.13"
  }
 },
 "nbformat": 4,
 "nbformat_minor": 5
}
