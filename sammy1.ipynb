{
 "cells": [
  {
   "cell_type": "markdown",
   "id": "6351b7a7-b51b-4464-a667-26593ac78efc",
   "metadata": {},
   "source": [
    "# Sam's Jupyter Notebook"
   ]
  },
  {
   "cell_type": "code",
   "execution_count": 6,
   "id": "c05f7f0e-9d27-4ca8-af88-8dfa210b24db",
   "metadata": {},
   "outputs": [],
   "source": [
    "import requests\n",
    "from bs4 import BeautifulSoup\n",
    "from IPython.display import Image, display\n",
    "import re"
   ]
  },
  {
   "cell_type": "code",
   "execution_count": 4,
   "id": "a24f9160-b26f-4641-bd71-72cfe25dc007",
   "metadata": {},
   "outputs": [],
   "source": [
    "def get_image(search_query):\n",
    "    # Google Image search query\n",
    "    url = f\"https://www.google.com/search?q={search_query}&tbm=isch\"\n",
    "    \n",
    "    # Perform the request\n",
    "    response = requests.get(url)\n",
    "\n",
    "    # Parse the content of the request\n",
    "    soup = BeautifulSoup(response.text, 'html.parser')\n",
    "\n",
    "    # Find images in the HTML\n",
    "    images = soup.find_all('img')\n",
    "\n",
    "    # Extract URLs of images\n",
    "    image_urls = []\n",
    "    for img in images:\n",
    "        src = img.get('src')\n",
    "        if src and 'http' in src:\n",
    "            image_urls.append(src)\n",
    "\n",
    "    return image_urls"
   ]
  },
  {
   "cell_type": "code",
   "execution_count": 5,
   "id": "a8b3e1fd-dac8-42ac-8f4d-2a6c6611bc9b",
   "metadata": {},
   "outputs": [
    {
     "name": "stdout",
     "output_type": "stream",
     "text": [
      "https://encrypted-tbn0.gstatic.com/images?q=tbn:ANd9GcR2-RQAq39VYGdp10r4vjH_ZYx8t4NIn-Y-l4-egFp-kAfxSlWP5u_UFQHfPg&s\n",
      "https://encrypted-tbn0.gstatic.com/images?q=tbn:ANd9GcTR-nFlU9lHUlEtE-OutVRkx04XdZO2fM2vJFZEvcwhwjZm7v8mQj2inY_Ifg&s\n",
      "https://encrypted-tbn0.gstatic.com/images?q=tbn:ANd9GcT7AhLIhdYEYF8vm6JWuEI_4VBgM8F20DQkxMVdyAZYtQ5Kr8EtbLo2t4_hjw&s\n",
      "https://encrypted-tbn0.gstatic.com/images?q=tbn:ANd9GcQ1v9cFmIVj7GReLPc9MjaH08z9Lb15YI0mQ7m7rtmsh_UmRmuZV881hNin8_Q&s\n",
      "https://encrypted-tbn0.gstatic.com/images?q=tbn:ANd9GcSKP5wUoPP6WAYch-SyWbm1_asj7da-gaUskWWRlJ8fV2AT3zqFfgbmn_LCsQ&s\n"
     ]
    }
   ],
   "source": [
    "# Example usage\n",
    "search_query = \"Pusheen\"\n",
    "image_urls = get_image(search_query)\n",
    "\n",
    "# Print first few image URLs\n",
    "for url in image_urls[:5]:\n",
    "    print(url)"
   ]
  },
  {
   "cell_type": "code",
   "execution_count": 10,
   "id": "3dec3907-4364-4cd5-807b-309d3bb7b9ea",
   "metadata": {},
   "outputs": [
    {
     "data": {
      "text/html": [
       "<img src=\"https://encrypted-tbn0.gstatic.com/images?q=tbn:ANd9GcR2-RQAq39VYGdp10r4vjH_ZYx8t4NIn-Y-l4-egFp-kAfxSlWP5u_UFQHfPg&s\"/>"
      ],
      "text/plain": [
       "<IPython.core.display.Image object>"
      ]
     },
     "metadata": {},
     "output_type": "display_data"
    },
    {
     "data": {
      "text/html": [
       "<img src=\"https://encrypted-tbn0.gstatic.com/images?q=tbn:ANd9GcTR-nFlU9lHUlEtE-OutVRkx04XdZO2fM2vJFZEvcwhwjZm7v8mQj2inY_Ifg&s\"/>"
      ],
      "text/plain": [
       "<IPython.core.display.Image object>"
      ]
     },
     "metadata": {},
     "output_type": "display_data"
    },
    {
     "data": {
      "text/html": [
       "<img src=\"https://encrypted-tbn0.gstatic.com/images?q=tbn:ANd9GcT7AhLIhdYEYF8vm6JWuEI_4VBgM8F20DQkxMVdyAZYtQ5Kr8EtbLo2t4_hjw&s\"/>"
      ],
      "text/plain": [
       "<IPython.core.display.Image object>"
      ]
     },
     "metadata": {},
     "output_type": "display_data"
    },
    {
     "data": {
      "text/html": [
       "<img src=\"https://encrypted-tbn0.gstatic.com/images?q=tbn:ANd9GcQ1v9cFmIVj7GReLPc9MjaH08z9Lb15YI0mQ7m7rtmsh_UmRmuZV881hNin8_Q&s\"/>"
      ],
      "text/plain": [
       "<IPython.core.display.Image object>"
      ]
     },
     "metadata": {},
     "output_type": "display_data"
    },
    {
     "data": {
      "text/html": [
       "<img src=\"https://encrypted-tbn0.gstatic.com/images?q=tbn:ANd9GcSKP5wUoPP6WAYch-SyWbm1_asj7da-gaUskWWRlJ8fV2AT3zqFfgbmn_LCsQ&s\"/>"
      ],
      "text/plain": [
       "<IPython.core.display.Image object>"
      ]
     },
     "metadata": {},
     "output_type": "display_data"
    }
   ],
   "source": [
    "for i in range(5):\n",
    "    image_url = image_urls[i]\n",
    "    display(Image(url=image_url))"
   ]
  },
  {
   "cell_type": "markdown",
   "id": "48baf302-dfda-4933-a3f4-03dcdae1046a",
   "metadata": {},
   "source": [
    "## Tic-Tac-Toe"
   ]
  },
  {
   "cell_type": "code",
   "execution_count": 34,
   "id": "8a759666-37cb-4a66-9322-bcb89ed6aaa2",
   "metadata": {},
   "outputs": [],
   "source": [
    "def print_board(board):\n",
    "    # Print column headers\n",
    "    print(\"   0   1   2\")\n",
    "    print(\" +---+---+---+\")\n",
    "    for row_index, row in enumerate(board):\n",
    "        # Print row number and row contents\n",
    "        row_content = \" | \".join(row)\n",
    "        print(f\"{row_index}| {row_content} |\")\n",
    "        print(\" +---+---+---+\")\n",
    "\n",
    "def check_winner(board, player):\n",
    "    # check if any row is filled by the player\n",
    "    for row in board:\n",
    "        if all([s == player for s in row]):\n",
    "            return True\n",
    "    # check if any column is filled by the player\n",
    "    for col in range(3):\n",
    "        if all([board[row][col] == player for row in range(3)]):\n",
    "            return True\n",
    "    # check if any diagonal is filled by the player\n",
    "    if all([board[i][i] == player for i in range(3)]) or all([board[i][2-i] == player for i in range(3)]):\n",
    "        return True\n",
    "    return False\n",
    "\n",
    "def get_move(board):\n",
    "    while True:\n",
    "        try:\n",
    "            row, col = map(int, input(\"Enter your move (row col): \").split())\n",
    "            if board[row][col] == ' ':\n",
    "                return row, col\n",
    "            else:\n",
    "                print(\"This cell is already taken.\")\n",
    "        except(ValueError, IndexError):\n",
    "            print('Invalid move')\n",
    "\n",
    "\n",
    "def tic_tac_toe():\n",
    "    board = [[' ' for _ in range(3)] for _ in range(3)]\n",
    "    current_player = 'X'\n",
    "\n",
    "    for _ in range(9):\n",
    "        print_board(board)\n",
    "        print(f\"Player {current_player}'s turn\")\n",
    "\n",
    "        row, col = get_move(board)\n",
    "        board[row][col] = current_player\n",
    "\n",
    "        if check_winner(board, current_player):\n",
    "            print_board(board)\n",
    "            print(f\"Player {current_player} wins!\")\n",
    "            return\n",
    "\n",
    "        current_player = 'O' if current_player == 'X' else 'X'\n",
    "\n",
    "    print_board(board)\n",
    "    print(\"It's a tie!\")\n"
   ]
  },
  {
   "cell_type": "code",
   "execution_count": 35,
   "id": "2fbdf4f1-963a-430e-a6cf-248a473fcad9",
   "metadata": {},
   "outputs": [
    {
     "data": {
      "text/plain": [
       "[[' ', ' ', ' '], ['x', 'x', 'o'], ['o', 'o', 'o']]"
      ]
     },
     "execution_count": 35,
     "metadata": {},
     "output_type": "execute_result"
    }
   ],
   "source": [
    "board = [[' ',' ',' '],['x','x','o'],['o','o','o']]\n",
    "board"
   ]
  },
  {
   "cell_type": "code",
   "execution_count": 36,
   "id": "25fa43fa-c750-4191-8762-d196bee5c66b",
   "metadata": {},
   "outputs": [
    {
     "name": "stdout",
     "output_type": "stream",
     "text": [
      "   0   1   2\n",
      " +---+---+---+\n",
      "0|   |   |   |\n",
      " +---+---+---+\n",
      "1| x | x | o |\n",
      " +---+---+---+\n",
      "2| o | o | o |\n",
      " +---+---+---+\n"
     ]
    }
   ],
   "source": [
    "print_board(board)"
   ]
  },
  {
   "cell_type": "code",
   "execution_count": 39,
   "id": "18e27849-9097-448a-8ba9-660b68c59be2",
   "metadata": {},
   "outputs": [
    {
     "name": "stdout",
     "output_type": "stream",
     "text": [
      "   0   1   2\n",
      " +---+---+---+\n",
      "0|   |   |   |\n",
      " +---+---+---+\n",
      "1|   |   |   |\n",
      " +---+---+---+\n",
      "2|   |   |   |\n",
      " +---+---+---+\n",
      "Player X's turn\n"
     ]
    },
    {
     "name": "stdin",
     "output_type": "stream",
     "text": [
      "Enter your move (row col):  1 1\n"
     ]
    },
    {
     "name": "stdout",
     "output_type": "stream",
     "text": [
      "   0   1   2\n",
      " +---+---+---+\n",
      "0|   |   |   |\n",
      " +---+---+---+\n",
      "1|   | X |   |\n",
      " +---+---+---+\n",
      "2|   |   |   |\n",
      " +---+---+---+\n",
      "Player O's turn\n"
     ]
    },
    {
     "name": "stdin",
     "output_type": "stream",
     "text": [
      "Enter your move (row col):  0 2\n"
     ]
    },
    {
     "name": "stdout",
     "output_type": "stream",
     "text": [
      "   0   1   2\n",
      " +---+---+---+\n",
      "0|   |   | O |\n",
      " +---+---+---+\n",
      "1|   | X |   |\n",
      " +---+---+---+\n",
      "2|   |   |   |\n",
      " +---+---+---+\n",
      "Player X's turn\n"
     ]
    },
    {
     "name": "stdin",
     "output_type": "stream",
     "text": [
      "Enter your move (row col):  0 1\n"
     ]
    },
    {
     "name": "stdout",
     "output_type": "stream",
     "text": [
      "   0   1   2\n",
      " +---+---+---+\n",
      "0|   | X | O |\n",
      " +---+---+---+\n",
      "1|   | X |   |\n",
      " +---+---+---+\n",
      "2|   |   |   |\n",
      " +---+---+---+\n",
      "Player O's turn\n"
     ]
    },
    {
     "name": "stdin",
     "output_type": "stream",
     "text": [
      "Enter your move (row col):  2 1\n"
     ]
    },
    {
     "name": "stdout",
     "output_type": "stream",
     "text": [
      "   0   1   2\n",
      " +---+---+---+\n",
      "0|   | X | O |\n",
      " +---+---+---+\n",
      "1|   | X |   |\n",
      " +---+---+---+\n",
      "2|   | O |   |\n",
      " +---+---+---+\n",
      "Player X's turn\n"
     ]
    },
    {
     "name": "stdin",
     "output_type": "stream",
     "text": [
      "Enter your move (row col):  2 2\n"
     ]
    },
    {
     "name": "stdout",
     "output_type": "stream",
     "text": [
      "   0   1   2\n",
      " +---+---+---+\n",
      "0|   | X | O |\n",
      " +---+---+---+\n",
      "1|   | X |   |\n",
      " +---+---+---+\n",
      "2|   | O | X |\n",
      " +---+---+---+\n",
      "Player O's turn\n"
     ]
    },
    {
     "name": "stdin",
     "output_type": "stream",
     "text": [
      "Enter your move (row col):  0 0\n"
     ]
    },
    {
     "name": "stdout",
     "output_type": "stream",
     "text": [
      "   0   1   2\n",
      " +---+---+---+\n",
      "0| O | X | O |\n",
      " +---+---+---+\n",
      "1|   | X |   |\n",
      " +---+---+---+\n",
      "2|   | O | X |\n",
      " +---+---+---+\n",
      "Player X's turn\n"
     ]
    },
    {
     "name": "stdin",
     "output_type": "stream",
     "text": [
      "Enter your move (row col):  1 0\n"
     ]
    },
    {
     "name": "stdout",
     "output_type": "stream",
     "text": [
      "   0   1   2\n",
      " +---+---+---+\n",
      "0| O | X | O |\n",
      " +---+---+---+\n",
      "1| X | X |   |\n",
      " +---+---+---+\n",
      "2|   | O | X |\n",
      " +---+---+---+\n",
      "Player O's turn\n"
     ]
    },
    {
     "name": "stdin",
     "output_type": "stream",
     "text": [
      "Enter your move (row col):  2 0\n"
     ]
    },
    {
     "name": "stdout",
     "output_type": "stream",
     "text": [
      "   0   1   2\n",
      " +---+---+---+\n",
      "0| O | X | O |\n",
      " +---+---+---+\n",
      "1| X | X |   |\n",
      " +---+---+---+\n",
      "2| O | O | X |\n",
      " +---+---+---+\n",
      "Player X's turn\n"
     ]
    },
    {
     "name": "stdin",
     "output_type": "stream",
     "text": [
      "Enter your move (row col):  1 222222222\n"
     ]
    },
    {
     "name": "stdout",
     "output_type": "stream",
     "text": [
      "Invalid move\n"
     ]
    },
    {
     "name": "stdin",
     "output_type": "stream",
     "text": [
      "Enter your move (row col):  1 2\n"
     ]
    },
    {
     "name": "stdout",
     "output_type": "stream",
     "text": [
      "   0   1   2\n",
      " +---+---+---+\n",
      "0| O | X | O |\n",
      " +---+---+---+\n",
      "1| X | X | X |\n",
      " +---+---+---+\n",
      "2| O | O | X |\n",
      " +---+---+---+\n",
      "Player X wins!\n"
     ]
    }
   ],
   "source": [
    "tic_tac_toe()"
   ]
  },
  {
   "cell_type": "code",
   "execution_count": null,
   "id": "e8f7a8cf-0f62-4caf-adbb-79c2f1d0bf4e",
   "metadata": {},
   "outputs": [],
   "source": []
  }
 ],
 "metadata": {
  "kernelspec": {
   "display_name": "Python (venv)",
   "language": "python",
   "name": "venv_kernel"
  },
  "language_info": {
   "codemirror_mode": {
    "name": "ipython",
    "version": 3
   },
   "file_extension": ".py",
   "mimetype": "text/x-python",
   "name": "python",
   "nbconvert_exporter": "python",
   "pygments_lexer": "ipython3",
   "version": "3.9.6"
  }
 },
 "nbformat": 4,
 "nbformat_minor": 5
}
