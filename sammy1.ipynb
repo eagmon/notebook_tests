{
 "cells": [
  {
   "cell_type": "markdown",
   "id": "6351b7a7-b51b-4464-a667-26593ac78efc",
   "metadata": {},
   "source": [
    "# Sam and Cora's Jupyter Notebook"
   ]
  },
  {
   "cell_type": "code",
   "execution_count": 1,
   "id": "c05f7f0e-9d27-4ca8-af88-8dfa210b24db",
   "metadata": {},
   "outputs": [
    {
     "name": "stderr",
     "output_type": "stream",
     "text": [
      "/Users/eranagmon/code/notebook_tests/venv/lib/python3.9/site-packages/urllib3/__init__.py:34: NotOpenSSLWarning: urllib3 v2.0 only supports OpenSSL 1.1.1+, currently the 'ssl' module is compiled with 'LibreSSL 2.8.3'. See: https://github.com/urllib3/urllib3/issues/3020\n",
      "  warnings.warn(\n"
     ]
    }
   ],
   "source": [
    "import requests\n",
    "from bs4 import BeautifulSoup\n",
    "from IPython.display import Image, display\n",
    "import re"
   ]
  },
  {
   "cell_type": "code",
   "execution_count": 2,
   "id": "a24f9160-b26f-4641-bd71-72cfe25dc007",
   "metadata": {},
   "outputs": [],
   "source": [
    "def get_image(search_query):\n",
    "    # Google Image search query\n",
    "    url = f\"https://www.google.com/search?q={search_query}&tbm=isch\"\n",
    "    \n",
    "    # Perform the request\n",
    "    response = requests.get(url)\n",
    "\n",
    "    # Parse the content of the request\n",
    "    soup = BeautifulSoup(response.text, 'html.parser')\n",
    "\n",
    "    # Find images in the HTML\n",
    "    images = soup.find_all('img')\n",
    "\n",
    "    # Extract URLs of images\n",
    "    image_urls = []\n",
    "    for img in images:\n",
    "        src = img.get('src')\n",
    "        if src and 'http' in src:\n",
    "            image_urls.append(src)\n",
    "\n",
    "    return image_urls"
   ]
  },
  {
   "cell_type": "code",
   "execution_count": 3,
   "id": "a8b3e1fd-dac8-42ac-8f4d-2a6c6611bc9b",
   "metadata": {},
   "outputs": [
    {
     "name": "stdout",
     "output_type": "stream",
     "text": [
      "https://encrypted-tbn0.gstatic.com/images?q=tbn:ANd9GcQNJl-XsWfLNVslbVGe-fdtiX0ZAkrOmOkQVzgZF3bqA6USPDeh773hKsW4eKo&s\n",
      "https://encrypted-tbn0.gstatic.com/images?q=tbn:ANd9GcTR-nFlU9lHUlEtE-OutVRkx04XdZO2fM2vJFZEvcwhwjZm7v8mQj2inY_Ifg&s\n",
      "https://encrypted-tbn0.gstatic.com/images?q=tbn:ANd9GcT7AhLIhdYEYF8vm6JWuEI_4VBgM8F20DQkxMVdyAZYtQ5Kr8EtbLo2t4_hjw&s\n",
      "https://encrypted-tbn0.gstatic.com/images?q=tbn:ANd9GcSz7xsvEy5ueB8k0-6MsDwXJPsKPY-266RASILpneeuVdNSHdn1Uv1uY-gBGwQ&s\n",
      "https://encrypted-tbn0.gstatic.com/images?q=tbn:ANd9GcR_F8svWeXSYUfAXDXjVnyOcnYVk0qM6F-nYYjevCcbEUdMihM1B5WMaUANzUo&s\n"
     ]
    }
   ],
   "source": [
    "# Example usage\n",
    "search_query = \"Pusheen\"\n",
    "image_urls = get_image(search_query)\n",
    "\n",
    "# Print first few image URLs\n",
    "for url in image_urls[:5]:\n",
    "    print(url)"
   ]
  },
  {
   "cell_type": "code",
   "execution_count": 4,
   "id": "3dec3907-4364-4cd5-807b-309d3bb7b9ea",
   "metadata": {},
   "outputs": [
    {
     "data": {
      "text/html": [
       "<img src=\"https://encrypted-tbn0.gstatic.com/images?q=tbn:ANd9GcQNJl-XsWfLNVslbVGe-fdtiX0ZAkrOmOkQVzgZF3bqA6USPDeh773hKsW4eKo&s\"/>"
      ],
      "text/plain": [
       "<IPython.core.display.Image object>"
      ]
     },
     "metadata": {},
     "output_type": "display_data"
    },
    {
     "data": {
      "text/html": [
       "<img src=\"https://encrypted-tbn0.gstatic.com/images?q=tbn:ANd9GcTR-nFlU9lHUlEtE-OutVRkx04XdZO2fM2vJFZEvcwhwjZm7v8mQj2inY_Ifg&s\"/>"
      ],
      "text/plain": [
       "<IPython.core.display.Image object>"
      ]
     },
     "metadata": {},
     "output_type": "display_data"
    },
    {
     "data": {
      "text/html": [
       "<img src=\"https://encrypted-tbn0.gstatic.com/images?q=tbn:ANd9GcT7AhLIhdYEYF8vm6JWuEI_4VBgM8F20DQkxMVdyAZYtQ5Kr8EtbLo2t4_hjw&s\"/>"
      ],
      "text/plain": [
       "<IPython.core.display.Image object>"
      ]
     },
     "metadata": {},
     "output_type": "display_data"
    },
    {
     "data": {
      "text/html": [
       "<img src=\"https://encrypted-tbn0.gstatic.com/images?q=tbn:ANd9GcSz7xsvEy5ueB8k0-6MsDwXJPsKPY-266RASILpneeuVdNSHdn1Uv1uY-gBGwQ&s\"/>"
      ],
      "text/plain": [
       "<IPython.core.display.Image object>"
      ]
     },
     "metadata": {},
     "output_type": "display_data"
    },
    {
     "data": {
      "text/html": [
       "<img src=\"https://encrypted-tbn0.gstatic.com/images?q=tbn:ANd9GcR_F8svWeXSYUfAXDXjVnyOcnYVk0qM6F-nYYjevCcbEUdMihM1B5WMaUANzUo&s\"/>"
      ],
      "text/plain": [
       "<IPython.core.display.Image object>"
      ]
     },
     "metadata": {},
     "output_type": "display_data"
    }
   ],
   "source": [
    "for i in range(5):\n",
    "    image_url = image_urls[i]\n",
    "    display(Image(url=image_url))"
   ]
  },
  {
   "cell_type": "markdown",
   "id": "48baf302-dfda-4933-a3f4-03dcdae1046a",
   "metadata": {},
   "source": [
    "## Tic-Tac-Toe"
   ]
  },
  {
   "cell_type": "code",
   "execution_count": 5,
   "id": "8a759666-37cb-4a66-9322-bcb89ed6aaa2",
   "metadata": {},
   "outputs": [],
   "source": [
    "def print_board(board):\n",
    "    # Print column headers\n",
    "    print(\"   0   1   2\")\n",
    "    print(\" +---+---+---+\")\n",
    "    for row_index, row in enumerate(board):\n",
    "        # Print row number and row contents\n",
    "        row_content = \" | \".join(row)\n",
    "        print(f\"{row_index}| {row_content} |\")\n",
    "        print(\" +---+---+---+\")\n",
    "\n",
    "def check_winner(board, player):\n",
    "    # check if any row is filled by the player\n",
    "    for row in board:\n",
    "        if all([s == player for s in row]):\n",
    "            return True\n",
    "    # check if any column is filled by the player\n",
    "    for col in range(3):\n",
    "        if all([board[row][col] == player for row in range(3)]):\n",
    "            return True\n",
    "    # check if any diagonal is filled by the player\n",
    "    if all([board[i][i] == player for i in range(3)]) or all([board[i][2-i] == player for i in range(3)]):\n",
    "        return True\n",
    "    return False\n",
    "\n",
    "def get_move(board):\n",
    "    while True:\n",
    "        try:\n",
    "            row, col = map(int, input(\"Enter your move (row col): \").split())\n",
    "            if board[row][col] == ' ':\n",
    "                return row, col\n",
    "            else:\n",
    "                print(\"This cell is already taken.\")\n",
    "        except(ValueError, IndexError):\n",
    "            print('Invalid move')\n",
    "\n",
    "\n",
    "def tic_tac_toe():\n",
    "    board = [[' ' for _ in range(3)] for _ in range(3)]\n",
    "    current_player = 'X'\n",
    "\n",
    "    for _ in range(9):\n",
    "        print_board(board)\n",
    "        print(f\"Player {current_player}'s turn\")\n",
    "\n",
    "        row, col = get_move(board)\n",
    "        board[row][col] = current_player\n",
    "\n",
    "        if check_winner(board, current_player):\n",
    "            print_board(board)\n",
    "            print(f\"Player {current_player} wins!\")\n",
    "            return\n",
    "\n",
    "        current_player = 'O' if current_player == 'X' else 'X'\n",
    "\n",
    "    print_board(board)\n",
    "    print(\"It's a tie!\")\n"
   ]
  },
  {
   "cell_type": "code",
   "execution_count": 6,
   "id": "2fbdf4f1-963a-430e-a6cf-248a473fcad9",
   "metadata": {},
   "outputs": [
    {
     "data": {
      "text/plain": [
       "[[' ', ' ', ' '], ['x', 'x', 'o'], ['o', 'o', 'o']]"
      ]
     },
     "execution_count": 6,
     "metadata": {},
     "output_type": "execute_result"
    }
   ],
   "source": [
    "board = [[' ',' ',' '],['x','x','o'],['o','o','o']]\n",
    "board"
   ]
  },
  {
   "cell_type": "code",
   "execution_count": 7,
   "id": "25fa43fa-c750-4191-8762-d196bee5c66b",
   "metadata": {},
   "outputs": [
    {
     "name": "stdout",
     "output_type": "stream",
     "text": [
      "   0   1   2\n",
      " +---+---+---+\n",
      "0|   |   |   |\n",
      " +---+---+---+\n",
      "1| x | x | o |\n",
      " +---+---+---+\n",
      "2| o | o | o |\n",
      " +---+---+---+\n"
     ]
    }
   ],
   "source": [
    "print_board(board)"
   ]
  },
  {
   "cell_type": "code",
   "execution_count": 8,
   "id": "18e27849-9097-448a-8ba9-660b68c59be2",
   "metadata": {},
   "outputs": [],
   "source": [
    "# tic_tac_toe()"
   ]
  },
  {
   "cell_type": "code",
   "execution_count": 18,
   "id": "a5614bcb-c030-4f10-818b-370dd5833bce",
   "metadata": {},
   "outputs": [],
   "source": [
    "import ipywidgets as widgets\n",
    "from IPython.display import display, clear_output\n",
    "import random"
   ]
  },
  {
   "cell_type": "code",
   "execution_count": 26,
   "id": "8ff8fcd8-cd22-467a-9016-9da2617791e4",
   "metadata": {},
   "outputs": [
    {
     "data": {
      "application/vnd.jupyter.widget-view+json": {
       "model_id": "7a545836fdf2478b91af6f6071597862",
       "version_major": 2,
       "version_minor": 0
      },
      "text/plain": [
       "Label(value=\"Cora's turn: Taylor Swift's first acting role was in the movie 'Valentine's Day'.\")"
      ]
     },
     "metadata": {},
     "output_type": "display_data"
    },
    {
     "data": {
      "application/vnd.jupyter.widget-view+json": {
       "model_id": "4ed33fbfbefc40eb9b6c80bd0fffee4e",
       "version_major": 2,
       "version_minor": 0
      },
      "text/plain": [
       "Label(value='')"
      ]
     },
     "metadata": {},
     "output_type": "display_data"
    },
    {
     "data": {
      "application/vnd.jupyter.widget-view+json": {
       "model_id": "fc98c992152c4927b843222c476fba41",
       "version_major": 2,
       "version_minor": 0
      },
      "text/plain": [
       "HBox(children=(Button(description='True', style=ButtonStyle()), Button(description='False', style=ButtonStyle(…"
      ]
     },
     "metadata": {},
     "output_type": "display_data"
    }
   ],
   "source": [
    "# Sample questions\n",
    "questions = [\n",
    "    (\"Taylor Swift\", \"Taylor Swift's middle name is Alison.\", True),\n",
    "    (\"Taylor Swift\", \"Taylor Swift was born in Nashville, Tennessee.\", False), # She was born in Reading, Pennsylvania\n",
    "    (\"Taylor Swift\", \"Her 2020 album 'Folklore' won the Album of the Year at the Grammys.\", True),\n",
    "    (\"Taylor Swift\", \"Taylor Swift has a brother named Austin.\", True),\n",
    "    (\"Taylor Swift\", \"Taylor Swift's debut album was titled 'Fearless'.\", False), # Her debut album is titled 'Taylor Swift'\n",
    "    (\"Taylor Swift\", \"She has won more than 10 Grammy Awards.\", True),\n",
    "    (\"Taylor Swift\", \"Taylor Swift's first acting role was in the movie 'Valentine's Day'.\", True),\n",
    "    (\"Taylor Swift\", \"'1989' was Taylor Swift's first pop album.\", True),\n",
    "    (\"Taylor Swift\", \"Taylor Swift's 'Evermore' album was released in 2018.\", False), # It was released in 2020\n",
    "    (\"Taylor Swift\", \"Taylor Swift's 'Love Story' song is based on a novel by Shakespeare.\", True),\n",
    "    (\"Pusheen\", \"Pusheen is a tabby cat.\", True),\n",
    "    (\"Pusheen\", \"Pusheen's birthday is February 18.\", True),\n",
    "    (\"Pusheen\", \"Pusheen was first created in 2010.\", True),\n",
    "    (\"Pusheen\", \"Pusheen is a male cat.\", False), # Pusheen is female\n",
    "    (\"Pusheen\", \"Pusheen's best friend is a dog named 'Stormy'.\", False), # Stormy is Pusheen's sister\n",
    "    (\"Pusheen\", \"Pusheen has a brother named Pip.\", True),\n",
    "    (\"Pusheen\", \"Pusheen's original comic strip was black and white.\", True),\n",
    "    (\"Pusheen\", \"Pusheen loves to go on adventures.\", False), # Pusheen loves to eat and relax\n",
    "    (\"Pusheen\", \"The name 'Pusheen' comes from the word 'puisín', which means kitten in Irish.\", True),\n",
    "    (\"Pusheen\", \"Pusheen has a book published named 'I Am Pusheen the Cat'.\", True),\n",
    "    # Add more questions with different themes\n",
    "]\n",
    "\n",
    "# Dynamically determine all themes\n",
    "all_themes = set(question[0] for question in questions)\n",
    "\n",
    "# Function to get a random question\n",
    "def get_random_question():\n",
    "    return random.choice(questions)\n",
    "\n",
    "# Initialize widgets\n",
    "answer_buttons = [widgets.Button(description='True'), widgets.Button(description='False')]\n",
    "question_label = widgets.Label()\n",
    "result_label = widgets.Label()\n",
    "\n",
    "# Function to display the next question\n",
    "def display_next_question():\n",
    "    global current_question\n",
    "    current_question = get_random_question()\n",
    "    question_label.value = f\"{current_player}'s turn: {current_question[1]}\"\n",
    "    display(question_label, result_label, widgets.HBox(answer_buttons))\n",
    "\n",
    "# Function to handle answering a question\n",
    "def handle_answer(button):\n",
    "    global current_player\n",
    "    answer = button.description == 'True'\n",
    "    if answer == current_question[2]:\n",
    "        result_label.value = \"Correct!\"\n",
    "    else:\n",
    "        result_label.value = \"Incorrect!\"\n",
    "    next_player()\n",
    "\n",
    "# Move to the next player\n",
    "def next_player():\n",
    "    global current_player\n",
    "    player_index = (players.index(current_player) + 1) % len(players)\n",
    "    current_player = players[player_index]\n",
    "    clear_output(wait=True)\n",
    "    display_next_question()\n",
    "\n",
    "# Set up button click events\n",
    "for btn in answer_buttons:\n",
    "    btn.on_click(handle_answer)\n",
    "\n",
    "# Predefined player names\n",
    "players = ['Cora', 'Sam', 'Eran']  # Modify as needed\n",
    "current_player = players[0]\n",
    "\n",
    "# Start the game\n",
    "display_next_question()"
   ]
  },
  {
   "cell_type": "code",
   "execution_count": 27,
   "id": "710a51be-b478-41e8-a787-5db4849e63e1",
   "metadata": {},
   "outputs": [
    {
     "data": {
      "application/vnd.jupyter.widget-view+json": {
       "model_id": "7a47cbc16fc8401ba55c37aca7fe43b0",
       "version_major": 2,
       "version_minor": 0
      },
      "text/plain": [
       "VBox(children=(Text(value='', description='Names:', placeholder='Enter player names separated by commas'), But…"
      ]
     },
     "metadata": {},
     "output_type": "display_data"
    }
   ],
   "source": [
    "# import ipywidgets as widgets\n",
    "# from IPython.display import display, clear_output\n",
    "# import random\n",
    "\n",
    "# # Sample questions\n",
    "# questions = [\n",
    "#     # Add your questions here in the format (\"Theme\", \"Question\", True/False)\n",
    "# ]\n",
    "\n",
    "# Initialize widgets\n",
    "answer_buttons = [widgets.Button(description='True'), widgets.Button(description='False')]\n",
    "question_label = widgets.Label()\n",
    "result_label = widgets.Label()\n",
    "score_label = widgets.Label()\n",
    "\n",
    "# Function to get a random question\n",
    "def get_random_question():\n",
    "    return random.choice(questions)\n",
    "\n",
    "# Function to display the next question\n",
    "def display_next_question():\n",
    "    global current_question\n",
    "    current_question = get_random_question()\n",
    "    question_label.value = f\"{current_player}'s turn: {current_question[1]}\"\n",
    "    score_label.value = f\"Scores: {', '.join([f'{player}: {scores[player]}' for player in players])}\"\n",
    "    display(question_label, score_label, result_label, widgets.HBox(answer_buttons))\n",
    "\n",
    "# Function to handle answering a question\n",
    "def handle_answer(button):\n",
    "    global current_player\n",
    "    answer = button.description == 'True'\n",
    "    if answer == current_question[2]:\n",
    "        scores[current_player] += 1\n",
    "        result_label.value = \"Correct!\"\n",
    "    else:\n",
    "        result_label.value = \"Incorrect!\"\n",
    "    next_player()\n",
    "\n",
    "# Move to the next player\n",
    "def next_player():\n",
    "    global current_player\n",
    "    player_index = (players.index(current_player) + 1) % len(players)\n",
    "    current_player = players[player_index]\n",
    "    clear_output(wait=True)\n",
    "    display_next_question()\n",
    "\n",
    "# Set up button click events\n",
    "for btn in answer_buttons:\n",
    "    btn.on_click(handle_answer)\n",
    "\n",
    "# Prompt for player names\n",
    "def prompt_player_names():\n",
    "    name_input = widgets.Text(\n",
    "        placeholder='Enter player names separated by commas',\n",
    "        description='Names:',\n",
    "        disabled=False\n",
    "    )\n",
    "\n",
    "    submit_button = widgets.Button(description=\"Start Game\")\n",
    "\n",
    "    def on_submit(button):\n",
    "        global players, scores, current_player\n",
    "        players = [name.strip() for name in name_input.value.split(',') if name.strip()]\n",
    "        scores = {player: 0 for player in players}\n",
    "        current_player = players[0]\n",
    "        clear_output(wait=True)\n",
    "        display_next_question()\n",
    "\n",
    "    submit_button.on_click(on_submit)\n",
    "    name_box = widgets.VBox([name_input, submit_button])\n",
    "    display(name_box)\n",
    "\n",
    "# Start the game by prompting for player names\n",
    "prompt_player_names()\n"
   ]
  },
  {
   "cell_type": "code",
   "execution_count": null,
   "id": "079f478d-dfdd-438f-99c4-f7be03b54243",
   "metadata": {},
   "outputs": [],
   "source": []
  },
  {
   "cell_type": "code",
   "execution_count": null,
   "id": "26ccdeb0-2882-4d3b-9257-00728842cbde",
   "metadata": {},
   "outputs": [],
   "source": []
  },
  {
   "cell_type": "code",
   "execution_count": null,
   "id": "7e1706fd-c957-4978-849a-b4ac2393f9c6",
   "metadata": {},
   "outputs": [],
   "source": []
  },
  {
   "cell_type": "code",
   "execution_count": null,
   "id": "a89c9beb-3d7e-45be-93a6-692ff284b8b9",
   "metadata": {},
   "outputs": [],
   "source": []
  },
  {
   "cell_type": "code",
   "execution_count": 17,
   "id": "a97ae241-b74d-4593-9fd0-7a3c7674c0be",
   "metadata": {},
   "outputs": [
    {
     "data": {
      "application/vnd.jupyter.widget-view+json": {
       "model_id": "be830ddac61149d2a4001456a42a952d",
       "version_major": 2,
       "version_minor": 0
      },
      "text/plain": [
       "Label(value='')"
      ]
     },
     "metadata": {},
     "output_type": "display_data"
    },
    {
     "data": {
      "application/vnd.jupyter.widget-view+json": {
       "model_id": "e8544df4c9e44fe1bc1a8e05e880dcde",
       "version_major": 2,
       "version_minor": 0
      },
      "text/plain": [
       "Label(value='')"
      ]
     },
     "metadata": {},
     "output_type": "display_data"
    },
    {
     "data": {
      "application/vnd.jupyter.widget-view+json": {
       "model_id": "be830ddac61149d2a4001456a42a952d",
       "version_major": 2,
       "version_minor": 0
      },
      "text/plain": [
       "Label(value='')"
      ]
     },
     "metadata": {},
     "output_type": "display_data"
    },
    {
     "data": {
      "application/vnd.jupyter.widget-view+json": {
       "model_id": "e8544df4c9e44fe1bc1a8e05e880dcde",
       "version_major": 2,
       "version_minor": 0
      },
      "text/plain": [
       "Label(value='')"
      ]
     },
     "metadata": {},
     "output_type": "display_data"
    },
    {
     "data": {
      "application/vnd.jupyter.widget-view+json": {
       "model_id": "",
       "version_major": 2,
       "version_minor": 0
      },
      "text/plain": [
       "VBox(children=(Text(value='', description='Names:', placeholder='Enter player names separated by commas'), But…"
      ]
     },
     "metadata": {},
     "output_type": "display_data"
    }
   ],
   "source": [
    "import random\n",
    "\n",
    "# Sample questions: (theme, question, answer)\n",
    "questions = [\n",
    "    (\"Taylor Swift\", \"Taylor Swift's middle name is Alison.\", True),\n",
    "    (\"Taylor Swift\", \"Taylor Swift was born in Nashville, Tennessee.\", False), # She was born in Reading, Pennsylvania\n",
    "    (\"Taylor Swift\", \"Her 2020 album 'Folklore' won the Album of the Year at the Grammys.\", True),\n",
    "    (\"Taylor Swift\", \"Taylor Swift has a brother named Austin.\", True),\n",
    "    (\"Taylor Swift\", \"Taylor Swift's debut album was titled 'Fearless'.\", False), # Her debut album is titled 'Taylor Swift'\n",
    "    (\"Taylor Swift\", \"She has won more than 10 Grammy Awards.\", True),\n",
    "    (\"Taylor Swift\", \"Taylor Swift's first acting role was in the movie 'Valentine's Day'.\", True),\n",
    "    (\"Taylor Swift\", \"'1989' was Taylor Swift's first pop album.\", True),\n",
    "    (\"Taylor Swift\", \"Taylor Swift's 'Evermore' album was released in 2018.\", False), # It was released in 2020\n",
    "    (\"Taylor Swift\", \"Taylor Swift's 'Love Story' song is based on a novel by Shakespeare.\", True),\n",
    "    (\"Pusheen\", \"Pusheen is a tabby cat.\", True),\n",
    "    (\"Pusheen\", \"Pusheen's birthday is February 18.\", True),\n",
    "    (\"Pusheen\", \"Pusheen was first created in 2010.\", True),\n",
    "    (\"Pusheen\", \"Pusheen is a male cat.\", False), # Pusheen is female\n",
    "    (\"Pusheen\", \"Pusheen's best friend is a dog named 'Stormy'.\", False), # Stormy is Pusheen's sister\n",
    "    (\"Pusheen\", \"Pusheen has a brother named Pip.\", True),\n",
    "    (\"Pusheen\", \"Pusheen's original comic strip was black and white.\", True),\n",
    "    (\"Pusheen\", \"Pusheen loves to go on adventures.\", False), # Pusheen loves to eat and relax\n",
    "    (\"Pusheen\", \"The name 'Pusheen' comes from the word 'puisín', which means kitten in Irish.\", True),\n",
    "    (\"Pusheen\", \"Pusheen has a book published named 'I Am Pusheen the Cat'.\", True),\n",
    "    # Add more questions with different themes\n",
    "]\n",
    "\n",
    "all_themes = set(question[0] for question in questions)\n",
    "\n",
    "# Function to get a question based on theme\n",
    "def get_question(theme):\n",
    "    themed_questions = [q for q in questions if q[0] == theme]\n",
    "    return random.choice(themed_questions)\n",
    "\n",
    "# Function to handle theme selection\n",
    "def select_theme(button):\n",
    "    global current_theme, current_player\n",
    "    current_theme = button.description\n",
    "    theme_box.close()\n",
    "    display_question()\n",
    "\n",
    "# Function to display the question\n",
    "def display_question():\n",
    "    global current_question\n",
    "    current_question = get_question(current_theme)\n",
    "    question_label.value = f\"{current_player}'s turn: {current_question[1]}\"\n",
    "    display(answer_box)\n",
    "\n",
    "# Function to handle answering a question\n",
    "def handle_answer(button):\n",
    "    global current_player, current_theme\n",
    "    answer = button.description == 'True'\n",
    "    if answer == current_question[2]:\n",
    "        scores[current_player] += 1\n",
    "        result.value = f\"Correct! {current_player}'s Score: {scores[current_player]}\"\n",
    "    else:\n",
    "        result.value = \"Incorrect.\"\n",
    "    answer_box.close()\n",
    "\n",
    "    if scores[current_player] >= winning_score:\n",
    "        result.value += f\" Congratulations {current_player}, you won!\"\n",
    "        return\n",
    "    else:\n",
    "        current_player = players[(players.index(current_player) + 1) % len(players)]\n",
    "        start_turn()\n",
    "\n",
    "# Start player's turn\n",
    "def start_turn():\n",
    "    display(theme_box)\n",
    "    question_label.value = f\"{current_player}, choose a theme:\"\n",
    "\n",
    "# prompt player names\n",
    "def prompt_player_names():\n",
    "    name_input = widgets.Text(\n",
    "        placeholder='Enter player names separated by commas',\n",
    "        description='Names:',\n",
    "        disabled=False\n",
    "    )\n",
    "\n",
    "    submit_button = widgets.Button(description=\"Start Game\")\n",
    "\n",
    "    def on_submit(button):\n",
    "        global players\n",
    "        players = [name.strip() for name in name_input.value.split(',')]\n",
    "        if len(players) < 2:\n",
    "            result.value = \"Please enter at least two player names.\"\n",
    "        else:\n",
    "            name_box.close()\n",
    "            start_turn()\n",
    "\n",
    "    submit_button.on_click(on_submit)\n",
    "    name_box = widgets.VBox([name_input, submit_button])\n",
    "    display(name_box)\n",
    "\n",
    "\n",
    "# Create widgets\n",
    "theme_buttons = [widgets.Button(description=theme) for theme in all_themes]\n",
    "for btn in theme_buttons:\n",
    "    btn.on_click(select_theme)\n",
    "\n",
    "answer_buttons = [widgets.Button(description='True'), widgets.Button(description='False')]\n",
    "for btn in answer_buttons:\n",
    "    btn.on_click(handle_answer)\n",
    "\n",
    "theme_box = widgets.VBox([widgets.Label(\"Choose a theme:\")] + theme_buttons)\n",
    "answer_box = widgets.VBox([widgets.Label(\"Answer True or False:\")] + answer_buttons)\n",
    "\n",
    "question_label = widgets.Label()\n",
    "result = widgets.Label()\n",
    "\n",
    "# Display initial widgets\n",
    "display(question_label, result)\n",
    "\n",
    "# Initialize global variables\n",
    "current_player = None\n",
    "current_theme = None\n",
    "scores = {}\n",
    "winning_score = 10\n",
    "current_question = None\n",
    "\n",
    "# Display initial widgets\n",
    "display(question_label, result)\n",
    "\n",
    "# Start the game by prompting for player names\n",
    "prompt_player_names()"
   ]
  },
  {
   "cell_type": "code",
   "execution_count": 13,
   "id": "1c425e32-a02a-4cb8-b65b-26434c9b3786",
   "metadata": {},
   "outputs": [],
   "source": [
    "# # Example usage\n",
    "# player_names = input(\"Enter player names separated by comma: \").split(',')\n",
    "# play_game(player_names)"
   ]
  },
  {
   "cell_type": "code",
   "execution_count": null,
   "id": "11c2d8c9-ac1b-42da-9cc5-f8a989b05175",
   "metadata": {},
   "outputs": [],
   "source": []
  },
  {
   "cell_type": "code",
   "execution_count": null,
   "id": "1305b867-2ca0-41b9-ac7a-6ae292296804",
   "metadata": {},
   "outputs": [],
   "source": []
  },
  {
   "cell_type": "code",
   "execution_count": null,
   "id": "949ebe6b-f4c2-4dad-baae-d02c09430afe",
   "metadata": {},
   "outputs": [],
   "source": []
  },
  {
   "cell_type": "code",
   "execution_count": null,
   "id": "5427f5e7-b92e-4827-8c36-8c3d0f96883b",
   "metadata": {},
   "outputs": [],
   "source": []
  },
  {
   "cell_type": "code",
   "execution_count": null,
   "id": "a7618b45-7a41-43c2-85b2-ed73724af090",
   "metadata": {},
   "outputs": [],
   "source": []
  },
  {
   "cell_type": "code",
   "execution_count": null,
   "id": "e8f7a8cf-0f62-4caf-adbb-79c2f1d0bf4e",
   "metadata": {},
   "outputs": [],
   "source": [
    "# !pip freeze"
   ]
  },
  {
   "cell_type": "code",
   "execution_count": null,
   "id": "c876a1a7-ec48-4df0-af41-fc2de643bebc",
   "metadata": {},
   "outputs": [],
   "source": [
    "# !pip install transformers\n",
    "\n",
    "# import sys\n",
    "# print(sys.executable)\n"
   ]
  },
  {
   "cell_type": "code",
   "execution_count": null,
   "id": "128bca3e-706a-41d6-b1db-7c27f9341884",
   "metadata": {},
   "outputs": [],
   "source": [
    "# from transformers import GPT2LMHeadModel, GPT2Tokenizer\n",
    "\n",
    "# def load_model():\n",
    "#     tokenizer = GPT2Tokenizer.from_pretrained(\"gpt2\")\n",
    "#     model = GPT2LMHeadModel.from_pretrained(\"gpt2\")\n",
    "#     return tokenizer, model\n",
    "\n",
    "# def generate_text(prompt, tokenizer, model, max_length=50):\n",
    "#     inputs = tokenizer.encode(prompt, return_tensors='pt')\n",
    "#     outputs = model.generate(inputs, max_length=max_length, num_return_sequences=1)\n",
    "#     return tokenizer.decode(outputs[0], skip_special_tokens=True)\n",
    "\n",
    "# # Load the model\n",
    "# tokenizer, model = load_model()\n",
    "\n",
    "# # Example usage\n",
    "# prompt = \"Once upon a time in a world where animals could talk,\"\n",
    "# generated_text = generate_text(prompt, tokenizer, model)\n",
    "# print(generated_text)\n"
   ]
  },
  {
   "cell_type": "code",
   "execution_count": null,
   "id": "36ba548d-73d2-43d6-9cc1-5cf2e0c56013",
   "metadata": {},
   "outputs": [],
   "source": [
    "# prompt = \"Once there was a Pusheen made out of quantum particles, and then she \"\n",
    "# generated_text = generate_text(prompt, tokenizer, model)\n",
    "# print(generated_text)"
   ]
  },
  {
   "cell_type": "code",
   "execution_count": null,
   "id": "6a190808-65b0-4722-88e3-db18ed4b295d",
   "metadata": {},
   "outputs": [],
   "source": [
    "# import os\n",
    "# os.environ[\"OPENAI_API_KEY\"] = \"\"  # Replace with your actual API key"
   ]
  },
  {
   "cell_type": "code",
   "execution_count": null,
   "id": "4b74c3e5-3854-443c-aa43-509ae6b38096",
   "metadata": {},
   "outputs": [],
   "source": [
    "# import openai\n",
    "\n",
    "# def generate_text_with_openai(prompt, engine=\"gpt-4-1106-preview\", max_tokens=100):\n",
    "#     client = openai()\n",
    "\n",
    "#     response = client.chat.completions.create(\n",
    "#       model=\"gpt-3.5-turbo\",\n",
    "#       prompt=prompt,\n",
    "#       # messages=[\n",
    "#       #   {\"role\": \"system\", \"content\": \"You are a helpful assistant.\"},\n",
    "#       #   {\"role\": \"user\", \"content\": \"Who won the world series in 2020?\"},\n",
    "#       #   {\"role\": \"assistant\", \"content\": \"The Los Angeles Dodgers won the World Series in 2020.\"},\n",
    "#       #   {\"role\": \"user\", \"content\": \"Where was it played?\"}\n",
    "#       # ]\n",
    "#     )\n",
    "#     # response = openai.Completion.create(\n",
    "#     #     engine=engine,\n",
    "#     #     prompt=prompt,\n",
    "#     #     max_tokens=max_tokens\n",
    "#     # )\n",
    "#     return response.choices[0].text.strip()"
   ]
  },
  {
   "cell_type": "code",
   "execution_count": null,
   "id": "1ad4b3fb-a66c-4f75-8d07-bb5627acc3bc",
   "metadata": {},
   "outputs": [],
   "source": [
    "# prompt = input(\"Enter a prompt: \")\n",
    "# response = generate_text_with_openai(prompt)\n",
    "# print(\"AI's response:\", response)"
   ]
  },
  {
   "cell_type": "code",
   "execution_count": null,
   "id": "2177c9a9-52a8-469a-840a-4d981268dede",
   "metadata": {},
   "outputs": [],
   "source": [
    "# from openai import OpenAI\n",
    "# client = OpenAI()\n",
    "\n",
    "# response = client.chat.completions.create(\n",
    "#   model=\"gpt-3.5-turbo-1106\",\n",
    "#   response_format={ \"type\": \"json_object\" },\n",
    "#   messages=[\n",
    "#     {\"role\": \"system\", \"content\": \"You are a helpful assistant designed to output JSON.\"},\n",
    "#     {\"role\": \"user\", \"content\": \"Who won the world series in 2020?\"}\n",
    "#   ]\n",
    "# )\n",
    "# print(response.choices[0].message.content)"
   ]
  },
  {
   "cell_type": "code",
   "execution_count": null,
   "id": "2edf3fee-9798-4a59-bf1a-2b4cf9ec9065",
   "metadata": {},
   "outputs": [],
   "source": []
  }
 ],
 "metadata": {
  "kernelspec": {
   "display_name": "local venv",
   "language": "python",
   "name": "venv"
  },
  "language_info": {
   "codemirror_mode": {
    "name": "ipython",
    "version": 3
   },
   "file_extension": ".py",
   "mimetype": "text/x-python",
   "name": "python",
   "nbconvert_exporter": "python",
   "pygments_lexer": "ipython3",
   "version": "3.9.6"
  }
 },
 "nbformat": 4,
 "nbformat_minor": 5
}
