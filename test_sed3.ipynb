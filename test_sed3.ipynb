{
 "cells": [
  {
   "cell_type": "markdown",
   "id": "27bd7647-8733-4e1b-be78-ee1e662eb285",
   "metadata": {},
   "source": [
    "# SED"
   ]
  },
  {
   "cell_type": "markdown",
   "id": "27961922-5b2b-4bc9-b441-9cbbec4534d8",
   "metadata": {},
   "source": [
    "### Imports"
   ]
  },
  {
   "cell_type": "code",
   "execution_count": 1,
   "id": "28ec0c4f-f2e3-42d9-bcc9-989f673a6b92",
   "metadata": {
    "tags": []
   },
   "outputs": [],
   "source": [
    "import inspect\n",
    "import json\n",
    "import types\n",
    "import abc\n",
    "import numpy as np\n",
    "from bigraph_viz import plot_bigraph, plot_flow, pf\n",
    "from bigraph_viz.dict_utils import schema_keys\n",
    "\n",
    "schema_keys.extend(['_id', 'config'])"
   ]
  },
  {
   "cell_type": "markdown",
   "id": "94765aa3-25b8-482f-a934-d40d0c21935b",
   "metadata": {},
   "source": [
    "### Registry and Decorators"
   ]
  },
  {
   "cell_type": "code",
   "execution_count": 2,
   "id": "8eb445eb-42a9-4654-8ea4-79f06759de58",
   "metadata": {
    "tags": []
   },
   "outputs": [],
   "source": [
    "# decorators\n",
    "def register(registry, identifier=None):\n",
    "    def decorator(func):\n",
    "        registry.register(func, identifier=identifier)\n",
    "        return func\n",
    "    return decorator\n",
    "\n",
    "\n",
    "def annotate(annotation):\n",
    "    def decorator(func):\n",
    "        func.annotation = annotation\n",
    "        return func\n",
    "    return decorator\n",
    "\n",
    "\n",
    "# TODO: ports for functions require input/output, but for processes this isn't required\n",
    "# TODO assert type are in type_registry\n",
    "# TODO check that keys match function signature\n",
    "def ports(ports_schema):\n",
    "    # assert inputs/outputs and types, give suggestions\n",
    "    allowed = ['inputs', 'outputs']\n",
    "    assert all(key in allowed for key in\n",
    "               ports_schema.keys()), f'{[key for key in ports_schema.keys() if key not in allowed]} not allowed as top-level port keys. Allowed keys include {str(allowed)}'\n",
    "    def decorator(func):\n",
    "        func.ports = ports_schema\n",
    "        return func\n",
    "    return decorator\n",
    "\n",
    "\n",
    "# registry\n",
    "class ProcessRegistry:\n",
    "    def __init__(self):\n",
    "        self.registry = {}\n",
    "\n",
    "    def register(self, process, identifier=None):\n",
    "        if not identifier:\n",
    "            identifier = process.__name__\n",
    "        signature = inspect.signature(process)\n",
    "        annotation = getattr(process, 'annotation', None)\n",
    "        ports = getattr(process, 'ports')\n",
    "        \n",
    "        try:\n",
    "            bases = [base.__name__ for base in process.__bases__]\n",
    "        except:\n",
    "            bases = None\n",
    "        process_type = None\n",
    "        if isinstance(process, types.FunctionType):\n",
    "            process_type = 'function'\n",
    "        elif 'Composite' in bases:\n",
    "            process_type = 'composite'\n",
    "        elif 'Process' in bases:\n",
    "            process_type = 'process'\n",
    "\n",
    "        # TODO -- assert ports and signature match\n",
    "        if not annotation:\n",
    "            raise Exception(f'Process {identifier} requires annotations')\n",
    "        if not ports:\n",
    "            raise Exception(f'Process {identifier} requires annotations')\n",
    "\n",
    "        item = {\n",
    "            'annotation': annotation,\n",
    "            'ports': ports,\n",
    "            'address': process,\n",
    "            'type': process_type,\n",
    "        }\n",
    "        self.registry[identifier] = item\n",
    "\n",
    "    def access(self, name):\n",
    "        return self.registry.get(name)\n",
    "\n",
    "    def get_annotations(self):\n",
    "        return [v.get('annotation') for k, v in self.registry.items()]\n",
    "\n",
    "    def activate_process(self, process_name, namespace):\n",
    "        namespace[process_name] = self.registry[process_name]['address']\n",
    "\n",
    "    def activate_all(self, namespace):\n",
    "        \"\"\"how to add to globals: process_registry.activate_all(globals())\"\"\"\n",
    "        for process_name in self.registry.keys():\n",
    "            self.activate_process(process_name, namespace)\n",
    "\n",
    "\n",
    "# initialize a registry\n",
    "sed_process_registry = ProcessRegistry()"
   ]
  },
  {
   "cell_type": "code",
   "execution_count": 31,
   "id": "2b7de61b-2720-4fea-b391-aabf2e1ce3df",
   "metadata": {},
   "outputs": [],
   "source": [
    "def serialize_instance(wiring):\n",
    "    def convert_numpy(obj):\n",
    "        if isinstance(obj, np.ndarray):\n",
    "            return obj.tolist()\n",
    "        raise TypeError(f'Object of type \"{obj.__class__.__name__}\" is not JSON serializable')\n",
    "    return json.dumps(wiring, default=convert_numpy)\n",
    "\n",
    "\n",
    "def deserialize_instance(serialized_wiring):\n",
    "    if isinstance(serialized_wiring, dict):\n",
    "        return serialized_wiring\n",
    "    def convert_numpy(obj):\n",
    "        if isinstance(obj, list):\n",
    "            return np.array(obj)\n",
    "        return obj\n",
    "    return json.loads(serialized_wiring, object_hook=convert_numpy)\n",
    "\n",
    "\n",
    "def extract_composite_config(schema):\n",
    "    config = {k: v for k, v in schema.items() if k not in schema_keys}\n",
    "    return config\n",
    "\n",
    "\n",
    "def initialize_process_from_schema(schema, process_registry):\n",
    "    schema = deserialize_instance(schema)\n",
    "    assert len(schema) == 1  # only one top-level key\n",
    "    process_name = next(iter(schema))\n",
    "    process_entry = process_registry.access(process_name)\n",
    "    process = process_entry['address']  # get the process from registry\n",
    "    \n",
    "    config = extract_composite_config(schema[process_name])\n",
    "    \n",
    "    # config = schema[process_name]['config']\n",
    "    return {process_name: process(config=config, process_registry=process_registry)}\n",
    "\n",
    "\n",
    "def get_processes_states_from_schema(schema, process_registry):\n",
    "    all_annotations = process_registry.get_annotations()\n",
    "    processes = {}\n",
    "    states = {}\n",
    "    for name, value in schema.items():\n",
    "        if isinstance(value, dict) and value.get('wires'):\n",
    "            processes[name] = value\n",
    "        else:\n",
    "            states[name] = value\n",
    "    return processes, states\n"
   ]
  },
  {
   "cell_type": "markdown",
   "id": "9b5dba34-6367-402f-bb5b-b0dd6cb4e41e",
   "metadata": {},
   "source": [
    "### Process and Composite base class"
   ]
  },
  {
   "cell_type": "markdown",
   "id": "b705ad1b-a02b-434f-b99c-3da1a6740066",
   "metadata": {},
   "source": [
    "### Make Processes/Composites for examples"
   ]
  },
  {
   "cell_type": "code",
   "execution_count": 33,
   "id": "3ebeb206-7da1-40d3-9db7-a5a599842a0d",
   "metadata": {
    "tags": []
   },
   "outputs": [
    {
     "name": "stdout",
     "output_type": "stream",
     "text": [
      "{ 'add_two': { 'address': <function add_two at 0x1276e69d0>,\n",
      "               'annotation': 'add_two',\n",
      "               'ports': { 'inputs': {'a': 'float', 'b': 'float'},\n",
      "                          'outputs': {'result': 'float'}},\n",
      "               'type': 'function'},\n",
      "  'loop': { 'address': <class '__main__.RangeIterator'>,\n",
      "            'annotation': 'sed:range_iterator',\n",
      "            'ports': { 'inputs': {'trials': 'int'},\n",
      "                       'outputs': {'results': 'list'}},\n",
      "            'type': 'composite'},\n",
      "  'sum': { 'address': <function add_list at 0x1276e6a60>,\n",
      "           'annotation': 'math:add',\n",
      "           'ports': { 'inputs': {'values': 'list[float]'},\n",
      "                      'outputs': {'result': 'float'}},\n",
      "           'type': 'function'}}\n"
     ]
    }
   ],
   "source": [
    "@register(\n",
    "    identifier='loop', \n",
    "    registry=sed_process_registry)\n",
    "@ports({\n",
    "    'inputs': {\n",
    "        'trials': 'int'},\n",
    "    'outputs': {\n",
    "        'results': 'list'}})\n",
    "@annotate('sed:range_iterator')\n",
    "class RangeIterator(Composite):\n",
    "    def run(self, trials):\n",
    "        results = []\n",
    "        for i in range(trials):\n",
    "            for process in self.processes:\n",
    "                # TODO -- get the process state\n",
    "                result = process.update()\n",
    "        return results\n",
    "\n",
    "    \n",
    "@register(\n",
    "    identifier='sum', \n",
    "    registry=sed_process_registry)\n",
    "@ports({\n",
    "    'inputs': {'values': 'list[float]'}, \n",
    "    'outputs': {'result': 'float'}})\n",
    "@annotate('math:add')\n",
    "def add_list(values):\n",
    "    if not isinstance(values, list):\n",
    "        values=[values]\n",
    "    return sum(values)\n",
    "\n",
    "\n",
    "@register(\n",
    "    identifier='add_two', \n",
    "    registry=sed_process_registry)\n",
    "@ports({\n",
    "    'inputs': {'a': 'float', 'b': 'float'}, \n",
    "    'outputs': {'result': 'float'}})\n",
    "@annotate('add_two')\n",
    "def add_two(a, b):\n",
    "    return a + b\n",
    "    \n",
    "print(pf(sed_process_registry.registry))"
   ]
  },
  {
   "cell_type": "markdown",
   "id": "b7ec81b4-c880-453e-9ac9-4c6cc5a8cd08",
   "metadata": {},
   "source": [
    "### Instance"
   ]
  },
  {
   "cell_type": "code",
   "execution_count": 34,
   "id": "13c6145d-96d4-4c85-87e8-8cf718508e50",
   "metadata": {
    "tags": []
   },
   "outputs": [
    {
     "name": "stdout",
     "output_type": "stream",
     "text": [
      "PROCESSES: {'loop': {'_id': 'loop', '_type': 'sed:range_iterator', 'wires': {'trials': 'trials'}, 'value': 0, 'added': 1, 'add': {'_type': 'add_two', '_id': 'add_two', 'wires': {'a': 'value', 'b': 'added', 'result': 'value'}}}}\n",
      "PROCESSES: {'add': {'_type': 'add_two', '_id': 'add_two', 'wires': {'a': 'value', 'b': 'added', 'result': 'value'}}}\n"
     ]
    },
    {
     "ename": "TypeError",
     "evalue": "'NoneType' object is not subscriptable",
     "output_type": "error",
     "traceback": [
      "\u001b[0;31m---------------------------------------------------------------------------\u001b[0m",
      "\u001b[0;31mTypeError\u001b[0m                                 Traceback (most recent call last)",
      "Cell \u001b[0;32mIn[34], line 25\u001b[0m\n\u001b[1;32m      1\u001b[0m config1 \u001b[38;5;241m=\u001b[39m {\n\u001b[1;32m      2\u001b[0m     \u001b[38;5;124m'\u001b[39m\u001b[38;5;124mtrials\u001b[39m\u001b[38;5;124m'\u001b[39m: \u001b[38;5;241m10\u001b[39m,\n\u001b[1;32m      3\u001b[0m     \u001b[38;5;124m'\u001b[39m\u001b[38;5;124mloop\u001b[39m\u001b[38;5;124m'\u001b[39m: {\n\u001b[0;32m   (...)\u001b[0m\n\u001b[1;32m     22\u001b[0m \n\u001b[1;32m     23\u001b[0m }\n\u001b[0;32m---> 25\u001b[0m sim_experiment \u001b[38;5;241m=\u001b[39m \u001b[43mComposite\u001b[49m\u001b[43m(\u001b[49m\n\u001b[1;32m     26\u001b[0m \u001b[43m    \u001b[49m\u001b[43mconfig\u001b[49m\u001b[38;5;241;43m=\u001b[39;49m\u001b[43mconfig1\u001b[49m\u001b[43m,\u001b[49m\u001b[43m \u001b[49m\n\u001b[1;32m     27\u001b[0m \u001b[43m    \u001b[49m\u001b[43mprocess_registry\u001b[49m\u001b[38;5;241;43m=\u001b[39;49m\u001b[43msed_process_registry\u001b[49m\u001b[43m)\u001b[49m\n\u001b[1;32m     29\u001b[0m sim_experiment\u001b[38;5;241m.\u001b[39mrun()\n\u001b[1;32m     31\u001b[0m json_str \u001b[38;5;241m=\u001b[39m sim_experiment\u001b[38;5;241m.\u001b[39mto_json()\n",
      "Cell \u001b[0;32mIn[32], line 23\u001b[0m, in \u001b[0;36mComposite.__init__\u001b[0;34m(self, config, process_registry)\u001b[0m\n\u001b[1;32m     22\u001b[0m \u001b[38;5;28;01mdef\u001b[39;00m \u001b[38;5;21m__init__\u001b[39m(\u001b[38;5;28mself\u001b[39m, config, process_registry):\n\u001b[0;32m---> 23\u001b[0m     \u001b[38;5;28;43mself\u001b[39;49m\u001b[38;5;241;43m.\u001b[39;49m\u001b[43minitialize\u001b[49m\u001b[43m(\u001b[49m\u001b[43mconfig\u001b[49m\u001b[43m,\u001b[49m\u001b[43m \u001b[49m\u001b[43mprocess_registry\u001b[49m\u001b[43m)\u001b[49m\n",
      "Cell \u001b[0;32mIn[32], line 36\u001b[0m, in \u001b[0;36mComposite.initialize\u001b[0;34m(self, config, process_registry)\u001b[0m\n\u001b[1;32m     34\u001b[0m \u001b[38;5;28;01mfor\u001b[39;00m process \u001b[38;5;129;01min\u001b[39;00m processes:\n\u001b[1;32m     35\u001b[0m     process_schema \u001b[38;5;241m=\u001b[39m {process: \u001b[38;5;28mself\u001b[39m\u001b[38;5;241m.\u001b[39mconfig[process]}\n\u001b[0;32m---> 36\u001b[0m     initialized_process \u001b[38;5;241m=\u001b[39m \u001b[43minitialize_process_from_schema\u001b[49m\u001b[43m(\u001b[49m\u001b[43mprocess_schema\u001b[49m\u001b[43m,\u001b[49m\u001b[43m \u001b[49m\u001b[43mprocess_registry\u001b[49m\u001b[43m)\u001b[49m\n\u001b[1;32m     37\u001b[0m     \u001b[38;5;28mself\u001b[39m\u001b[38;5;241m.\u001b[39mprocesses\u001b[38;5;241m.\u001b[39mupdate(initialized_process)\n",
      "Cell \u001b[0;32mIn[31], line 34\u001b[0m, in \u001b[0;36minitialize_process_from_schema\u001b[0;34m(schema, process_registry)\u001b[0m\n\u001b[1;32m     31\u001b[0m config \u001b[38;5;241m=\u001b[39m extract_composite_config(schema[process_name])\n\u001b[1;32m     33\u001b[0m \u001b[38;5;66;03m# config = schema[process_name]['config']\u001b[39;00m\n\u001b[0;32m---> 34\u001b[0m \u001b[38;5;28;01mreturn\u001b[39;00m {process_name: \u001b[43mprocess\u001b[49m\u001b[43m(\u001b[49m\u001b[43mconfig\u001b[49m\u001b[38;5;241;43m=\u001b[39;49m\u001b[43mconfig\u001b[49m\u001b[43m,\u001b[49m\u001b[43m \u001b[49m\u001b[43mprocess_registry\u001b[49m\u001b[38;5;241;43m=\u001b[39;49m\u001b[43mprocess_registry\u001b[49m\u001b[43m)\u001b[49m}\n",
      "Cell \u001b[0;32mIn[32], line 23\u001b[0m, in \u001b[0;36mComposite.__init__\u001b[0;34m(self, config, process_registry)\u001b[0m\n\u001b[1;32m     22\u001b[0m \u001b[38;5;28;01mdef\u001b[39;00m \u001b[38;5;21m__init__\u001b[39m(\u001b[38;5;28mself\u001b[39m, config, process_registry):\n\u001b[0;32m---> 23\u001b[0m     \u001b[38;5;28;43mself\u001b[39;49m\u001b[38;5;241;43m.\u001b[39;49m\u001b[43minitialize\u001b[49m\u001b[43m(\u001b[49m\u001b[43mconfig\u001b[49m\u001b[43m,\u001b[49m\u001b[43m \u001b[49m\u001b[43mprocess_registry\u001b[49m\u001b[43m)\u001b[49m\n",
      "Cell \u001b[0;32mIn[32], line 36\u001b[0m, in \u001b[0;36mComposite.initialize\u001b[0;34m(self, config, process_registry)\u001b[0m\n\u001b[1;32m     34\u001b[0m \u001b[38;5;28;01mfor\u001b[39;00m process \u001b[38;5;129;01min\u001b[39;00m processes:\n\u001b[1;32m     35\u001b[0m     process_schema \u001b[38;5;241m=\u001b[39m {process: \u001b[38;5;28mself\u001b[39m\u001b[38;5;241m.\u001b[39mconfig[process]}\n\u001b[0;32m---> 36\u001b[0m     initialized_process \u001b[38;5;241m=\u001b[39m \u001b[43minitialize_process_from_schema\u001b[49m\u001b[43m(\u001b[49m\u001b[43mprocess_schema\u001b[49m\u001b[43m,\u001b[49m\u001b[43m \u001b[49m\u001b[43mprocess_registry\u001b[49m\u001b[43m)\u001b[49m\n\u001b[1;32m     37\u001b[0m     \u001b[38;5;28mself\u001b[39m\u001b[38;5;241m.\u001b[39mprocesses\u001b[38;5;241m.\u001b[39mupdate(initialized_process)\n",
      "Cell \u001b[0;32mIn[31], line 29\u001b[0m, in \u001b[0;36minitialize_process_from_schema\u001b[0;34m(schema, process_registry)\u001b[0m\n\u001b[1;32m     27\u001b[0m process_name \u001b[38;5;241m=\u001b[39m \u001b[38;5;28mnext\u001b[39m(\u001b[38;5;28miter\u001b[39m(schema))\n\u001b[1;32m     28\u001b[0m process_entry \u001b[38;5;241m=\u001b[39m process_registry\u001b[38;5;241m.\u001b[39maccess(process_name)\n\u001b[0;32m---> 29\u001b[0m process \u001b[38;5;241m=\u001b[39m \u001b[43mprocess_entry\u001b[49m\u001b[43m[\u001b[49m\u001b[38;5;124;43m'\u001b[39;49m\u001b[38;5;124;43maddress\u001b[39;49m\u001b[38;5;124;43m'\u001b[39;49m\u001b[43m]\u001b[49m  \u001b[38;5;66;03m# get the process from registry\u001b[39;00m\n\u001b[1;32m     31\u001b[0m config \u001b[38;5;241m=\u001b[39m extract_composite_config(schema[process_name])\n\u001b[1;32m     33\u001b[0m \u001b[38;5;66;03m# config = schema[process_name]['config']\u001b[39;00m\n",
      "\u001b[0;31mTypeError\u001b[0m: 'NoneType' object is not subscriptable"
     ]
    }
   ],
   "source": [
    "config1 = {\n",
    "    'trials': 10,\n",
    "    'loop': {\n",
    "        '_id': 'loop',\n",
    "        '_type': 'sed:range_iterator',\n",
    "        'wires': {\n",
    "            'trials': 'trials',\n",
    "        },\n",
    "        # 'config': {},\n",
    "        'value': 0,\n",
    "        'added': 1,\n",
    "        'add': {\n",
    "            '_type': 'add_two',\n",
    "            '_id': 'add_two',\n",
    "            'wires': {\n",
    "                'a': 'value',\n",
    "                'b': 'added',\n",
    "                'result': 'value',\n",
    "            },\n",
    "        }\n",
    "    },\n",
    "\n",
    "}\n",
    "\n",
    "sim_experiment = Composite(\n",
    "    config=config1, \n",
    "    process_registry=sed_process_registry)\n",
    "\n",
    "sim_experiment.run()\n",
    "\n",
    "json_str = sim_experiment.to_json()\n",
    "# print(pf(json_str))"
   ]
  },
  {
   "cell_type": "code",
   "execution_count": 25,
   "id": "497ef58e-eaeb-4640-8ed1-f1096199e33d",
   "metadata": {
    "tags": []
   },
   "outputs": [
    {
     "data": {
      "text/plain": [
       "{}"
      ]
     },
     "execution_count": 25,
     "metadata": {},
     "output_type": "execute_result"
    }
   ],
   "source": [
    "sim_experiment.processes['loop'].processes"
   ]
  },
  {
   "cell_type": "code",
   "execution_count": 20,
   "id": "fe4bf7c2-6de1-46d7-a386-9b2a15d28e80",
   "metadata": {
    "tags": []
   },
   "outputs": [
    {
     "name": "stdout",
     "output_type": "stream",
     "text": [
      "{ 'loop': { '_id': 'loop',\n",
      "            '_type': 'sed:range_iterator',\n",
      "            'add': { '_id': 'add_two',\n",
      "                     '_type': 'add_two',\n",
      "                     'wires': {'a': 'value', 'b': 'added', 'result': 'value'}},\n",
      "            'added': 1,\n",
      "            'config': {},\n",
      "            'value': 0,\n",
      "            'wires': {'trials': 'trials'}},\n",
      "  'trials': 10}\n"
     ]
    }
   ],
   "source": [
    "print(pf(sim_experiment.config))"
   ]
  },
  {
   "cell_type": "code",
   "execution_count": 15,
   "id": "8d048d98-772f-47a1-bd44-c8847b08820e",
   "metadata": {
    "tags": []
   },
   "outputs": [
    {
     "data": {
      "image/svg+xml": [
       "<?xml version=\"1.0\" encoding=\"UTF-8\" standalone=\"no\"?>\n",
       "<!DOCTYPE svg PUBLIC \"-//W3C//DTD SVG 1.1//EN\"\n",
       " \"http://www.w3.org/Graphics/SVG/1.1/DTD/svg11.dtd\">\n",
       "<!-- Generated by graphviz version 7.1.0 (20230121.1956)\n",
       " -->\n",
       "<!-- Title: bigraph Pages: 1 -->\n",
       "<svg width=\"124pt\" height=\"302pt\"\n",
       " viewBox=\"0.00 0.00 127.20 310.72\" xmlns=\"http://www.w3.org/2000/svg\" xmlns:xlink=\"http://www.w3.org/1999/xlink\">\n",
       "<g id=\"graph0\" class=\"graph\" transform=\"scale(0.972222 0.972222) rotate(0) translate(4 306.72)\">\n",
       "<title>bigraph</title>\n",
       "<polygon fill=\"white\" stroke=\"none\" points=\"-4,4 -4,-306.72 123.2,-306.72 123.2,4 -4,4\"/>\n",
       "<!-- (&#39;trials&#39;,) -->\n",
       "<g id=\"node1\" class=\"node\">\n",
       "<title>(&#39;trials&#39;,)</title>\n",
       "<ellipse fill=\"none\" stroke=\"black\" stroke-width=\"2\" cx=\"82.93\" cy=\"-279.64\" rx=\"19.15\" ry=\"19.15\"/>\n",
       "<ellipse fill=\"none\" stroke=\"black\" stroke-width=\"2\" cx=\"82.93\" cy=\"-279.64\" rx=\"23.17\" ry=\"23.17\"/>\n",
       "<text text-anchor=\"start\" x=\"71.43\" y=\"-276.54\" font-family=\"Times,serif\" font-size=\"12.00\">trials</text>\n",
       "</g>\n",
       "<!-- (&#39;loop&#39;,) -->\n",
       "<g id=\"node4\" class=\"node\">\n",
       "<title>(&#39;loop&#39;,)</title>\n",
       "<polygon fill=\"none\" stroke=\"black\" stroke-width=\"2\" points=\"109.93,-205.55 55.93,-205.55 55.93,-169.55 109.93,-169.55 109.93,-205.55\"/>\n",
       "<polygon fill=\"none\" stroke=\"black\" stroke-width=\"2\" points=\"113.93,-209.55 51.93,-209.55 51.93,-165.55 113.93,-165.55 113.93,-209.55\"/>\n",
       "<text text-anchor=\"start\" x=\"71.93\" y=\"-184.45\" font-family=\"Times,serif\" font-size=\"12.00\">loop</text>\n",
       "</g>\n",
       "<!-- (&#39;trials&#39;,)&#45;&gt;(&#39;loop&#39;,) -->\n",
       "<g id=\"edge4\" class=\"edge\">\n",
       "<title>(&#39;trials&#39;,)&#45;&gt;(&#39;loop&#39;,)</title>\n",
       "<path fill=\"none\" stroke=\"black\" stroke-dasharray=\"5,2\" d=\"M82.93,-255.9C82.93,-243.46 82.93,-227.99 82.93,-215\"/>\n",
       "<ellipse fill=\"black\" stroke=\"black\" cx=\"82.93\" cy=\"-212.85\" rx=\"2\" ry=\"2\"/>\n",
       "<text text-anchor=\"start\" x=\"82.93\" y=\"-230.55\" font-family=\"Times,serif\" font-size=\"10.00\">trials</text>\n",
       "</g>\n",
       "<!-- (&#39;loop&#39;, &#39;value&#39;) -->\n",
       "<g id=\"node2\" class=\"node\">\n",
       "<title>(&#39;loop&#39;, &#39;value&#39;)</title>\n",
       "<ellipse fill=\"none\" stroke=\"black\" stroke-width=\"2\" cx=\"20.93\" cy=\"-105.78\" rx=\"20.86\" ry=\"20.86\"/>\n",
       "<text text-anchor=\"start\" x=\"7.93\" y=\"-102.68\" font-family=\"Times,serif\" font-size=\"12.00\">value</text>\n",
       "</g>\n",
       "<!-- (&#39;loop&#39;, &#39;add&#39;) -->\n",
       "<g id=\"node5\" class=\"node\">\n",
       "<title>(&#39;loop&#39;, &#39;add&#39;)</title>\n",
       "<polygon fill=\"none\" stroke=\"black\" stroke-width=\"2\" points=\"97.93,-36 43.93,-36 43.93,0 97.93,0 97.93,-36\"/>\n",
       "<text text-anchor=\"start\" x=\"61.93\" y=\"-14.9\" font-family=\"Times,serif\" font-size=\"12.00\">add</text>\n",
       "</g>\n",
       "<!-- (&#39;loop&#39;, &#39;value&#39;)&#45;&gt;(&#39;loop&#39;, &#39;add&#39;) -->\n",
       "<g id=\"edge5\" class=\"edge\">\n",
       "<title>(&#39;loop&#39;, &#39;value&#39;)&#45;&gt;(&#39;loop&#39;, &#39;add&#39;)</title>\n",
       "<path fill=\"none\" stroke=\"black\" stroke-dasharray=\"5,2\" d=\"M17.26,-84.44C16.49,-74.71 17.08,-63.2 21.93,-54 25.92,-46.43 32.37,-40.12 39.29,-35.05\"/>\n",
       "<ellipse fill=\"black\" stroke=\"black\" cx=\"41.12\" cy=\"-33.78\" rx=\"2\" ry=\"2\"/>\n",
       "<text text-anchor=\"start\" x=\"21.93\" y=\"-57\" font-family=\"Times,serif\" font-size=\"10.00\">values</text>\n",
       "</g>\n",
       "<!-- (&#39;loop&#39;, &#39;value&#39;)&#45;&gt;(&#39;loop&#39;, &#39;add&#39;) -->\n",
       "<g id=\"edge6\" class=\"edge\">\n",
       "<title>(&#39;loop&#39;, &#39;value&#39;)&#45;&gt;(&#39;loop&#39;, &#39;add&#39;)</title>\n",
       "<path fill=\"none\" stroke=\"black\" stroke-dasharray=\"5,2\" d=\"M33.56,-88.16C38.62,-81.18 44.32,-72.87 48.93,-65 53.38,-57.39 57.7,-48.75 61.31,-41.02\"/>\n",
       "<ellipse fill=\"black\" stroke=\"black\" cx=\"62.2\" cy=\"-39.1\" rx=\"2\" ry=\"2\"/>\n",
       "<text text-anchor=\"start\" x=\"54.93\" y=\"-57\" font-family=\"Times,serif\" font-size=\"10.00\">result</text>\n",
       "</g>\n",
       "<!-- (&#39;loop&#39;, &#39;added&#39;) -->\n",
       "<g id=\"node3\" class=\"node\">\n",
       "<title>(&#39;loop&#39;, &#39;added&#39;)</title>\n",
       "<ellipse fill=\"none\" stroke=\"black\" stroke-width=\"2\" cx=\"82.93\" cy=\"-105.78\" rx=\"22.56\" ry=\"22.56\"/>\n",
       "<text text-anchor=\"start\" x=\"68.43\" y=\"-102.68\" font-family=\"Times,serif\" font-size=\"12.00\">added</text>\n",
       "</g>\n",
       "<!-- (&#39;loop&#39;,)&#45;&gt;(&#39;loop&#39;, &#39;value&#39;) -->\n",
       "<g id=\"edge1\" class=\"edge\">\n",
       "<title>(&#39;loop&#39;,)&#45;&gt;(&#39;loop&#39;, &#39;value&#39;)</title>\n",
       "<path fill=\"none\" stroke=\"black\" stroke-width=\"2\" d=\"M65.99,-164.75C55.81,-151.65 43.06,-135.25 33.72,-123.23\"/>\n",
       "</g>\n",
       "<!-- (&#39;loop&#39;,)&#45;&gt;(&#39;loop&#39;, &#39;added&#39;) -->\n",
       "<g id=\"edge2\" class=\"edge\">\n",
       "<title>(&#39;loop&#39;,)&#45;&gt;(&#39;loop&#39;, &#39;added&#39;)</title>\n",
       "<path fill=\"none\" stroke=\"black\" stroke-width=\"2\" d=\"M82.93,-164.75C82.93,-153.68 82.93,-140.25 82.93,-129.11\"/>\n",
       "</g>\n",
       "<!-- (&#39;loop&#39;,)&#45;&gt;(&#39;loop&#39;, &#39;add&#39;) -->\n",
       "<g id=\"edge3\" class=\"edge\">\n",
       "<title>(&#39;loop&#39;,)&#45;&gt;(&#39;loop&#39;, &#39;add&#39;)</title>\n",
       "<path fill=\"none\" stroke=\"black\" stroke-width=\"2\" d=\"M98.36,-164.81C104.84,-154.37 111.63,-141.36 114.93,-128.55 119.98,-108.95 120.94,-102.33 114.93,-83 109.57,-65.74 97.77,-49.02 87.73,-37\"/>\n",
       "</g>\n",
       "</g>\n",
       "</svg>\n"
      ],
      "text/plain": [
       "<graphviz.graphs.Digraph at 0x124094ee0>"
      ]
     },
     "execution_count": 15,
     "metadata": {},
     "output_type": "execute_result"
    }
   ],
   "source": [
    "plot_bigraph(config1)"
   ]
  },
  {
   "cell_type": "markdown",
   "id": "5619a617-e5a5-4946-bf41-00bc79f84528",
   "metadata": {},
   "source": [
    "## Infix"
   ]
  },
  {
   "cell_type": "code",
   "execution_count": 10,
   "id": "7f158bfa-52ca-429a-b1d4-2dfb2bc90434",
   "metadata": {},
   "outputs": [],
   "source": [
    "import numpy as np\n",
    "import re\n",
    "\n",
    "def infix_to_postfix(infix_expression):\n",
    "    precedence = {'+':1, '-':1, '*':2, '/':2, '^':3}\n",
    "    right_associative = {'^'}\n",
    "    stack = [] \n",
    "    postfix = []\n",
    "    \n",
    "    # Tokenizing the infix expression\n",
    "    tokens = re.findall(r\"[\\w.]+|[^ \\w]\", infix_expression)\n",
    "\n",
    "    for token in tokens:\n",
    "        if re.match(r\"^[\\d.]+$\", token):  # If the token is a number (integer or float)\n",
    "            postfix.append(token)\n",
    "        elif token.startswith('np'):  # If the token is a numpy array\n",
    "            postfix.append(token)\n",
    "        elif token == '(':\n",
    "            stack.append('(')\n",
    "        elif token == ')':\n",
    "            while stack and stack[-1] != '(':\n",
    "                postfix.append(stack.pop())\n",
    "            if stack:\n",
    "                stack.pop()\n",
    "        else:  # If the token is an operator\n",
    "            while (stack and stack[-1] != '(' and \n",
    "                   ((token not in right_associative and precedence.get(token, 0) <= precedence.get(stack[-1], 0)) or\n",
    "                   (token in right_associative and precedence.get(token, 0) < precedence.get(stack[-1], 0)))):\n",
    "                postfix.append(stack.pop())\n",
    "            stack.append(token)\n",
    "\n",
    "    while stack:\n",
    "        postfix.append(stack.pop())\n",
    "\n",
    "    postfix_expression = \" \".join(postfix)\n",
    "    print(f\"Postfix Expression: {postfix_expression}\")  # Debugging print statement\n",
    "    return postfix_expression\n",
    "\n",
    "def evaluate_postfix(postfix_expression):\n",
    "    stack = []\n",
    "    tokens = postfix_expression.split()\n",
    "\n",
    "    for token in tokens:\n",
    "        if re.match(r\"^[\\d.]+$\", token):  # If the token is a number (integer or float)\n",
    "            stack.append(float(token))\n",
    "        elif token.startswith('np'):  # If the token is a numpy array\n",
    "            stack.append(eval(token))\n",
    "        else:  # If the token is an operator\n",
    "            val1 = stack.pop()\n",
    "            val2 = stack.pop()\n",
    "            switcher = {\n",
    "                '+': val2 + val1,\n",
    "                '-': val2 - val1,\n",
    "                '*': val2 * val1,\n",
    "                '/': val2 / val1,\n",
    "                '^': val2**val1\n",
    "            }\n",
    "            stack.append(switcher.get(token))\n",
    "    \n",
    "    print(f\"Final Stack: {stack}\")  # Debugging print statement\n",
    "    return stack[0]\n",
    "\n",
    "def evaluate_infix(infix_expression):\n",
    "    postfix_expression = infix_to_postfix(infix_expression)\n",
    "    result = evaluate_postfix(postfix_expression)\n",
    "    return result\n"
   ]
  },
  {
   "cell_type": "code",
   "execution_count": 11,
   "id": "480a13a9-0ee9-4ebd-91cf-b714944ca5b2",
   "metadata": {},
   "outputs": [],
   "source": [
    "# # Test the function\n",
    "# arr1 = np.array([1, 2, 3])\n",
    "# arr2 = np.array([4, 5, 6])\n",
    "# print(stringify_array(arr1))  # Output: \"array0\"\n",
    "# print(stringify_array(arr2))  # Output: \"array1\"\n",
    "\n",
    "# print(evaluate_infix(\"(22.112+3.123)*0.245^3.1\"))"
   ]
  },
  {
   "cell_type": "code",
   "execution_count": null,
   "id": "a7200771-5e14-4a4c-93a8-f5f14d48f1ed",
   "metadata": {},
   "outputs": [],
   "source": []
  }
 ],
 "metadata": {
  "kernelspec": {
   "display_name": "Python 3 (ipykernel)",
   "language": "python",
   "name": "python3"
  },
  "language_info": {
   "codemirror_mode": {
    "name": "ipython",
    "version": 3
   },
   "file_extension": ".py",
   "mimetype": "text/x-python",
   "name": "python",
   "nbconvert_exporter": "python",
   "pygments_lexer": "ipython3",
   "version": "3.8.13"
  }
 },
 "nbformat": 4,
 "nbformat_minor": 5
}
