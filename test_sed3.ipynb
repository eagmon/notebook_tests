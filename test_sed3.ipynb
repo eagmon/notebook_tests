{
 "cells": [
  {
   "cell_type": "markdown",
   "id": "27bd7647-8733-4e1b-be78-ee1e662eb285",
   "metadata": {},
   "source": [
    "# SED"
   ]
  },
  {
   "cell_type": "markdown",
   "id": "27961922-5b2b-4bc9-b441-9cbbec4534d8",
   "metadata": {},
   "source": [
    "### Imports"
   ]
  },
  {
   "cell_type": "code",
   "execution_count": 23,
   "id": "28ec0c4f-f2e3-42d9-bcc9-989f673a6b92",
   "metadata": {
    "tags": []
   },
   "outputs": [],
   "source": [
    "import inspect\n",
    "import json\n",
    "import abc\n",
    "import numpy as np\n",
    "from bigraph_viz import plot_bigraph, plot_flow, pf"
   ]
  },
  {
   "cell_type": "markdown",
   "id": "94765aa3-25b8-482f-a934-d40d0c21935b",
   "metadata": {},
   "source": [
    "### Registry and Decorators"
   ]
  },
  {
   "cell_type": "code",
   "execution_count": 2,
   "id": "8eb445eb-42a9-4654-8ea4-79f06759de58",
   "metadata": {
    "tags": []
   },
   "outputs": [],
   "source": [
    "def register(registry, identifier=None):\n",
    "    def decorator(func):\n",
    "        registry.register_function(func, identifier=identifier)\n",
    "        return func\n",
    "    return decorator\n",
    "\n",
    "\n",
    "def annotate(annotation):\n",
    "    def decorator(func):\n",
    "        func.annotation = annotation\n",
    "        return func\n",
    "    return decorator\n",
    "\n",
    "\n",
    "def ports(ports_schema):\n",
    "    # assert inputs/outputs and types, give suggestions\n",
    "    allowable = ['inputs', 'outputs']\n",
    "    assert all(key in allowable for key in\n",
    "               ports_schema.keys()), f'{[key for key in ports_schema.keys() if key not in allowable]} not allowed as top-level port keys. Allowable keys include {str(allowable)}'\n",
    "    # TODO assert type are in type_registry\n",
    "    # TODO check that keys match function signature\n",
    "    def decorator(func):\n",
    "        func.ports = ports_schema\n",
    "        return func\n",
    "    return decorator\n",
    "\n",
    "\n",
    "class ProcessRegistry:\n",
    "    def __init__(self):\n",
    "        self.registry = {}\n",
    "\n",
    "    def register(self, process):\n",
    "        if hasattr(process, '__call__'):\n",
    "            self.register_function(process)\n",
    "        # TODO -- register Process Objects\n",
    "\n",
    "    def register_function(self, func, identifier=None):\n",
    "        if not identifier:\n",
    "            identifier = func.__name__\n",
    "        signature = inspect.signature(func)\n",
    "        annotation = getattr(func, 'annotation', None)\n",
    "        ports = getattr(func, 'ports')\n",
    "\n",
    "        # TODO -- assert ports and signature match\n",
    "        if not annotation:\n",
    "            raise Exception(f'Process {identifier} requires annotations')\n",
    "        if not ports:\n",
    "            raise Exception(f'Process {identifier} requires annotations')\n",
    "\n",
    "        item = {\n",
    "            'annotation': annotation,\n",
    "            'ports': ports,\n",
    "            'address': func,\n",
    "        }\n",
    "        self.registry[identifier] = item\n",
    "\n",
    "    def access(self, name):\n",
    "        return self.registry.get(name)\n",
    "\n",
    "    def get_annotations(self):\n",
    "        return [v.get('annotation') for k, v in self.registry.items()]\n",
    "\n",
    "    def activate_process(self, process_name, namespace):\n",
    "        namespace[process_name] = self.registry[process_name]['address']\n",
    "\n",
    "    def activate_all(self, namespace):\n",
    "        \"\"\"how to add to globals: process_registry.activate_all(globals())\"\"\"\n",
    "        for process_name in self.registry.keys():\n",
    "            self.activate_process(process_name, namespace)\n",
    "\n",
    "\n",
    "# initialize a registry\n",
    "sed_process_registry = ProcessRegistry()"
   ]
  },
  {
   "cell_type": "code",
   "execution_count": 17,
   "id": "2b7de61b-2720-4fea-b391-aabf2e1ce3df",
   "metadata": {},
   "outputs": [],
   "source": [
    "def serialize_instance(wiring):\n",
    "    def convert_numpy(obj):\n",
    "        if isinstance(obj, np.ndarray):\n",
    "            return obj.tolist()\n",
    "        raise TypeError(f'Object of type \"{obj.__class__.__name__}\" is not JSON serializable')\n",
    "    return json.dumps(wiring, default=convert_numpy)\n",
    "\n",
    "\n",
    "def deserialize_instance(serialized_wiring):\n",
    "    if isinstance(serialized_wiring, dict):\n",
    "        return serialized_wiring\n",
    "    def convert_numpy(obj):\n",
    "        if isinstance(obj, list):\n",
    "            return np.array(obj)\n",
    "        return obj\n",
    "    return json.loads(serialized_wiring, object_hook=convert_numpy)\n",
    "\n",
    "\n",
    "def initialize_process_from_schema(schema, process_registry):\n",
    "    schema = deserialize_instance(schema)\n",
    "    assert len(schema) == 1  # only one top-level key\n",
    "    process_name = next(iter(schema))\n",
    "    process_entry = process_registry.access(process_name)\n",
    "    process = process_entry['address']  # get the process from registry\n",
    "    \n",
    "    if hasattr(process, '__call__'):\n",
    "        # this is a function, no init required\n",
    "        return {}\n",
    "    \n",
    "    print(f'SCHEMA: {pf(schema)}')\n",
    "    print(f'PROCESS NAME: {pf(process_name)}')\n",
    "    print(f'PROCESS ENTRY: {pf(process_entry)} \\n\\n')\n",
    "\n",
    "    config = schema[process_name]['config']\n",
    "    return {process_name: process(config=config, schema=schema[process_name], process_registry=process_registry)}\n",
    "\n",
    "\n",
    "def get_processes_states_from_schema(schema, process_registry):\n",
    "    all_annotations = process_registry.get_annotations()\n",
    "\n",
    "    # separate the processes and states\n",
    "    processes = {}\n",
    "    states = {}\n",
    "    for name, value in schema.items():\n",
    "        if isinstance(value, dict) and value.get('wires'):\n",
    "            processes[name] = value\n",
    "        else:\n",
    "            states[name] = value\n",
    "    return processes, states\n"
   ]
  },
  {
   "cell_type": "markdown",
   "id": "9b5dba34-6367-402f-bb5b-b0dd6cb4e41e",
   "metadata": {},
   "source": [
    "### Process and Composite base class"
   ]
  },
  {
   "cell_type": "code",
   "execution_count": 4,
   "id": "01bb5d8e-0074-45a1-ba53-84b1b38c8773",
   "metadata": {
    "tags": []
   },
   "outputs": [],
   "source": [
    "class Process:\n",
    "    config = {}\n",
    "    \n",
    "    def __init__(self, config):\n",
    "        self.initialize(config)\n",
    "        \n",
    "    def initialize(self, config):\n",
    "        self.config = config\n",
    "    \n",
    "    @abc.abstractmethod\n",
    "    def ports(self):\n",
    "        return {}\n",
    "    \n",
    "    @abc.abstractmethod\n",
    "    def update(self, state):\n",
    "        return {}\n",
    "    \n",
    "    \n",
    "class Composite(Process):\n",
    "    config = {\n",
    "        'schema': None,\n",
    "        'process_registry': None,\n",
    "    }\n",
    "    \n",
    "    def __init__(self, config, schema, process_registry):\n",
    "        self.initialize(config, schema, process_registry)\n",
    "        \n",
    "    def initialize(self, config, schema, process_registry):\n",
    "        self.config = config\n",
    "        self.schema = schema\n",
    "        self.process_registry = process_registry\n",
    "        \n",
    "        processes, states = get_processes_states_from_schema(\n",
    "            self.schema, self.process_registry)\n",
    "        \n",
    "        self.states = states\n",
    "        self.processes = {}\n",
    "        for process in processes:\n",
    "            process_schema = {process: schema[process]}\n",
    "            initialized_process = initialize_process_from_schema(\n",
    "                process_schema, process_registry)\n",
    "            self.processes.update(initialized_process)\n",
    "            \n",
    "    def process_state(self, process_path):\n",
    "        # TODO -- get the state from the point of view of the process\n",
    "        return\n",
    "    \n",
    "    def to_json(self):\n",
    "        return serialize_instance(self.schema)\n",
    "    \n",
    "    def run(self):\n",
    "        return {}\n",
    "    \n",
    " "
   ]
  },
  {
   "cell_type": "markdown",
   "id": "dca17dfe-05d8-4ade-b492-bf5aaedcbb83",
   "metadata": {},
   "source": [
    "## Examples"
   ]
  },
  {
   "cell_type": "markdown",
   "id": "b705ad1b-a02b-434f-b99c-3da1a6740066",
   "metadata": {},
   "source": [
    "### Make Processes/Composites for examples"
   ]
  },
  {
   "cell_type": "code",
   "execution_count": 5,
   "id": "3ebeb206-7da1-40d3-9db7-a5a599842a0d",
   "metadata": {
    "tags": []
   },
   "outputs": [
    {
     "name": "stdout",
     "output_type": "stream",
     "text": [
      "{ 'loop': { 'address': <class '__main__.RangeIterator'>,\n",
      "            'annotation': 'sed:range_iterator',\n",
      "            'ports': { 'inputs': {'trials': 'int'},\n",
      "                       'outputs': {'results': 'list'}}},\n",
      "  'sum': { 'address': <function add_list at 0x109629af0>,\n",
      "           'annotation': 'math:add',\n",
      "           'ports': { 'inputs': {'vlues': 'list[float]'},\n",
      "                      'outputs': {'c': 'float'}}}}\n"
     ]
    }
   ],
   "source": [
    "@register(\n",
    "    identifier='loop', \n",
    "    registry=sed_process_registry)\n",
    "@ports({\n",
    "    'inputs': {\n",
    "        'trials': 'int'},\n",
    "    'outputs': {\n",
    "        'results': 'list'}})\n",
    "@annotate('sed:range_iterator')\n",
    "class RangeIterator(Composite):\n",
    "    def run(self, trials):\n",
    "        results = []\n",
    "        for i in range(trials):\n",
    "            for process in self.processes:\n",
    "                # TODO -- get the process state\n",
    "                result = process.update()\n",
    "            \n",
    "        return results\n",
    "\n",
    "    \n",
    "@register(\n",
    "    identifier='sum', \n",
    "    registry=sed_process_registry)\n",
    "@ports({\n",
    "    'inputs': {'vlues': 'list[float]'}, \n",
    "    'outputs': {'c': 'float'}})\n",
    "@annotate('math:add')\n",
    "def add_list(values):\n",
    "    return sum(values)\n",
    "    \n",
    "    \n",
    "print(pf(sed_process_registry.registry))"
   ]
  },
  {
   "cell_type": "markdown",
   "id": "b7ec81b4-c880-453e-9ac9-4c6cc5a8cd08",
   "metadata": {},
   "source": [
    "### Instance"
   ]
  },
  {
   "cell_type": "code",
   "execution_count": 19,
   "id": "13c6145d-96d4-4c85-87e8-8cf718508e50",
   "metadata": {
    "tags": []
   },
   "outputs": [
    {
     "name": "stdout",
     "output_type": "stream",
     "text": [
      "('{\"config\": {}, \"trials\": 10, \"run\": false, \"loop\": {\"_id\": \"loop\", \"_type\": '\n",
      " '\"sed:range_iterator\", \"wires\": {\"trials\": \"trials\"}, \"config\": {}, \"value\": '\n",
      " '0, \"added\": 1, \"add\": {\"_type\": \"math:add\", \"_id\": \"sum\", \"wires\": {\"a\": '\n",
      " '\"value\", \"b\": \"added\", \"result\": \"value\"}}}}')\n"
     ]
    }
   ],
   "source": [
    "instance2 = {\n",
    "    'config': {},\n",
    "    'trials': 10,\n",
    "    'run': False,\n",
    "    'loop': {\n",
    "        '_id': 'loop',\n",
    "        '_type': 'sed:range_iterator',\n",
    "        'wires': {\n",
    "            'trials': 'trials',\n",
    "        },\n",
    "        'config': {},\n",
    "        'value': 0,\n",
    "        'added': 1,\n",
    "        'add': {\n",
    "            '_type': 'math:add',\n",
    "            '_id': 'sum',\n",
    "            'wires': {\n",
    "                'a': 'value',\n",
    "                'b': 'added',\n",
    "                'result': 'value',\n",
    "            },\n",
    "        }\n",
    "    },\n",
    "\n",
    "}\n",
    "\n",
    "# fill(instance)  # autocomplete\n",
    "# validate_schema(instance) # TODO -- demonstrate validation\n",
    "\n",
    "# Serialize to JSON\n",
    "json_str1 = serialize_instance(instance2)\n",
    "# print(json_str1)\n",
    "\n",
    "config = {}\n",
    "sim_experiment = Composite(\n",
    "    config=config, \n",
    "    schema=instance2, \n",
    "    process_registry=sed_process_registry)\n",
    "\n",
    "sim_experiment.run()\n",
    "\n",
    "json_str = sim_experiment.to_json()\n",
    "# print(pf(json_str))"
   ]
  },
  {
   "cell_type": "code",
   "execution_count": 22,
   "id": "fe4bf7c2-6de1-46d7-a386-9b2a15d28e80",
   "metadata": {
    "tags": []
   },
   "outputs": [
    {
     "name": "stdout",
     "output_type": "stream",
     "text": [
      "{ 'config': {},\n",
      "  'loop': { '_id': 'loop',\n",
      "            '_type': 'sed:range_iterator',\n",
      "            'add': { '_id': 'sum',\n",
      "                     '_type': 'math:add',\n",
      "                     'wires': {'a': 'value', 'b': 'added', 'result': 'value'}},\n",
      "            'added': 1,\n",
      "            'config': {},\n",
      "            'value': 0,\n",
      "            'wires': {'trials': 'trials'}},\n",
      "  'run': False,\n",
      "  'trials': 10}\n"
     ]
    }
   ],
   "source": [
    "print(pf(sim_experiment.schema))"
   ]
  },
  {
   "cell_type": "code",
   "execution_count": null,
   "id": "aebb56db-1c5a-42f2-a8a2-48c8d760f254",
   "metadata": {
    "tags": []
   },
   "outputs": [],
   "source": [
    "# # Generate the script\n",
    "# script = generate_script(json_str1, sed_process_registry)\n",
    "# print(script)\n",
    "\n",
    "# # execute the script\n",
    "# exec(script)"
   ]
  },
  {
   "cell_type": "code",
   "execution_count": null,
   "id": "8d048d98-772f-47a1-bd44-c8847b08820e",
   "metadata": {
    "tags": []
   },
   "outputs": [],
   "source": [
    "plot_bigraph(instance2)"
   ]
  },
  {
   "cell_type": "code",
   "execution_count": null,
   "id": "1e5888dd-3b90-420f-bc6d-e09cb65d81cc",
   "metadata": {},
   "outputs": [],
   "source": []
  },
  {
   "cell_type": "markdown",
   "id": "5619a617-e5a5-4946-bf41-00bc79f84528",
   "metadata": {},
   "source": [
    "## Infix"
   ]
  },
  {
   "cell_type": "code",
   "execution_count": null,
   "id": "7f158bfa-52ca-429a-b1d4-2dfb2bc90434",
   "metadata": {},
   "outputs": [],
   "source": [
    "import numpy as np\n",
    "import re\n",
    "\n",
    "def infix_to_postfix(infix_expression):\n",
    "    precedence = {'+':1, '-':1, '*':2, '/':2, '^':3}\n",
    "    right_associative = {'^'}\n",
    "    stack = [] \n",
    "    postfix = []\n",
    "    \n",
    "    # Tokenizing the infix expression\n",
    "    tokens = re.findall(r\"[\\w.]+|[^ \\w]\", infix_expression)\n",
    "\n",
    "    for token in tokens:\n",
    "        if re.match(r\"^[\\d.]+$\", token):  # If the token is a number (integer or float)\n",
    "            postfix.append(token)\n",
    "        elif token.startswith('np'):  # If the token is a numpy array\n",
    "            postfix.append(token)\n",
    "        elif token == '(':\n",
    "            stack.append('(')\n",
    "        elif token == ')':\n",
    "            while stack and stack[-1] != '(':\n",
    "                postfix.append(stack.pop())\n",
    "            if stack:\n",
    "                stack.pop()\n",
    "        else:  # If the token is an operator\n",
    "            while (stack and stack[-1] != '(' and \n",
    "                   ((token not in right_associative and precedence.get(token, 0) <= precedence.get(stack[-1], 0)) or\n",
    "                   (token in right_associative and precedence.get(token, 0) < precedence.get(stack[-1], 0)))):\n",
    "                postfix.append(stack.pop())\n",
    "            stack.append(token)\n",
    "\n",
    "    while stack:\n",
    "        postfix.append(stack.pop())\n",
    "\n",
    "    postfix_expression = \" \".join(postfix)\n",
    "    print(f\"Postfix Expression: {postfix_expression}\")  # Debugging print statement\n",
    "    return postfix_expression\n",
    "\n",
    "def evaluate_postfix(postfix_expression):\n",
    "    stack = []\n",
    "    tokens = postfix_expression.split()\n",
    "\n",
    "    for token in tokens:\n",
    "        if re.match(r\"^[\\d.]+$\", token):  # If the token is a number (integer or float)\n",
    "            stack.append(float(token))\n",
    "        elif token.startswith('np'):  # If the token is a numpy array\n",
    "            stack.append(eval(token))\n",
    "        else:  # If the token is an operator\n",
    "            val1 = stack.pop()\n",
    "            val2 = stack.pop()\n",
    "            switcher = {\n",
    "                '+': val2 + val1,\n",
    "                '-': val2 - val1,\n",
    "                '*': val2 * val1,\n",
    "                '/': val2 / val1,\n",
    "                '^': val2**val1\n",
    "            }\n",
    "            stack.append(switcher.get(token))\n",
    "    \n",
    "    print(f\"Final Stack: {stack}\")  # Debugging print statement\n",
    "    return stack[0]\n",
    "\n",
    "def evaluate_infix(infix_expression):\n",
    "    postfix_expression = infix_to_postfix(infix_expression)\n",
    "    result = evaluate_postfix(postfix_expression)\n",
    "    return result\n"
   ]
  },
  {
   "cell_type": "code",
   "execution_count": null,
   "id": "480a13a9-0ee9-4ebd-91cf-b714944ca5b2",
   "metadata": {},
   "outputs": [],
   "source": [
    "# # Test the function\n",
    "# arr1 = np.array([1, 2, 3])\n",
    "# arr2 = np.array([4, 5, 6])\n",
    "# print(stringify_array(arr1))  # Output: \"array0\"\n",
    "# print(stringify_array(arr2))  # Output: \"array1\"\n",
    "\n",
    "# print(evaluate_infix(\"(22.112+3.123)*0.245^3.1\"))"
   ]
  },
  {
   "cell_type": "code",
   "execution_count": null,
   "id": "a7200771-5e14-4a4c-93a8-f5f14d48f1ed",
   "metadata": {},
   "outputs": [],
   "source": []
  }
 ],
 "metadata": {
  "kernelspec": {
   "display_name": "Python 3 (ipykernel)",
   "language": "python",
   "name": "python3"
  },
  "language_info": {
   "codemirror_mode": {
    "name": "ipython",
    "version": 3
   },
   "file_extension": ".py",
   "mimetype": "text/x-python",
   "name": "python",
   "nbconvert_exporter": "python",
   "pygments_lexer": "ipython3",
   "version": "3.8.13"
  }
 },
 "nbformat": 4,
 "nbformat_minor": 5
}
