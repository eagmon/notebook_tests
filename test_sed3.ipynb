{
 "cells": [
  {
   "cell_type": "markdown",
   "id": "27bd7647-8733-4e1b-be78-ee1e662eb285",
   "metadata": {},
   "source": [
    "# SED"
   ]
  },
  {
   "cell_type": "markdown",
   "id": "27961922-5b2b-4bc9-b441-9cbbec4534d8",
   "metadata": {},
   "source": [
    "### Imports"
   ]
  },
  {
   "cell_type": "code",
   "execution_count": 1,
   "id": "28ec0c4f-f2e3-42d9-bcc9-989f673a6b92",
   "metadata": {
    "tags": []
   },
   "outputs": [],
   "source": [
    "from bigraph_viz import plot_bigraph, plot_flow, pf\n",
    "from bigraph_viz.dict_utils import schema_keys\n",
    "from sed2.core import register, ports, annotate, Composite, ProcessRegistry\n",
    "\n",
    "schema_keys.extend(['_id', 'config'])"
   ]
  },
  {
   "cell_type": "markdown",
   "id": "b705ad1b-a02b-434f-b99c-3da1a6740066",
   "metadata": {},
   "source": [
    "### Make Processes/Composites examples and register"
   ]
  },
  {
   "cell_type": "code",
   "execution_count": 2,
   "id": "3ebeb206-7da1-40d3-9db7-a5a599842a0d",
   "metadata": {
    "tags": []
   },
   "outputs": [
    {
     "name": "stdout",
     "output_type": "stream",
     "text": [
      "{ 'control:range_iterator': { 'address': <class '__main__.RangeIterator'>,\n",
      "                              'annotation': 'more info here?',\n",
      "                              'class': 'composite',\n",
      "                              'ports': {'results': 'list', 'trials': 'int'}},\n",
      "  'math:add_two': { 'address': <function add_two at 0x1064cc940>,\n",
      "                    'annotation': 'more info here?',\n",
      "                    'class': 'function',\n",
      "                    'ports': {'a': 'float', 'b': 'float', 'result': 'float'}},\n",
      "  'math:sum_list': { 'address': <function add_list at 0x1064cc8b0>,\n",
      "                     'annotation': 'more info here?',\n",
      "                     'class': 'function',\n",
      "                     'ports': {'result': 'float', 'values': 'list[float]'}}}\n"
     ]
    }
   ],
   "source": [
    "sed_process_registry = ProcessRegistry()\n",
    "\n",
    "@register(\n",
    "    identifier='control:range_iterator',\n",
    "    registry=sed_process_registry)\n",
    "@ports({\n",
    "    'inputs': {\n",
    "        'trials': 'int'},\n",
    "    'outputs': {\n",
    "        'results': 'list'}})\n",
    "@annotate('more info here?')\n",
    "class RangeIterator(Composite):\n",
    "    def update(self, state):\n",
    "        trials = state.get('trials', 0)\n",
    "        for i in range(trials):\n",
    "            for process_path, process in self.processes.items():\n",
    "                self.update_process(process_path, state)\n",
    "        return {\n",
    "            'results': self.states['value'],\n",
    "            'trials': 0\n",
    "        }\n",
    "\n",
    "\n",
    "@register(\n",
    "    identifier='math:sum_list',\n",
    "    registry=sed_process_registry)\n",
    "@ports({\n",
    "    'inputs': {'values': 'list[float]'},\n",
    "    'outputs': {'result': 'float'}})\n",
    "@annotate('more info here?')\n",
    "def add_list(values):\n",
    "    if not isinstance(values, list):\n",
    "        values = [values]\n",
    "    return sum(values)\n",
    "\n",
    "\n",
    "@register(\n",
    "    identifier='math:add_two',\n",
    "    registry=sed_process_registry)\n",
    "@ports({\n",
    "    'inputs': {'a': 'float', 'b': 'float'},\n",
    "    'outputs': {'result': 'float'}})\n",
    "@annotate('more info here?')\n",
    "def add_two(a, b):\n",
    "    return a + b\n",
    "    \n",
    "    \n",
    "print(pf(sed_process_registry.registry))"
   ]
  },
  {
   "cell_type": "markdown",
   "id": "b7ec81b4-c880-453e-9ac9-4c6cc5a8cd08",
   "metadata": {},
   "source": [
    "### Instance"
   ]
  },
  {
   "cell_type": "code",
   "execution_count": 3,
   "id": "13c6145d-96d4-4c85-87e8-8cf718508e50",
   "metadata": {
    "tags": []
   },
   "outputs": [],
   "source": [
    "config1 = {\n",
    "    # top-level state\n",
    "    'trials': 10,\n",
    "    'results': None,  # this should be filled in automatically\n",
    "\n",
    "    # a composite process\n",
    "    'for_loop': {\n",
    "        '_id': 'control:range_iterator',\n",
    "        'wires': {\n",
    "            'trials': 'trials',\n",
    "            'results': 'results',\n",
    "        },\n",
    "\n",
    "        # state within for_loop\n",
    "        'value': 0,\n",
    "        'added': 1,\n",
    "\n",
    "        # process within for_loop\n",
    "        'add': {\n",
    "            '_id': 'math:add_two',\n",
    "            'wires': {\n",
    "                'a': 'value',\n",
    "                'b': 'added',\n",
    "                'result': 'value',\n",
    "            },\n",
    "        }\n",
    "    },\n",
    "    'wires': {\n",
    "        'results': 'results',\n",
    "        'trials': 'trials',\n",
    "    }\n",
    "}"
   ]
  },
  {
   "cell_type": "code",
   "execution_count": 4,
   "id": "497ef58e-eaeb-4640-8ed1-f1096199e33d",
   "metadata": {
    "tags": []
   },
   "outputs": [
    {
     "name": "stdout",
     "output_type": "stream",
     "text": [
      "{'results': 10, 'trials': 0}\n"
     ]
    }
   ],
   "source": [
    "sim_experiment = Composite(\n",
    "    config=config1,\n",
    "    process_registry=sed_process_registry)\n",
    "\n",
    "state = {}\n",
    "results = sim_experiment.update(state=state)\n",
    "\n",
    "# print(pf(sim_experiment.config))\n",
    "print(results)\n",
    "\n"
   ]
  },
  {
   "cell_type": "code",
   "execution_count": 5,
   "id": "fe4bf7c2-6de1-46d7-a386-9b2a15d28e80",
   "metadata": {
    "tags": []
   },
   "outputs": [
    {
     "data": {
      "image/svg+xml": [
       "<?xml version=\"1.0\" encoding=\"UTF-8\" standalone=\"no\"?>\n",
       "<!DOCTYPE svg PUBLIC \"-//W3C//DTD SVG 1.1//EN\"\n",
       " \"http://www.w3.org/Graphics/SVG/1.1/DTD/svg11.dtd\">\n",
       "<!-- Generated by graphviz version 7.1.0 (20230121.1956)\n",
       " -->\n",
       "<!-- Title: bigraph Pages: 1 -->\n",
       "<svg width=\"142pt\" height=\"304pt\"\n",
       " viewBox=\"0.00 0.00 145.94 312.57\" xmlns=\"http://www.w3.org/2000/svg\" xmlns:xlink=\"http://www.w3.org/1999/xlink\">\n",
       "<g id=\"graph0\" class=\"graph\" transform=\"scale(0.972222 0.972222) rotate(0) translate(4 308.57)\">\n",
       "<title>bigraph</title>\n",
       "<polygon fill=\"white\" stroke=\"none\" points=\"-4,4 -4,-308.57 141.94,-308.57 141.94,4 -4,4\"/>\n",
       "<!-- (&#39;trials&#39;,) -->\n",
       "<g id=\"node1\" class=\"node\">\n",
       "<title>(&#39;trials&#39;,)</title>\n",
       "<ellipse fill=\"none\" stroke=\"black\" stroke-width=\"2\" cx=\"52.93\" cy=\"-280.56\" rx=\"19.17\" ry=\"19.17\"/>\n",
       "<text text-anchor=\"start\" x=\"41.43\" y=\"-277.46\" font-family=\"Times,serif\" font-size=\"12.00\">trials</text>\n",
       "</g>\n",
       "<!-- (&#39;for_loop&#39;,) -->\n",
       "<g id=\"node5\" class=\"node\">\n",
       "<title>(&#39;for_loop&#39;,)</title>\n",
       "<polygon fill=\"none\" stroke=\"black\" stroke-width=\"2\" points=\"109.93,-205.55 55.93,-205.55 55.93,-169.55 109.93,-169.55 109.93,-205.55\"/>\n",
       "<polygon fill=\"none\" stroke=\"black\" stroke-width=\"2\" points=\"113.93,-209.55 51.93,-209.55 51.93,-165.55 113.93,-165.55 113.93,-209.55\"/>\n",
       "<text text-anchor=\"start\" x=\"62.43\" y=\"-184.45\" font-family=\"Times,serif\" font-size=\"12.00\">for_loop</text>\n",
       "</g>\n",
       "<!-- (&#39;trials&#39;,)&#45;&gt;(&#39;for_loop&#39;,) -->\n",
       "<g id=\"edge4\" class=\"edge\">\n",
       "<title>(&#39;trials&#39;,)&#45;&gt;(&#39;for_loop&#39;,)</title>\n",
       "<path fill=\"none\" stroke=\"black\" stroke-dasharray=\"5,2\" d=\"M58.86,-261.58C63.25,-248.25 69.31,-229.87 74.25,-214.88\"/>\n",
       "<ellipse fill=\"black\" stroke=\"black\" cx=\"74.96\" cy=\"-212.72\" rx=\"2\" ry=\"2\"/>\n",
       "<text text-anchor=\"start\" x=\"68.93\" y=\"-230.55\" font-family=\"Times,serif\" font-size=\"10.00\">trials</text>\n",
       "</g>\n",
       "<!-- (&#39;results&#39;,) -->\n",
       "<g id=\"node2\" class=\"node\">\n",
       "<title>(&#39;results&#39;,)</title>\n",
       "<ellipse fill=\"none\" stroke=\"black\" stroke-width=\"2\" cx=\"113.93\" cy=\"-280.56\" rx=\"24.02\" ry=\"24.02\"/>\n",
       "<text text-anchor=\"start\" x=\"98.43\" y=\"-277.46\" font-family=\"Times,serif\" font-size=\"12.00\">results</text>\n",
       "</g>\n",
       "<!-- (&#39;results&#39;,)&#45;&gt;(&#39;for_loop&#39;,) -->\n",
       "<g id=\"edge5\" class=\"edge\">\n",
       "<title>(&#39;results&#39;,)&#45;&gt;(&#39;for_loop&#39;,)</title>\n",
       "<path fill=\"none\" stroke=\"black\" stroke-dasharray=\"5,2\" d=\"M106.27,-257.06C101.92,-244.3 96.45,-228.25 91.9,-214.89\"/>\n",
       "<ellipse fill=\"black\" stroke=\"black\" cx=\"91.2\" cy=\"-212.84\" rx=\"2\" ry=\"2\"/>\n",
       "<text text-anchor=\"start\" x=\"98.93\" y=\"-230.55\" font-family=\"Times,serif\" font-size=\"10.00\">results</text>\n",
       "</g>\n",
       "<!-- (&#39;for_loop&#39;, &#39;value&#39;) -->\n",
       "<g id=\"node3\" class=\"node\">\n",
       "<title>(&#39;for_loop&#39;, &#39;value&#39;)</title>\n",
       "<ellipse fill=\"none\" stroke=\"black\" stroke-width=\"2\" cx=\"20.93\" cy=\"-105.78\" rx=\"20.86\" ry=\"20.86\"/>\n",
       "<text text-anchor=\"start\" x=\"7.93\" y=\"-102.68\" font-family=\"Times,serif\" font-size=\"12.00\">value</text>\n",
       "</g>\n",
       "<!-- (&#39;for_loop&#39;, &#39;add&#39;) -->\n",
       "<g id=\"node6\" class=\"node\">\n",
       "<title>(&#39;for_loop&#39;, &#39;add&#39;)</title>\n",
       "<polygon fill=\"none\" stroke=\"black\" stroke-width=\"2\" points=\"92.93,-36 38.93,-36 38.93,0 92.93,0 92.93,-36\"/>\n",
       "<text text-anchor=\"start\" x=\"56.93\" y=\"-14.9\" font-family=\"Times,serif\" font-size=\"12.00\">add</text>\n",
       "</g>\n",
       "<!-- (&#39;for_loop&#39;, &#39;value&#39;)&#45;&gt;(&#39;for_loop&#39;, &#39;add&#39;) -->\n",
       "<g id=\"edge6\" class=\"edge\">\n",
       "<title>(&#39;for_loop&#39;, &#39;value&#39;)&#45;&gt;(&#39;for_loop&#39;, &#39;add&#39;)</title>\n",
       "<path fill=\"none\" stroke=\"black\" stroke-dasharray=\"5,2\" d=\"M16.34,-84.55C15.16,-74.84 15.31,-63.32 19.93,-54 23.25,-47.3 28.54,-41.53 34.36,-36.73\"/>\n",
       "<ellipse fill=\"black\" stroke=\"black\" cx=\"36.08\" cy=\"-35.39\" rx=\"2\" ry=\"2\"/>\n",
       "<text text-anchor=\"start\" x=\"19.93\" y=\"-57\" font-family=\"Times,serif\" font-size=\"10.00\">a</text>\n",
       "</g>\n",
       "<!-- (&#39;for_loop&#39;, &#39;value&#39;)&#45;&gt;(&#39;for_loop&#39;, &#39;add&#39;) -->\n",
       "<g id=\"edge8\" class=\"edge\">\n",
       "<title>(&#39;for_loop&#39;, &#39;value&#39;)&#45;&gt;(&#39;for_loop&#39;, &#39;add&#39;)</title>\n",
       "<path fill=\"none\" stroke=\"black\" stroke-dasharray=\"5,2\" d=\"M29.38,-85.75C33.8,-76.12 39.41,-64.32 44.93,-54 47.19,-49.78 49.71,-45.35 52.21,-41.12\"/>\n",
       "<ellipse fill=\"black\" stroke=\"black\" cx=\"53.4\" cy=\"-39.12\" rx=\"2\" ry=\"2\"/>\n",
       "<text text-anchor=\"start\" x=\"44.93\" y=\"-57\" font-family=\"Times,serif\" font-size=\"10.00\">result</text>\n",
       "</g>\n",
       "<!-- (&#39;for_loop&#39;, &#39;added&#39;) -->\n",
       "<g id=\"node4\" class=\"node\">\n",
       "<title>(&#39;for_loop&#39;, &#39;added&#39;)</title>\n",
       "<ellipse fill=\"none\" stroke=\"black\" stroke-width=\"2\" cx=\"82.93\" cy=\"-105.78\" rx=\"22.56\" ry=\"22.56\"/>\n",
       "<text text-anchor=\"start\" x=\"68.43\" y=\"-102.68\" font-family=\"Times,serif\" font-size=\"12.00\">added</text>\n",
       "</g>\n",
       "<!-- (&#39;for_loop&#39;, &#39;added&#39;)&#45;&gt;(&#39;for_loop&#39;, &#39;add&#39;) -->\n",
       "<g id=\"edge7\" class=\"edge\">\n",
       "<title>(&#39;for_loop&#39;, &#39;added&#39;)&#45;&gt;(&#39;for_loop&#39;, &#39;add&#39;)</title>\n",
       "<path fill=\"none\" stroke=\"black\" stroke-dasharray=\"5,2\" d=\"M78.55,-82.69C76.07,-70.15 72.96,-54.49 70.46,-41.84\"/>\n",
       "<ellipse fill=\"black\" stroke=\"black\" cx=\"69.98\" cy=\"-39.43\" rx=\"2\" ry=\"2\"/>\n",
       "<text text-anchor=\"start\" x=\"74.93\" y=\"-57\" font-family=\"Times,serif\" font-size=\"10.00\">b</text>\n",
       "</g>\n",
       "<!-- (&#39;for_loop&#39;,)&#45;&gt;(&#39;for_loop&#39;, &#39;value&#39;) -->\n",
       "<g id=\"edge1\" class=\"edge\">\n",
       "<title>(&#39;for_loop&#39;,)&#45;&gt;(&#39;for_loop&#39;, &#39;value&#39;)</title>\n",
       "<path fill=\"none\" stroke=\"black\" stroke-width=\"2\" d=\"M65.99,-164.75C55.81,-151.65 43.06,-135.25 33.72,-123.23\"/>\n",
       "</g>\n",
       "<!-- (&#39;for_loop&#39;,)&#45;&gt;(&#39;for_loop&#39;, &#39;added&#39;) -->\n",
       "<g id=\"edge2\" class=\"edge\">\n",
       "<title>(&#39;for_loop&#39;,)&#45;&gt;(&#39;for_loop&#39;, &#39;added&#39;)</title>\n",
       "<path fill=\"none\" stroke=\"black\" stroke-width=\"2\" d=\"M82.93,-164.75C82.93,-153.68 82.93,-140.25 82.93,-129.11\"/>\n",
       "</g>\n",
       "<!-- (&#39;for_loop&#39;,)&#45;&gt;(&#39;for_loop&#39;, &#39;add&#39;) -->\n",
       "<g id=\"edge3\" class=\"edge\">\n",
       "<title>(&#39;for_loop&#39;,)&#45;&gt;(&#39;for_loop&#39;, &#39;add&#39;)</title>\n",
       "<path fill=\"none\" stroke=\"black\" stroke-width=\"2\" d=\"M98.36,-164.81C104.84,-154.37 111.63,-141.36 114.93,-128.55 119.98,-108.95 121.43,-102.18 114.93,-83 108.96,-65.37 95.96,-48.79 84.86,-36.92\"/>\n",
       "</g>\n",
       "</g>\n",
       "</svg>\n"
      ],
      "text/plain": [
       "<graphviz.graphs.Digraph at 0x1064d4100>"
      ]
     },
     "execution_count": 5,
     "metadata": {},
     "output_type": "execute_result"
    }
   ],
   "source": [
    "plot_bigraph(config1)"
   ]
  },
  {
   "cell_type": "code",
   "execution_count": null,
   "id": "a7200771-5e14-4a4c-93a8-f5f14d48f1ed",
   "metadata": {},
   "outputs": [],
   "source": []
  }
 ],
 "metadata": {
  "kernelspec": {
   "display_name": "Python 3 (ipykernel)",
   "language": "python",
   "name": "python3"
  },
  "language_info": {
   "codemirror_mode": {
    "name": "ipython",
    "version": 3
   },
   "file_extension": ".py",
   "mimetype": "text/x-python",
   "name": "python",
   "nbconvert_exporter": "python",
   "pygments_lexer": "ipython3",
   "version": "3.8.13"
  }
 },
 "nbformat": 4,
 "nbformat_minor": 5
}
