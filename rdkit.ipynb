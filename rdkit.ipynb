{
 "cells": [
  {
   "cell_type": "code",
   "execution_count": 1,
   "id": "38bd977e-5c4a-40f2-9432-a452208db1c6",
   "metadata": {},
   "outputs": [],
   "source": [
    "from rdkit import Chem\n",
    "from rdkit.Chem import Draw\n",
    "from IPython.display import display\n",
    "from rdkit import DataStructs\n",
    "from rdkit.Chem.Fingerprints import FingerprintMols"
   ]
  },
  {
   "cell_type": "markdown",
   "id": "fb60cc78-4706-4fbb-ac11-7c9d18167f1f",
   "metadata": {},
   "source": [
    "## RDKit Basic Usage"
   ]
  },
  {
   "cell_type": "code",
   "execution_count": 2,
   "id": "1a72ae02-aceb-47c8-9719-57fbe585828a",
   "metadata": {},
   "outputs": [],
   "source": [
    "# Assume molecule and molecule2 have been defined previously\n",
    "smiles = \"CCO\"  # Ethanol\n",
    "smiles2 = \"CCOCC\"  # Diethyl ether\n",
    "molecule = Chem.MolFromSmiles(smiles)\n",
    "molecule2 = Chem.MolFromSmiles(smiles2)"
   ]
  },
  {
   "cell_type": "markdown",
   "id": "fa48d7b0-2507-4a75-b755-236d752cea39",
   "metadata": {},
   "source": [
    "## Plotting Chemical Structures"
   ]
  },
  {
   "cell_type": "code",
   "execution_count": 3,
   "id": "15204111-278e-4daf-a4e6-48e4467b751f",
   "metadata": {},
   "outputs": [
    {
     "data": {
      "image/jpeg": "[encoded data removed]",
      "image/png": "[encoded data removed]",
      "text/plain": [
       "<PIL.PngImagePlugin.PngImageFile image mode=RGB size=300x300>"
      ]
     },
     "metadata": {},
     "output_type": "display_data"
    }
   ],
   "source": [
    "# Draw the molecule and display it inline\n",
    "img = Draw.MolToImage(molecule)\n",
    "display(img)"
   ]
  },
  {
   "cell_type": "markdown",
   "id": "bff474cb-14f4-49bd-86af-b66e899c3b2f",
   "metadata": {},
   "source": [
    "## Generating Molecular Fingerprints and Comparing Structure"
   ]
  },
  {
   "cell_type": "code",
   "execution_count": 4,
   "id": "d79fb32f-2e7c-4d55-a171-48f890c1c512",
   "metadata": {},
   "outputs": [
    {
     "name": "stdout",
     "output_type": "stream",
     "text": [
      "Tanimoto Similarity: 0.5\n"
     ]
    }
   ],
   "source": [
    "# Generate fingerprints\n",
    "fp1 = FingerprintMols.FingerprintMol(molecule)\n",
    "fp2 = FingerprintMols.FingerprintMol(molecule2)\n",
    "\n",
    "# Compare fingerprints (Tanimoto similarity)\n",
    "similarity = DataStructs.FingerprintSimilarity(fp1, fp2)\n",
    "print(\"Tanimoto Similarity:\", similarity)\n"
   ]
  },
  {
   "cell_type": "markdown",
   "id": "89f97f9c-f13b-4569-96f9-fc3e4187573f",
   "metadata": {},
   "source": [
    "## Advanced Visualization"
   ]
  },
  {
   "cell_type": "code",
   "execution_count": 5,
   "id": "84b74dff-f685-4a2f-881f-4d4b39452cdc",
   "metadata": {},
   "outputs": [
    {
     "data": {
      "image/png": "[encoded data removed]",
      "text/plain": [
       "<IPython.core.display.Image object>"
      ]
     },
     "metadata": {},
     "output_type": "display_data"
    }
   ],
   "source": [
    "# List of molecules\n",
    "molecules = [molecule, molecule2]\n",
    "\n",
    "# Draw multiple molecules\n",
    "img = Draw.MolsToGridImage(molecules, molsPerRow=2, subImgSize=(200, 200), legends=['Ethanol', 'Diethyl ether'])\n",
    "\n",
    "# Display the image inline in the Jupyter Notebook\n",
    "display(img)"
   ]
  },
  {
   "cell_type": "code",
   "execution_count": 6,
   "id": "565ea293-75d0-4147-986a-fbd0132fb6a5",
   "metadata": {},
   "outputs": [
    {
     "ename": "AttributeError",
     "evalue": "'str' object has no attribute 'GetAtomWithIdx'",
     "output_type": "error",
     "traceback": [
      "\u001b[0;31m---------------------------------------------------------------------------\u001b[0m",
      "\u001b[0;31mAttributeError\u001b[0m                            Traceback (most recent call last)",
      "Cell \u001b[0;32mIn[6], line 3\u001b[0m\n\u001b[1;32m      1\u001b[0m caffiene \u001b[38;5;241m=\u001b[39m \u001b[38;5;124m\"\u001b[39m\u001b[38;5;124mCN1C--NC2=C1C(=O)N(C(=O)N2C)C)\u001b[39m\u001b[38;5;124m\"\u001b[39m\n\u001b[1;32m      2\u001b[0m \u001b[38;5;66;03m# Draw the molecule and display it inline\u001b[39;00m\n\u001b[0;32m----> 3\u001b[0m caffieneimg \u001b[38;5;241m=\u001b[39m \u001b[43mDraw\u001b[49m\u001b[38;5;241;43m.\u001b[39;49m\u001b[43mMolToImage\u001b[49m\u001b[43m(\u001b[49m\u001b[43mcaffiene\u001b[49m\u001b[43m)\u001b[49m\n\u001b[1;32m      4\u001b[0m display(caffieneimg)\n",
      "File \u001b[0;32m~/code/bigraph-schema/venv/lib/python3.9/site-packages/rdkit/Chem/Draw/__init__.py:241\u001b[0m, in \u001b[0;36mMolToImage\u001b[0;34m(mol, size, kekulize, wedgeBonds, fitImage, options, canvas, **kwargs)\u001b[0m\n\u001b[1;32m    237\u001b[0m   warnings\u001b[38;5;241m.\u001b[39mwarn(\n\u001b[1;32m    238\u001b[0m     \u001b[38;5;124m\"\u001b[39m\u001b[38;5;124mlegacy DrawingOptions not translated for new drawing code, please update manually\u001b[39m\u001b[38;5;124m\"\u001b[39m,\n\u001b[1;32m    239\u001b[0m     \u001b[38;5;167;01mDeprecationWarning\u001b[39;00m)\n\u001b[1;32m    240\u001b[0m   options \u001b[38;5;241m=\u001b[39m \u001b[38;5;28;01mNone\u001b[39;00m\n\u001b[0;32m--> 241\u001b[0m \u001b[38;5;28;01mreturn\u001b[39;00m \u001b[43m_moltoimg\u001b[49m\u001b[43m(\u001b[49m\u001b[43mmol\u001b[49m\u001b[43m,\u001b[49m\u001b[43m \u001b[49m\u001b[43msize\u001b[49m\u001b[43m,\u001b[49m\u001b[43m \u001b[49m\u001b[43mkwargs\u001b[49m\u001b[38;5;241;43m.\u001b[39;49m\u001b[43mget\u001b[49m\u001b[43m(\u001b[49m\u001b[38;5;124;43m'\u001b[39;49m\u001b[38;5;124;43mhighlightAtoms\u001b[39;49m\u001b[38;5;124;43m'\u001b[39;49m\u001b[43m,\u001b[49m\u001b[43m \u001b[49m\u001b[43m[\u001b[49m\u001b[43m]\u001b[49m\u001b[43m)\u001b[49m\u001b[43m,\u001b[49m\u001b[43m \u001b[49m\u001b[43mkwargs\u001b[49m\u001b[38;5;241;43m.\u001b[39;49m\u001b[43mget\u001b[49m\u001b[43m(\u001b[49m\u001b[38;5;124;43m'\u001b[39;49m\u001b[38;5;124;43mlegend\u001b[39;49m\u001b[38;5;124;43m'\u001b[39;49m\u001b[43m,\u001b[49m\u001b[43m \u001b[49m\u001b[38;5;124;43m'\u001b[39;49m\u001b[38;5;124;43m'\u001b[39;49m\u001b[43m)\u001b[49m\u001b[43m,\u001b[49m\n\u001b[1;32m    242\u001b[0m \u001b[43m                 \u001b[49m\u001b[43mhighlightBonds\u001b[49m\u001b[38;5;241;43m=\u001b[39;49m\u001b[43mkwargs\u001b[49m\u001b[38;5;241;43m.\u001b[39;49m\u001b[43mget\u001b[49m\u001b[43m(\u001b[49m\u001b[38;5;124;43m'\u001b[39;49m\u001b[38;5;124;43mhighlightBonds\u001b[39;49m\u001b[38;5;124;43m'\u001b[39;49m\u001b[43m,\u001b[49m\n\u001b[1;32m    243\u001b[0m \u001b[43m                                           \u001b[49m\u001b[43m[\u001b[49m\u001b[43m]\u001b[49m\u001b[43m)\u001b[49m\u001b[43m,\u001b[49m\u001b[43m \u001b[49m\u001b[43mdrawOptions\u001b[49m\u001b[38;5;241;43m=\u001b[39;49m\u001b[43moptions\u001b[49m\u001b[43m,\u001b[49m\u001b[43m \u001b[49m\u001b[43mkekulize\u001b[49m\u001b[38;5;241;43m=\u001b[39;49m\u001b[43mkekulize\u001b[49m\u001b[43m,\u001b[49m\n\u001b[1;32m    244\u001b[0m \u001b[43m                 \u001b[49m\u001b[43mwedgeBonds\u001b[49m\u001b[38;5;241;43m=\u001b[39;49m\u001b[43mwedgeBonds\u001b[49m\u001b[43m,\u001b[49m\u001b[43m \u001b[49m\u001b[43mhighlightColor\u001b[49m\u001b[38;5;241;43m=\u001b[39;49m\u001b[43mkwargs\u001b[49m\u001b[38;5;241;43m.\u001b[39;49m\u001b[43mget\u001b[49m\u001b[43m(\u001b[49m\u001b[38;5;124;43m'\u001b[39;49m\u001b[38;5;124;43mhighlightColor\u001b[39;49m\u001b[38;5;124;43m'\u001b[39;49m\u001b[43m,\u001b[49m\u001b[43m \u001b[49m\u001b[38;5;28;43;01mNone\u001b[39;49;00m\u001b[43m)\u001b[49m\u001b[43m)\u001b[49m\n",
      "File \u001b[0;32m~/code/bigraph-schema/venv/lib/python3.9/site-packages/rdkit/Chem/Draw/__init__.py:458\u001b[0m, in \u001b[0;36m_moltoimg\u001b[0;34m(mol, sz, highlights, legend, returnPNG, drawOptions, **kwargs)\u001b[0m\n\u001b[1;32m    456\u001b[0m \u001b[38;5;28;01mtry\u001b[39;00m:\n\u001b[1;32m    457\u001b[0m   \u001b[38;5;28;01mwith\u001b[39;00m rdBase\u001b[38;5;241m.\u001b[39mBlockLogs():\n\u001b[0;32m--> 458\u001b[0m     \u001b[43mmol\u001b[49m\u001b[38;5;241;43m.\u001b[39;49m\u001b[43mGetAtomWithIdx\u001b[49m(\u001b[38;5;241m0\u001b[39m)\u001b[38;5;241m.\u001b[39mGetExplicitValence()\n\u001b[1;32m    459\u001b[0m \u001b[38;5;28;01mexcept\u001b[39;00m \u001b[38;5;167;01mRuntimeError\u001b[39;00m:\n\u001b[1;32m    460\u001b[0m   mol\u001b[38;5;241m.\u001b[39mUpdatePropertyCache(\u001b[38;5;28;01mFalse\u001b[39;00m)\n",
      "\u001b[0;31mAttributeError\u001b[0m: 'str' object has no attribute 'GetAtomWithIdx'"
     ]
    }
   ],
   "source": [
    "caffeine = \"CN1C--NC2=C1C(=O)N(C(=O)N2C)C)\"\n",
    "# Draw the molecule and display it inline\n",
    "caffeineimg = Draw.MolToImage(caffiene)\n",
    "display(caffeineimg)"
   ]
  },
  {
   "cell_type": "code",
   "execution_count": null,
   "id": "af4f1db8-c21c-4200-8efb-66753f08e2e5",
   "metadata": {},
   "outputs": [],
   "source": []
  }
 ],
 "metadata": {
  "kernelspec": {
   "display_name": "Python (venv)",
   "language": "python",
   "name": "venv_kernel"
  },
  "language_info": {
   "codemirror_mode": {
    "name": "ipython",
    "version": 3
   },
   "file_extension": ".py",
   "mimetype": "text/x-python",
   "name": "python",
   "nbconvert_exporter": "python",
   "pygments_lexer": "ipython3",
   "version": "3.9.6"
  }
 },
 "nbformat": 4,
 "nbformat_minor": 5
}
