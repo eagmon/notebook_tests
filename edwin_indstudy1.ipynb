{
 "cells": [
  {
   "cell_type": "markdown",
   "id": "180959ce-25e6-4ebc-a865-c09d64379986",
   "metadata": {},
   "source": [
    "# Lesson 1: Models, Simulations, Programming in Python\n",
    "\n",
    "What are models?\n",
    "- generally: a simplified representation of a system or phenomenon, used by people to understand and/or engineer the parts which are important to us.\n",
    "- types of models:\n",
    "    - physical models: a small scale reconstruction of a large structure, to help understand all the components and interrelations. \n",
    "    - biological models: using biological systems to represent a broader biological phenomenon. For example, human cancer can be studied in a mouse with induced cancer for the purpose of therapeutic discovery. Ecoli as a model of bacteria more generally.\n",
    "    - mathematical model: using formal/mathematical equations to represent the system. Functions, with dependent and independent variables, represent the relationship between those variables and how the co-vary.\n",
    "    - computational model: has algorithms that operate on a model to solve it. Because computers are fast and precise, this lets us solve much bigger problems.\n",
    "\n",
    "What are simulations?\n",
    "- the use of a model to predict an outcome, or behavior under different conditions.\n",
    "- changing variables in a model to see how they affect the other variables, and the system as a whole.\n",
    "- take a scientific/experimental approach to the model.\n",
    "- This can apply to any model by changing variables/structures and studying the outcome, to learn about the real system. \n",
    "- can simulate relative to the model's purpose-specific objective. \n",
    "\n",
    "What does it mean to program? How does it help with modeling and simulation?\n",
    "- a series of steps to acheive an outcome. Computer programs, a scheduled event, and experimental protocol?\n",
    "- for a computational model, the program is the series of algorithms that allows us to manipulate the model."
   ]
  },
  {
   "cell_type": "markdown",
   "id": "e505d0c1-b24c-4098-aebb-45370ec46826",
   "metadata": {},
   "source": [
    "## a mathematical model of population growth:\n",
    "\n",
    "$$\n",
    "\\frac{dP}{dt} = r*P\n",
    "$$\n",
    "\n",
    "- $P$ is a variable that represents a population size.\n",
    "- $t$ represents time. $dt$ is a small interval of time.\n",
    "- $\\frac{dP}{dt}$ is the change in population with respect to time. \n",
    "- $r$ is a rate of change.\n",
    "- the function is $f: (P, r) \\mapsto \\frac{dP}{dt}$"
   ]
  },
  {
   "cell_type": "markdown",
   "id": "a5a6dd9e-01ab-41f1-b5b3-06d81f1113c3",
   "metadata": {},
   "source": [
    "## define the ODE as a computational function"
   ]
  },
  {
   "cell_type": "code",
   "execution_count": 3,
   "id": "b0f87555-eec8-4958-86a2-22e451f6f678",
   "metadata": {
    "tags": []
   },
   "outputs": [],
   "source": [
    "def population_growth(P, r):\n",
    "    dPdt = r * P\n",
    "    return dPdt"
   ]
  },
  {
   "cell_type": "code",
   "execution_count": 8,
   "id": "4eb2e4e3-d6ed-440f-9f7b-a2efa7d338c2",
   "metadata": {
    "tags": []
   },
   "outputs": [
    {
     "name": "stdout",
     "output_type": "stream",
     "text": [
      "dPdt = {dPdt}\n"
     ]
    }
   ],
   "source": [
    "P0 = 100  # initial population\n",
    "r = 0.1   # growth rate\n",
    "\n",
    "# solve the equation\n",
    "dPdt = population_growth(P0, r)\n",
    "\n",
    "# print the result\n",
    "print(f'dPdt = {dPdt}')  # this is an f-string"
   ]
  },
  {
   "cell_type": "markdown",
   "id": "ea6c045e-54c4-46f0-9149-0b6713cde538",
   "metadata": {},
   "source": [
    "## simulate the ode using Euler integration"
   ]
  },
  {
   "cell_type": "code",
   "execution_count": 10,
   "id": "7eace1b7-d3a1-4eef-ada4-6900013fda3d",
   "metadata": {
    "tags": []
   },
   "outputs": [
    {
     "name": "stdout",
     "output_type": "stream",
     "text": [
      "RESULTS: [10, 10.1, 10.201, 10.30301, 10.4060401, 10.510100501, 10.615201506010001, 10.721353521070101, 10.828567056280802, 10.93685272684361, 11.046221254112046, 11.156683466653167, 11.268250301319698, 11.380932804332895, 11.494742132376224, 11.609689553699987, 11.725786449236987, 11.843044313729356, 11.96147475686665, 12.081089504435317, 12.20190039947967, 12.323919403474468, 12.447158597509214, 12.571630183484306, 12.697346485319148, 12.82431995017234, 12.952563149674063, 13.082088781170803, 13.212909668982512, 13.345038765672337, 13.47848915332906, 13.61327404486235, 13.749406785310974, 13.886900853164084, 14.025769861695725, 14.166027560312681, 14.307687835915807, 14.450764714274966, 14.595272361417715, 14.741225085031893, 14.888637335882212, 15.037523709241034, 15.187898946333444, 15.339777935796779, 15.493175715154747, 15.648107472306295, 15.804588547029358, 15.962634432499652, 16.12226077682465, 16.283483384592895, 16.446318218438822, 16.61078140062321, 16.776889214629442, 16.944658106775737, 17.114104687843493, 17.28524573472193, 17.458098192069148, 17.63267917398984, 17.80900596572974, 17.987096025387036, 18.166966985640904, 18.348636655497312, 18.532123022052286, 18.71744425227281, 18.904618694795538, 19.093664881743493, 19.284601530560927, 19.477447545866536, 19.6722220213252, 19.868944241538454, 20.06763368395384, 20.26831002079338, 20.470993121001314, 20.675703052211325, 20.882460082733438, 21.091284683560772, 21.30219753039638, 21.515219505700344, 21.73037170075735, 21.947675417764923, 22.167152171942572, 22.388823693661998, 22.612711930598618, 22.838839049904603, 23.06722744040365, 23.297899714807684, 23.53087871195576, 23.76618749907532, 24.00384937406607, 24.24388786780673, 24.4863267464848, 24.731190013949647, 24.978501914089144, 25.228286933230034, 25.480569802562336, 25.73537550058796, 25.99272925559384, 26.25265654814978, 26.515183113631277, 26.78033494476759, 27.048138294215263, 27.318619677157415]\n"
     ]
    }
   ],
   "source": [
    "dt = 0.1         # this is the time interval for the simulation\n",
    "total_time = 10  # this is the total time\n",
    "\n",
    "t = 0            # time starts at 0\n",
    "P = 10           # initial population\n",
    "r = 0.1          # set the growth rate\n",
    "\n",
    "# make a place to save the results\n",
    "P_history = [P]\n",
    "\n",
    "\n",
    "# run the simulation\n",
    "while t<total_time: # condition for a while loop, to perform an action\n",
    "    \n",
    "    # get the growth rate\n",
    "    dPdt = population_growth(P, r)\n",
    "    \n",
    "    # grow the population\n",
    "    P += dPdt * dt\n",
    "    \n",
    "    # save the history\n",
    "    P_history.append(P)\n",
    "    \n",
    "    # advance the current time by dt\n",
    "    t += dt\n",
    "    \n",
    "print(f'RESULTS: {P_history}')"
   ]
  },
  {
   "cell_type": "code",
   "execution_count": null,
   "id": "4c3b786a-1c05-4390-93cb-35b2c019390d",
   "metadata": {},
   "outputs": [],
   "source": []
  }
 ],
 "metadata": {
  "kernelspec": {
   "display_name": "Python 3 (ipykernel)",
   "language": "python",
   "name": "python3"
  },
  "language_info": {
   "codemirror_mode": {
    "name": "ipython",
    "version": 3
   },
   "file_extension": ".py",
   "mimetype": "text/x-python",
   "name": "python",
   "nbconvert_exporter": "python",
   "pygments_lexer": "ipython3",
   "version": "3.11.5"
  }
 },
 "nbformat": 4,
 "nbformat_minor": 5
}
